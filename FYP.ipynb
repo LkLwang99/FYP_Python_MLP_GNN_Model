{
  "cells": [
    {
      "cell_type": "markdown",
      "metadata": {
        "id": "view-in-github",
        "colab_type": "text"
      },
      "source": [
        "<a href=\"https://colab.research.google.com/github/LkLwang99/FYP_Python_MLP_GNN_Model/blob/main/FYP.ipynb\" target=\"_parent\"><img src=\"https://colab.research.google.com/assets/colab-badge.svg\" alt=\"Open In Colab\"/></a>"
      ]
    },
    {
      "cell_type": "markdown",
      "source": [
        "#1 Importing Libraries And Webscraping\n"
      ],
      "metadata": {
        "id": "L7FduxPEkl5z"
      }
    },
    {
      "cell_type": "markdown",
      "metadata": {
        "id": "MhHeCguqBZRq"
      },
      "source": [
        "##**1.1 Importing the necessary libraries on google colab**\n",
        "\n",
        "---\n",
        "The libraries that we have used is the openai,requests, pandas,numpy, beautifulsoup4 and yfinance libraries.\n",
        "The first step would be to import or install these libraries to be able to use  them in the project later.\n",
        "\n"
      ]
    },
    {
      "cell_type": "code",
      "execution_count": null,
      "metadata": {
        "id": "zF8aO1X9m1Ij"
      },
      "outputs": [],
      "source": [
        "### installing openai and importing openai\n",
        "!pip install -q openai\n",
        "import openai\n",
        "from openai import OpenAI\n",
        "#regex\n",
        "import re\n",
        "import pandas as pd\n",
        "import numpy as np\n",
        "import math\n",
        "!pip install beautifulsoup4\n",
        "import requests ### using requests to make connections to apis\n",
        "from bs4 import BeautifulSoup ###\n",
        "!pip install tiktoken\n",
        "import tiktoken\n",
        "!pip install yfinance --upgrade --no-cache-dir\n",
        "import yfinance as yf\n",
        "import requests\n",
        "\n",
        "!pip install torch\n",
        "!pip install torch-geometric\n",
        "import torch\n",
        "import torch.nn.functional as F\n",
        "from torch_geometric.data import Data,DataLoader\n",
        "from torch_geometric.nn import GCNConv,GATConv\n",
        "from sklearn.preprocessing import StandardScaler,LabelEncoder\n",
        "from sklearn.linear_model import LinearRegression\n",
        "from sklearn.metrics import mean_squared_error\n",
        "from sklearn.model_selection import train_test_split,KFold\n",
        "from torch.utils.data import random_split\n",
        "import itertools\n"
      ]
    },
    {
      "cell_type": "markdown",
      "metadata": {
        "id": "Nu588GWdw8uH"
      },
      "source": [
        "##**<h1>1.2 Webscraping For IPOs</h1>**\n",
        "\n"
      ]
    },
    {
      "cell_type": "markdown",
      "source": [
        "###**<h2>1.2.1 IPO Data From Stockanalysis.com/ipos</h2>**\n",
        "----------------------------------------------------------\n",
        "The steps below show webscraping from the stockanalysis website with the use of beautiful soup and since the website itself separates the ipos based on years, we are able to find the ipos on years with the method below. We then store it as an np array and finally convert it to a dataframe.\n"
      ],
      "metadata": {
        "id": "SwVIK2jUkyXA"
      }
    },
    {
      "cell_type": "code",
      "execution_count": null,
      "metadata": {
        "colab": {
          "base_uri": "https://localhost:8080/"
        },
        "id": "BMokAN4Y715r",
        "outputId": "9c45bd9c-742e-496f-def3-5d62e1b2ea73"
      },
      "outputs": [
        {
          "name": "stdout",
          "output_type": "stream",
          "text": [
            "Fetching data from: https://stockanalysis.com/ipos/2020/\n",
            "Fetching data from: https://stockanalysis.com/ipos/2021/\n",
            "Fetching data from: https://stockanalysis.com/ipos/2022/\n",
            "Fetching data from: https://stockanalysis.com/ipos/2023/\n",
            "Fetching data from: https://stockanalysis.com/ipos/2024/\n",
            "              Date Ticker                                    Company Name  \\\n",
            "0     Dec 29, 2020    MRM            MEDIROM Healthcare Technologies Inc.   \n",
            "1     Dec 24, 2020   VTAQ                   Ventoux CCM Acquisition Corp.   \n",
            "2     Dec 23, 2020   HCAR     Healthcare Services Acquisition Corporation   \n",
            "3     Dec 23, 2020   CFIV                         CF Acquisition Corp. IV   \n",
            "4     Dec 23, 2020    VII                         7GC & Co. Holdings Inc.   \n",
            "...            ...    ...                                             ...   \n",
            "1966  Jan 18, 2024   PSBD                  Palmer Square Capital BDC Inc.   \n",
            "1967  Jan 18, 2024   CCTG  CCSC Technology International Holdings Limited   \n",
            "1968  Jan 12, 2024   SYNX                                  Silynxcom Ltd.   \n",
            "1969  Jan 11, 2024   SDHC                       Smith Douglas Homes Corp.   \n",
            "1970   Jan 9, 2024   ROMA                      Roma Green Finance Limited   \n",
            "\n",
            "     IPO Price Current Price Price Change  \n",
            "0       $15.00         $2.74      -81.56%  \n",
            "1       $10.00         $5.08      -49.20%  \n",
            "2       $10.00        $10.11        1.10%  \n",
            "3       $10.00        $10.58        5.80%  \n",
            "4       $10.00        $10.96        9.60%  \n",
            "...        ...           ...          ...  \n",
            "1966    $16.45        $16.33       -0.79%  \n",
            "1967     $6.00         $1.60      -73.33%  \n",
            "1968     $4.00         $3.19      -18.50%  \n",
            "1969    $21.00        $33.98       64.10%  \n",
            "1970     $4.00         $0.54      -86.50%  \n",
            "\n",
            "[1971 rows x 6 columns] [['Dec 29, 2020' 'MRM' 'MEDIROM Healthcare Technologies Inc.' '$15.00'\n",
            "  '$2.74' '-81.56%']\n",
            " ['Dec 24, 2020' 'VTAQ' 'Ventoux CCM Acquisition Corp.' '$10.00' '$5.08'\n",
            "  '-49.20%']\n",
            " ['Dec 23, 2020' 'HCAR' 'Healthcare Services Acquisition Corporation'\n",
            "  '$10.00' '$10.11' '1.10%']\n",
            " ...\n",
            " ['Jan 12, 2024' 'SYNX' 'Silynxcom Ltd.' '$4.00' '$3.19' '-18.50%']\n",
            " ['Jan 11, 2024' 'SDHC' 'Smith Douglas Homes Corp.' '$21.00' '$33.98'\n",
            "  '64.10%']\n",
            " ['Jan 9, 2024' 'ROMA' 'Roma Green Finance Limited' '$4.00' '$0.54'\n",
            "  '-86.50%']]\n"
          ]
        }
      ],
      "source": [
        "base_url = \"https://stockanalysis.com/ipos/{}/\"\n",
        "response = requests.get(base_url)\n",
        "soup = BeautifulSoup(response.text,'html')\n",
        "\n",
        "start_year = 2020\n",
        "end_year = 2024\n",
        "stock_list = []\n",
        "\n",
        "\n",
        "for year in range(start_year, end_year+1):\n",
        "  url = base_url.format(year)\n",
        "  print(f\"Fetching data from: {url}\")\n",
        "  response = requests.get(url)\n",
        "  if response.status_code == 200:\n",
        "    soup = BeautifulSoup(response.text,'html.parser')\n",
        "    tbody = soup.find('tbody')\n",
        "    if tbody:\n",
        "      rows = tbody.find_all('tr')\n",
        "      for row in rows:\n",
        "        cells = row.find_all('td')\n",
        "        data = [cell.text.strip() for cell in cells]\n",
        "        if data:\n",
        "          stock_list.append(data)\n",
        "    else:\n",
        "      print(f\"No tbody found for year:{year}\")\n",
        "  else:\n",
        "    print(f\"Failed to fetch response from:{url}\")\n",
        "\n",
        "\n",
        "Stocks = np.array(stock_list,dtype=str)\n",
        "\n",
        "df = pd.DataFrame(Stocks,columns=['Date','Ticker','Company Name',\"IPO Price\",\"Current Price\",\"Price Change\"])\n",
        "\n",
        "print(df,Stocks)\n"
      ]
    },
    {
      "cell_type": "markdown",
      "source": [
        "###**<h2>1.2.2 Webscraping For IPOs using Yahoo Finance</h2>**\n",
        "\n",
        "----------------------------------------------------------\n",
        "The steps below are data retrieved from Yahoo Finance API for the Sector/Industry of the Companies.\n",
        "\n",
        "1) initalise two empty lists to and gather the company info from the yahoo api and return the sector and industry and push them into the list of sectorRow and IndustryRow. We also keep an NP Array of the data frame objects for easier processing later on if we fail to transform the dataframe or other errors occur."
      ],
      "metadata": {
        "id": "D79LyC-LQv_A"
      }
    },
    {
      "cell_type": "code",
      "execution_count": null,
      "metadata": {
        "colab": {
          "background_save": true
        },
        "id": "JPoz5ho_q0ug"
      },
      "outputs": [],
      "source": [
        "SectorRow = []\n",
        "IndustryRow = []\n",
        "\n",
        "for i in df['Ticker']:\n",
        "  ticker=i\n",
        "  print(ticker)\n",
        "  company = yf.Ticker(ticker)\n",
        "  company_info = company.info\n",
        "  sector = company_info.get(\"sector\",\"Sector not found\")\n",
        "  industry = company_info.get(\"industry\",\"Industry not found\")\n",
        "  SectorRow.append(sector)\n",
        "  IndustryRow.append(industry)\n",
        "print(SectorRow,IndustryRow)"
      ]
    },
    {
      "cell_type": "code",
      "execution_count": null,
      "metadata": {
        "id": "yE0S_gDvaGHk",
        "colab": {
          "base_uri": "https://localhost:8080/"
        },
        "outputId": "2667613d-3133-4a0d-8df6-37650c54d2fb"
      },
      "outputs": [
        {
          "output_type": "stream",
          "name": "stdout",
          "text": [
            "              Date Ticker                                    Company Name  \\\n",
            "0     Dec 29, 2020    MRM            MEDIROM Healthcare Technologies Inc.   \n",
            "1     Dec 24, 2020   VTAQ                   Ventoux CCM Acquisition Corp.   \n",
            "2     Dec 23, 2020   HCAR     Healthcare Services Acquisition Corporation   \n",
            "3     Dec 23, 2020   CFIV                         CF Acquisition Corp. IV   \n",
            "4     Dec 23, 2020    VII                         7GC & Co. Holdings Inc.   \n",
            "...            ...    ...                                             ...   \n",
            "1966  Jan 18, 2024   PSBD                  Palmer Square Capital BDC Inc.   \n",
            "1967  Jan 18, 2024   CCTG  CCSC Technology International Holdings Limited   \n",
            "1968  Jan 12, 2024   SYNX                                  Silynxcom Ltd.   \n",
            "1969  Jan 11, 2024   SDHC                       Smith Douglas Homes Corp.   \n",
            "1970   Jan 9, 2024   ROMA                      Roma Green Finance Limited   \n",
            "\n",
            "     IPO Price Current Price Price Change             Sector  \\\n",
            "0       $15.00         $2.74      -81.56%  Consumer Cyclical   \n",
            "1       $10.00         $5.08      -49.20%   Sector not found   \n",
            "2       $10.00        $10.11        1.10%   Sector not found   \n",
            "3       $10.00        $10.58        5.80%   Sector not found   \n",
            "4       $10.00        $10.96        9.60%   Sector not found   \n",
            "...        ...           ...          ...                ...   \n",
            "1966    $16.45        $16.33       -0.79%   Sector not found   \n",
            "1967     $6.00         $1.60      -73.33%        Industrials   \n",
            "1968     $4.00         $3.19      -18.50%         Technology   \n",
            "1969    $21.00        $33.98       64.10%        Real Estate   \n",
            "1970     $4.00         $0.54      -86.50%        Industrials   \n",
            "\n",
            "                          Industry  \n",
            "0                Personal Services  \n",
            "1               Industry not found  \n",
            "2               Industry not found  \n",
            "3               Industry not found  \n",
            "4               Industry not found  \n",
            "...                            ...  \n",
            "1966            Industry not found  \n",
            "1967  Electrical Equipment & Parts  \n",
            "1968       Communication Equipment  \n",
            "1969       Real Estate—Development  \n",
            "1970           Consulting Services  \n",
            "\n",
            "[1971 rows x 8 columns]\n"
          ]
        }
      ],
      "source": [
        "df.insert(loc=len(df.columns), column='Sector', value=SectorRow)\n",
        "df.insert(loc=len(df.columns),column=\"Industry\",value=IndustryRow)\n",
        "print(df)\n"
      ]
    },
    {
      "cell_type": "code",
      "execution_count": null,
      "metadata": {
        "id": "Ke0E-NVN3NHu",
        "colab": {
          "base_uri": "https://localhost:8080/"
        },
        "outputId": "ce373862-6ae5-4465-9c7d-ad42527f4a18"
      },
      "outputs": [
        {
          "output_type": "stream",
          "name": "stdout",
          "text": [
            "['Dec 29, 2020' 'MRM' 'MEDIROM Healthcare Technologies Inc.' '$15.00'\n",
            " '$2.74' '-81.56%' 'Consumer Cyclical' 'Personal Services']\n"
          ]
        }
      ],
      "source": [
        "SectorRowNPArray = np.array(SectorRow,dtype=object).reshape(-1,1)\n",
        "IndustryRowNPArray = np.array(IndustryRow,dtype=object).reshape(-1,1)\n",
        "Stocks= np.hstack((Stocks,SectorRowNPArray))\n",
        "Stocks = np.hstack((Stocks,IndustryRowNPArray))\n",
        "print(Stocks[0])"
      ]
    },
    {
      "cell_type": "markdown",
      "source": [
        "###****<h2>1.2.3 Webscraping For IPOs using NASDAQ API</h2>****\n",
        "\n",
        "----------------------------------------------------------\n",
        "From the codes below, it shows an extraction of the NASDAQ API to ensure that the data we have retrieved is true and also double check that the IPO_Price is true as Nasdaq is the stock exchange which listed the stock and is trustable. After which, we then use the Yahoo Finance API to find out the stocks' total asset, equities and earnings/losses."
      ],
      "metadata": {
        "id": "QE3tKAFYRcPW"
      }
    },
    {
      "cell_type": "code",
      "execution_count": null,
      "metadata": {
        "id": "EpyGswAIx5LB"
      },
      "outputs": [],
      "source": [
        "\n",
        "url = 'https://api.nasdaq.com/api/ipo/calendar'\n",
        "headers = {'User-Agent': 'Mozilla/5.0 (X11; Linux x86_64; rv:109.0) Gecko/20100101 Firefox/113.0'}\n",
        "start_date = '2020-1-1'\n",
        "end_date = '2023-5-31'\n",
        "periods = pd.period_range(start_date, end_date, freq='M')\n",
        "dfs = []\n",
        "for period in periods:\n",
        "    data = requests.get(url, headers=headers, params={'date': period}).json()\n",
        "    df2 = pd.json_normalize(data['data']['priced'], 'rows')\n",
        "    dfs.append(df2)\n",
        "df2 = pd.concat(dfs, ignore_index=True)"
      ]
    },
    {
      "cell_type": "code",
      "execution_count": null,
      "metadata": {
        "id": "UtNwt6qC01to",
        "colab": {
          "base_uri": "https://localhost:8080/"
        },
        "outputId": "0e33d31c-97bc-41c5-dd2d-b9ae2f3f3cd2"
      },
      "outputs": [
        {
          "output_type": "stream",
          "name": "stdout",
          "text": [
            "              dealID proposedTickerSymbol  \\\n",
            "0      1099162-91392                 ARQT   \n",
            "1      1101484-91092                 REYN   \n",
            "2       748340-91387                 ONEM   \n",
            "3      1099989-90949                 ANPC   \n",
            "4      1019150-91385                 BDTX   \n",
            "...              ...                  ...   \n",
            "1772  1210259-102635                  SGE   \n",
            "1773  1239799-104989                ALCYU   \n",
            "1774  1254469-106197                 SLRN   \n",
            "1775  1243360-105271                 KVUE   \n",
            "1776  1190851-101486                GODNU   \n",
            "\n",
            "                                 companyName      proposedExchange  \\\n",
            "0              Arcutis Biotherapeutics, Inc.  NASDAQ Global Select   \n",
            "1            Reynolds Consumer Products Inc.  NASDAQ Global Select   \n",
            "2                       1life Healthcare Inc  NASDAQ Global Select   \n",
            "3                           Fresh2 Group Ltd         NASDAQ Global   \n",
            "4           Black Diamond Therapeutics, Inc.  NASDAQ Global Select   \n",
            "...                                      ...                   ...   \n",
            "1772       Strong Global Entertainment, Inc.              NYSE MKT   \n",
            "1773  Alchemy Investments Acquisition Corp 1         NASDAQ Global   \n",
            "1774                          ACELYRIN, Inc.  NASDAQ Global Select   \n",
            "1775                             Kenvue Inc.                  NYSE   \n",
            "1776            Golden Star Acquisition Corp         NASDAQ Global   \n",
            "\n",
            "     proposedSharePrice sharesOffered pricedDate dollarValueOfSharesOffered  \\\n",
            "0                 17.00     9,375,000  1/31/2020               $159,375,000   \n",
            "1                 26.00    47,170,000  1/31/2020             $1,226,420,000   \n",
            "2                 14.00    17,500,000  1/31/2020               $245,000,000   \n",
            "3                 12.00     1,333,360  1/30/2020                $16,000,320   \n",
            "4                 19.00    10,586,316  1/30/2020               $201,140,004   \n",
            "...                 ...           ...        ...                        ...   \n",
            "1772               4.00     1,000,000  5/16/2023                 $4,000,000   \n",
            "1773              10.00    10,000,000  5/05/2023               $100,000,000   \n",
            "1774              18.00    30,000,000  5/05/2023               $540,000,000   \n",
            "1775              22.00   172,812,560  5/04/2023             $3,801,876,320   \n",
            "1776              10.00     6,000,000  5/02/2023                $60,000,000   \n",
            "\n",
            "     dealStatus  \n",
            "0        Priced  \n",
            "1        Priced  \n",
            "2        Priced  \n",
            "3        Priced  \n",
            "4        Priced  \n",
            "...         ...  \n",
            "1772     Priced  \n",
            "1773     Priced  \n",
            "1774     Priced  \n",
            "1775     Priced  \n",
            "1776     Priced  \n",
            "\n",
            "[1777 rows x 9 columns]\n",
            "Empty DataFrame\n",
            "Columns: [dealID, proposedTickerSymbol, companyName, proposedExchange, proposedSharePrice, sharesOffered, pricedDate, dollarValueOfSharesOffered, dealStatus]\n",
            "Index: []\n",
            "            dealID proposedTickerSymbol                           companyName  \\\n",
            "403  1135217-94816                  MRM  Medirom Healthcare Technologies Inc.   \n",
            "\n",
            "    proposedExchange proposedSharePrice sharesOffered  pricedDate  \\\n",
            "403   NASDAQ Capital              15.00       800,000  12/29/2020   \n",
            "\n",
            "    dollarValueOfSharesOffered dealStatus  \n",
            "403                $12,000,000     Priced  \n",
            "False\n",
            "True\n",
            "15.00\n",
            "            Date Ticker                  Company Name IPO Price Current Price  \\\n",
            "28  Dec 15, 2020   BLUW  Blue Water Acquisition Corp.    $10.00         $9.63   \n",
            "\n",
            "   Price Change            Sector            Industry  \n",
            "28       -3.70%  Sector not found  Industry not found  \n"
          ]
        }
      ],
      "source": [
        "print(df2)\n",
        "\n",
        "mrm_row = df2[df2['proposedTickerSymbol'] == 'MRM']\n",
        "mrm_row_price = mrm_row['proposedSharePrice']\n",
        "VTAQ_row = df2[df2['proposedTickerSymbol']==\"VTAQ\"]\n",
        "\n",
        "print(VTAQ_row)\n",
        "print(mrm_row)\n",
        "print(mrm_row.empty)\n",
        "print(VTAQ_row.empty)\n",
        "print(mrm_row_price.values[0])\n",
        "print(df.loc[df['Ticker'] == 'BLUW'])\n",
        "df.loc[30,\"Ticker\"]=\"BLUW\"\n"
      ]
    },
    {
      "cell_type": "code",
      "execution_count": null,
      "metadata": {
        "id": "nWQ-mCjTsJ7M"
      },
      "outputs": [],
      "source": [
        "df['sharesOffered'] = \"0\"\n",
        "for ticker in df['Ticker']:\n",
        "  ticker_row = df2[df2['proposedTickerSymbol'] == ticker]\n",
        "  if not ticker_row.empty:\n",
        "    ticker_row_price = ticker_row['proposedSharePrice']\n",
        "    ticker_sharesOffered = ticker_row['sharesOffered']\n",
        "    df.loc[df['Ticker'] == ticker, 'IPO Price'] = ticker_row_price.values[0]\n",
        "    df.loc[df['Ticker'] == ticker,'sharesOffered'] = ticker_sharesOffered.values[0]"
      ]
    },
    {
      "cell_type": "code",
      "execution_count": null,
      "metadata": {
        "id": "cyxkLIlTpsqY"
      },
      "outputs": [],
      "source": [
        "df['TotalRevenue']= 0\n",
        "\n",
        "for i in df['Ticker']:\n",
        "  ticker=i\n",
        "  last_position = -1\n",
        "  company = yf.Ticker(ticker)\n",
        "  Financials = company.financials\n",
        "  if Financials.empty:\n",
        "    print(f\"No financial data found for {ticker}\")\n",
        "    continue\n",
        "  if 'Total Revenue' in Financials.index:\n",
        "    while math.isnan(Financials.loc[\"Total Revenue\"][last_position]):\n",
        "      last_position -= 1\n",
        "    total_revenue_row = Financials.loc[\"Total Revenue\"].iloc[last_position]\n",
        "    df.loc[df['Ticker'] == ticker, 'TotalRevenue'] = '{:,.0f}'.format(total_revenue_row)\n",
        "  else:\n",
        "    print(f\"'Total Revenue' not found for {ticker}\")\n",
        "\n"
      ]
    },
    {
      "cell_type": "code",
      "execution_count": null,
      "metadata": {
        "id": "JVLQQ3vw3sjb"
      },
      "outputs": [],
      "source": [
        "df['TotalAssets']= 0\n",
        "\n",
        "for i in df['Ticker']:\n",
        "  ticker=i\n",
        "  last_position = -1\n",
        "  company = yf.Ticker(ticker)\n",
        "  Financials = company.balancesheet\n",
        "  if Financials.empty:\n",
        "    print(f\"No financial data found for {ticker}\")\n",
        "    continue\n",
        "  if 'Cash And Cash Equivalents' in Financials.index:\n",
        "    while math.isnan(Financials.loc[\"Cash And Cash Equivalents\"][last_position]):\n",
        "      last_position -= 1\n",
        "    total_assets_row = Financials.loc[\"Cash And Cash Equivalents\"].iloc[last_position]\n",
        "    df.loc[df['Ticker'] == ticker, 'TotalAssets'] = '{:,.0f}'.format(total_assets_row)\n",
        "  else:\n",
        "    print(f\"'Total Revenue' not found for {ticker}\")"
      ]
    },
    {
      "cell_type": "code",
      "execution_count": null,
      "metadata": {
        "id": "fu56hsZsSKTA",
        "colab": {
          "base_uri": "https://localhost:8080/"
        },
        "outputId": "abf693ea-5f55-45cb-f670-df9157d20c2e"
      },
      "outputs": [
        {
          "output_type": "stream",
          "name": "stdout",
          "text": [
            "              Date Ticker                                    Company Name  \\\n",
            "0     Dec 29, 2020    MRM            MEDIROM Healthcare Technologies Inc.   \n",
            "1     Dec 24, 2020   VTAQ                   Ventoux CCM Acquisition Corp.   \n",
            "2     Dec 23, 2020   HCAR     Healthcare Services Acquisition Corporation   \n",
            "3     Dec 23, 2020   CFIV                         CF Acquisition Corp. IV   \n",
            "4     Dec 23, 2020    VII                         7GC & Co. Holdings Inc.   \n",
            "...            ...    ...                                             ...   \n",
            "1966  Jan 18, 2024   PSBD                  Palmer Square Capital BDC Inc.   \n",
            "1967  Jan 18, 2024   CCTG  CCSC Technology International Holdings Limited   \n",
            "1968  Jan 12, 2024   SYNX                                  Silynxcom Ltd.   \n",
            "1969  Jan 11, 2024   SDHC                       Smith Douglas Homes Corp.   \n",
            "1970   Jan 9, 2024   ROMA                      Roma Green Finance Limited   \n",
            "\n",
            "     IPO Price Current Price Price Change             Sector  \\\n",
            "0        15.00         $2.74      -81.56%  Consumer Cyclical   \n",
            "1       $10.00         $5.08      -49.20%   Sector not found   \n",
            "2       $10.00        $10.11        1.10%   Sector not found   \n",
            "3       $10.00        $10.58        5.80%   Sector not found   \n",
            "4       $10.00        $10.96        9.60%   Sector not found   \n",
            "...        ...           ...          ...                ...   \n",
            "1966    $16.45        $16.33       -0.79%   Sector not found   \n",
            "1967     $6.00         $1.60      -73.33%        Industrials   \n",
            "1968     $4.00         $3.19      -18.50%         Technology   \n",
            "1969    $21.00        $33.98       64.10%        Real Estate   \n",
            "1970     $4.00         $0.54      -86.50%        Industrials   \n",
            "\n",
            "                          Industry sharesOffered   TotalRevenue    TotalAssets  \n",
            "0                Personal Services       800,000  3,341,617,000  1,439,733,000  \n",
            "1               Industry not found             0              0              0  \n",
            "2               Industry not found             0              0              0  \n",
            "3               Industry not found             0              0              0  \n",
            "4               Industry not found             0              0              0  \n",
            "...                            ...           ...            ...            ...  \n",
            "1966            Industry not found             0     20,924,886        682,579  \n",
            "1967  Electrical Equipment & Parts             0     22,608,447      2,642,918  \n",
            "1968       Communication Equipment             0      9,581,000      1,561,000  \n",
            "1969       Real Estate—Development             0    518,863,000     25,340,000  \n",
            "1970           Consulting Services             0     13,677,261        394,471  \n",
            "\n",
            "[1971 rows x 11 columns]\n"
          ]
        }
      ],
      "source": [
        "print(df)\n",
        "\n",
        "#### saving the dataframe as a csv file\n",
        "df.to_csv('dataset.csv',\n",
        "    index=False,\n",
        "    sep=',',\n",
        "    header=True,\n",
        "    na_rep='NA')"
      ]
    },
    {
      "cell_type": "markdown",
      "source": [
        "#2<h1> Generating Synthetic Data</h1>"
      ],
      "metadata": {
        "id": "ZYTM869GlEjG"
      }
    },
    {
      "cell_type": "markdown",
      "source": [
        "##****<h2>2.1 Feeding the data retrieved to GPT API</h2>****\n",
        "\n",
        "----------------------------------------------------------\n",
        "Now that we have the full set of Data Frame of IPO Prices and companies dated from 2020-2024, we want to ensure that we can send them as a list to GPT so that GPT can produce synthetic data with  similar statistic properties. We have to send them as a message content which we need to process the original dataframe which splits up into several strings so that gpt can receive these messages. The reason for splitting is  so that we don't exceed the tokens which the gpt api can process. Therefore, the steps below shows how we split the company_data into lists of objects and finally creating a single string array which consists of hundreds of the companies' data."
      ],
      "metadata": {
        "id": "Aqq_QRdHSi89"
      }
    },
    {
      "cell_type": "code",
      "execution_count": null,
      "metadata": {
        "id": "cVu7w-Orj9kF"
      },
      "outputs": [],
      "source": [
        "company_data = list(df.itertuples(index=False, name=None))\n",
        "num_lists = 6\n",
        "## converting the company details to names\n",
        "full_texts= []\n",
        "\n",
        "for i in company_data:\n",
        "  joined_text = \",\".join(map(str,i))+\"\\n\"\n",
        "  full_texts.append(joined_text)\n",
        "\n",
        "\n",
        "list_length = len(company_data)\n",
        "chunk_size = math.ceil(list_length/num_lists)\n",
        "\n",
        "### splitting the list of companies' details to 6 different list to parse into gpt to minimize the size when feeding into gpt\n",
        "split_lists = []\n",
        "for i in range(num_lists):\n",
        "  start = i*chunk_size\n",
        "  end = (i+1) * chunk_size\n",
        "  split_lists.append(full_texts[start:end])\n",
        "\n",
        "single_string_array = []\n",
        "for i in range(len(split_lists)):\n",
        "  single_string = \" \".join(split_lists[i])\n",
        "  single_string_array.append(single_string)\n",
        "\n",
        "single_string_array_combined = single_string_array[0]+single_string_array[1]+single_string_array[2]+single_string_array[3]+single_string_array[4]+single_string_array[5]\n",
        "\n",
        "#print(\"can you provide similar examples of the company in the following format Dates,Ticker,Full Name Of Company, IPO Price, Current Price, Percentage Increase,Industry,Sector,Shares Offered,Total Revenue, Total Asset which is seen in the examples below: \\n\"+single_string_array[0]+\" and return it with no explanation and separate each company without numbering it and no spaces inbetween.\")\n",
        "\n"
      ]
    },
    {
      "cell_type": "code",
      "execution_count": null,
      "metadata": {
        "id": "nuVrynJtndyB"
      },
      "outputs": [],
      "source": [
        "encoding = tiktoken.encoding_for_model(\"gpt-4o-latest\")\n",
        "\n",
        "client = OpenAI(\n",
        "    # This is the default and can be omitted\n",
        "    api_key='Your_API_Key',\n",
        ")\n",
        "\n",
        "syntheticDataset =[]\n",
        "not_done = True\n",
        "i = 0\n",
        "\n",
        "while not_done or len(syntheticDataset)<=10000 :\n",
        "  message_content = (\n",
        "    \"I will now feed you 389 data points about these companies' Financials and IPO Data. \"\n",
        "    \"Can you provide me a synthetic dataset with 2,000 datapoints of similar properties in comparison with these companies in the following format: \"\n",
        "    \"1) Dates, 2) Ticker, 3) Full Name Of Company, 4) IPO Price, 5) Current Price, 6) Percentage Increase, 7) Industry, 8) Sector, 9) Shares Offered, \"\n",
        "    \"10) Total Revenue with $ in the beginning, 11) Total Asset with $ in the beginning. Please use the examples provided below: \\n\" + single_string_array_combined +\n",
        "    \". Return the synthetic dataset with no explanations and separate each company without numbering and without spaces in between. \"\n",
        "    \"The companies were webscraped, and some information might not be complete, such as total revenue, total assets, and earnings, which may not be accurate. \"\n",
        "    \"If any values are 0, replace them with values that are suitable for the industry. Return the synthetic dataset without any other explanations. \"\n",
        "    \"First, return the number of data points at the start that have been fed to you, then return the synthetic dataset that you have generated. \"\n",
        "    \"Finally, return strictly '-notdone' at the end if you have not finished generating the synthetic dataset.\"\n",
        ")\n",
        "  print(f\"Processing chunk {i}, current synthetic dataset length: {len(syntheticDataset)}\")\n",
        "  chat_completion = client.chat.completions.create(\n",
        "      max_tokens=16384,\n",
        "      messages=[\n",
        "          {\n",
        "              \"role\": \"user\",\n",
        "              \"content\": message_content\n",
        "          }\n",
        "      ],\n",
        "      model=\"chatgpt-4o-latest\",\n",
        "    )\n",
        "  print(chat_completion.choices[0].message.content)\n",
        "  crd = chat_completion.choices[0].message.content\n",
        "  if '-notdone' in crd:\n",
        "        not_done = True\n",
        "        crd = crd.replace('-notdone','').strip()\n",
        "  else:\n",
        "      not_done = False\n",
        "  if i == 6:\n",
        "    i = -1\n",
        "  i += 1\n",
        "  finalchatcompletion = crd.split('\\n')\n",
        "  syntheticDataset.extend(finalchatcompletion)"
      ]
    },
    {
      "cell_type": "markdown",
      "source": [
        "##****<h2>2.2 Retrieving Data and Conversion to Dataframe</h2>****\n",
        "\n",
        "----------------------------------------------------------\n",
        "After we retrieve the full dataset as the variable called syntheticDataset, we need to remove some items which are outliers as they are not returned in the format which we have specified to the GPT API. Therefore, the data cleaning process begins from this section onwards which i found the KLDQ contains weird formatting and removed it from the dataframe and we use regex to split them into objects."
      ],
      "metadata": {
        "id": "VqaRP6SmTpRl"
      }
    },
    {
      "cell_type": "code",
      "execution_count": null,
      "metadata": {
        "colab": {
          "base_uri": "https://localhost:8080/"
        },
        "id": "xa213-ov7gAu",
        "outputId": "c295c5d8-33f6-42a8-8a99-abb5f1f704c1"
      },
      "outputs": [
        {
          "output_type": "stream",
          "name": "stdout",
          "text": [
            "10094\n",
            "9289\n",
            "9289\n"
          ]
        }
      ],
      "source": [
        "print(len(syntheticDataset))\n",
        "date_pattern = r'^[A-Za-z]{3} \\d{1,2}, \\d{4}'\n",
        "filtered_syntheticDataset = [item for item in syntheticDataset if re.match(date_pattern, item)]\n",
        "print(len(filtered_syntheticDataset))\n",
        "filtered_syntheticDataset = [item for item in filtered_syntheticDataset if \"KLDQ\" not in item]\n",
        "print(len(filtered_syntheticDataset))\n",
        "\n",
        "\n",
        "\n",
        "\n"
      ]
    },
    {
      "cell_type": "markdown",
      "source": [
        "##****<h2>2.3 Data Cleaning</h2>****\n",
        "\n",
        "----------------------------------------------------------\n",
        "These steps below are the ones which i have used to split them into lists of the companies which we use regex to split them via \",\" and other factors such as the dollarsign to retrieve the individual properties of the company and then finally merging these lists[0] up to create a company object. We then have the full lists of companies with 11 properties and saving them as a csv file so we do not have to incur more costs when reloading the scripts above which uses the gpt api to generate synthetic data again."
      ],
      "metadata": {
        "id": "2P1T4chsULFS"
      }
    },
    {
      "cell_type": "code",
      "source": [
        "processing_syntheticDatasetDate = []\n",
        "processing_syntheticDatasetTicker = []\n",
        "processing_syntheticDatasetName= []\n",
        "processing_IPO_Price = []\n",
        "processing_IPO_Current_Price = []\n",
        "processing_Percentage_Increase = []\n",
        "processing_Industry = []\n",
        "processing_Sector = []\n",
        "processing_Shares_Offered = []\n",
        "processing_Total_Revenue = []\n",
        "processing_Total_Asset = []\n",
        "\n",
        "\n",
        "for data in filtered_syntheticDataset:\n",
        "  # Step 1: Split the string by the first comma to separate the date\n",
        "  first_split = data.split(',', 1)\n",
        "\n",
        "  combined_date = first_split[0] + ',' + first_split[1].split(',', 1)[0]\n",
        "\n",
        "  remaining_string = first_split[1].split(',', 1)[1]\n",
        "\n",
        "  remaining_parts = remaining_string.split(',')\n",
        "\n",
        "  dollarsignsplit_dataparts = data.rsplit('$', 2)\n",
        "\n",
        "  split_parts_totalShares = dollarsignsplit_dataparts[0].split(',')\n",
        "  parts_after_ninth = split_parts_totalShares[9:]\n",
        "  total_shares = ','.join(parts_after_ninth)\n",
        "  reverse_string = dollarsignsplit_dataparts[0][::-1]\n",
        "  match = re.search(r'[A-Za-z]', reverse_string)\n",
        "  if match:\n",
        "    position = len(dollarsignsplit_dataparts[0]) - match.start() + 1\n",
        "\n",
        "    left_part = dollarsignsplit_dataparts[0][:position]\n",
        "    right_part = dollarsignsplit_dataparts[0][position:]\n",
        "\n",
        "\n",
        "  else:\n",
        "    print(\"No alphabet character found in the string.\")\n",
        "\n",
        "  right_part = right_part.replace(\" \",\"\")\n",
        "  right_part = right_part.replace(\".\",\"\")\n",
        "  right_part = right_part.replace(\",\",\"\")\n",
        "  right_part = right_part.replace(\"$\",\"\")\n",
        "  total_shares=right_part\n",
        "\n",
        "  if len(remaining_parts)>=7 and len(dollarsignsplit_dataparts)==3 and len(total_shares)>=5:\n",
        "        split_parts = [combined_date, remaining_parts]\n",
        "        processing_syntheticDatasetDate.append(combined_date)\n",
        "        processing_syntheticDatasetTicker.append(remaining_parts[0])\n",
        "        processing_syntheticDatasetName.append(remaining_parts[1])\n",
        "        processing_IPO_Price.append(remaining_parts[2])\n",
        "        processing_IPO_Current_Price.append(remaining_parts[3])\n",
        "        processing_Percentage_Increase.append(remaining_parts[4])\n",
        "        processing_Industry.append(remaining_parts[5])\n",
        "        processing_Sector.append(remaining_parts[6])\n",
        "        processing_Total_Revenue.append(\"$\"+dollarsignsplit_dataparts[1])\n",
        "        processing_Total_Asset.append(\"$\"+dollarsignsplit_dataparts[2])\n",
        "        processing_Shares_Offered.append(total_shares)\n",
        "\n",
        "\n",
        "\n",
        "df_syntheticDataset = pd.DataFrame({\n",
        "    'Date': processing_syntheticDatasetDate,\n",
        "    'Ticker': processing_syntheticDatasetTicker,\n",
        "    'Company_Name': processing_syntheticDatasetName,\n",
        "    'IPO_Price': processing_IPO_Price,\n",
        "    'Current_Price': processing_IPO_Current_Price,\n",
        "    'Percentage_Increase': processing_Percentage_Increase,\n",
        "    'Industry': processing_Industry,\n",
        "    'Sector': processing_Sector,\n",
        "    'Shares_Offered': processing_Shares_Offered,\n",
        "    'Total_Revenue': processing_Total_Revenue,\n",
        "    'Total_Asset': processing_Total_Asset\n",
        "})\n",
        "\n",
        "print(df_syntheticDataset)\n",
        "# Save DataFrame to CSV\n",
        "df_syntheticDataset.to_csv('synthetic_dataset_Final.csv', index=False)\n",
        "\n",
        "\n",
        "\n",
        "\n"
      ],
      "metadata": {
        "id": "SRVioZTLzGYf"
      },
      "execution_count": null,
      "outputs": []
    },
    {
      "cell_type": "markdown",
      "source": [
        "###2.3.1 Further Data Cleaning\n",
        "\n",
        "\n",
        "----------------------------------------------------------\n",
        "Further Data Cleaning so that the information feeded to the machine learning model can interpret what information we have produced based on the data that GPT has created for us. The steps below show the removal of text words in the columns which should not consist of text words and also punctuations and other not required elements.\n",
        "\n",
        "Note:\n",
        "Because i'm using google colab, sometimes it disconnect and i have to read the csv file from save as when it disconnects, all the variables are lost."
      ],
      "metadata": {
        "id": "KnzwRxmnUtof"
      }
    },
    {
      "cell_type": "code",
      "source": [
        "df = pd.read_csv('/content/synthetic_dataset_Final (1).csv')\n",
        "\n",
        "## upon inspecting the initial csv file in the csv, i have found the chatgpt outputs to have some errors in some runs when the gpt api returned a response\n",
        "## to avoid errors later on, we remove some of the rows that contain the error as sector and industry should\n",
        "## only consist of alphabets instead of numbers so we use regex to find if they contain numbers.\n",
        "## we then clean the IPO_Price as a start to clean the data and convert them to floats.\n",
        "\n",
        "\n",
        "## removing rows that has numbers in the sector column\n",
        "df_cleaned = df[~df['Sector'].str.contains(r'\\d')]\n",
        "## saving and viewing to see if the rows have been removed.\n",
        "df_cleaned.to_csv('synthetic_dataset_cleanedFinal.csv', index=False)\n",
        "\n",
        "##removing rows that has numbers in the industry column\n",
        "df_cleaned = df_cleaned[~df_cleaned['Industry'].str.contains(r'\\d')]\n",
        "\n",
        "## saving and viewing to see if the rows have been removed\n",
        "df_cleaned.to_csv('synthetic_dataset_cleaned2Final.csv', index=False)\n",
        "\n",
        "\n",
        "##replacing the rows' string to ensure.E.g($,alphabets) that it only consist of numbers\n",
        "df_cleaned['IPO_Price'] = df_cleaned[\"IPO_Price\"].str.replace(r'[^0-9.]','',regex=True)\n",
        "#replacing empty as nan\n",
        "df_cleaned['IPO_Price'] = df_cleaned['IPO_Price'].replace('', np.nan)\n",
        "#changing the column to number instead of string\n",
        "df_cleaned['IPO_Price'] = pd.to_numeric(df_cleaned['IPO_Price'], errors='coerce')\n",
        "\n",
        "### After we get the IPO_Price, the next thing we want to check is the shares_offered, TOtal_Revenue,Total_assets to ensure that our machine learning model works.\n",
        "df_cleaned['Shares_Offered'] = df_cleaned['Shares_Offered'].str.replace(r'\\D+', '', regex=True)\n",
        "df_cleaned['Shares_Offered'] = df_cleaned['Shares_Offered'].replace('', np.nan)\n",
        "\n",
        "\n",
        "\n",
        "df_cleaned = df_cleaned.dropna(subset=['Shares_Offered'])\n",
        "print(df_cleaned[df_cleaned['Shares_Offered'].isnull()])\n",
        "\n",
        "\n",
        "\n",
        "print(\"=================shares_offered Cleaned========================\\n\")\n",
        "\n",
        "df_cleaned['Total_Revenue'] = df_cleaned[\"Total_Revenue\"].str.replace(r'[^0-9.]','',regex=True)\n",
        "df_cleaned['Total_Revenue'] = df_cleaned['Total_Revenue'].replace('', np.nan)\n",
        "\n",
        "print(df_cleaned[df_cleaned['Total_Revenue'].isnull()])\n",
        "df_cleaned = df_cleaned.dropna(subset=['Total_Revenue'])\n",
        "print(df_cleaned[df_cleaned['Total_Revenue'].isnull()])\n",
        "print(\"=================Total_Revenue Cleaned========================\\n\")\n",
        "\n",
        "\n",
        "\n",
        "\n",
        "\n",
        "df_cleaned['Total_Asset'] = df_cleaned[\"Total_Asset\"].str.replace(r'[^0-9.]','',regex=True)\n",
        "df_cleaned['Total_Asset'] = df_cleaned['Total_Asset'].replace('', np.nan)\n",
        "print(df_cleaned[df_cleaned['Total_Asset'].isnull()])\n",
        "df_cleaned = df_cleaned.dropna(subset=['Total_Asset'])\n",
        "print(df_cleaned[df_cleaned['Total_Revenue'].isnull()])\n",
        "print(\"=================Total_Asset Cleaned========================\\n\")\n",
        "\n",
        "print(df_cleaned)"
      ],
      "metadata": {
        "colab": {
          "base_uri": "https://localhost:8080/"
        },
        "id": "D3seyRLHUT6Y",
        "outputId": "21c37087-6dee-4c43-eebd-9dbe92832f68"
      },
      "execution_count": null,
      "outputs": [
        {
          "output_type": "stream",
          "name": "stdout",
          "text": [
            "Empty DataFrame\n",
            "Columns: [Date, Ticker, Company_Name, IPO_Price, Current_Price, Percentage_Increase, Industry, Sector, Shares_Offered, Total_Revenue, Total_Asset]\n",
            "Index: []\n",
            "=================shares_offered Cleaned========================\n",
            "\n",
            "              Date Ticker                 Company_Name  IPO_Price  \\\n",
            "6176  Jun 12, 2023    FRX       Fraxon Pharmaceuticals       18.0   \n",
            "6189  Jul 08, 2024    NXG       Nexius Pharmaceuticals       14.0   \n",
            "6190  Apr 13, 2023    STR  Stratagenix Pharmaceuticals       20.0   \n",
            "6191  Nov 21, 2024    ZYL       Zylant Pharmaceuticals       19.0   \n",
            "6192  Sep 17, 2024    BIH       BioHealth Technologies       12.0   \n",
            "...            ...    ...                          ...        ...   \n",
            "6253  Apr 04, 2023    EXZ     ExonLabs Pharmaceuticals       25.0   \n",
            "6254  Jan 15, 2024    SXP       Synpro Pharmaceuticals       18.0   \n",
            "6255  Aug 27, 2024    NXT      NexRite Pharmaceuticals       16.0   \n",
            "6256  Dec 16, 2024    MLG     Melgenix Pharmaceuticals       17.5   \n",
            "6257  Sep 28, 2023    LGT        Ligen Pharmaceuticals       12.0   \n",
            "\n",
            "     Current_Price Percentage_Increase    Industry         Sector  \\\n",
            "6176         $9.33             -48.17%  Healthcare  Biotechnology   \n",
            "6189        $23.22              65.86%  Healthcare  Biotechnology   \n",
            "6190        $17.31             -13.45%  Healthcare  Biotechnology   \n",
            "6191        $22.99              21.00%  Healthcare  Biotechnology   \n",
            "6192         $7.55             -37.08%  Healthcare  Biotechnology   \n",
            "...            ...                 ...         ...            ...   \n",
            "6253        $12.44             -50.24%  Healthcare  Biotechnology   \n",
            "6254        $10.22             -43.22%  Healthcare  Biotechnology   \n",
            "6255        $10.89             -31.94%  Healthcare  Biotechnology   \n",
            "6256        $24.12              37.83%  Healthcare  Biotechnology   \n",
            "6257         $9.78             -18.50%  Healthcare  Biotechnology   \n",
            "\n",
            "         Shares_Offered Total_Revenue     Total_Asset  \n",
            "6176   5800000130000000           NaN   $89,000,000    \n",
            "6189  12500000598000000           NaN  $450,000,000    \n",
            "6190   9400000630000000           NaN  $280,000,000    \n",
            "6191  11100000360000000           NaN  $285,000,000    \n",
            "6192   7250000200000000           NaN   $90,000,000    \n",
            "...                 ...           ...             ...  \n",
            "6253   6440000280000000           NaN  $190,000,000    \n",
            "6254   8600000280000000           NaN  $190,000,000    \n",
            "6255   7200000230000000           NaN  $120,000,000    \n",
            "6256   8550000350000000           NaN  $245,000,000    \n",
            "6257   5700000268000000           NaN  $184,000,000    \n",
            "\n",
            "[66 rows x 11 columns]\n",
            "Empty DataFrame\n",
            "Columns: [Date, Ticker, Company_Name, IPO_Price, Current_Price, Percentage_Increase, Industry, Sector, Shares_Offered, Total_Revenue, Total_Asset]\n",
            "Index: []\n",
            "=================Total_Revenue Cleaned========================\n",
            "\n",
            "              Date Ticker             Company_Name  IPO_Price Current_Price  \\\n",
            "6174  May 28, 2024    MTR   Metron Pharmaceuticals       15.0        $21.18   \n",
            "6182  May 31, 2024    KMT  Kimatro Pharmaceuticals       16.0        $12.46   \n",
            "6183  Aug 29, 2024    CGX  Cygenix Pharmaceuticals       13.0        $15.57   \n",
            "6187  Feb 26, 2024    TSF  Trusfar Pharmaceuticals       18.0         $9.43   \n",
            "6188  May 13, 2024    CYT  Cytogen Pharmaceuticals       14.0         $9.32   \n",
            "\n",
            "     Percentage_Increase    Industry         Sector    Shares_Offered  \\\n",
            "6174              41.20%  Healthcare  Biotechnology  8500000320000000   \n",
            "6182             -22.13%  Healthcare  Biotechnology  8900000330000000   \n",
            "6183              19.77%  Healthcare  Biotechnology  5400000280000000   \n",
            "6187             -47.61%  Healthcare  Biotechnology  9840000500000000   \n",
            "6188             -33.43%  Healthcare  Biotechnology  8000000240000000   \n",
            "\n",
            "     Total_Revenue Total_Asset  \n",
            "6174     192000000         NaN  \n",
            "6182     189000000         NaN  \n",
            "6183     135000000         NaN  \n",
            "6187     234000000         NaN  \n",
            "6188      98000000         NaN  \n",
            "Empty DataFrame\n",
            "Columns: [Date, Ticker, Company_Name, IPO_Price, Current_Price, Percentage_Increase, Industry, Sector, Shares_Offered, Total_Revenue, Total_Asset]\n",
            "Index: []\n",
            "=================Total_Asset Cleaned========================\n",
            "\n",
            "              Date Ticker                  Company_Name  IPO_Price  \\\n",
            "0     Jan 10, 2022   FJMS  First Financial Holdings Ltd      20.00   \n",
            "1      Feb 8, 2021   FSTD             First Studio Inc.      25.00   \n",
            "2     Mar 15, 2021   MJRX           Medica Therapeutics       7.00   \n",
            "3     Apr 14, 2020   HNMT  Harvest Natural Medical Tech      18.00   \n",
            "4     May 22, 2020   EENG                  Energic Inc.      12.00   \n",
            "...            ...    ...                           ...        ...   \n",
            "8701   Oct 5, 2023   YKSR          Yakser Holdings Ltd.      13.50   \n",
            "8702   Oct 4, 2023   XLLT                  Xellent Ltd.      20.50   \n",
            "8703   Oct 3, 2023   NNCX       Nanocore Biopharma Ltd.      15.75   \n",
            "8704   Oct 2, 2023   VRGT                  Verigut Inc.      12.25   \n",
            "8705   Oct 1, 2023   CLRX   Clarix Pharmaceuticals Ltd.      14.25   \n",
            "\n",
            "     Current_Price Percentage_Increase                Industry  \\\n",
            "0           $20.48               2.40%      Financial Services   \n",
            "1           $76.65             206.60%  Communication Services   \n",
            "2           $13.35              90.71%              Healthcare   \n",
            "3           $24.11              33.95%              Healthcare   \n",
            "4           $38.45             220.42%                  Energy   \n",
            "...            ...                 ...                     ...   \n",
            "8701        $15.75              16.67%             Industrials   \n",
            "8702        $24.20              18.05%              Technology   \n",
            "8703        $14.50              -7.94%              Healthcare   \n",
            "8704        $11.50              -6.12%              Technology   \n",
            "8705        $12.75             -10.53%              Healthcare   \n",
            "\n",
            "                              Sector Shares_Offered Total_Revenue Total_Asset  \n",
            "0                    Shell Companies       10000000    1050505500   622732000  \n",
            "1                      Entertainment        3500000       5300000     2000000  \n",
            "2                      Biotechnology        4800000     145600000    73200000  \n",
            "3                    Medical Devices        5000000     456000000   289700000  \n",
            "4     Oil & Gas Equipment & Services        6250000     820131000   392876000  \n",
            "...                              ...            ...           ...         ...  \n",
            "8701      Engineering & Construction       17500000     400000000   340000000  \n",
            "8702         Software—Infrastructure       11250000     145000000   110000000  \n",
            "8703                   Biotechnology       10500000     120000000    90000000  \n",
            "8704            Software—Application        9500000      65000000    42000000  \n",
            "8705                   Biotechnology       12000000     100000000    78000000  \n",
            "\n",
            "[7263 rows x 11 columns]\n"
          ]
        }
      ]
    },
    {
      "cell_type": "markdown",
      "source": [
        "##2.4 Label Encoding And Scaling\n",
        "\n",
        "----------------------------------------------------------\n",
        "Label encoding uses the label encoder object which we have imported from the library to encode categorical values into numerical values so that the machine learning model can better interpret these categories and scaling standardizes numerical data to ensure features contribute equally to the model."
      ],
      "metadata": {
        "id": "xFez9lRIl0t_"
      }
    },
    {
      "cell_type": "code",
      "source": [
        "label_encoder = LabelEncoder()\n",
        "scaler = StandardScaler()\n",
        "\n",
        "###using Label_encoder to transform text features into numerical features\n",
        "df2 = df_cleaned.copy()\n",
        "df2['Sector_encoded'] = label_encoder.fit_transform(df_cleaned['Sector'])\n",
        "df2['Industry_encoded'] = label_encoder.fit_transform(df_cleaned['Industry'])\n",
        "\n",
        "df2['Shares_Offered_encoded'] = df2['Shares_Offered'].astype(int)\n",
        "lower_percentile = df2['Shares_Offered_encoded'].quantile(0.01)\n",
        "upper_percentile = df2['Shares_Offered_encoded'].quantile(0.99)\n",
        "###removing extreme outliers\n",
        "df2 = df2[(df2['Shares_Offered_encoded'] >= lower_percentile) & (df2['Shares_Offered_encoded'] <= upper_percentile)]\n",
        "df2['Shares_Offered_encoded'] = scaler.fit_transform(df2[['Shares_Offered_encoded']])\n",
        "\n",
        "##experienced an error where some of it isn't int and total revenue should be in int as it is whole numbers. Therefore, we remove all that isn't int\n",
        "df2['Total_Revenue_encoded'] = pd.to_numeric(df2['Total_Revenue'], errors='coerce')\n",
        "df2 = df2[df2['Total_Revenue_encoded'] == df2['Total_Revenue_encoded'].astype(int)]\n",
        "df2['Total_Revenue_encoded'] = df2['Total_Revenue_encoded'].astype(int)\n",
        "df2['Total_Revenue_encoded'] = scaler.fit_transform(df2[['Total_Revenue_encoded']])\n",
        "\n",
        "\n",
        "\n",
        "df2['Total_Asset_encoded'] = df2['Total_Asset'].astype(int)\n",
        "df2['Total_Asset_encoded'] = scaler.fit_transform(df2[['Total_Asset_encoded']])\n",
        "\n",
        "\n",
        "\n",
        "\n",
        "\n",
        "df2 = df2.dropna(subset=['IPO_Price'])\n",
        "\n",
        "print(df2)\n",
        "print(df2['IPO_Price'].min())\n",
        "print(df2['IPO_Price'].max())"
      ],
      "metadata": {
        "colab": {
          "base_uri": "https://localhost:8080/"
        },
        "id": "LoVTJ_JvqNZf",
        "outputId": "74164d60-fd9f-47d5-8907-35566862dee6"
      },
      "execution_count": null,
      "outputs": [
        {
          "output_type": "stream",
          "name": "stdout",
          "text": [
            "              Date Ticker                  Company_Name  IPO_Price  \\\n",
            "0     Jan 10, 2022   FJMS  First Financial Holdings Ltd      20.00   \n",
            "1      Feb 8, 2021   FSTD             First Studio Inc.      25.00   \n",
            "2     Mar 15, 2021   MJRX           Medica Therapeutics       7.00   \n",
            "3     Apr 14, 2020   HNMT  Harvest Natural Medical Tech      18.00   \n",
            "4     May 22, 2020   EENG                  Energic Inc.      12.00   \n",
            "...            ...    ...                           ...        ...   \n",
            "8701   Oct 5, 2023   YKSR          Yakser Holdings Ltd.      13.50   \n",
            "8702   Oct 4, 2023   XLLT                  Xellent Ltd.      20.50   \n",
            "8703   Oct 3, 2023   NNCX       Nanocore Biopharma Ltd.      15.75   \n",
            "8704   Oct 2, 2023   VRGT                  Verigut Inc.      12.25   \n",
            "8705   Oct 1, 2023   CLRX   Clarix Pharmaceuticals Ltd.      14.25   \n",
            "\n",
            "     Current_Price Percentage_Increase                Industry  \\\n",
            "0           $20.48               2.40%      Financial Services   \n",
            "1           $76.65             206.60%  Communication Services   \n",
            "2           $13.35              90.71%              Healthcare   \n",
            "3           $24.11              33.95%              Healthcare   \n",
            "4           $38.45             220.42%                  Energy   \n",
            "...            ...                 ...                     ...   \n",
            "8701        $15.75              16.67%             Industrials   \n",
            "8702        $24.20              18.05%              Technology   \n",
            "8703        $14.50              -7.94%              Healthcare   \n",
            "8704        $11.50              -6.12%              Technology   \n",
            "8705        $12.75             -10.53%              Healthcare   \n",
            "\n",
            "                              Sector Shares_Offered Total_Revenue Total_Asset  \\\n",
            "0                    Shell Companies       10000000    1050505500   622732000   \n",
            "1                      Entertainment        3500000       5300000     2000000   \n",
            "2                      Biotechnology        4800000     145600000    73200000   \n",
            "3                    Medical Devices        5000000     456000000   289700000   \n",
            "4     Oil & Gas Equipment & Services        6250000     820131000   392876000   \n",
            "...                              ...            ...           ...         ...   \n",
            "8701      Engineering & Construction       17500000     400000000   340000000   \n",
            "8702         Software—Infrastructure       11250000     145000000   110000000   \n",
            "8703                   Biotechnology       10500000     120000000    90000000   \n",
            "8704            Software—Application        9500000      65000000    42000000   \n",
            "8705                   Biotechnology       12000000     100000000    78000000   \n",
            "\n",
            "      Sector_encoded  Industry_encoded  Shares_Offered_encoded  \\\n",
            "0                461                24                0.042880   \n",
            "1                173                10               -1.116260   \n",
            "2                 58                28               -0.884432   \n",
            "3                327                28               -0.848766   \n",
            "4                358                20               -0.625854   \n",
            "...              ...               ...                     ...   \n",
            "8701             171                32                1.380349   \n",
            "8702             483                43                0.265792   \n",
            "8703              58                28                0.132045   \n",
            "8704             481                43               -0.046285   \n",
            "8705              58                28                0.399538   \n",
            "\n",
            "      Total_Revenue_encoded  Total_Asset_encoded  \n",
            "0                  0.972504             0.655143  \n",
            "1                 -0.722362            -0.647522  \n",
            "2                 -0.494857            -0.498102  \n",
            "3                  0.008476            -0.043756  \n",
            "4                  0.598937             0.172769  \n",
            "...                     ...                  ...  \n",
            "8701              -0.082331             0.061803  \n",
            "8702              -0.495830            -0.420874  \n",
            "8703              -0.536369            -0.462846  \n",
            "8704              -0.625555            -0.563578  \n",
            "8705              -0.568800            -0.488029  \n",
            "\n",
            "[7106 rows x 16 columns]\n",
            "2.0\n",
            "157.0\n"
          ]
        }
      ]
    },
    {
      "cell_type": "markdown",
      "source": [
        "#3 Prototyping"
      ],
      "metadata": {
        "id": "oeyEyrg2mlNS"
      }
    },
    {
      "cell_type": "markdown",
      "source": [
        "##3.1 Understanding The target Values with Scatter Plot\n",
        "---------------------------------------------------------\n",
        "We first begin with understanding the dataset with the scatter plot as shown below which shows it has a range of 0-160 for the companies' initial IPO Prices."
      ],
      "metadata": {
        "id": "RrpECaTAmuJo"
      }
    },
    {
      "cell_type": "code",
      "source": [
        "print(df2.columns)\n",
        "print(df2['IPO_Price'].describe())\n",
        "import matplotlib.pyplot as plt\n",
        "\n",
        "# Reset the index to make it a regular column\n",
        "df2_reset = df2.reset_index()\n",
        "\n",
        "# Create the scatter plot\n",
        "plt.figure(figsize=(8, 6))  # Adjust figure size as needed\n",
        "plt.scatter(df2_reset.index, df2_reset['IPO_Price'])\n",
        "plt.xlabel('Index')\n",
        "plt.ylabel('IPO_Price')\n",
        "plt.title('Scatter Plot of Index vs. IPO_Price')\n",
        "plt.grid(True)\n",
        "plt.show()"
      ],
      "metadata": {
        "id": "JrnawX2KCvMx"
      },
      "execution_count": null,
      "outputs": []
    },
    {
      "cell_type": "markdown",
      "source": [
        "##3.2 Defining The Baseline Model\n",
        "---------------------------------------------------------\n",
        "The baseline model for this regression task would be the mean of the IPO_Prices which would be 17.63258. We then measure the metrics for the actual vs predicted results with the actual being the df2['IPO_Price'] Values and the predicted values being mean values of the IPO_Prices. The MSE,MAE,RMSE and MAPE are shown as below which are 84.45,6.40,9.19,0.45 respectively. For the machine learning model to prove its worth, it would have to be better results than the baseline model."
      ],
      "metadata": {
        "id": "Txg7y-9tnIV0"
      }
    },
    {
      "cell_type": "code",
      "execution_count": null,
      "metadata": {
        "id": "EHgxf1uo3763"
      },
      "outputs": [],
      "source": [
        "df2 = df2.reset_index(drop=True)\n",
        "features = df2[['Sector_encoded', 'Industry_encoded','Shares_Offered_encoded','Total_Revenue_encoded','Total_Asset_encoded']].values\n",
        "targets = df2['IPO_Price'].values\n",
        "x = torch.tensor(features, dtype=torch.float)\n",
        "y = torch.tensor(targets, dtype=torch.float)"
      ]
    },
    {
      "cell_type": "code",
      "source": [
        "from sklearn.metrics import mean_squared_error, mean_absolute_error, mean_absolute_percentage_error\n",
        "mean_IPO_Price = df2['IPO_Price'].mean()\n",
        "print(mean_IPO_Price)\n",
        "baseline_predictions = [mean_IPO_Price] * len(df2)\n",
        "print(baseline_predictions)\n",
        "actuals = df2['IPO_Price'].values\n",
        "predictions = baseline_predictions\n",
        "\n",
        "mse = mean_squared_error(actuals, predictions)\n",
        "mae = mean_absolute_error(actuals, predictions)\n",
        "rmse = mean_squared_error(actuals, predictions, squared=False)\n",
        "mape = mean_absolute_percentage_error(actuals, predictions)\n",
        "print(mse,mae,rmse,mape)"
      ],
      "metadata": {
        "id": "d4pYUooK56T1"
      },
      "execution_count": null,
      "outputs": []
    },
    {
      "cell_type": "markdown",
      "source": [
        "##3.3 Defining the train,test sets with edges\n",
        "-----------------------------------------------\n",
        "We first split the dataframe into sizes 0.8 and 0.2 for the training set and test set for the graph neural network to maintain a holdout set so that the test set is unseen to the model and would not recognize hidden patterns in the test set to check if the model is accurate in estimating the IPO_Price.\n",
        "\n",
        "The edges are defined by the indexes of the companies. For example, if company A is in the first position of the list, then it would be linked to the next company in the second position of the list so [0] -> [1] -> [2] and so on.\n",
        "\n"
      ],
      "metadata": {
        "id": "UUrn5sFPn687"
      }
    },
    {
      "cell_type": "code",
      "execution_count": null,
      "metadata": {
        "id": "pNQrrSNQ9yKM"
      },
      "outputs": [],
      "source": [
        "# Check tensors for NaN values\n",
        "print(\"NaN values in tensor x:\", torch.isnan(x).sum().item())\n",
        "print(\"NaN values in tensor y:\", torch.isnan(y).sum().item())\n",
        "print(x.size())\n",
        "print(y.size())\n",
        "\n",
        "train_df, test_df = train_test_split(df2, test_size=0.2, random_state=42)\n",
        "\n",
        "def df_to_pyg_data(dtf):\n",
        "    # Convert node features and target to torch tensors\n",
        "    x = torch.tensor(dtf[['Sector_encoded', 'Industry_encoded','Shares_Offered_encoded','Total_Revenue_encoded','Total_Asset_encoded']].values, dtype=torch.float)\n",
        "    y = torch.tensor(dtf['IPO_Price'].values, dtype=torch.long)\n",
        "\n",
        "    # Convert edges to torch tensor\n",
        "    edge_index = torch.tensor([[i, i+1] for i in range(len(dtf)-1)] + [[i+1, i] for i in range(len(dtf)-1)], dtype=torch.long).t().contiguous()\n",
        "\n",
        "    # Create PyTorch Geometric Data object\n",
        "    data = Data(x=x, edge_index=edge_index, y=y)\n",
        "    return data\n",
        "\n",
        "\n",
        "train_data = df_to_pyg_data(train_df)\n",
        "test_data = df_to_pyg_data(test_df)\n",
        "\n",
        "train_loader = DataLoader([train_data], batch_size=32, shuffle=True)\n",
        "test_loader = DataLoader([test_data], batch_size=32, shuffle=False)\n",
        "print(len(train_loader))\n",
        "print(len(test_loader))\n"
      ]
    },
    {
      "cell_type": "code",
      "source": [
        "def check_dataloader(loader):\n",
        "    for i, batch in enumerate(loader):\n",
        "        print(f\"Batch {i+1}\")\n",
        "        print(\"Number of nodes:\", batch.num_nodes)\n",
        "        print(\"Number of edges:\", batch.num_edges)\n",
        "        print(\"Node features shape:\", batch.x.shape)\n",
        "        print(\"Edge indices shape:\", batch.edge_index.shape)\n",
        "        print(\"Target labels shape:\", batch.y.shape)\n",
        "        print(\"Edge index tensor:\")\n",
        "        print(batch.edge_index)\n",
        "        print(\"Node features tensor:\")\n",
        "        print(batch.x)\n",
        "        print(\"Target labels tensor:\")\n",
        "        print(batch.y)\n",
        "        print(\"-\" * 40)\n",
        "        # Stop after checking one batch to avoid printing too much\n",
        "        break\n",
        "check_dataloader(test_loader)"
      ],
      "metadata": {
        "id": "pkp-XKtLBnMM"
      },
      "execution_count": null,
      "outputs": []
    },
    {
      "cell_type": "markdown",
      "source": [
        "##3.4 Initalizing the GNN Model\n",
        "-----------------------------------------------\n",
        "We then setup the basic GNN model to check if it does better than the baseline model with the pytorch library and since we want the output to be a float, we add a linear layer to it which converts the neurons into a single output which is seen below.\n"
      ],
      "metadata": {
        "id": "31P8yyu4o194"
      }
    },
    {
      "cell_type": "code",
      "execution_count": null,
      "metadata": {
        "id": "cfD1uaPc96OL"
      },
      "outputs": [],
      "source": [
        "#Define the GNN model\n",
        "class GNN(torch.nn.Module):\n",
        "    def __init__(self):\n",
        "        super(GNN, self).__init__()\n",
        "        ###convolutional layer 1 to extract richer features from the data\n",
        "        self.conv1 = GCNConv(in_channels=x.size(1), out_channels=16)\n",
        "        ### convolutional layer 2 further refining these features into a more compact form.\n",
        "        self.conv2 = GCNConv(in_channels=16, out_channels=8)\n",
        "        self.fc = torch.nn.Linear(8, 1)\n",
        "\n",
        "    def forward(self, data):\n",
        "        x, edge_index = data.x, data.edge_index\n",
        "        x = self.conv1(x, edge_index)\n",
        "        x = F.relu(x)\n",
        "        x = self.conv2(x, edge_index)\n",
        "        x = F.relu(x)\n",
        "        embeddings = x\n",
        "        x = self.fc(x)\n",
        "        return x"
      ]
    },
    {
      "cell_type": "markdown",
      "source": [
        "## 3.5 Training the Model\n",
        "-------------------------------\n",
        "The model are defined with a learning rate of 0.005 and we train it for 1000 epochs and finally we test the results to see if we have performed better than the baseline model by using the gnn model to test against the test set to see if there's better performance."
      ],
      "metadata": {
        "id": "VOqW_9EwqJwv"
      }
    },
    {
      "cell_type": "code",
      "execution_count": null,
      "metadata": {
        "id": "RGDihb_Z-F9j"
      },
      "outputs": [],
      "source": [
        "# Create data loader\n",
        "from torch_geometric.loader import DataLoader\n",
        "\n",
        "\n",
        "# Initialize the model, loss function, and optimizer\n",
        "model = GNN()\n",
        "criterion = torch.nn.L1Loss()\n",
        "optimizer = torch.optim.Adam(model.parameters(), lr=0.005)\n",
        "\n",
        "# Training loop with additional checks\n",
        "model.train()\n",
        "for epoch in range(1000):\n",
        "    for batch in train_loader:\n",
        "        optimizer.zero_grad()\n",
        "        out = model(batch)\n",
        "        loss = criterion(out, batch.y.view(-1, 1).float())\n",
        "        if torch.isnan(loss).sum() > 0:\n",
        "            print(\"NaN loss encountered at epoch:\", epoch)\n",
        "            break\n",
        "        loss.backward()\n",
        "        torch.nn.utils.clip_grad_norm_(model.parameters(), max_norm=1.0)\n",
        "        optimizer.step()\n",
        "    print(f'Epoch {epoch+1}, Loss: {loss.item()}')\n",
        "\n"
      ]
    },
    {
      "cell_type": "markdown",
      "source": [
        "## 3.6 Testing the Model\n",
        "----------------------------------\n",
        "The model shows a result of mean squared error of 91.0679, Mean Absolute Error of 6.5011 and Root Mean Squared Error of 9.5429 and Mean Absolute Percentage Error of 0.45% which shows that it is not performing better than the baseline model and we move on to developing the model further by adding in more layers of graph convolutional layer and checking if the results will improve in the next few sections."
      ],
      "metadata": {
        "id": "4lS0ynbXqEsD"
      }
    },
    {
      "cell_type": "code",
      "execution_count": null,
      "metadata": {
        "id": "5Fj2pIN2-I8i"
      },
      "outputs": [],
      "source": [
        "# Prediction\n",
        "model.eval()\n",
        "predictions = []\n",
        "with torch.no_grad():\n",
        "    for batch in test_loader:\n",
        "        out = model(batch)\n",
        "        predictions.extend(out.squeeze().cpu().numpy().tolist())\n",
        "\n",
        "print(f'Predicted valuations: {predictions}')\n",
        "\n",
        "# Evaluation\n",
        "from sklearn.metrics import mean_squared_error, mean_absolute_error, mean_absolute_percentage_error\n",
        "\n",
        "# Convert predictions and targets to numpy arrays for evaluation\n",
        "actuals = test_data.y.numpy()\n",
        "\n",
        "# Calculate evaluation metrics\n",
        "mse = mean_squared_error(actuals, predictions)\n",
        "mae = mean_absolute_error(actuals, predictions)\n",
        "rmse = mean_squared_error(actuals, predictions, squared=False)\n",
        "mape = mean_absolute_percentage_error(actuals, predictions)\n",
        "\n",
        "\n",
        "print(f'Mean Squared Error: {mse:.4f}')\n",
        "print(f'Mean Absolute Error: {mae:.4f}')\n",
        "print(f'Root Mean Squared Error (RMSE): {rmse:.4f}')\n",
        "print(f'Mean Absolute Percentage Error (MAPE): {mape:.2f}%')"
      ]
    },
    {
      "cell_type": "markdown",
      "source": [
        "#4 Implementation and Improving Of Models\n",
        "-----------------------------------------------\n",
        "For the training of the graph neural network (GNN) model, the loss function used will be the Mean Absolute Error (MAE), which measures the average absolute difference between the actual and predicted values. MAE is an important metric for evaluating model performance in regression tasks because it provides a straightforward measure of how well the model's predictions match the true values. By comparing the MAE of the GNN model to that of a baseline model, we can determine if the GNN model provides better predictive accuracy"
      ],
      "metadata": {
        "id": "zFDjgl-uq9ML"
      }
    },
    {
      "cell_type": "markdown",
      "source": [
        "##4.1 Improving the Edges and splitting the training set\n",
        "----------------------------------------------------\n",
        "We change the edges so that Companies are linked to each other by their sector and industry which we append edge index both ways which is seen from the example below to show the relation between the companies with the industry and sector:\n",
        "\n",
        "[0] -> [1] and [1]->[0]\n",
        "\n",
        "We also split the training set up into training set and validation set to validate the results of the training process and implement early stopping if required."
      ],
      "metadata": {
        "id": "I3ZBD6_BrGNn"
      }
    },
    {
      "cell_type": "code",
      "source": [
        "def df_to_pyg_data(df):\n",
        "    # Convert node features and target to torch tensors\n",
        "    x = torch.tensor(df[['Sector_encoded', 'Industry_encoded','Shares_Offered_encoded','Total_Revenue_encoded','Total_Asset_encoded']].values, dtype=torch.float)\n",
        "    y = torch.tensor(df['IPO_Price'].values, dtype=torch.float)\n",
        "    edge_index= []\n",
        "    industry_groups = df.groupby('Industry_encoded').groups\n",
        "    sector_groups = df.groupby('Sector_encoded').groups\n",
        "    for _, nodes in industry_groups.items():\n",
        "      nodes = list(nodes)\n",
        "      for i in range(len(nodes)):\n",
        "        for j in range(i + 1, len(nodes)):\n",
        "            edge_index.append((nodes[i], nodes[j]))\n",
        "            edge_index.append((nodes[j], nodes[i]))\n",
        "    for _, nodes in sector_groups.items():\n",
        "      nodes = list(nodes)\n",
        "      for i in range(len(nodes)):\n",
        "        for j in range(i + 1, len(nodes)):\n",
        "            edge_index.append((nodes[i], nodes[j]))\n",
        "            edge_index.append((nodes[j], nodes[i]))\n",
        "    # Convert edges to torch tensor\n",
        "    edge_index = torch.tensor(edge_index, dtype=torch.long).t().contiguous()\n",
        "\n",
        "    # Create PyTorch Geometric Data object\n",
        "    data = Data(x=x, edge_index=edge_index, y=y)\n",
        "    return data\n",
        "\n",
        "train_df,val_df = train_test_split(train_df, test_size=0.2, random_state=42)\n",
        "\n",
        "train_df = train_df.reset_index(drop=True)\n",
        "val_df = val_df.reset_index(drop=True)\n",
        "test_df = test_df.reset_index(drop=True)\n",
        "\n",
        "train_data = df_to_pyg_data(train_df)\n",
        "val_data = df_to_pyg_data(val_df)\n",
        "test_data = df_to_pyg_data(test_df)\n",
        "train_loader2 = DataLoader([train_data], batch_size=32, shuffle=True)\n",
        "val_loader2 = DataLoader([val_data],batch_size=32,shuffle=False)\n",
        "test_loader2 = DataLoader([test_data], batch_size=32, shuffle=False)\n"
      ],
      "metadata": {
        "id": "3EUDgKX8lQTO",
        "colab": {
          "base_uri": "https://localhost:8080/"
        },
        "outputId": "429e5f3a-9b71-4765-e842-82a8a507cf8f"
      },
      "execution_count": null,
      "outputs": [
        {
          "output_type": "stream",
          "name": "stderr",
          "text": [
            "/usr/local/lib/python3.10/dist-packages/torch_geometric/deprecation.py:26: UserWarning: 'data.DataLoader' is deprecated, use 'loader.DataLoader' instead\n",
            "  warnings.warn(out)\n"
          ]
        }
      ]
    },
    {
      "cell_type": "markdown",
      "source": [
        "## 4.2 Testing And Training the model defined in the prototype and Evaluating"
      ],
      "metadata": {
        "id": "uGZkML6CsJ9H"
      }
    },
    {
      "cell_type": "code",
      "source": [
        "\n",
        "# Initialize the model, loss function, and optimizer\n",
        "model_betterEdges = GNN()\n",
        "criterion = torch.nn.L1Loss()\n",
        "optimizer = torch.optim.Adam(model_betterEdges.parameters(), lr=0.005)\n",
        "\n",
        "# Early stopping parameters\n",
        "patience = 10  # Number of epochs to wait for improvement\n",
        "best_val_loss = float('inf')  # Initialize with a large value\n",
        "epochs_no_improve = 0  # Count of epochs since the last improvement\n",
        "\n",
        "\n",
        "# Training loop with additional checks\n",
        "model_betterEdges.train()\n",
        "for epoch in range(500):\n",
        "  train_loss = 0\n",
        "  for batch in train_loader2:\n",
        "      optimizer.zero_grad()\n",
        "      out = model_betterEdges(batch)\n",
        "      loss = criterion(out, batch.y.view(-1, 1).float())\n",
        "      if torch.isnan(loss).sum() > 0:\n",
        "          print(\"NaN loss encountered at epoch:\", epoch)\n",
        "          break\n",
        "      loss.backward()\n",
        "      torch.nn.utils.clip_grad_norm_(model_betterEdges.parameters(), max_norm=1.0)\n",
        "      optimizer.step()\n",
        "      train_loss += loss.item() * batch.num_graphs\n",
        "  train_loss /= len(train_loader2.dataset)\n",
        "  print(f'Epoch {epoch+1}, Loss: {loss.item()}')\n",
        "\n",
        "  model_betterEdges.eval()  # Set the model to evaluation mode\n",
        "  val_loss = 0  # Initialize validation loss\n",
        "\n",
        "  with torch.no_grad():  # No gradient computation\n",
        "      for batch in val_loader2:\n",
        "          out = model_betterEdges(batch)  # Forward pass\n",
        "          loss = criterion(out, batch.y.view(-1, 1).float())  # Compute loss\n",
        "          val_loss += loss.item() * batch.num_graphs  # Accumulate validation loss\n",
        "\n",
        "  val_loss /= len(val_loader2.dataset)  # Average validation loss\n",
        "  print(f'Epoch {epoch+1}, Validation Loss: {val_loss:.4f}')\n",
        "\n",
        "  # Early stopping check\n",
        "  if val_loss < best_val_loss:\n",
        "      best_val_loss = val_loss\n",
        "      epochs_no_improve = 0\n",
        "      # Save the best model\n",
        "      torch.save(model_betterEdges.state_dict(), 'best_model.pt')\n",
        "  else:\n",
        "      epochs_no_improve += 1\n",
        "\n",
        "    # Check if early stopping criterion is met\n",
        "  if epochs_no_improve >= patience:\n",
        "      print(f'Early stopping triggered after {epoch+1} epochs')\n",
        "      break\n",
        "\n",
        "    # Set the model back to training mode for the next epoch\n",
        "  model_betterEdges.train()"
      ],
      "metadata": {
        "id": "7iuxggJslWzX"
      },
      "execution_count": null,
      "outputs": []
    },
    {
      "cell_type": "code",
      "source": [
        "# Prediction\n",
        "model_betterEdges.eval()\n",
        "predictions = []\n",
        "with torch.no_grad():\n",
        "    for batch in test_loader2:\n",
        "        out = model_betterEdges(batch)\n",
        "        predictions.extend(out.squeeze().cpu().numpy().tolist())\n",
        "\n",
        "print(f'Predicted valuations: {predictions}')\n",
        "\n",
        "# Evaluation\n",
        "from sklearn.metrics import mean_squared_error, mean_absolute_error, mean_absolute_percentage_error\n",
        "\n",
        "# Convert predictions and targets to numpy arrays for evaluation\n",
        "actuals = test_data.y.numpy()\n",
        "\n",
        "# Calculate evaluation metrics\n",
        "mse = mean_squared_error(actuals, predictions)\n",
        "mae = mean_absolute_error(actuals, predictions)\n",
        "rmse = mean_squared_error(actuals, predictions, squared=False)\n",
        "mape = mean_absolute_percentage_error(actuals, predictions)\n",
        "\n",
        "\n",
        "print(f'Mean Squared Error: {mse:.4f}')\n",
        "print(f'Mean Absolute Error: {mae:.4f}')\n",
        "print(f'Root Mean Squared Error (RMSE): {rmse:.4f}')\n",
        "print(f'Mean Absolute Percentage Error (MAPE): {mape:.2f}%')"
      ],
      "metadata": {
        "colab": {
          "base_uri": "https://localhost:8080/"
        },
        "id": "C1tXoIrjFds0",
        "outputId": "b76b054d-6cd4-499f-cce5-b50174e56b17"
      },
      "execution_count": null,
      "outputs": [
        {
          "output_type": "stream",
          "name": "stdout",
          "text": [
            "Predicted valuations: [16.25867462158203, 16.25867462158203, 14.796052932739258, 16.258676528930664, 9.213789939880371, 16.25867462158203, 14.796051025390625, 10.842289924621582, 14.449151992797852, 9.213791847229004, 14.796051025390625, 9.213028907775879, 9.213458061218262, 16.25867462158203, 12.710153579711914, 12.70976734161377, 16.258678436279297, 16.258668899536133, 16.25867462158203, 16.25867462158203, 10.84345817565918, 14.796051025390625, 10.84274673461914, 16.2586669921875, 16.2586727142334, 15.980449676513672, 16.25868034362793, 10.842220306396484, 16.25867462158203, 16.258676528930664, 16.2586727142334, 20.219566345214844, 16.25867462158203, 14.796051025390625, 9.21303939819336, 10.842571258544922, 14.796049118041992, 14.796051025390625, 14.44913101196289, 16.258670806884766, 16.258676528930664, 14.796049118041992, 14.796051025390625, 12.70643138885498, 14.449248313903809, 14.796051025390625, 14.796051025390625, 16.258676528930664, 14.796046257019043, 16.258676528930664, 10.846891403198242, 14.449068069458008, 14.449180603027344, 14.449244499206543, 10.846936225891113, 9.535701751708984, 16.827228546142578, 14.448872566223145, 10.841551780700684, 16.258682250976562, 20.21961212158203, 16.25867462158203, 14.796051025390625, 10.842103004455566, 16.25867462158203, 16.25867462158203, 14.796051025390625, 14.796051025390625, 16.25867462158203, 12.710227012634277, 16.258678436279297, 16.258686065673828, 16.258663177490234, 9.213067054748535, 16.25867462158203, 14.796051025390625, 16.258676528930664, 9.21261215209961, 10.841996192932129, 16.258678436279297, 9.533047676086426, 16.25867462158203, 16.827186584472656, 16.258676528930664, 8.529398918151855, 16.258670806884766, 14.796051025390625, 9.534110069274902, 9.212555885314941, 16.258676528930664, 10.842735290527344, 16.25867462158203, 14.449100494384766, 16.258676528930664, 14.449163436889648, 14.796051025390625, 14.79605484008789, 16.25867462158203, 16.25867462158203, 16.25867462158203, 16.258670806884766, 14.796051025390625, 14.796051025390625, 14.796051025390625, 16.25865936279297, 14.796051025390625, 10.843551635742188, 16.25867462158203, 14.796046257019043, 15.980780601501465, 9.535662651062012, 14.796049118041992, 16.2586669921875, 14.796051025390625, 14.796052932739258, 16.258678436279297, 14.449142456054688, 14.796052932739258, 14.796051025390625, 16.258676528930664, 9.213034629821777, 16.25867462158203, 16.827190399169922, 16.258676528930664, 16.258676528930664, 16.82794952392578, 6.335049629211426, 16.258684158325195, 14.796051025390625, 15.981085777282715, 16.258676528930664, 14.796051025390625, 14.796051025390625, 16.258676528930664, 16.2586612701416, 14.796052932739258, 9.213748931884766, 14.79604721069336, 14.796051025390625, 16.258676528930664, 14.796051025390625, 14.449240684509277, 16.258676528930664, 14.796051025390625, 16.25865936279297, 16.258682250976562, 14.796051025390625, 16.258676528930664, 16.827653884887695, 14.448919296264648, 14.449148178100586, 16.258676528930664, 10.841540336608887, 16.827251434326172, 14.448928833007812, 16.258676528930664, 14.796051025390625, 16.258670806884766, 15.980655670166016, 16.258678436279297, 16.82793617248535, 14.796052932739258, 16.2586727142334, 16.258676528930664, 16.258676528930664, 14.449224472045898, 14.796051025390625, 9.5330171585083, 9.534676551818848, 14.796052932739258, 16.258676528930664, 16.258663177490234, 14.796051025390625, 14.796049118041992, 16.2586727142334, 16.25867462158203, 16.258676528930664, 16.258676528930664, 14.796052932739258, 14.44891357421875, 16.25865936279297, 14.796051025390625, 14.796051025390625, 16.25868034362793, 10.846900939941406, 14.449172973632812, 16.25867462158203, 14.796052932739258, 14.796051025390625, 14.449054718017578, 16.25867462158203, 16.25867462158203, 14.79605484008789, 16.2586669921875, 14.796051025390625, 9.21259593963623, 14.796051025390625, 9.535698890686035, 16.258676528930664, 16.827281951904297, 20.219676971435547, 14.448927879333496, 16.258676528930664, 15.980413436889648, 10.841547966003418, 14.796049118041992, 14.796051025390625, 14.796051025390625, 10.841995239257812, 14.449210166931152, 14.796051025390625, 14.796051025390625, 14.796051025390625, 14.796051025390625, 14.448979377746582, 16.258676528930664, 16.25867462158203, 14.796052932739258, 16.82720184326172, 14.796051025390625, 10.84152603149414, 19.593738555908203, 14.796051025390625, 9.213822364807129, 14.796049118041992, 9.534662246704102, 14.796049118041992, 14.448874473571777, 14.449056625366211, 10.842751502990723, 14.796051025390625, 16.25867462158203, 14.796052932739258, 16.258676528930664, 16.25865936279297, 14.79604721069336, 14.448908805847168, 10.842238426208496, 14.796051025390625, 14.796051025390625, 12.710142135620117, 16.258663177490234, 20.612667083740234, 9.534111022949219, 16.2586612701416, 14.796051025390625, 16.258663177490234, 16.828224182128906, 14.796051025390625, 14.796052932739258, 14.796051025390625, 16.258676528930664, 16.258676528930664, 14.796051025390625, 14.796052932739258, 16.25867462158203, 14.796052932739258, 16.25867462158203, 16.8271541595459, 14.796051025390625, 16.258676528930664, 16.258676528930664, 14.796051025390625, 16.25867462158203, 16.258665084838867, 16.258665084838867, 16.258686065673828, 14.449121475219727, 14.796051025390625, 10.842206954956055, 12.706557273864746, 14.796051025390625, 16.82769012451172, 16.258663177490234, 16.25867462158203, 10.844581604003906, 16.258676528930664, 14.796051025390625, 12.706474304199219, 14.796051025390625, 20.219467163085938, 10.844642639160156, 16.25867462158203, 9.213770866394043, 14.796051025390625, 16.82711410522461, 16.258676528930664, 14.796051025390625, 14.796051025390625, 16.2586612701416, 14.449095726013184, 16.25867462158203, 14.796048164367676, 16.258676528930664, 16.258676528930664, 14.796051025390625, 14.796049118041992, 16.2586612701416, 14.449066162109375, 14.796051025390625, 14.796049118041992, 10.842212677001953, 9.534435272216797, 14.796052932739258, 14.79604721069336, 16.25867462158203, 16.258670806884766, 16.258676528930664, 14.796049118041992, 14.796051025390625, 14.449197769165039, 9.533073425292969, 14.796051025390625, 14.449159622192383, 16.258676528930664, 16.2586612701416, 16.2586669921875, 14.796051025390625, 16.25867462158203, 16.25867462158203, 14.796051025390625, 14.796049118041992, 14.796051025390625, 14.448963165283203, 14.796051025390625, 14.796049118041992, 16.25867462158203, 14.796051025390625, 14.796051025390625, 16.258676528930664, 16.25867462158203, 10.842002868652344, 10.84689998626709, 14.796051025390625, 16.82718849182129, 14.796052932739258, 14.796051025390625, 10.841556549072266, 14.796051025390625, 16.258676528930664, 10.844671249389648, 14.796052932739258, 10.841538429260254, 9.212522506713867, 14.796050071716309, 16.82720947265625, 14.796052932739258, 9.21346664428711, 10.842558860778809, 14.796051025390625, 16.258676528930664, 14.796051025390625, 14.796051025390625, 12.711798667907715, 16.82763671875, 16.258665084838867, 16.25867462158203, 16.258686065673828, 14.796051025390625, 16.25867462158203, 16.258668899536133, 14.796051025390625, 14.449031829833984, 16.25867462158203, 14.796051025390625, 14.796049118041992, 14.796051025390625, 10.841854095458984, 14.796052932739258, 14.796049118041992, 14.796051025390625, 16.258663177490234, 14.796051025390625, 16.25867462158203, 14.796051025390625, 16.258682250976562, 14.79604721069336, 14.796049118041992, 12.711893081665039, 14.796051025390625, 14.796052932739258, 16.25867462158203, 16.258678436279297, 16.82722282409668, 16.258678436279297, 14.796051025390625, 16.2586669921875, 14.796051025390625, 14.796051025390625, 14.449108123779297, 9.534112930297852, 16.258682250976562, 16.258676528930664, 16.258676528930664, 14.796052932739258, 14.79605484008789, 10.867094039916992, 14.449161529541016, 14.448925018310547, 16.258676528930664, 14.796051025390625, 14.796051025390625, 10.841526985168457, 14.796051025390625, 14.449136734008789, 14.79604721069336, 14.796052932739258, 16.25867462158203, 14.796051025390625, 9.534111976623535, 14.796051025390625, 9.212509155273438, 14.796051025390625, 16.25867462158203, 10.841529846191406, 16.25868034362793, 14.796052932739258, 12.706456184387207, 16.258651733398438, 10.842205047607422, 15.981038093566895, 14.796049118041992, 9.534676551818848, 9.534235000610352, 14.796049118041992, 14.796051025390625, 14.449256896972656, 16.25868034362793, 14.796051025390625, 16.2586669921875, 16.25867462158203, 14.796049118041992, 14.796049118041992, 11.854860305786133, 14.796052932739258, 16.258676528930664, 9.535663604736328, 14.796051025390625, 16.25867462158203, 10.842737197875977, 16.258676528930664, 14.79604721069336, 14.449176788330078, 14.796051025390625, 14.449224472045898, 16.25868034362793, 14.796051025390625, 14.449188232421875, 16.258678436279297, 10.841538429260254, 14.449097633361816, 14.796051025390625, 14.796049118041992, 16.258676528930664, 14.796060562133789, 9.213062286376953, 16.258676528930664, 10.8427734375, 16.258670806884766, 20.2195987701416, 16.25867462158203, 16.258676528930664, 14.796051025390625, 16.258678436279297, 14.79604721069336, 14.796050071716309, 16.25868034362793, 16.258678436279297, 9.53289794921875, 16.828163146972656, 16.25867462158203, 17.708606719970703, 16.25867462158203, 16.258676528930664, 16.25868034362793, 16.2586612701416, 14.79605484008789, 10.841686248779297, 14.796052932739258, 10.841517448425293, 16.258665084838867, 16.2586612701416, 16.2586669921875, 9.21320629119873, 9.21382999420166, 10.842259407043457, 20.219898223876953, 15.980562210083008, 14.796051025390625, 9.534663200378418, 16.2586612701416, 16.2586612701416, 14.796048164367676, 16.258670806884766, 16.258676528930664, 16.25867462158203, 14.796051025390625, 14.796052932739258, 20.219602584838867, 20.218082427978516, 14.796048164367676, 10.95228385925293, 10.842235565185547, 9.213677406311035, 14.796052932739258, 16.25867462158203, 14.79604721069336, 16.82765007019043, 9.532637596130371, 16.25868034362793, 16.258676528930664, 16.25867462158203, 14.796052932739258, 14.796052932739258, 16.258682250976562, 16.25867462158203, 14.796051025390625, 14.796051025390625, 16.25867462158203, 14.79605484008789, 14.449220657348633, 14.796051025390625, 16.25867462158203, 9.535685539245605, 16.25867462158203, 10.841707229614258, 16.258676528930664, 9.533849716186523, 14.796051025390625, 14.796052932739258, 10.841692924499512, 16.82721710205078, 14.796052932739258, 14.796051025390625, 14.796051025390625, 16.258678436279297, 16.258665084838867, 14.796051025390625, 14.448902130126953, 14.796051025390625, 14.449077606201172, 20.219802856445312, 14.796052932739258, 14.448919296264648, 14.449252128601074, 14.796049118041992, 16.25867462158203, 14.796051025390625, 14.449119567871094, 14.796052932739258, 10.843511581420898, 14.796051025390625, 16.25867462158203, 16.25867462158203, 10.842340469360352, 16.25867462158203, 16.258676528930664, 16.258663177490234, 16.2586727142334, 10.841737747192383, 14.796049118041992, 16.258682250976562, 10.844755172729492, 16.258676528930664, 16.258676528930664, 9.213064193725586, 16.258676528930664, 16.258678436279297, 14.796051025390625, 9.537983894348145, 16.258676528930664, 16.25867462158203, 14.44913101196289, 15.980692863464355, 14.796049118041992, 14.449119567871094, 14.796052932739258, 16.25867462158203, 14.449091911315918, 16.258686065673828, 16.25868034362793, 14.796049118041992, 16.25867462158203, 14.79604721069336, 16.258676528930664, 16.258676528930664, 14.796049118041992, 14.796051025390625, 14.796056747436523, 10.841876983642578, 16.2586669921875, 16.258676528930664, 16.2586612701416, 14.796051025390625, 11.284308433532715, 16.258676528930664, 16.258686065673828, 14.796052932739258, 16.2586612701416, 14.796046257019043, 14.796049118041992, 14.796051025390625, 12.707967758178711, 16.828142166137695, 9.534757614135742, 14.79604721069336, 16.258670806884766, 14.796051025390625, 16.25868034362793, 10.841922760009766, 14.796049118041992, 14.796051025390625, 14.796051025390625, 14.796051025390625, 14.449015617370605, 10.841527938842773, 14.796051025390625, 14.796051025390625, 16.258663177490234, 14.796051025390625, 16.258678436279297, 9.536293029785156, 9.213255882263184, 14.79604721069336, 10.841583251953125, 14.449210166931152, 14.796051025390625, 16.25868034362793, 12.71047592163086, 16.258670806884766, 10.841527938842773, 14.796051025390625, 9.212991714477539, 14.796051025390625, 14.448988914489746, 14.449201583862305, 12.710687637329102, 14.796052932739258, 12.70619010925293, 16.2586669921875, 16.258686065673828, 14.79604721069336, 9.21249771118164, 14.448904037475586, 16.25868034362793, 16.827224731445312, 14.44911003112793, 16.258665084838867, 16.258663177490234, 10.842702865600586, 16.25867462158203, 14.796052932739258, 9.214423179626465, 16.258676528930664, 16.258686065673828, 10.841545104980469, 14.79605484008789, 14.796052932739258, 14.796051025390625, 14.44892406463623, 14.796052932739258, 14.796051025390625, 14.796052932739258, 14.796051025390625, 14.448908805847168, 16.25867462158203, 12.710126876831055, 16.2586669921875, 14.796051025390625, 15.981081008911133, 14.796051025390625, 14.796051025390625, 16.258663177490234, 16.258676528930664, 16.25867462158203, 16.258676528930664, 14.796052932739258, 16.258678436279297, 14.796053886413574, 14.796051025390625, 16.258676528930664, 14.796051025390625, 16.258676528930664, 16.258678436279297, 14.796051025390625, 16.258663177490234, 14.796052932739258, 14.796049118041992, 14.796051025390625, 10.842742919921875, 14.796051025390625, 14.796052932739258, 20.219337463378906, 14.449101448059082, 16.258676528930664, 14.796051025390625, 21.84726905822754, 16.2586669921875, 12.708357810974121, 15.980266571044922, 14.796051025390625, 9.213770866394043, 16.25867462158203, 16.82720375061035, 14.796052932739258, 16.25867462158203, 16.258676528930664, 16.258663177490234, 14.796049118041992, 14.449178695678711, 16.25867462158203, 14.796049118041992, 12.711780548095703, 14.796051025390625, 10.842338562011719, 14.796052932739258, 14.796046257019043, 14.79605484008789, 16.258676528930664, 16.82724952697754, 16.258676528930664, 14.796051025390625, 14.796049118041992, 14.796051025390625, 9.53382396697998, 14.796052932739258, 14.796051025390625, 14.796051025390625, 14.796048164367676, 16.827190399169922, 9.212547302246094, 10.842011451721191, 14.796051025390625, 16.25867462158203, 16.258676528930664, 16.258686065673828, 16.258676528930664, 14.79604721069336, 14.449183464050293, 16.258676528930664, 16.258676528930664, 9.213773727416992, 16.258670806884766, 15.98076343536377, 14.796051025390625, 16.2586612701416, 16.258676528930664, 16.258676528930664, 9.212543487548828, 16.258678436279297, 12.707025527954102, 14.796051025390625, 9.213058471679688, 14.796051025390625, 16.258676528930664, 14.796051025390625, 16.2586612701416, 9.212543487548828, 14.796051979064941, 14.796052932739258, 20.219566345214844, 10.842201232910156, 14.796052932739258, 16.258682250976562, 9.53272533416748, 14.796049118041992, 15.980032920837402, 16.25867462158203, 16.258665084838867, 16.2586612701416, 16.258670806884766, 9.21394157409668, 14.796052932739258, 16.258676528930664, 14.796052932739258, 12.710206031799316, 16.258676528930664, 14.449000358581543, 16.258686065673828, 16.2586612701416, 14.796051025390625, 14.79604721069336, 14.796052932739258, 16.25867462158203, 14.796051025390625, 14.449258804321289, 14.796051025390625, 10.843256950378418, 16.25867462158203, 20.21976661682129, 9.212884902954102, 16.25867462158203, 16.25865936279297, 16.25867462158203, 14.796051025390625, 16.2586669921875, 14.79605484008789, 14.796052932739258, 14.449202537536621, 9.533833503723145, 14.796052932739258, 14.449094772338867, 16.2586612701416, 14.796051025390625, 14.796052932739258, 14.796052932739258, 9.213667869567871, 14.796052932739258, 14.449217796325684, 16.25867462158203, 14.796051025390625, 14.796046257019043, 16.25867462158203, 14.796051025390625, 16.25867462158203, 14.796052932739258, 14.79604721069336, 16.25867462158203, 10.842206954956055, 16.258678436279297, 14.796051025390625, 16.2586727142334, 11.136162757873535, 9.5341157913208, 9.213627815246582, 14.449163436889648, 14.796051025390625, 10.842246055603027, 14.796052932739258, 14.448941230773926, 16.258670806884766, 16.25867462158203, 14.796052932739258, 16.2586612701416, 26.570724487304688, 19.491806030273438, 16.258676528930664, 14.796052932739258, 16.258663177490234, 16.25867462158203, 14.449246406555176, 12.713653564453125, 16.2586612701416, 15.980859756469727, 16.258676528930664, 16.2586669921875, 14.796052932739258, 14.79605484008789, 14.796052932739258, 16.25867462158203, 16.258676528930664, 14.796048164367676, 16.258676528930664, 16.258676528930664, 14.449173927307129, 16.25867462158203, 16.25867462158203, 14.796049118041992, 10.842756271362305, 16.2586612701416, 14.796051025390625, 14.796052932739258, 14.449228286743164, 16.258668899536133, 16.258686065673828, 16.2586612701416, 14.796052932739258, 14.796051025390625, 14.796049118041992, 16.258668899536133, 14.796052932739258, 10.843461036682129, 16.2586612701416, 16.258663177490234, 14.796049118041992, 14.796051025390625, 16.258684158325195, 14.796051025390625, 16.258668899536133, 14.449201583862305, 16.258668899536133, 9.213953018188477, 14.449127197265625, 16.25867462158203, 16.258657455444336, 16.2586669921875, 14.796052932739258, 16.82720184326172, 14.796056747436523, 14.796052932739258, 14.79605484008789, 16.827228546142578, 16.258668899536133, 14.79605484008789, 14.449118614196777, 16.25867462158203, 16.258665084838867, 14.796049118041992, 14.448921203613281, 14.449051856994629, 16.82723045349121, 16.827190399169922, 16.25867462158203, 16.258676528930664, 10.844618797302246, 10.844664573669434, 16.2586612701416, 14.796052932739258, 16.25867462158203, 14.796052932739258, 14.796052932739258, 17.021718978881836, 14.449077606201172, 16.258676528930664, 16.258670806884766, 14.44922161102295, 14.449076652526855, 16.25867462158203, 14.79605484008789, 16.2586612701416, 16.25867462158203, 16.2586612701416, 16.258676528930664, 14.796049118041992, 14.796051025390625, 16.25867462158203, 14.796049118041992, 10.843506813049316, 10.84151840209961, 14.449275970458984, 16.258676528930664, 14.79605484008789, 16.258676528930664, 16.258676528930664, 14.79604721069336, 16.2586612701416, 10.843390464782715, 12.706985473632812, 16.25867462158203, 16.25868034362793, 9.534664154052734, 15.980607986450195, 10.842569351196289, 16.25867462158203, 14.796052932739258, 14.796052932739258, 16.258676528930664, 16.258678436279297, 16.258665084838867, 16.258665084838867, 16.258665084838867, 14.796051025390625, 9.213247299194336, 16.258676528930664, 14.796049118041992, 9.213738441467285, 14.79605484008789, 14.796052932739258, 16.25867462158203, 14.796052932739258, 10.842788696289062, 14.796049118041992, 14.796052932739258, 16.25867462158203, 14.44902229309082, 9.535713195800781, 16.2586612701416, 14.796049118041992, 14.796049118041992, 14.449348449707031, 14.796051025390625, 16.25867462158203, 12.70643138885498, 16.258686065673828, 14.449070930480957, 14.44892692565918, 14.449052810668945, 16.2586612701416, 16.82724952697754, 16.2586612701416, 14.79605484008789, 9.214119911193848, 10.846846580505371, 16.258670806884766, 14.449213027954102, 15.981064796447754, 14.796052932739258, 14.449056625366211, 14.796052932739258, 14.44917106628418, 14.796049118041992, 14.79605484008789, 14.796052932739258, 9.213050842285156, 16.25867462158203, 16.258655548095703, 20.219818115234375, 16.258678436279297, 16.2586612701416, 12.710227966308594, 16.258676528930664, 16.827253341674805, 16.258676528930664, 14.796052932739258, 16.82765769958496, 14.448943138122559, 15.980972290039062, 14.448989868164062, 16.258676528930664, 14.796052932739258, 16.827913284301758, 14.44918155670166, 16.25867462158203, 14.79605484008789, 14.796052932739258, 14.44929313659668, 16.2586612701416, 14.79605484008789, 16.25867462158203, 16.258676528930664, 16.258663177490234, 16.258676528930664, 9.21368408203125, 16.25867462158203, 11.101669311523438, 14.79605484008789, 9.213506698608398, 16.25867462158203, 14.79605484008789, 16.25867462158203, 16.828174591064453, 16.258676528930664, 16.258676528930664, 14.796049118041992, 16.258663177490234, 14.796051025390625, 14.79605484008789, 14.449183464050293, 16.258668899536133, 16.258676528930664, 14.448999404907227, 14.79605484008789, 14.796052932739258, 10.846952438354492, 9.212648391723633, 14.796052932739258, 14.796052932739258, 14.796052932739258, 16.258676528930664, 14.796052932739258, 14.79605484008789, 14.796052932739258, 14.449077606201172, 14.796049118041992, 14.796048164367676, 9.213531494140625, 16.25867462158203, 10.841657638549805, 14.796052932739258, 16.25867462158203, 16.258665084838867, 10.846752166748047, 14.449214935302734, 14.79605484008789, 14.796052932739258, 14.796052932739258, 10.844615936279297, 9.535144805908203, 16.258670806884766, 14.796051025390625, 16.25867462158203, 14.79605484008789, 14.796052932739258, 14.796051025390625, 14.448942184448242, 14.796052932739258, 16.258663177490234, 14.796052932739258, 16.258676528930664, 16.827245712280273, 16.258665084838867, 9.212677955627441, 16.2586669921875, 14.796052932739258, 16.25867462158203, 14.449228286743164, 16.258678436279297, 14.796052932739258, 14.796051025390625, 14.449191093444824, 14.796052932739258, 12.71023178100586, 16.2586612701416, 16.258663177490234, 9.213738441467285, 14.796052932739258, 9.212817192077637, 14.796051025390625, 14.449048042297363, 9.534022331237793, 10.842252731323242, 14.796052932739258, 14.796052932739258, 14.796052932739258, 16.258676528930664, 14.449076652526855, 14.79605484008789, 14.796052932739258, 14.79605484008789, 14.796052932739258, 14.796052932739258, 14.449118614196777, 20.21949005126953, 14.796052932739258, 14.796052932739258, 10.842744827270508, 14.796052932739258, 16.258676528930664, 16.25865936279297, 16.25867462158203, 14.796051025390625, 20.219505310058594, 9.21251106262207, 20.219709396362305, 16.258676528930664, 16.25867462158203, 10.841544151306152, 15.981164932250977, 14.796052932739258, 9.21377944946289, 16.25867462158203, 14.796052932739258, 16.25867462158203, 14.796049118041992, 16.827167510986328, 16.2586612701416, 14.796052932739258, 14.796052932739258, 14.796049118041992, 16.258676528930664, 16.258676528930664, 20.219614028930664, 14.796052932739258, 14.796052932739258, 14.79605484008789, 16.258676528930664, 16.25867462158203, 14.796052932739258, 14.796052932739258, 14.79605484008789, 14.796052932739258, 16.258676528930664, 16.25867462158203, 16.25867462158203, 14.449115753173828, 9.21304702758789, 16.258663177490234, 9.213834762573242, 14.796052932739258, 16.2586669921875, 14.448993682861328, 14.796052932739258, 16.258678436279297, 20.219635009765625, 9.213846206665039, 16.258686065673828, 16.25867462158203, 9.213284492492676, 10.843439102172852, 9.213749885559082, 14.449281692504883, 14.79605484008789, 14.796052932739258, 14.796052932739258, 9.535693168640137, 14.796052932739258, 10.842212677001953, 9.213907241821289, 14.79605484008789, 14.449182510375977, 10.841543197631836, 16.25868034362793, 14.448958396911621, 16.258678436279297, 16.258663177490234, 16.258678436279297, 16.25867462158203, 16.258676528930664, 16.82721710205078, 14.449288368225098, 16.2586612701416, 14.796052932739258, 14.44912338256836, 10.841538429260254, 14.796052932739258, 16.2586669921875, 14.796049118041992, 14.796051025390625, 14.796051025390625, 14.796051025390625, 14.449193954467773, 9.533135414123535, 9.212890625, 14.796052932739258, 12.708658218383789, 16.2586612701416, 14.449068069458008, 14.79604721069336, 10.844579696655273, 14.796052932739258, 15.980710983276367, 9.213661193847656, 14.796052932739258, 16.25868034362793, 16.258678436279297, 14.796049118041992, 14.449078559875488, 14.44920825958252, 16.258686065673828, 14.796052932739258, 14.796052932739258, 14.79605484008789, 16.25867462158203, 14.79605484008789, 16.258678436279297, 10.841999053955078, 14.449024200439453, 16.258676528930664, 16.258676528930664, 16.258676528930664, 16.25867462158203, 16.258676528930664, 16.258676528930664, 14.796052932739258, 10.841971397399902, 16.25867462158203, 10.842795372009277, 10.842742919921875, 14.796052932739258, 14.449202537536621, 10.842243194580078, 16.25867462158203, 9.534586906433105, 20.541122436523438, 9.534113883972168, 9.212584495544434, 10.842742919921875, 14.44925308227539, 14.449101448059082, 14.449030876159668, 16.2586612701416, 14.796052932739258, 16.258676528930664, 16.25867462158203, 10.841705322265625, 16.258676528930664, 14.796051025390625, 14.448883056640625, 16.258670806884766, 16.828250885009766, 14.796052932739258, 14.79605484008789, 14.449297904968262, 16.258678436279297, 16.258676528930664, 14.796052932739258, 14.796052932739258, 16.2586669921875, 14.449047088623047, 16.258676528930664, 14.449247360229492, 16.258678436279297, 16.258676528930664, 12.706954002380371, 16.2586612701416, 10.12579345703125, 16.25867462158203, 14.449281692504883, 16.25865936279297, 20.219594955444336, 10.842795372009277, 14.796052932739258, 14.796052932739258, 16.25867462158203, 16.258676528930664, 16.258676528930664, 16.25867462158203, 14.79605484008789, 16.82767677307129, 16.2586727142334, 14.796052932739258, 16.258682250976562, 14.448997497558594, 20.21976089477539, 9.213691711425781, 16.258676528930664, 9.213895797729492, 14.796052932739258, 14.448877334594727, 16.258676528930664, 14.796052932739258, 14.796052932739258, 16.258678436279297, 16.827659606933594, 14.796052932739258, 16.258686065673828, 16.258676528930664, 14.449185371398926, 16.25867462158203, 9.213762283325195, 10.842266082763672, 14.44922161102295, 9.212918281555176, 16.258665084838867, 16.258665084838867, 12.706443786621094, 14.79605484008789, 14.796052932739258, 14.796052932739258, 16.258676528930664, 16.258676528930664, 10.844560623168945, 10.842733383178711, 10.841550827026367, 16.25867462158203, 16.2586727142334, 16.258663177490234, 14.796052932739258, 16.82716178894043, 16.827241897583008, 16.25867462158203, 12.711700439453125, 14.796051025390625, 14.796049118041992, 14.796052932739258, 15.980515480041504, 10.84272575378418, 14.79605484008789, 16.258665084838867, 16.2586727142334, 16.25867462158203, 16.827211380004883, 10.843426704406738, 10.950514793395996, 14.448890686035156, 16.25867462158203, 14.79605484008789, 14.449131965637207, 14.79605484008789, 16.25867462158203, 14.796052932739258, 10.841958045959473, 14.796052932739258, 14.79605484008789, 14.449146270751953, 16.25867462158203, 14.79605484008789, 16.258663177490234, 33.04882049560547, 16.827211380004883, 14.796052932739258, 10.842236518859863, 14.796052932739258, 14.796052932739258, 16.25867462158203, 16.25867462158203, 14.796049118041992, 14.796052932739258, 10.842266082763672, 16.258676528930664, 16.25867462158203, 16.258676528930664, 16.258665084838867, 9.212478637695312, 14.796052932739258, 14.449183464050293, 14.449357986450195, 14.796052932739258, 14.449254989624023, 16.258676528930664, 9.213785171508789, 16.258676528930664, 16.258676528930664, 14.448919296264648, 16.25867462158203, 9.212518692016602, 16.258676528930664, 14.796052932739258, 14.796052932739258, 16.2586727142334, 16.258668899536133, 14.796049118041992, 9.533050537109375, 16.25868034362793, 16.258676528930664, 10.870433807373047, 9.213069915771484, 15.98060417175293, 14.796052932739258, 14.449178695678711, 14.449106216430664, 12.708883285522461, 16.2586612701416, 14.796052932739258, 14.796051025390625, 16.258676528930664, 16.2586612701416, 16.25867462158203, 9.213981628417969, 14.796051025390625, 14.796052932739258, 16.258663177490234, 12.706953048706055, 16.25867462158203, 14.796052932739258, 16.258676528930664, 14.79605484008789, 14.79604721069336, 14.79605484008789, 16.25867462158203, 16.258676528930664, 14.79605484008789]\n",
            "Mean Squared Error: 103.6929\n",
            "Mean Absolute Error: 6.4931\n",
            "Root Mean Squared Error (RMSE): 10.1830\n",
            "Mean Absolute Percentage Error (MAPE): 0.38%\n"
          ]
        }
      ]
    },
    {
      "cell_type": "markdown",
      "source": [
        "###4.2.1 Evaluation Of Model With Better Edges\n",
        "-----------------------------------------\n",
        "The Mean Squared Error has downgraded from 91.0679 to 103.6929,\n",
        "\n",
        "The mean absolute error improved from 6.5011 to 6.4931,\n",
        "\n",
        "The Root Mean Squared Error improved from 10.1830 to 9.5429,\n",
        "\n",
        "The Mean Absolute Percentage Error improved from 0.45% to 0.38%\n",
        "\n",
        "The model has shown more improvements in three of the metrics where only the mean squared error has downgraded which may be due to a large higher outlier which produced a large error in the test set."
      ],
      "metadata": {
        "id": "PitBs8ev1sN9"
      }
    },
    {
      "cell_type": "markdown",
      "source": [
        "##4.3 Testing And Evaluations of Other Models\n"
      ],
      "metadata": {
        "id": "1ydw3kra3AwR"
      }
    },
    {
      "cell_type": "markdown",
      "source": [
        "### 4.3.1 Model 2\n",
        "-----------------------\n",
        "In model 2, we added one more graph convolutional layer.\n",
        "The model consists of:\n",
        "\n",
        "3 GCNConv Layer\n",
        "\n",
        "1 Output Linear Layer\n",
        "\n",
        "And we proceed to train and test the model if it is better."
      ],
      "metadata": {
        "id": "lXx-KJQB3V-s"
      }
    },
    {
      "cell_type": "code",
      "source": [
        "#Define the GNN model\n",
        "class GNN2(torch.nn.Module):\n",
        "    def __init__(self):\n",
        "        super(GNN2, self).__init__()\n",
        "        ###convolutional layer 1 to extract richer features from the data\n",
        "        self.conv1 = GCNConv(in_channels=x.size(1), out_channels=32)\n",
        "        ### convolutional layer 2 further refining these features into a more compact form.\n",
        "        self.conv2 = GCNConv(in_channels=32, out_channels=16)\n",
        "        self.conv3 = GCNConv(in_channels=16, out_channels=8)\n",
        "        self.fc = torch.nn.Linear(8, 1)\n",
        "\n",
        "    def forward(self, data):\n",
        "        x, edge_index = data.x, data.edge_index\n",
        "        x = self.conv1(x, edge_index)\n",
        "        x = F.relu(x)\n",
        "        x = self.conv2(x, edge_index)\n",
        "        x = F.relu(x)\n",
        "        x = self.conv3(x, edge_index)\n",
        "        x = F.relu(x)\n",
        "        embeddings = x\n",
        "        x = self.fc(x)\n",
        "        return x"
      ],
      "metadata": {
        "id": "I586Q3nXkfp4"
      },
      "execution_count": null,
      "outputs": []
    },
    {
      "cell_type": "code",
      "source": [
        "\n",
        "# Initialize the model, loss function, and optimizer\n",
        "model_Iteration2 = GNN2()\n",
        "criterion = torch.nn.L1Loss()\n",
        "optimizer = torch.optim.Adam(model_Iteration2.parameters(), lr=0.005)\n",
        "\n",
        "# Early stopping parameters\n",
        "patience = 15  # Number of epochs to wait for improvement\n",
        "best_val_loss = float('inf')  # Initialize with a large value\n",
        "epochs_no_improve = 0  # Count of epochs since the last improvement\n",
        "\n",
        "\n",
        "# Training loop with additional checks\n",
        "model_Iteration2.train()\n",
        "for epoch in range(500):\n",
        "  train_loss = 0\n",
        "  for batch in train_loader2:\n",
        "      optimizer.zero_grad()\n",
        "      out = model_Iteration2(batch)\n",
        "      loss = criterion(out, batch.y.view(-1, 1).float())\n",
        "      if torch.isnan(loss).sum() > 0:\n",
        "          print(\"NaN loss encountered at epoch:\", epoch)\n",
        "          break\n",
        "      loss.backward()\n",
        "      torch.nn.utils.clip_grad_norm_(model_Iteration2.parameters(), max_norm=1.0)\n",
        "      optimizer.step()\n",
        "      train_loss += loss.item() * batch.num_graphs\n",
        "  train_loss /= len(train_loader2.dataset)\n",
        "  print(f'Epoch {epoch+1}, Loss: {loss.item()}')\n",
        "\n",
        "  model_Iteration2.eval()  # Set the model to evaluation mode\n",
        "  val_loss = 0  # Initialize validation loss\n",
        "\n",
        "  with torch.no_grad():  # No gradient computation\n",
        "      for batch in val_loader2:\n",
        "          out = model_Iteration2(batch)  # Forward pass\n",
        "          loss = criterion(out, batch.y.view(-1, 1).float())  # Compute loss\n",
        "          val_loss += loss.item() * batch.num_graphs  # Accumulate validation loss\n",
        "\n",
        "  val_loss /= len(val_loader2.dataset)  # Average validation loss\n",
        "  print(f'Epoch {epoch+1}, Validation Loss: {val_loss:.4f}')\n",
        "\n",
        "  # Early stopping check\n",
        "  if val_loss < best_val_loss:\n",
        "      best_val_loss = val_loss\n",
        "      epochs_no_improve = 0\n",
        "      # Save the best model\n",
        "      torch.save(model_Iteration2.state_dict(), 'best_model2.pt')\n",
        "  else:\n",
        "      epochs_no_improve += 1\n",
        "\n",
        "    # Check if early stopping criterion is met\n",
        "  if epochs_no_improve >= patience:\n",
        "      print(f'Early stopping triggered after {epoch+1} epochs')\n",
        "      break\n",
        "\n",
        "    # Set the model back to training mode for the next epoch\n",
        "  model_Iteration2.train()"
      ],
      "metadata": {
        "id": "AJ4BrsQGPLAz"
      },
      "execution_count": null,
      "outputs": []
    },
    {
      "cell_type": "markdown",
      "source": [
        "####4.3.1 Model 2 Evaluation\n",
        "From model 2, it shows that adding a single layer with more neurons has little impact on training the model with the dataset as seen from the results showing little improvements to some of the metrics but is worse than the baseline model which can be seen from the mean absolute error of 6.40 to 6.48."
      ],
      "metadata": {
        "id": "H7goLlW033s6"
      }
    },
    {
      "cell_type": "code",
      "source": [
        "# Prediction\n",
        "model_Iteration2.eval()\n",
        "predictions = []\n",
        "with torch.no_grad():\n",
        "    for batch in test_loader2:\n",
        "        out = model_Iteration2(batch)\n",
        "        predictions.extend(out.squeeze().cpu().numpy().tolist())\n",
        "\n",
        "print(f'Predicted valuations: {predictions}')\n",
        "\n",
        "# Evaluation\n",
        "from sklearn.metrics import mean_squared_error, mean_absolute_error, mean_absolute_percentage_error\n",
        "\n",
        "# Convert predictions and targets to numpy arrays for evaluation\n",
        "actuals = test_data.y.numpy()\n",
        "\n",
        "# Calculate evaluation metrics\n",
        "mse = mean_squared_error(actuals, predictions)\n",
        "mae = mean_absolute_error(actuals, predictions)\n",
        "rmse = mean_squared_error(actuals, predictions, squared=False)\n",
        "mape = mean_absolute_percentage_error(actuals, predictions)\n",
        "\n",
        "\n",
        "print(f'Mean Squared Error: {mse:.4f}')\n",
        "print(f'Mean Absolute Error: {mae:.4f}')\n",
        "print(f'Root Mean Squared Error (RMSE): {rmse:.4f}')\n",
        "print(f'Mean Absolute Percentage Error (MAPE): {mape:.2f}%')"
      ],
      "metadata": {
        "colab": {
          "base_uri": "https://localhost:8080/"
        },
        "id": "Rz69YDA_RHZz",
        "outputId": "29b03356-55c7-49ff-c882-eb5c56fb5e85"
      },
      "execution_count": null,
      "outputs": [
        {
          "output_type": "stream",
          "name": "stdout",
          "text": [
            "Predicted valuations: [16.6998348236084, 16.6998348236084, 14.252598762512207, 16.6998348236084, 9.275904655456543, 16.6998348236084, 14.252598762512207, 11.223886489868164, 15.049765586853027, 9.275906562805176, 14.252598762512207, 9.275910377502441, 9.27590560913086, 16.6998348236084, 13.487652778625488, 13.487659454345703, 16.6998348236084, 16.6998348236084, 16.6998348236084, 16.6998348236084, 11.460548400878906, 14.252598762512207, 11.223883628845215, 16.6998348236084, 16.6998348236084, 15.48996639251709, 16.6998348236084, 11.223886489868164, 16.6998348236084, 16.6998348236084, 16.6998348236084, 19.641664505004883, 16.6998348236084, 14.252598762512207, 9.275908470153809, 11.223885536193848, 14.252598762512207, 14.252598762512207, 15.049765586853027, 16.6998348236084, 16.6998348236084, 14.252598762512207, 14.252598762512207, 13.487725257873535, 15.049763679504395, 14.252598762512207, 14.252598762512207, 16.6998348236084, 14.252598762512207, 16.6998348236084, 11.460489273071289, 15.049766540527344, 15.049763679504395, 15.049765586853027, 11.460489273071289, 9.323226928710938, 17.56412124633789, 15.049766540527344, 11.223894119262695, 16.6998348236084, 19.64164924621582, 16.6998348236084, 14.252598762512207, 11.22388744354248, 16.6998348236084, 16.6998348236084, 14.252598762512207, 14.252598762512207, 16.6998348236084, 13.487650871276855, 16.6998348236084, 16.6998348236084, 16.6998348236084, 9.275910377502441, 16.6998348236084, 14.252598762512207, 16.6998348236084, 9.27591323852539, 11.223888397216797, 16.6998348236084, 9.323266983032227, 16.6998348236084, 17.56412124633789, 16.6998348236084, 7.163012504577637, 16.6998348236084, 14.252598762512207, 9.323250770568848, 9.27591323852539, 16.6998348236084, 11.223883628845215, 16.6998348236084, 15.049765586853027, 16.6998348236084, 15.049765586853027, 14.252598762512207, 14.252598762512207, 16.6998348236084, 16.6998348236084, 16.6998348236084, 16.6998348236084, 14.252598762512207, 14.252598762512207, 14.252598762512207, 16.6998348236084, 14.252598762512207, 11.46054744720459, 16.6998348236084, 14.252598762512207, 15.489964485168457, 9.323226928710938, 14.252598762512207, 16.6998348236084, 14.252598762512207, 14.252598762512207, 16.6998348236084, 15.049765586853027, 14.252598762512207, 14.252598762512207, 16.6998348236084, 9.275908470153809, 16.6998348236084, 17.56412124633789, 16.6998348236084, 16.6998348236084, 17.56410789489746, 7.816183090209961, 16.6998348236084, 14.252598762512207, 15.489951133728027, 16.6998348236084, 14.252598762512207, 14.252598762512207, 16.6998348236084, 16.6998348236084, 14.252598762512207, 9.275904655456543, 14.252598762512207, 14.252598762512207, 16.6998348236084, 14.252598762512207, 15.049765586853027, 16.6998348236084, 14.252598762512207, 16.6998348236084, 16.6998348236084, 14.252598762512207, 16.6998348236084, 17.564115524291992, 15.049766540527344, 15.049765586853027, 16.6998348236084, 11.223894119262695, 17.56412124633789, 15.04976749420166, 16.6998348236084, 14.252598762512207, 16.6998348236084, 15.489968299865723, 16.6998348236084, 17.56410789489746, 14.252598762512207, 16.6998348236084, 16.6998348236084, 16.6998348236084, 15.049763679504395, 14.252598762512207, 9.323266983032227, 9.3232421875, 14.252598762512207, 16.6998348236084, 16.6998348236084, 14.252598762512207, 14.252598762512207, 16.6998348236084, 16.6998348236084, 16.6998348236084, 16.6998348236084, 14.252598762512207, 15.04976749420166, 16.6998348236084, 14.252598762512207, 14.252598762512207, 16.6998348236084, 11.460487365722656, 15.049763679504395, 16.6998348236084, 14.252598762512207, 14.252598762512207, 15.049765586853027, 16.6998348236084, 16.6998348236084, 14.252598762512207, 16.6998348236084, 14.252598762512207, 9.27591323852539, 14.252598762512207, 9.323226928710938, 16.6998348236084, 17.56412124633789, 19.641647338867188, 15.049766540527344, 16.6998348236084, 15.489974021911621, 11.223894119262695, 14.252598762512207, 14.252598762512207, 14.252598762512207, 11.22389030456543, 15.049763679504395, 14.252598762512207, 14.252598762512207, 14.252598762512207, 14.252598762512207, 15.049766540527344, 16.6998348236084, 16.6998348236084, 14.252598762512207, 17.56412124633789, 14.252598762512207, 11.223894119262695, 19.89824867248535, 14.252598762512207, 9.275904655456543, 14.252598762512207, 9.323240280151367, 14.252598762512207, 15.04976749420166, 15.049765586853027, 11.223883628845215, 14.252598762512207, 16.6998348236084, 14.252598762512207, 16.6998348236084, 16.6998348236084, 14.252598762512207, 15.049766540527344, 11.460569381713867, 14.252598762512207, 14.252598762512207, 13.487650871276855, 16.6998348236084, 19.766164779663086, 9.323248863220215, 16.6998348236084, 14.252598762512207, 16.6998348236084, 17.56410789489746, 14.252598762512207, 14.252598762512207, 14.252598762512207, 16.6998348236084, 16.6998348236084, 14.252598762512207, 14.252598762512207, 16.6998348236084, 14.252598762512207, 16.6998348236084, 17.56412124633789, 14.252598762512207, 16.6998348236084, 16.6998348236084, 14.252598762512207, 16.6998348236084, 16.6998348236084, 16.6998348236084, 16.6998348236084, 15.049765586853027, 14.252598762512207, 11.223886489868164, 13.487723350524902, 14.252598762512207, 17.564115524291992, 16.6998348236084, 16.6998348236084, 11.460528373718262, 16.6998348236084, 14.252598762512207, 13.487725257873535, 14.252598762512207, 19.641653060913086, 11.460526466369629, 16.6998348236084, 9.275904655456543, 14.252598762512207, 17.56412124633789, 16.6998348236084, 14.252598762512207, 14.252598762512207, 16.6998348236084, 15.049766540527344, 16.6998348236084, 14.252598762512207, 16.6998348236084, 16.6998348236084, 14.252598762512207, 14.252598762512207, 16.6998348236084, 15.049766540527344, 14.252598762512207, 14.252598762512207, 11.223886489868164, 9.323246955871582, 14.252598762512207, 14.252598762512207, 16.6998348236084, 16.6998348236084, 16.6998348236084, 14.252598762512207, 14.252598762512207, 15.049765586853027, 9.323266983032227, 14.252598762512207, 15.049765586853027, 16.6998348236084, 16.6998348236084, 16.6998348236084, 14.252598762512207, 16.6998348236084, 16.6998348236084, 14.252598762512207, 14.252598762512207, 14.252598762512207, 15.049766540527344, 14.252598762512207, 14.252598762512207, 16.6998348236084, 14.252598762512207, 14.252598762512207, 16.6998348236084, 16.6998348236084, 11.223888397216797, 11.460485458374023, 14.252598762512207, 17.56412124633789, 14.252598762512207, 14.252598762512207, 11.223892211914062, 14.252598762512207, 16.6998348236084, 11.460526466369629, 14.252598762512207, 11.223892211914062, 9.27591323852539, 14.252598762512207, 17.56412124633789, 14.252598762512207, 9.27590560913086, 11.223883628845215, 14.252598762512207, 16.6998348236084, 14.252598762512207, 14.252598762512207, 13.48762035369873, 17.564115524291992, 16.6998348236084, 16.6998348236084, 16.6998348236084, 14.252598762512207, 16.6998348236084, 16.6998348236084, 14.252598762512207, 15.049765586853027, 16.6998348236084, 14.252598762512207, 14.252598762512207, 14.252598762512207, 11.223891258239746, 14.252598762512207, 14.252598762512207, 14.252598762512207, 16.6998348236084, 14.252598762512207, 16.6998348236084, 14.252598762512207, 16.6998348236084, 14.252598762512207, 14.252598762512207, 13.48762035369873, 14.252598762512207, 14.252598762512207, 16.6998348236084, 16.6998348236084, 17.564117431640625, 16.6998348236084, 14.252598762512207, 16.6998348236084, 14.252598762512207, 14.252598762512207, 15.049765586853027, 9.323248863220215, 16.6998348236084, 16.6998348236084, 16.6998348236084, 14.252598762512207, 14.252598762512207, 10.54818058013916, 15.049765586853027, 15.049766540527344, 16.6998348236084, 14.252598762512207, 14.252598762512207, 11.223892211914062, 14.252598762512207, 15.049765586853027, 14.252598762512207, 14.252598762512207, 16.6998348236084, 14.252598762512207, 9.323248863220215, 14.252598762512207, 9.27591323852539, 14.252598762512207, 16.6998348236084, 11.223892211914062, 16.6998348236084, 14.252598762512207, 13.487725257873535, 16.6998348236084, 11.223886489868164, 15.489951133728027, 14.252598762512207, 9.3232421875, 9.323247909545898, 14.252598762512207, 14.252598762512207, 15.049763679504395, 16.6998348236084, 14.252598762512207, 16.6998348236084, 16.6998348236084, 14.252598762512207, 14.252598762512207, 9.171496391296387, 14.252598762512207, 16.6998348236084, 9.323226928710938, 14.252598762512207, 16.6998348236084, 11.223883628845215, 16.6998348236084, 14.252598762512207, 15.049765586853027, 14.252598762512207, 15.049763679504395, 16.6998348236084, 14.252598762512207, 15.049765586853027, 16.6998348236084, 11.223892211914062, 15.049766540527344, 14.252598762512207, 14.252598762512207, 16.6998348236084, 14.252598762512207, 9.275907516479492, 16.6998348236084, 11.460559844970703, 16.6998348236084, 19.64165496826172, 16.6998348236084, 16.6998348236084, 14.252598762512207, 16.6998348236084, 14.252598762512207, 14.252598762512207, 16.6998348236084, 16.6998348236084, 9.32326889038086, 17.56410789489746, 16.6998348236084, 20.531679153442383, 16.6998348236084, 16.6998348236084, 16.6998348236084, 16.6998348236084, 14.252598762512207, 11.460578918457031, 14.252598762512207, 11.223892211914062, 16.6998348236084, 16.6998348236084, 16.6998348236084, 9.275909423828125, 9.275904655456543, 11.223886489868164, 19.64164161682129, 15.489970207214355, 14.252598762512207, 9.3232421875, 16.6998348236084, 16.6998348236084, 14.252598762512207, 16.6998348236084, 16.6998348236084, 16.6998348236084, 14.252598762512207, 14.252598762512207, 19.641653060913086, 19.641691207885742, 14.252598762512207, 10.536850929260254, 11.460570335388184, 9.275904655456543, 14.252598762512207, 16.6998348236084, 14.252598762512207, 17.564117431640625, 9.323273658752441, 16.6998348236084, 16.6998348236084, 16.6998348236084, 14.252598762512207, 14.252598762512207, 16.6998348236084, 16.6998348236084, 14.252598762512207, 14.252598762512207, 16.6998348236084, 14.252598762512207, 15.049763679504395, 14.252598762512207, 16.6998348236084, 9.323226928710938, 16.6998348236084, 11.460577964782715, 16.6998348236084, 9.323254585266113, 14.252598762512207, 14.252598762512207, 11.460578918457031, 17.564119338989258, 14.252598762512207, 14.252598762512207, 14.252598762512207, 16.6998348236084, 16.6998348236084, 14.252598762512207, 15.049766540527344, 14.252598762512207, 15.049763679504395, 19.64164924621582, 14.252598762512207, 15.04976749420166, 15.049763679504395, 14.252598762512207, 16.6998348236084, 14.252598762512207, 15.049763679504395, 14.252598762512207, 11.460548400878906, 14.252598762512207, 16.6998348236084, 16.6998348236084, 11.22388744354248, 16.6998348236084, 16.6998348236084, 16.6998348236084, 16.6998348236084, 11.223892211914062, 14.252598762512207, 16.6998348236084, 11.460526466369629, 16.6998348236084, 16.6998348236084, 9.275909423828125, 16.6998348236084, 16.6998348236084, 14.252598762512207, 9.323219299316406, 16.6998348236084, 16.6998348236084, 15.049763679504395, 15.489962577819824, 14.252598762512207, 15.049763679504395, 14.252598762512207, 16.6998348236084, 15.049764633178711, 16.6998348236084, 16.6998348236084, 14.252598762512207, 16.6998348236084, 14.252598762512207, 16.6998348236084, 16.6998348236084, 14.252598762512207, 14.252598762512207, 14.252598762512207, 11.223891258239746, 16.6998348236084, 16.6998348236084, 16.6998348236084, 14.252598762512207, 9.55530834197998, 16.6998348236084, 16.6998348236084, 14.252598762512207, 16.6998348236084, 14.252598762512207, 14.252598762512207, 14.252598762512207, 13.487692832946777, 17.56410789489746, 9.3232421875, 14.252598762512207, 16.6998348236084, 14.252598762512207, 16.6998348236084, 11.223889350891113, 14.252598762512207, 14.252598762512207, 14.252598762512207, 14.252598762512207, 15.049763679504395, 11.223892211914062, 14.252598762512207, 14.252598762512207, 16.6998348236084, 14.252598762512207, 16.6998348236084, 9.323217391967773, 9.275909423828125, 14.252598762512207, 11.223892211914062, 15.049763679504395, 14.252598762512207, 16.6998348236084, 13.487645149230957, 16.6998348236084, 11.223892211914062, 14.252598762512207, 9.275910377502441, 14.252598762512207, 15.049764633178711, 15.049763679504395, 13.487645149230957, 14.252598762512207, 13.487725257873535, 16.6998348236084, 16.6998348236084, 14.252598762512207, 9.27591323852539, 15.049766540527344, 16.6998348236084, 17.564123153686523, 15.049763679504395, 16.6998348236084, 16.6998348236084, 11.223883628845215, 16.6998348236084, 14.252598762512207, 9.275899887084961, 16.6998348236084, 16.6998348236084, 11.223892211914062, 14.252598762512207, 14.252598762512207, 14.252598762512207, 15.04976749420166, 14.252598762512207, 14.252598762512207, 14.252598762512207, 14.252598762512207, 15.049766540527344, 16.6998348236084, 13.487652778625488, 16.6998348236084, 14.252598762512207, 15.489951133728027, 14.252598762512207, 14.252598762512207, 16.6998348236084, 16.6998348236084, 16.6998348236084, 16.6998348236084, 14.252598762512207, 16.6998348236084, 14.252598762512207, 14.252598762512207, 16.6998348236084, 14.252598762512207, 16.6998348236084, 16.6998348236084, 14.252598762512207, 16.6998348236084, 14.252598762512207, 14.252598762512207, 14.252598762512207, 11.223883628845215, 14.252598762512207, 14.252598762512207, 19.641653060913086, 15.049763679504395, 16.6998348236084, 14.252598762512207, 20.4464054107666, 16.6998348236084, 13.487686157226562, 15.489974021911621, 14.252598762512207, 9.275904655456543, 16.6998348236084, 17.564123153686523, 14.252598762512207, 16.6998348236084, 16.6998348236084, 16.6998348236084, 14.252598762512207, 15.049763679504395, 16.6998348236084, 14.252598762512207, 13.487625122070312, 14.252598762512207, 11.460567474365234, 14.252598762512207, 14.252598762512207, 14.252598762512207, 16.6998348236084, 17.564119338989258, 16.6998348236084, 14.252598762512207, 14.252598762512207, 14.252598762512207, 9.323254585266113, 14.252598762512207, 14.252598762512207, 14.252598762512207, 14.252598762512207, 17.564123153686523, 9.27591323852539, 11.223888397216797, 14.252598762512207, 16.6998348236084, 16.6998348236084, 16.6998348236084, 16.6998348236084, 14.252598762512207, 15.049763679504395, 16.6998348236084, 16.6998348236084, 9.275904655456543, 16.6998348236084, 15.489962577819824, 14.252598762512207, 16.6998348236084, 16.6998348236084, 16.6998348236084, 9.27591323852539, 16.6998348236084, 13.487709045410156, 14.252598762512207, 9.275909423828125, 14.252598762512207, 16.6998348236084, 14.252598762512207, 16.6998348236084, 9.27591323852539, 14.252598762512207, 14.252598762512207, 19.64164924621582, 11.223886489868164, 14.252598762512207, 16.6998348236084, 9.323270797729492, 14.252598762512207, 15.489977836608887, 16.6998348236084, 16.6998348236084, 16.6998348236084, 16.6998348236084, 9.275904655456543, 14.252598762512207, 16.6998348236084, 14.252598762512207, 13.487652778625488, 16.6998348236084, 15.049764633178711, 16.6998348236084, 16.6998348236084, 14.252598762512207, 14.252598762512207, 14.252598762512207, 16.6998348236084, 14.252598762512207, 15.049763679504395, 14.252598762512207, 11.460551261901855, 16.6998348236084, 19.641647338867188, 9.275909423828125, 16.6998348236084, 16.6998348236084, 16.6998348236084, 14.252598762512207, 16.6998348236084, 14.252598762512207, 14.252598762512207, 15.049763679504395, 9.323256492614746, 14.252598762512207, 15.049764633178711, 16.6998348236084, 14.252598762512207, 14.252598762512207, 14.252598762512207, 9.275904655456543, 14.252598762512207, 15.049763679504395, 16.6998348236084, 14.252598762512207, 14.252598762512207, 16.6998348236084, 14.252598762512207, 16.6998348236084, 14.252598762512207, 14.252598762512207, 16.6998348236084, 11.223886489868164, 16.6998348236084, 14.252598762512207, 16.6998348236084, 10.632922172546387, 9.32325267791748, 9.275904655456543, 15.049763679504395, 14.252598762512207, 11.22388744354248, 14.252598762512207, 15.04976749420166, 16.6998348236084, 16.6998348236084, 14.252598762512207, 16.6998348236084, 19.956436157226562, 19.969606399536133, 16.6998348236084, 14.252598762512207, 16.6998348236084, 16.6998348236084, 15.049763679504395, 13.487621307373047, 16.6998348236084, 15.489954948425293, 16.6998348236084, 16.6998348236084, 14.252598762512207, 14.252598762512207, 14.252598762512207, 16.6998348236084, 16.6998348236084, 14.252598762512207, 16.6998348236084, 16.6998348236084, 15.049763679504395, 16.6998348236084, 16.6998348236084, 14.252598762512207, 11.223883628845215, 16.6998348236084, 14.252598762512207, 14.252598762512207, 15.049763679504395, 16.6998348236084, 16.6998348236084, 16.6998348236084, 14.252598762512207, 14.252598762512207, 14.252598762512207, 16.6998348236084, 14.252598762512207, 11.460548400878906, 16.6998348236084, 16.6998348236084, 14.252598762512207, 14.252598762512207, 16.6998348236084, 14.252598762512207, 16.6998348236084, 15.049763679504395, 16.6998348236084, 9.27590274810791, 15.049763679504395, 16.6998348236084, 16.6998348236084, 16.6998348236084, 14.252598762512207, 17.564123153686523, 14.252598762512207, 14.252598762512207, 14.252598762512207, 17.564123153686523, 16.6998348236084, 14.252598762512207, 15.049763679504395, 16.6998348236084, 16.6998348236084, 14.252598762512207, 15.04976749420166, 15.049764633178711, 17.564119338989258, 17.564123153686523, 16.6998348236084, 16.6998348236084, 11.460528373718262, 11.460528373718262, 16.6998348236084, 14.252598762512207, 16.6998348236084, 14.252598762512207, 14.252598762512207, 16.19547462463379, 15.049764633178711, 16.6998348236084, 16.6998348236084, 15.049763679504395, 15.049764633178711, 16.6998348236084, 14.252598762512207, 16.6998348236084, 16.6998348236084, 16.6998348236084, 16.6998348236084, 14.252598762512207, 14.252598762512207, 16.6998348236084, 14.252598762512207, 11.46054744720459, 11.223892211914062, 15.049763679504395, 16.6998348236084, 14.252598762512207, 16.6998348236084, 16.6998348236084, 14.252598762512207, 16.6998348236084, 11.460548400878906, 13.487712860107422, 16.6998348236084, 16.6998348236084, 9.3232421875, 15.489962577819824, 11.223883628845215, 16.6998348236084, 14.252598762512207, 14.252598762512207, 16.6998348236084, 16.6998348236084, 16.6998348236084, 16.6998348236084, 16.6998348236084, 14.252598762512207, 9.275910377502441, 16.6998348236084, 14.252598762512207, 9.275904655456543, 14.252598762512207, 14.252598762512207, 16.6998348236084, 14.252598762512207, 11.223883628845215, 14.252598762512207, 14.252598762512207, 16.6998348236084, 15.049764633178711, 9.323226928710938, 16.6998348236084, 14.252598762512207, 14.252598762512207, 15.049763679504395, 14.252598762512207, 16.6998348236084, 13.487725257873535, 16.6998348236084, 15.049764633178711, 15.04976749420166, 15.04976749420166, 16.6998348236084, 17.564119338989258, 16.6998348236084, 14.252598762512207, 9.275901794433594, 11.460490226745605, 16.6998348236084, 15.049763679504395, 15.489951133728027, 14.252598762512207, 15.049764633178711, 14.252598762512207, 15.049763679504395, 14.252598762512207, 14.252598762512207, 14.252598762512207, 9.275910377502441, 16.6998348236084, 16.6998348236084, 19.641639709472656, 16.6998348236084, 16.6998348236084, 13.487652778625488, 16.6998348236084, 17.56412124633789, 16.6998348236084, 14.252598762512207, 17.564117431640625, 15.049764633178711, 15.489956855773926, 15.049764633178711, 16.6998348236084, 14.252598762512207, 17.564111709594727, 15.049763679504395, 16.6998348236084, 14.252598762512207, 14.252598762512207, 15.049763679504395, 16.6998348236084, 14.252598762512207, 16.6998348236084, 16.6998348236084, 16.6998348236084, 16.6998348236084, 9.275904655456543, 16.6998348236084, 11.255741119384766, 14.252598762512207, 9.275904655456543, 16.6998348236084, 14.252598762512207, 16.6998348236084, 17.56410789489746, 16.6998348236084, 16.6998348236084, 14.252598762512207, 16.6998348236084, 14.252598762512207, 14.252598762512207, 15.049763679504395, 16.6998348236084, 16.6998348236084, 15.04976749420166, 14.252598762512207, 14.252598762512207, 11.46048641204834, 9.27591323852539, 14.252598762512207, 14.252598762512207, 14.252598762512207, 16.6998348236084, 14.252598762512207, 14.252598762512207, 14.252598762512207, 15.049764633178711, 14.252598762512207, 14.252598762512207, 9.275904655456543, 16.6998348236084, 11.223889350891113, 14.252598762512207, 16.6998348236084, 16.6998348236084, 11.460491180419922, 15.049763679504395, 14.252598762512207, 14.252598762512207, 14.252598762512207, 11.460528373718262, 9.323234558105469, 16.6998348236084, 14.252598762512207, 16.6998348236084, 14.252598762512207, 14.252598762512207, 14.252598762512207, 15.04976749420166, 14.252598762512207, 16.6998348236084, 14.252598762512207, 16.6998348236084, 17.564119338989258, 16.6998348236084, 9.27591323852539, 16.6998348236084, 14.252598762512207, 16.6998348236084, 15.049763679504395, 16.6998348236084, 14.252598762512207, 14.252598762512207, 15.049763679504395, 14.252598762512207, 13.487652778625488, 16.6998348236084, 16.6998348236084, 9.275904655456543, 14.252598762512207, 9.275909423828125, 14.252598762512207, 15.049764633178711, 9.323251724243164, 11.223884582519531, 14.252598762512207, 14.252598762512207, 14.252598762512207, 16.6998348236084, 15.049764633178711, 14.252598762512207, 14.252598762512207, 14.252598762512207, 14.252598762512207, 14.252598762512207, 15.049763679504395, 19.641653060913086, 14.252598762512207, 14.252598762512207, 11.223883628845215, 14.252598762512207, 16.6998348236084, 16.6998348236084, 16.6998348236084, 14.252598762512207, 19.64165687561035, 9.27591323852539, 19.641653060913086, 16.6998348236084, 16.6998348236084, 11.223892211914062, 15.489954948425293, 14.252598762512207, 9.275904655456543, 16.6998348236084, 14.252598762512207, 16.6998348236084, 14.252598762512207, 17.56412124633789, 16.6998348236084, 14.252598762512207, 14.252598762512207, 14.252598762512207, 16.6998348236084, 16.6998348236084, 19.641653060913086, 14.252598762512207, 14.252598762512207, 14.252598762512207, 16.6998348236084, 16.6998348236084, 14.252598762512207, 14.252598762512207, 14.252598762512207, 14.252598762512207, 16.6998348236084, 16.6998348236084, 16.6998348236084, 15.049763679504395, 9.275910377502441, 16.6998348236084, 9.275904655456543, 14.252598762512207, 16.6998348236084, 15.049764633178711, 14.252598762512207, 16.6998348236084, 19.641651153564453, 9.275904655456543, 16.6998348236084, 16.6998348236084, 9.275910377502441, 11.460548400878906, 9.275904655456543, 15.049763679504395, 14.252598762512207, 14.252598762512207, 14.252598762512207, 9.323225975036621, 14.252598762512207, 11.223886489868164, 9.275904655456543, 14.252598762512207, 15.049763679504395, 11.223892211914062, 16.6998348236084, 15.049764633178711, 16.6998348236084, 16.6998348236084, 16.6998348236084, 16.6998348236084, 16.6998348236084, 17.56412124633789, 15.049763679504395, 16.6998348236084, 14.252598762512207, 15.049763679504395, 11.223892211914062, 14.252598762512207, 16.6998348236084, 14.252598762512207, 14.252598762512207, 14.252598762512207, 14.252598762512207, 15.049763679504395, 9.323266983032227, 9.275911331176758, 14.252598762512207, 13.487686157226562, 16.6998348236084, 15.049763679504395, 14.252598762512207, 11.460528373718262, 14.252598762512207, 15.489960670471191, 9.275904655456543, 14.252598762512207, 16.6998348236084, 16.6998348236084, 14.252598762512207, 15.049763679504395, 15.049763679504395, 16.6998348236084, 14.252598762512207, 14.252598762512207, 14.252598762512207, 16.6998348236084, 14.252598762512207, 16.6998348236084, 11.223889350891113, 15.049763679504395, 16.6998348236084, 16.6998348236084, 16.6998348236084, 16.6998348236084, 16.6998348236084, 16.6998348236084, 14.252598762512207, 11.223888397216797, 16.6998348236084, 11.223883628845215, 11.223883628845215, 14.252598762512207, 15.049763679504395, 11.223884582519531, 16.6998348236084, 9.3232421875, 19.77511215209961, 9.323248863220215, 9.27591323852539, 11.223883628845215, 15.049763679504395, 15.049763679504395, 15.049764633178711, 16.6998348236084, 14.252598762512207, 16.6998348236084, 16.6998348236084, 11.460579872131348, 16.6998348236084, 14.252598762512207, 15.04976749420166, 16.6998348236084, 17.56410789489746, 14.252598762512207, 14.252598762512207, 15.049763679504395, 16.6998348236084, 16.6998348236084, 14.252598762512207, 14.252598762512207, 16.6998348236084, 15.049763679504395, 16.6998348236084, 15.049763679504395, 16.6998348236084, 16.6998348236084, 13.487712860107422, 16.6998348236084, 11.627540588378906, 16.6998348236084, 15.049763679504395, 16.6998348236084, 19.641647338867188, 11.223883628845215, 14.252598762512207, 14.252598762512207, 16.6998348236084, 16.6998348236084, 16.6998348236084, 16.6998348236084, 14.252598762512207, 17.56411361694336, 16.6998348236084, 14.252598762512207, 16.6998348236084, 15.049764633178711, 19.64164161682129, 9.275904655456543, 16.6998348236084, 9.275904655456543, 14.252598762512207, 15.049766540527344, 16.6998348236084, 14.252598762512207, 14.252598762512207, 16.6998348236084, 17.564117431640625, 14.252598762512207, 16.6998348236084, 16.6998348236084, 15.049763679504395, 16.6998348236084, 9.275904655456543, 11.22388744354248, 15.049763679504395, 9.275910377502441, 16.6998348236084, 16.6998348236084, 13.487725257873535, 14.252598762512207, 14.252598762512207, 14.252598762512207, 16.6998348236084, 16.6998348236084, 11.460528373718262, 11.223883628845215, 11.223892211914062, 16.6998348236084, 16.6998348236084, 16.6998348236084, 14.252598762512207, 17.564123153686523, 17.564119338989258, 16.6998348236084, 13.487625122070312, 14.252598762512207, 14.252598762512207, 14.252598762512207, 15.489962577819824, 11.223883628845215, 14.252598762512207, 16.6998348236084, 16.6998348236084, 16.6998348236084, 17.564123153686523, 11.460550308227539, 10.536931037902832, 15.049766540527344, 16.6998348236084, 14.252598762512207, 15.049763679504395, 14.252598762512207, 16.6998348236084, 14.252598762512207, 11.223891258239746, 14.252598762512207, 14.252598762512207, 15.049763679504395, 16.6998348236084, 14.252598762512207, 16.6998348236084, 27.80360221862793, 17.564123153686523, 14.252598762512207, 11.223886489868164, 14.252598762512207, 14.252598762512207, 16.6998348236084, 16.6998348236084, 14.252598762512207, 14.252598762512207, 11.22388744354248, 16.6998348236084, 16.6998348236084, 16.6998348236084, 16.6998348236084, 9.27591323852539, 14.252598762512207, 15.049763679504395, 15.049763679504395, 14.252598762512207, 15.049763679504395, 16.6998348236084, 9.275904655456543, 16.6998348236084, 16.6998348236084, 15.049766540527344, 16.6998348236084, 9.27591323852539, 16.6998348236084, 14.252598762512207, 14.252598762512207, 16.6998348236084, 16.6998348236084, 14.252598762512207, 9.323266983032227, 16.6998348236084, 16.6998348236084, 10.547945976257324, 9.275909423828125, 15.489962577819824, 14.252598762512207, 15.049763679504395, 15.049765586853027, 13.487675666809082, 16.6998348236084, 14.252598762512207, 14.252598762512207, 16.6998348236084, 16.6998348236084, 16.6998348236084, 9.275904655456543, 14.252598762512207, 14.252598762512207, 16.6998348236084, 13.487713813781738, 16.6998348236084, 14.252598762512207, 16.6998348236084, 14.252598762512207, 14.252598762512207, 14.252598762512207, 16.6998348236084, 16.6998348236084, 14.252598762512207]\n",
            "Mean Squared Error: 103.0622\n",
            "Mean Absolute Error: 6.4803\n",
            "Root Mean Squared Error (RMSE): 10.1520\n",
            "Mean Absolute Percentage Error (MAPE): 0.38%\n"
          ]
        }
      ]
    },
    {
      "cell_type": "markdown",
      "source": [
        "### 4.3.2 Model 3\n",
        "From the model above, the improvements made to model 2 were the use of normalizing the outputs from the hidden layers using the batchnorm1d of pytorch library and using the dropout to set a 50% chance for some of the neurons to be set to 0 to prevent the network from being too reliant on several neurons for the output in each forward pass."
      ],
      "metadata": {
        "id": "1unYes3_5Udf"
      }
    },
    {
      "cell_type": "code",
      "source": [
        "#Define the GNN model\n",
        "class GNN3(torch.nn.Module):\n",
        "    def __init__(self):\n",
        "        super(GNN3, self).__init__()\n",
        "        ###convolutional layer 1 to extract richer features from the data\n",
        "        self.conv1 = GCNConv(in_channels=x.size(1), out_channels=32)\n",
        "        self.bn1 = torch.nn.BatchNorm1d(32)\n",
        "        ### convolutional layer 2 further refining these features into a more compact form.\n",
        "        self.conv2 = GCNConv(in_channels=32, out_channels=16)\n",
        "        self.bn2 = torch.nn.BatchNorm1d(16)\n",
        "        self.conv3 = GCNConv(in_channels=16, out_channels=8)\n",
        "        self.bn3 = torch.nn.BatchNorm1d(8)\n",
        "        self.fc = torch.nn.Linear(8, 1)\n",
        "        self.dropout = torch.nn.Dropout(p=0.5)\n",
        "\n",
        "    def forward(self, data):\n",
        "        x, edge_index = data.x, data.edge_index\n",
        "        x = self.conv1(x, edge_index)\n",
        "        x = self.bn1(x)\n",
        "        x = F.relu(x)\n",
        "        x = self.dropout(x)\n",
        "        x = self.conv2(x, edge_index)\n",
        "        x = self.bn2(x)\n",
        "        x = F.relu(x)\n",
        "        x = self.dropout(x)\n",
        "        x = self.conv3(x, edge_index)\n",
        "        x = self.bn3(x)\n",
        "        x = F.relu(x)\n",
        "        embeddings = x\n",
        "        x = self.fc(x)\n",
        "        return x"
      ],
      "metadata": {
        "id": "iM_6okQSYM7r"
      },
      "execution_count": null,
      "outputs": []
    },
    {
      "cell_type": "code",
      "source": [
        "\n",
        "# Initialize the model, loss function, and optimizer\n",
        "model_Iteration3 = GNN3()\n",
        "criterion = torch.nn.L1Loss()\n",
        "optimizer = torch.optim.Adam(model_Iteration3.parameters(), lr=0.005)\n",
        "\n",
        "# Early stopping parameters\n",
        "patience = 15  # Number of epochs to wait for improvement\n",
        "best_val_loss = float('inf')  # Initialize with a large value\n",
        "epochs_no_improve = 0  # Count of epochs since the last improvement\n",
        "\n",
        "\n",
        "for epoch in range(500):\n",
        "  model_Iteration3.train()\n",
        "  train_loss = 0\n",
        "  for batch in train_loader2:\n",
        "      optimizer.zero_grad()\n",
        "      out = model_Iteration3(batch)\n",
        "      loss = criterion(out, batch.y.view(-1, 1).float())\n",
        "      if torch.isnan(loss).sum() > 0:\n",
        "          print(\"NaN loss encountered at epoch:\", epoch)\n",
        "          break\n",
        "      loss.backward()\n",
        "      torch.nn.utils.clip_grad_norm_(model_Iteration3.parameters(), max_norm=1.0)\n",
        "      optimizer.step()\n",
        "      train_loss += loss.item() * batch.num_graphs\n",
        "  train_loss /= len(train_loader2.dataset)\n",
        "\n",
        "\n",
        "  model_Iteration3.eval()  # Set the model to evaluation mode\n",
        "  val_loss = 0  # Initialize validation loss\n",
        "\n",
        "  with torch.no_grad():  # No gradient computation\n",
        "      for batch in val_loader2:\n",
        "          out = model_Iteration3(batch)  # Forward pass\n",
        "          loss = criterion(out, batch.y.view(-1, 1).float())  # Compute loss\n",
        "          val_loss += loss.item() * batch.num_graphs  # Accumulate validation loss\n",
        "\n",
        "  val_loss /= len(val_loader2.dataset)  # Average validation loss\n",
        "  print(f'Epoch {epoch+1}, Validation Loss: {val_loss:.4f},Loss: {train_loss:.4f},best_val_loss:{best_val_loss:.4f}')\n",
        "\n",
        "  # Early stopping check\n",
        "  if val_loss < best_val_loss:\n",
        "      best_val_loss = val_loss\n",
        "      epochs_no_improve = 0\n",
        "      # Save the best model\n",
        "      torch.save(model_Iteration3.state_dict(), 'best_model2.pt')\n",
        "  else:\n",
        "      epochs_no_improve += 1\n",
        "\n",
        "    # Check if early stopping criterion is met\n",
        "  if epochs_no_improve >= patience:\n",
        "      print(f'Early stopping triggered after {epoch+1} epochs')\n",
        "      break\n",
        "\n",
        "    # Set the model back to training mode for the next epoch\n",
        "  model_Iteration3.train()"
      ],
      "metadata": {
        "id": "luNN1wjGZI8n"
      },
      "execution_count": null,
      "outputs": []
    },
    {
      "cell_type": "markdown",
      "source": [
        "#### 4.3.2 Model 3 Evaluation\n",
        "Model 3 has shown little improvements or has downgraded from the original better metrics in model 2. It performed worse than the baseline model which can be seen from the mean absolute error of 6.40 to the model's accuracy of 6.48.\n",
        "\n"
      ],
      "metadata": {
        "id": "QOtRQsEr6Apn"
      }
    },
    {
      "cell_type": "code",
      "source": [
        "# Prediction\n",
        "model_Iteration3.eval()\n",
        "predictions = []\n",
        "with torch.no_grad():\n",
        "    for batch in test_loader2:\n",
        "        out = model_Iteration3(batch)\n",
        "        predictions.extend(out.squeeze().cpu().numpy().tolist())\n",
        "\n",
        "print(f'Predicted valuations: {predictions}')\n",
        "\n",
        "# Evaluation\n",
        "from sklearn.metrics import mean_squared_error, mean_absolute_error, mean_absolute_percentage_error\n",
        "\n",
        "# Convert predictions and targets to numpy arrays for evaluation\n",
        "actuals = test_data.y.numpy()\n",
        "\n",
        "# Calculate evaluation metrics\n",
        "mse = mean_squared_error(actuals, predictions)\n",
        "mae = mean_absolute_error(actuals, predictions)\n",
        "rmse = mean_squared_error(actuals, predictions, squared=False)\n",
        "mape = mean_absolute_percentage_error(actuals, predictions)\n",
        "\n",
        "\n",
        "print(f'Mean Squared Error: {mse:.4f}')\n",
        "print(f'Mean Absolute Error: {mae:.4f}')\n",
        "print(f'Root Mean Squared Error (RMSE): {rmse:.4f}')\n",
        "print(f'Mean Absolute Percentage Error (MAPE): {mape:.2f}%')"
      ],
      "metadata": {
        "colab": {
          "base_uri": "https://localhost:8080/"
        },
        "id": "7LRmoUYdZWrQ",
        "outputId": "2eff0cbc-68aa-4dc5-b266-c3cbb028f4d4"
      },
      "execution_count": null,
      "outputs": [
        {
          "output_type": "stream",
          "name": "stdout",
          "text": [
            "Predicted valuations: [15.818586349487305, 15.818586349487305, 17.578813552856445, 15.818586349487305, 14.092850685119629, 15.818586349487305, 17.578813552856445, 14.468147277832031, 14.015161514282227, 14.092851638793945, 17.578813552856445, 14.092850685119629, 14.092851638793945, 15.818586349487305, 13.16054916381836, 13.160540580749512, 15.818586349487305, 15.818586349487305, 15.818586349487305, 15.818586349487305, 14.366205215454102, 17.578813552856445, 14.468147277832031, 15.818586349487305, 15.818586349487305, 15.511839866638184, 15.818586349487305, 14.468147277832031, 15.818586349487305, 15.818586349487305, 15.818586349487305, 20.05028533935547, 15.818586349487305, 17.578811645507812, 14.092850685119629, 14.468146324157715, 17.578811645507812, 17.578813552856445, 14.015161514282227, 15.818586349487305, 15.818586349487305, 17.578811645507812, 17.578813552856445, 13.160477638244629, 14.015159606933594, 17.578813552856445, 17.578813552856445, 15.818586349487305, 17.578811645507812, 15.818586349487305, 14.366202354431152, 14.015159606933594, 14.015161514282227, 14.015159606933594, 14.366204261779785, 13.966045379638672, 16.043010711669922, 14.015161514282227, 14.468147277832031, 15.818586349487305, 20.050352096557617, 15.818586349487305, 17.578813552856445, 14.468147277832031, 15.818586349487305, 15.818586349487305, 17.578813552856445, 17.578813552856445, 15.818586349487305, 13.16054916381836, 15.818586349487305, 15.818586349487305, 15.818586349487305, 14.092850685119629, 15.818586349487305, 17.578813552856445, 15.818586349487305, 14.092851638793945, 14.468147277832031, 15.818586349487305, 13.966049194335938, 15.818586349487305, 16.04300880432129, 15.818586349487305, 15.15367317199707, 15.818586349487305, 17.578813552856445, 13.966046333312988, 14.092851638793945, 15.818586349487305, 14.468147277832031, 15.818586349487305, 14.01516056060791, 15.818586349487305, 14.015161514282227, 17.578813552856445, 17.578813552856445, 15.818586349487305, 15.818586349487305, 15.818586349487305, 15.818586349487305, 17.578813552856445, 17.578813552856445, 17.578813552856445, 15.818586349487305, 17.578811645507812, 14.366209030151367, 15.818586349487305, 17.578811645507812, 15.511778831481934, 13.966044425964355, 17.578811645507812, 15.818586349487305, 17.578811645507812, 17.578813552856445, 15.818586349487305, 14.015161514282227, 17.578811645507812, 17.578813552856445, 15.818586349487305, 14.092850685119629, 15.818586349487305, 16.04300880432129, 15.818586349487305, 15.818586349487305, 16.042997360229492, 16.422224044799805, 15.818586349487305, 17.578813552856445, 15.511916160583496, 15.818586349487305, 17.578813552856445, 17.578811645507812, 15.818586349487305, 15.818586349487305, 17.578813552856445, 14.092850685119629, 17.578811645507812, 17.578813552856445, 15.818586349487305, 17.578813552856445, 14.015159606933594, 15.818586349487305, 17.578813552856445, 15.818586349487305, 15.818586349487305, 17.578813552856445, 15.818586349487305, 16.04300308227539, 14.015161514282227, 14.015161514282227, 15.818586349487305, 14.468147277832031, 16.04300880432129, 14.015161514282227, 15.818586349487305, 17.578813552856445, 15.818586349487305, 15.51177978515625, 15.818586349487305, 16.042997360229492, 17.578813552856445, 15.818586349487305, 15.818586349487305, 15.818586349487305, 14.015161514282227, 17.578813552856445, 13.966049194335938, 13.966046333312988, 17.578813552856445, 15.818586349487305, 15.818586349487305, 17.578813552856445, 17.578811645507812, 15.818586349487305, 15.818586349487305, 15.818586349487305, 15.818586349487305, 17.578813552856445, 14.015161514282227, 15.818586349487305, 17.578813552856445, 17.578813552856445, 15.818586349487305, 14.366202354431152, 14.015161514282227, 15.818586349487305, 17.578813552856445, 17.578813552856445, 14.015159606933594, 15.818586349487305, 15.818586349487305, 17.578811645507812, 15.818586349487305, 17.578813552856445, 14.092851638793945, 17.578813552856445, 13.966044425964355, 15.818586349487305, 16.043004989624023, 20.050350189208984, 14.015161514282227, 15.818586349487305, 15.511884689331055, 14.468147277832031, 17.578811645507812, 17.578811645507812, 17.578813552856445, 14.468147277832031, 14.015161514282227, 17.578813552856445, 17.578813552856445, 17.578813552856445, 17.578813552856445, 14.01516056060791, 15.818586349487305, 15.818586349487305, 17.578811645507812, 16.043010711669922, 17.578813552856445, 14.468147277832031, 9.55377197265625, 17.578813552856445, 14.092850685119629, 17.578811645507812, 13.966046333312988, 17.578811645507812, 14.015161514282227, 14.01516056060791, 14.468147277832031, 17.578813552856445, 15.818586349487305, 17.578813552856445, 15.818586349487305, 15.818586349487305, 17.578811645507812, 14.015161514282227, 14.366207122802734, 17.578813552856445, 17.578811645507812, 13.16055679321289, 15.818586349487305, 13.474069595336914, 13.966047286987305, 15.818586349487305, 17.578813552856445, 15.818586349487305, 16.042993545532227, 17.578813552856445, 17.578813552856445, 17.578811645507812, 15.818586349487305, 15.818586349487305, 17.578813552856445, 17.578813552856445, 15.818586349487305, 17.578813552856445, 15.818586349487305, 16.043006896972656, 17.578813552856445, 15.818586349487305, 15.818586349487305, 17.578813552856445, 15.818586349487305, 15.818586349487305, 15.818586349487305, 15.818586349487305, 14.015161514282227, 17.578813552856445, 14.468147277832031, 13.160479545593262, 17.578813552856445, 16.042999267578125, 15.818586349487305, 15.818586349487305, 14.366207122802734, 15.818586349487305, 17.578813552856445, 13.160475730895996, 17.578813552856445, 20.050338745117188, 14.366203308105469, 15.818586349487305, 14.092850685119629, 17.578813552856445, 16.043006896972656, 15.818586349487305, 17.578811645507812, 17.578813552856445, 15.818586349487305, 14.01516056060791, 15.818586349487305, 17.578811645507812, 15.818586349487305, 15.818586349487305, 17.578813552856445, 17.578811645507812, 15.818586349487305, 14.01516056060791, 17.578813552856445, 17.578811645507812, 14.468147277832031, 13.966047286987305, 17.578811645507812, 17.578811645507812, 15.818586349487305, 15.818586349487305, 15.818586349487305, 17.578811645507812, 17.578813552856445, 14.015161514282227, 13.966049194335938, 17.578813552856445, 14.015161514282227, 15.818586349487305, 15.818586349487305, 15.818586349487305, 17.578813552856445, 15.818586349487305, 15.818586349487305, 17.578813552856445, 17.578811645507812, 17.578813552856445, 14.015161514282227, 17.578813552856445, 17.578811645507812, 15.818586349487305, 17.578813552856445, 17.578813552856445, 15.818586349487305, 15.818586349487305, 14.468146324157715, 14.366201400756836, 17.578813552856445, 16.04300880432129, 17.578813552856445, 17.578813552856445, 14.468147277832031, 17.578813552856445, 15.818586349487305, 14.366205215454102, 17.578811645507812, 14.468147277832031, 14.092851638793945, 17.578811645507812, 16.043006896972656, 17.578811645507812, 14.092851638793945, 14.468147277832031, 17.578813552856445, 15.818586349487305, 17.578811645507812, 17.578811645507812, 13.160582542419434, 16.04300308227539, 15.818586349487305, 15.818586349487305, 15.818586349487305, 17.578811645507812, 15.818586349487305, 15.818586349487305, 17.578813552856445, 14.01516056060791, 15.818586349487305, 17.578813552856445, 17.578811645507812, 17.578813552856445, 14.468147277832031, 17.578813552856445, 17.578811645507812, 17.578811645507812, 15.818586349487305, 17.578811645507812, 15.818586349487305, 17.578813552856445, 15.818586349487305, 17.578811645507812, 17.578811645507812, 13.1605806350708, 17.578813552856445, 17.578813552856445, 15.818586349487305, 15.818586349487305, 16.04300880432129, 15.818586349487305, 17.578813552856445, 15.818586349487305, 17.578813552856445, 17.578813552856445, 14.015161514282227, 13.966047286987305, 15.818586349487305, 15.818586349487305, 15.818586349487305, 17.578813552856445, 17.578811645507812, 11.309505462646484, 14.015161514282227, 14.015161514282227, 15.818586349487305, 17.578813552856445, 17.578813552856445, 14.468147277832031, 17.578813552856445, 14.015161514282227, 17.578811645507812, 17.578811645507812, 15.818586349487305, 17.578813552856445, 13.966047286987305, 17.578813552856445, 14.092851638793945, 17.578813552856445, 15.818586349487305, 14.468147277832031, 15.818586349487305, 17.578811645507812, 13.16047477722168, 15.818586349487305, 14.468147277832031, 15.511914253234863, 17.578811645507812, 13.966046333312988, 13.966047286987305, 17.578811645507812, 17.578811645507812, 14.015159606933594, 15.818586349487305, 17.578813552856445, 15.818586349487305, 15.818586349487305, 17.578811645507812, 17.578811645507812, 13.6541748046875, 17.578813552856445, 15.818586349487305, 13.966044425964355, 17.578811645507812, 15.818586349487305, 14.468147277832031, 15.818586349487305, 17.578811645507812, 14.01516056060791, 17.578813552856445, 14.015159606933594, 15.818586349487305, 17.578811645507812, 14.01516056060791, 15.818586349487305, 14.468147277832031, 14.01516056060791, 17.578811645507812, 17.578811645507812, 15.818586349487305, 17.578811645507812, 14.092850685119629, 15.818586349487305, 14.366205215454102, 15.818586349487305, 20.050296783447266, 15.818586349487305, 15.818586349487305, 17.578813552856445, 15.818586349487305, 17.578811645507812, 17.578811645507812, 15.818586349487305, 15.818586349487305, 13.966049194335938, 16.042993545532227, 15.818586349487305, 9.588071823120117, 15.818586349487305, 15.818586349487305, 15.818586349487305, 15.818586349487305, 17.578813552856445, 14.366207122802734, 17.578813552856445, 14.468147277832031, 15.818586349487305, 15.818586349487305, 15.818586349487305, 14.092851638793945, 14.092852592468262, 14.468147277832031, 20.050336837768555, 15.511903762817383, 17.578813552856445, 13.966046333312988, 15.818586349487305, 15.818586349487305, 17.578811645507812, 15.818586349487305, 15.818586349487305, 15.818586349487305, 17.578813552856445, 17.578811645507812, 20.050315856933594, 20.050369262695312, 17.578811645507812, 11.334554672241211, 14.366207122802734, 14.092850685119629, 17.578813552856445, 15.818586349487305, 17.578811645507812, 16.04300308227539, 13.966050148010254, 15.818586349487305, 15.818586349487305, 15.818586349487305, 17.578813552856445, 17.578813552856445, 15.818586349487305, 15.818586349487305, 17.578813552856445, 17.578813552856445, 15.818586349487305, 17.578811645507812, 14.015159606933594, 17.578813552856445, 15.818586349487305, 13.966044425964355, 15.818586349487305, 14.366207122802734, 15.818586349487305, 13.966048240661621, 17.578813552856445, 17.578813552856445, 14.366207122802734, 16.043010711669922, 17.578813552856445, 17.578813552856445, 17.578813552856445, 15.818586349487305, 15.818586349487305, 17.578813552856445, 14.015161514282227, 17.578813552856445, 14.015159606933594, 20.05031967163086, 17.578811645507812, 14.015161514282227, 14.01516056060791, 17.578811645507812, 15.818586349487305, 17.578813552856445, 14.015161514282227, 17.578811645507812, 14.366205215454102, 17.578813552856445, 15.818586349487305, 15.818586349487305, 14.468147277832031, 15.818586349487305, 15.818586349487305, 15.818586349487305, 15.818586349487305, 14.468147277832031, 17.578811645507812, 15.818586349487305, 14.366203308105469, 15.818586349487305, 15.818586349487305, 14.092850685119629, 15.818586349487305, 15.818586349487305, 17.578813552856445, 13.96605396270752, 15.818586349487305, 15.818586349487305, 14.015161514282227, 15.511898040771484, 17.578811645507812, 14.015161514282227, 17.578813552856445, 15.818586349487305, 14.01516056060791, 15.818586349487305, 15.818586349487305, 17.578811645507812, 15.818586349487305, 17.578811645507812, 15.818586349487305, 15.818586349487305, 17.578811645507812, 17.578813552856445, 17.578811645507812, 14.468147277832031, 15.818586349487305, 15.818586349487305, 15.818586349487305, 17.578813552856445, 13.75802993774414, 15.818586349487305, 15.818586349487305, 17.578813552856445, 15.818586349487305, 17.578811645507812, 17.578811645507812, 17.578813552856445, 13.160516738891602, 16.04299545288086, 13.966047286987305, 17.578811645507812, 15.818586349487305, 17.578813552856445, 15.818586349487305, 14.468147277832031, 17.578811645507812, 17.578813552856445, 17.578813552856445, 17.578813552856445, 14.015161514282227, 14.468147277832031, 17.578813552856445, 17.578813552856445, 15.818586349487305, 17.578813552856445, 15.818586349487305, 13.966043472290039, 14.092851638793945, 17.578811645507812, 14.468147277832031, 14.015161514282227, 17.578813552856445, 15.818586349487305, 13.16055679321289, 15.818586349487305, 14.468146324157715, 17.578813552856445, 14.092850685119629, 17.578813552856445, 14.015161514282227, 14.015161514282227, 13.160558700561523, 17.578811645507812, 13.160472869873047, 15.818586349487305, 15.818586349487305, 17.578811645507812, 14.092851638793945, 14.015161514282227, 15.818586349487305, 16.043004989624023, 14.015161514282227, 15.818586349487305, 15.818586349487305, 14.468147277832031, 15.818586349487305, 17.578811645507812, 14.092850685119629, 15.818586349487305, 15.818586349487305, 14.468147277832031, 17.578813552856445, 17.578813552856445, 17.578813552856445, 14.015161514282227, 17.578813552856445, 17.578813552856445, 17.578813552856445, 17.578813552856445, 14.015161514282227, 15.818586349487305, 13.160551071166992, 15.818586349487305, 17.578813552856445, 15.511914253234863, 17.578813552856445, 17.578813552856445, 15.818586349487305, 15.818586349487305, 15.818586349487305, 15.818586349487305, 17.578813552856445, 15.818586349487305, 17.578813552856445, 17.578813552856445, 15.818586349487305, 17.578813552856445, 15.818586349487305, 15.818586349487305, 17.578813552856445, 15.818586349487305, 17.578811645507812, 17.578811645507812, 17.578813552856445, 14.468147277832031, 17.578813552856445, 17.578813552856445, 20.05034065246582, 14.015161514282227, 15.818586349487305, 17.578813552856445, 25.206138610839844, 15.818586349487305, 13.160512924194336, 15.511893272399902, 17.578813552856445, 14.092850685119629, 15.818586349487305, 16.04300880432129, 17.578813552856445, 15.818586349487305, 15.818586349487305, 15.818586349487305, 17.578811645507812, 14.015161514282227, 15.818586349487305, 17.578811645507812, 13.160593032836914, 17.578813552856445, 14.366205215454102, 17.578813552856445, 17.578811645507812, 17.578811645507812, 15.818586349487305, 16.04300880432129, 15.818586349487305, 17.578813552856445, 17.578811645507812, 17.578813552856445, 13.966048240661621, 17.578813552856445, 17.578813552856445, 17.578813552856445, 17.578811645507812, 16.043006896972656, 14.092851638793945, 14.468147277832031, 17.578813552856445, 15.818586349487305, 15.818586349487305, 15.818586349487305, 15.818586349487305, 17.578811645507812, 14.015159606933594, 15.818586349487305, 15.818586349487305, 14.092850685119629, 15.818586349487305, 15.511894226074219, 17.578811645507812, 15.818586349487305, 15.818586349487305, 15.818586349487305, 14.092851638793945, 15.818586349487305, 13.16048526763916, 17.578811645507812, 14.092851638793945, 17.578813552856445, 15.818586349487305, 17.578813552856445, 15.818586349487305, 14.092851638793945, 17.578813552856445, 17.578813552856445, 20.050355911254883, 14.468147277832031, 17.578813552856445, 15.818586349487305, 13.966049194335938, 17.578811645507812, 15.51185417175293, 15.818586349487305, 15.818586349487305, 15.818586349487305, 15.818586349487305, 14.092851638793945, 17.578813552856445, 15.818586349487305, 17.578813552856445, 13.160550117492676, 15.818586349487305, 14.01516056060791, 15.818586349487305, 15.818586349487305, 17.578813552856445, 17.578811645507812, 17.578813552856445, 15.818586349487305, 17.578813552856445, 14.01516056060791, 17.578813552856445, 14.366205215454102, 15.818586349487305, 20.050315856933594, 14.092851638793945, 15.818586349487305, 15.818586349487305, 15.818586349487305, 17.578813552856445, 15.818586349487305, 17.578811645507812, 17.578813552856445, 14.015161514282227, 13.966048240661621, 17.578813552856445, 14.01516056060791, 15.818586349487305, 17.578813552856445, 17.578811645507812, 17.578813552856445, 14.092850685119629, 17.578811645507812, 14.01516056060791, 15.818586349487305, 17.578813552856445, 17.578811645507812, 15.818586349487305, 17.578813552856445, 15.818586349487305, 17.578813552856445, 17.578811645507812, 15.818586349487305, 14.468147277832031, 15.818586349487305, 17.578811645507812, 15.818586349487305, 13.205412864685059, 13.966048240661621, 14.092850685119629, 14.015161514282227, 17.578811645507812, 14.468146324157715, 17.578813552856445, 14.015161514282227, 15.818586349487305, 15.818586349487305, 17.578813552856445, 15.818586349487305, 28.586557388305664, 13.642695426940918, 15.818586349487305, 17.578813552856445, 15.818586349487305, 15.818586349487305, 14.015159606933594, 13.16066837310791, 15.818586349487305, 15.511914253234863, 15.818586349487305, 15.818586349487305, 17.578813552856445, 17.578813552856445, 17.578813552856445, 15.818586349487305, 15.818586349487305, 17.578811645507812, 15.818586349487305, 15.818586349487305, 14.015161514282227, 15.818586349487305, 15.818586349487305, 17.578811645507812, 14.468146324157715, 15.818586349487305, 17.578811645507812, 17.578813552856445, 14.015159606933594, 15.818586349487305, 15.818586349487305, 15.818586349487305, 17.578813552856445, 17.578811645507812, 17.578811645507812, 15.818586349487305, 17.578813552856445, 14.366205215454102, 15.818586349487305, 15.818586349487305, 17.578811645507812, 17.578811645507812, 15.818586349487305, 17.578811645507812, 15.818586349487305, 14.01516056060791, 15.818586349487305, 14.092851638793945, 14.015161514282227, 15.818586349487305, 15.818586349487305, 15.818586349487305, 17.578813552856445, 16.043010711669922, 17.578811645507812, 17.578813552856445, 17.578811645507812, 16.04300880432129, 15.818586349487305, 17.578811645507812, 14.015161514282227, 15.818586349487305, 15.818586349487305, 17.578811645507812, 14.015161514282227, 14.01516056060791, 16.043010711669922, 16.043010711669922, 15.818586349487305, 15.818586349487305, 14.366203308105469, 14.366203308105469, 15.818586349487305, 17.578813552856445, 15.818586349487305, 17.578811645507812, 17.578813552856445, 13.920713424682617, 14.015161514282227, 15.818586349487305, 15.818586349487305, 14.01516056060791, 14.01516056060791, 15.818586349487305, 17.578813552856445, 15.818586349487305, 15.818586349487305, 15.818586349487305, 15.818586349487305, 17.578811645507812, 17.578811645507812, 15.818586349487305, 17.578811645507812, 14.366209030151367, 14.468147277832031, 14.015159606933594, 15.818586349487305, 17.578813552856445, 15.818586349487305, 15.818586349487305, 17.578811645507812, 15.818586349487305, 14.36620807647705, 13.160484313964844, 15.818586349487305, 15.818586349487305, 13.966047286987305, 15.51191520690918, 14.468146324157715, 15.818586349487305, 17.578813552856445, 17.578813552856445, 15.818586349487305, 15.818586349487305, 15.818586349487305, 15.818586349487305, 15.818586349487305, 17.578813552856445, 14.092851638793945, 15.818586349487305, 17.578811645507812, 14.092850685119629, 17.578811645507812, 17.578813552856445, 15.818586349487305, 17.578813552856445, 14.468147277832031, 17.578811645507812, 17.578813552856445, 15.818586349487305, 14.015161514282227, 13.966045379638672, 15.818586349487305, 17.578811645507812, 17.578811645507812, 14.015159606933594, 17.578811645507812, 15.818586349487305, 13.160478591918945, 15.818586349487305, 14.01516056060791, 14.015161514282227, 14.015161514282227, 15.818586349487305, 16.043010711669922, 15.818586349487305, 17.578813552856445, 14.092850685119629, 14.366201400756836, 15.818586349487305, 14.01516056060791, 15.511868476867676, 17.578813552856445, 14.01516056060791, 17.578813552856445, 14.015161514282227, 17.578811645507812, 17.578811645507812, 17.578813552856445, 14.092850685119629, 15.818586349487305, 15.818586349487305, 20.05035400390625, 15.818586349487305, 15.818586349487305, 13.160548210144043, 15.818586349487305, 16.043006896972656, 15.818586349487305, 17.578813552856445, 16.04300308227539, 14.015161514282227, 15.511900901794434, 14.015161514282227, 15.818586349487305, 17.578811645507812, 16.042997360229492, 14.01516056060791, 15.818586349487305, 17.578811645507812, 17.578813552856445, 14.015159606933594, 15.818586349487305, 17.578811645507812, 15.818586349487305, 15.818586349487305, 15.818586349487305, 15.818586349487305, 14.092850685119629, 15.818586349487305, 14.32820987701416, 17.578811645507812, 14.092851638793945, 15.818586349487305, 17.578813552856445, 15.818586349487305, 16.04298973083496, 15.818586349487305, 15.818586349487305, 17.578811645507812, 15.818586349487305, 17.578811645507812, 17.578811645507812, 14.01516056060791, 15.818586349487305, 15.818586349487305, 14.015161514282227, 17.578813552856445, 17.578813552856445, 14.366203308105469, 14.092851638793945, 17.578813552856445, 17.578813552856445, 17.578813552856445, 15.818586349487305, 17.578813552856445, 17.578813552856445, 17.578813552856445, 14.01516056060791, 17.578813552856445, 17.578813552856445, 14.092851638793945, 15.818586349487305, 14.468147277832031, 17.578813552856445, 15.818586349487305, 15.818586349487305, 14.366201400756836, 14.01516056060791, 17.578813552856445, 17.578813552856445, 17.578813552856445, 14.366203308105469, 13.966045379638672, 15.818586349487305, 17.578813552856445, 15.818586349487305, 17.578813552856445, 17.578813552856445, 17.578813552856445, 14.015161514282227, 17.578813552856445, 15.818586349487305, 17.578813552856445, 15.818586349487305, 16.04300880432129, 15.818586349487305, 14.092851638793945, 15.818586349487305, 17.578813552856445, 15.818586349487305, 14.015159606933594, 15.818586349487305, 17.578813552856445, 17.578813552856445, 14.01516056060791, 17.578813552856445, 13.160551071166992, 15.818586349487305, 15.818586349487305, 14.092850685119629, 17.578813552856445, 14.092851638793945, 17.578813552856445, 14.01516056060791, 13.966047286987305, 14.468147277832031, 17.578813552856445, 17.578813552856445, 17.578813552856445, 15.818586349487305, 14.01516056060791, 17.578813552856445, 17.578813552856445, 17.578811645507812, 17.578813552856445, 17.578813552856445, 14.015161514282227, 20.050329208374023, 17.578813552856445, 17.578813552856445, 14.468147277832031, 17.578813552856445, 15.818586349487305, 15.818586349487305, 15.818586349487305, 17.578813552856445, 20.050310134887695, 14.092851638793945, 20.05031394958496, 15.818586349487305, 15.818586349487305, 14.468147277832031, 15.511892318725586, 17.578813552856445, 14.092850685119629, 15.818586349487305, 17.578813552856445, 15.818586349487305, 17.578811645507812, 16.04300880432129, 15.818586349487305, 17.578813552856445, 17.578813552856445, 17.578811645507812, 15.818586349487305, 15.818586349487305, 20.05032730102539, 17.578813552856445, 17.578813552856445, 17.578813552856445, 15.818586349487305, 15.818586349487305, 17.578813552856445, 17.578813552856445, 17.578811645507812, 17.578813552856445, 15.818586349487305, 15.818586349487305, 15.818586349487305, 14.01516056060791, 14.092850685119629, 15.818586349487305, 14.092851638793945, 17.578813552856445, 15.818586349487305, 14.015161514282227, 17.578813552856445, 15.818586349487305, 20.050315856933594, 14.092851638793945, 15.818586349487305, 15.818586349487305, 14.092851638793945, 14.366205215454102, 14.092850685119629, 14.01516056060791, 17.578811645507812, 17.578813552856445, 17.578813552856445, 13.966045379638672, 17.578813552856445, 14.468147277832031, 14.092850685119629, 17.578811645507812, 14.01516056060791, 14.468147277832031, 15.818586349487305, 14.015161514282227, 15.818586349487305, 15.818586349487305, 15.818586349487305, 15.818586349487305, 15.818586349487305, 16.043010711669922, 14.015159606933594, 15.818586349487305, 17.578813552856445, 14.015161514282227, 14.468147277832031, 17.578813552856445, 15.818586349487305, 17.578813552856445, 17.578813552856445, 17.578813552856445, 17.578813552856445, 14.01516056060791, 13.966050148010254, 14.092851638793945, 17.578813552856445, 13.160521507263184, 15.818586349487305, 14.01516056060791, 17.578813552856445, 14.366205215454102, 17.578813552856445, 15.511848449707031, 14.092850685119629, 17.578813552856445, 15.818586349487305, 15.818586349487305, 17.578813552856445, 14.01516056060791, 14.01516056060791, 15.818586349487305, 17.578813552856445, 17.578813552856445, 17.578813552856445, 15.818586349487305, 17.578813552856445, 15.818586349487305, 14.468147277832031, 14.015161514282227, 15.818586349487305, 15.818586349487305, 15.818586349487305, 15.818586349487305, 15.818586349487305, 15.818586349487305, 17.578813552856445, 14.468147277832031, 15.818586349487305, 14.468147277832031, 14.468147277832031, 17.578813552856445, 14.01516056060791, 14.468147277832031, 15.818586349487305, 13.966045379638672, 13.480603218078613, 13.966047286987305, 14.092851638793945, 14.468147277832031, 14.015159606933594, 14.01516056060791, 14.015161514282227, 15.818586349487305, 17.578813552856445, 15.818586349487305, 15.818586349487305, 14.366205215454102, 15.818586349487305, 17.578813552856445, 14.015161514282227, 15.818586349487305, 16.042991638183594, 17.578813552856445, 17.578811645507812, 14.015159606933594, 15.818586349487305, 15.818586349487305, 17.578813552856445, 17.578813552856445, 15.818586349487305, 14.01516056060791, 15.818586349487305, 14.01516056060791, 15.818586349487305, 15.818586349487305, 13.160482406616211, 15.818586349487305, 14.344783782958984, 15.818586349487305, 14.01516056060791, 15.818586349487305, 20.050344467163086, 14.468146324157715, 17.578813552856445, 17.578813552856445, 15.818586349487305, 15.818586349487305, 15.818586349487305, 15.818586349487305, 17.578813552856445, 16.04300308227539, 15.818586349487305, 17.578813552856445, 15.818586349487305, 14.015161514282227, 20.050350189208984, 14.092849731445312, 15.818586349487305, 14.092851638793945, 17.578813552856445, 14.015161514282227, 15.818586349487305, 17.578813552856445, 17.578813552856445, 15.818586349487305, 16.043001174926758, 17.578813552856445, 15.818586349487305, 15.818586349487305, 14.01516056060791, 15.818586349487305, 14.092850685119629, 14.468147277832031, 14.01516056060791, 14.092850685119629, 15.818586349487305, 15.818586349487305, 13.160476684570312, 17.578811645507812, 17.578813552856445, 17.578813552856445, 15.818586349487305, 15.818586349487305, 14.366207122802734, 14.468147277832031, 14.468146324157715, 15.818586349487305, 15.818586349487305, 15.818586349487305, 17.578813552856445, 16.043006896972656, 16.04300880432129, 15.818586349487305, 13.1605806350708, 17.578811645507812, 17.578811645507812, 17.578813552856445, 15.511911392211914, 14.468147277832031, 17.578813552856445, 15.818586349487305, 15.818586349487305, 15.818586349487305, 16.04300880432129, 14.366205215454102, 11.336155891418457, 14.015161514282227, 15.818586349487305, 17.578813552856445, 14.015161514282227, 17.578813552856445, 15.818586349487305, 17.578813552856445, 14.468147277832031, 17.578813552856445, 17.578811645507812, 14.015161514282227, 15.818586349487305, 17.578811645507812, 15.818586349487305, 13.429972648620605, 16.043010711669922, 17.578813552856445, 14.468146324157715, 17.578813552856445, 17.578813552856445, 15.818586349487305, 15.818586349487305, 17.578813552856445, 17.578813552856445, 14.468147277832031, 15.818586349487305, 15.818586349487305, 15.818586349487305, 15.818586349487305, 14.092852592468262, 17.578813552856445, 14.015161514282227, 14.01516056060791, 17.578813552856445, 14.01516056060791, 15.818586349487305, 14.092851638793945, 15.818586349487305, 15.818586349487305, 14.015161514282227, 15.818586349487305, 14.092851638793945, 15.818586349487305, 17.578813552856445, 17.578813552856445, 15.818586349487305, 15.818586349487305, 17.578813552856445, 13.966049194335938, 15.818586349487305, 15.818586349487305, 11.308253288269043, 14.092850685119629, 15.511890411376953, 17.578813552856445, 14.01516056060791, 14.015161514282227, 13.160524368286133, 15.818586349487305, 17.578813552856445, 17.578813552856445, 15.818586349487305, 15.818586349487305, 15.818586349487305, 14.092851638793945, 17.578813552856445, 17.578813552856445, 15.818586349487305, 13.160482406616211, 15.818586349487305, 17.578813552856445, 15.818586349487305, 17.578813552856445, 17.578813552856445, 17.578813552856445, 15.818586349487305, 15.818586349487305, 17.578813552856445]\n",
            "Mean Squared Error: 99.0370\n",
            "Mean Absolute Error: 6.4811\n",
            "Root Mean Squared Error (RMSE): 9.9517\n",
            "Mean Absolute Percentage Error (MAPE): 0.41%\n"
          ]
        }
      ]
    },
    {
      "cell_type": "markdown",
      "source": [
        "### 4.3.3 Model 4\n",
        "In this model, we explore if more layers with double the neuron in the first layer will improve the model."
      ],
      "metadata": {
        "id": "246_hGag6xM9"
      }
    },
    {
      "cell_type": "code",
      "source": [
        "#Define the GNN model\n",
        "class GNN4(torch.nn.Module):\n",
        "    def __init__(self,input_dim):\n",
        "        super(GNN4, self).__init__()\n",
        "        ###convolutional layer 1 to extract richer features from the data\n",
        "        self.conv1 = GCNConv(in_channels=input_dim, out_channels=64)\n",
        "        self.bn1 = torch.nn.BatchNorm1d(64)\n",
        "\n",
        "       ### convolutional layer 2 further refining these features into a more compact form.\n",
        "        self.conv2 = GCNConv(in_channels=64, out_channels=32)\n",
        "        self.bn2 = torch.nn.BatchNorm1d(32)\n",
        "\n",
        "        self.conv3 = GCNConv(in_channels=32, out_channels=16)\n",
        "        self.bn3 = torch.nn.BatchNorm1d(16)\n",
        "\n",
        "        self.conv4 = GCNConv(in_channels=16,out_channels=8)\n",
        "        self.bn4 = torch.nn.BatchNorm1d(8)\n",
        "\n",
        "        self.fc = torch.nn.Linear(8, 1)\n",
        "        self.dropout = torch.nn.Dropout(p=0.5)\n",
        "\n",
        "    def forward(self, data):\n",
        "        x, edge_index = data.x, data.edge_index\n",
        "\n",
        "        x = self.conv1(x, edge_index)\n",
        "        x = self.bn1(x)\n",
        "        x = F.relu(x)\n",
        "        x = self.dropout(x)\n",
        "\n",
        "        x = self.conv2(x, edge_index)\n",
        "        x = self.bn2(x)\n",
        "        x = F.relu(x)\n",
        "        x = self.dropout(x)\n",
        "\n",
        "        x = self.conv3(x, edge_index)\n",
        "        x = self.bn3(x)\n",
        "        x = F.relu(x)\n",
        "        x = self.dropout(x)\n",
        "\n",
        "        x = self.conv4(x, edge_index)\n",
        "        x = self.bn4(x)\n",
        "        x = F.relu(x)\n",
        "\n",
        "        embeddings = x\n",
        "        x = self.fc(x)\n",
        "        return x"
      ],
      "metadata": {
        "id": "26qaqIr1N7-x"
      },
      "execution_count": null,
      "outputs": []
    },
    {
      "cell_type": "code",
      "source": [
        "\n",
        "# Initialize the model, loss function, and optimizer\n",
        "model_Iteration4 = GNN4(5)\n",
        "criterion = torch.nn.L1Loss()\n",
        "optimizer = torch.optim.Adam(model_Iteration4.parameters(), lr=0.005)\n",
        "\n",
        "# Early stopping parameters\n",
        "patience = 30  # Number of epochs to wait for improvement\n",
        "best_val_loss = float('inf')  # Initialize with a large value\n",
        "epochs_no_improve = 0  # Count of epochs since the last improvement\n",
        "\n",
        "\n",
        "for epoch in range(500):\n",
        "  model_Iteration4.train()\n",
        "  train_loss = 0\n",
        "  for batch in train_loader2:\n",
        "      optimizer.zero_grad()\n",
        "      out = model_Iteration4(batch)\n",
        "      loss = criterion(out, batch.y.view(-1, 1).float())\n",
        "      if torch.isnan(loss).sum() > 0:\n",
        "          print(\"NaN loss encountered at epoch:\", epoch)\n",
        "          break\n",
        "      loss.backward()\n",
        "      torch.nn.utils.clip_grad_norm_(model_Iteration4.parameters(), max_norm=1.0)\n",
        "      optimizer.step()\n",
        "      train_loss += loss.item() * batch.num_graphs\n",
        "  train_loss /= len(train_loader2.dataset)\n",
        "\n",
        "\n",
        "  model_Iteration4.eval()  # Set the model to evaluation mode\n",
        "  val_loss = 0  # Initialize validation loss\n",
        "\n",
        "  with torch.no_grad():  # No gradient computation\n",
        "      for batch in val_loader2:\n",
        "          out = model_Iteration4(batch)  # Forward pass\n",
        "          loss = criterion(out, batch.y.view(-1, 1).float())  # Compute loss\n",
        "          val_loss += loss.item() * batch.num_graphs  # Accumulate validation loss\n",
        "\n",
        "  val_loss /= len(val_loader2.dataset)  # Average validation loss\n",
        "  print(f'Epoch {epoch+1}, Validation Loss: {val_loss:.4f},Loss: {train_loss:.4f},best_val_loss:{best_val_loss:.4f}')\n",
        "\n",
        "  # Early stopping check\n",
        "  if val_loss < best_val_loss:\n",
        "      best_val_loss = val_loss\n",
        "      epochs_no_improve = 0\n",
        "      # Save the best model\n",
        "      torch.save(model_Iteration4.state_dict(), 'best_model2.pt')\n",
        "  else:\n",
        "      epochs_no_improve += 1\n",
        "\n",
        "    # Check if early stopping criterion is met\n",
        "  if epochs_no_improve >= patience:\n",
        "      print(f'Early stopping triggered after {epoch+1} epochs')\n",
        "      break\n",
        "\n",
        "    # Set the model back to training mode for the next epoch\n",
        "  model_Iteration4.train()"
      ],
      "metadata": {
        "id": "5zUhmFGSN8nd"
      },
      "execution_count": null,
      "outputs": []
    },
    {
      "cell_type": "markdown",
      "source": [
        "#### 4.3.3 Model 4 Evaluation\n",
        "----------------------------------\n",
        "The results from Model 4 is about the same as Model 3 as from the results, the metrics do not improve drastically with more neurons or having more layers. It however performed better than the baseline model in the Mean Absolute Error which is the main metrics we want to be better than the baselne model."
      ],
      "metadata": {
        "id": "958mJ_5R7EwB"
      }
    },
    {
      "cell_type": "code",
      "source": [
        "# Prediction\n",
        "model_Iteration4.eval()\n",
        "predictions = []\n",
        "with torch.no_grad():\n",
        "    for batch in test_loader2:\n",
        "        out = model_Iteration4(batch)\n",
        "        predictions.extend(out.squeeze().cpu().numpy().tolist())\n",
        "\n",
        "print(f'Predicted valuations: {predictions}')\n",
        "\n",
        "# Evaluation\n",
        "from sklearn.metrics import mean_squared_error, mean_absolute_error, mean_absolute_percentage_error\n",
        "\n",
        "# Convert predictions and targets to numpy arrays for evaluation\n",
        "actuals = test_data.y.numpy()\n",
        "\n",
        "# Calculate evaluation metrics\n",
        "mse = mean_squared_error(actuals, predictions)\n",
        "mae = mean_absolute_error(actuals, predictions)\n",
        "rmse = mean_squared_error(actuals, predictions, squared=False)\n",
        "mape = mean_absolute_percentage_error(actuals, predictions)\n",
        "\n",
        "\n",
        "print(f'Mean Squared Error: {mse:.4f}')\n",
        "print(f'Mean Absolute Error: {mae:.4f}')\n",
        "print(f'Root Mean Squared Error (RMSE): {rmse:.4f}')\n",
        "print(f'Mean Absolute Percentage Error (MAPE): {mape:.2f}%')"
      ],
      "metadata": {
        "colab": {
          "base_uri": "https://localhost:8080/"
        },
        "id": "QqK_nIMVN88v",
        "outputId": "1628ee9b-8800-48b0-d8aa-cfe03d24a28e"
      },
      "execution_count": null,
      "outputs": [
        {
          "output_type": "stream",
          "name": "stdout",
          "text": [
            "Predicted valuations: [16.878067016601562, 16.878067016601562, 14.79757022857666, 16.878067016601562, 13.869486808776855, 16.878067016601562, 14.79757022857666, 11.777496337890625, 14.107336044311523, 13.869486808776855, 14.79757022857666, 13.869486808776855, 13.869486808776855, 16.878067016601562, 14.316536903381348, 14.316536903381348, 16.878067016601562, 16.878067016601562, 16.878067016601562, 16.878067016601562, 13.517804145812988, 14.79757022857666, 11.777495384216309, 16.878067016601562, 16.878067016601562, 15.13044548034668, 16.878067016601562, 11.777496337890625, 16.878067016601562, 16.878067016601562, 16.878067016601562, 19.627227783203125, 16.878067016601562, 14.79757022857666, 13.869486808776855, 11.777496337890625, 14.79757022857666, 14.79757022857666, 14.107336044311523, 16.878067016601562, 16.878067016601562, 14.79757022857666, 14.79757022857666, 14.316536903381348, 14.107336044311523, 14.79757022857666, 14.79757022857666, 16.878067016601562, 14.79757022857666, 16.878067016601562, 13.517804145812988, 14.107336044311523, 14.107336044311523, 14.107336044311523, 13.517804145812988, 15.167634010314941, 17.22077178955078, 14.107336044311523, 11.777497291564941, 16.878067016601562, 19.627227783203125, 16.878067016601562, 14.79757022857666, 11.777496337890625, 16.878067016601562, 16.878067016601562, 14.79757022857666, 14.79757022857666, 16.878067016601562, 14.316536903381348, 16.878067016601562, 16.878067016601562, 16.878067016601562, 13.869486808776855, 16.878067016601562, 14.79757022857666, 16.878067016601562, 13.869486808776855, 11.777496337890625, 16.878067016601562, 15.167634963989258, 16.878067016601562, 17.22077178955078, 16.878067016601562, 16.630882263183594, 16.878067016601562, 14.79757022857666, 15.167634963989258, 13.869486808776855, 16.878067016601562, 11.777495384216309, 16.878067016601562, 14.107336044311523, 16.878067016601562, 14.107336044311523, 14.79757022857666, 14.79757022857666, 16.878067016601562, 16.878067016601562, 16.878067016601562, 16.878067016601562, 14.79757022857666, 14.79757022857666, 14.79757022857666, 16.878067016601562, 14.79757022857666, 13.517804145812988, 16.878067016601562, 14.79757022857666, 15.130446434020996, 15.167634010314941, 14.79757022857666, 16.878067016601562, 14.79757022857666, 14.79757022857666, 16.878067016601562, 14.107336044311523, 14.79757022857666, 14.79757022857666, 16.878067016601562, 13.869486808776855, 16.878067016601562, 17.22077178955078, 16.878067016601562, 16.878067016601562, 17.22077178955078, 16.84198760986328, 16.878067016601562, 14.79757022857666, 15.130446434020996, 16.878067016601562, 14.79757022857666, 14.79757022857666, 16.878067016601562, 16.878067016601562, 14.79757022857666, 13.869486808776855, 14.79757022857666, 14.79757022857666, 16.878067016601562, 14.79757022857666, 14.107336044311523, 16.878067016601562, 14.79757022857666, 16.878067016601562, 16.878067016601562, 14.79757022857666, 16.878067016601562, 17.22077178955078, 14.107336044311523, 14.107336044311523, 16.878067016601562, 11.777497291564941, 17.22077178955078, 14.107336044311523, 16.878067016601562, 14.79757022857666, 16.878067016601562, 15.130446434020996, 16.878067016601562, 17.22077178955078, 14.79757022857666, 16.878067016601562, 16.878067016601562, 16.878067016601562, 14.107336044311523, 14.79757022857666, 15.167634963989258, 15.167634963989258, 14.79757022857666, 16.878067016601562, 16.878067016601562, 14.79757022857666, 14.79757022857666, 16.878067016601562, 16.878067016601562, 16.878067016601562, 16.878067016601562, 14.79757022857666, 14.107336044311523, 16.878067016601562, 14.79757022857666, 14.79757022857666, 16.878067016601562, 13.517804145812988, 14.107336044311523, 16.878067016601562, 14.79757022857666, 14.79757022857666, 14.107336044311523, 16.878067016601562, 16.878067016601562, 14.79757022857666, 16.878067016601562, 14.79757022857666, 13.869486808776855, 14.79757022857666, 15.167634010314941, 16.878067016601562, 17.22077178955078, 19.627227783203125, 14.107336044311523, 16.878067016601562, 15.13044548034668, 11.777497291564941, 14.79757022857666, 14.79757022857666, 14.79757022857666, 11.777496337890625, 14.107336044311523, 14.79757022857666, 14.79757022857666, 14.79757022857666, 14.79757022857666, 14.107336044311523, 16.878067016601562, 16.878067016601562, 14.79757022857666, 17.22077178955078, 14.79757022857666, 11.777497291564941, 14.751287460327148, 14.79757022857666, 13.869486808776855, 14.79757022857666, 15.167634963989258, 14.79757022857666, 14.107336044311523, 14.107336044311523, 11.777495384216309, 14.79757022857666, 16.878067016601562, 14.79757022857666, 16.878067016601562, 16.878067016601562, 14.79757022857666, 14.107336044311523, 13.517805099487305, 14.79757022857666, 14.79757022857666, 14.316536903381348, 16.878067016601562, 17.49908447265625, 15.167634963989258, 16.878067016601562, 14.79757022857666, 16.878067016601562, 17.22077178955078, 14.79757022857666, 14.79757022857666, 14.79757022857666, 16.878067016601562, 16.878067016601562, 14.79757022857666, 14.79757022857666, 16.878067016601562, 14.79757022857666, 16.878067016601562, 17.22077178955078, 14.79757022857666, 16.878067016601562, 16.878067016601562, 14.79757022857666, 16.878067016601562, 16.878067016601562, 16.878067016601562, 16.878067016601562, 14.107336044311523, 14.79757022857666, 11.777496337890625, 14.316536903381348, 14.79757022857666, 17.22077178955078, 16.878067016601562, 16.878067016601562, 13.517804145812988, 16.878067016601562, 14.79757022857666, 14.316536903381348, 14.79757022857666, 19.627227783203125, 13.517804145812988, 16.878067016601562, 13.869486808776855, 14.79757022857666, 17.22077178955078, 16.878067016601562, 14.79757022857666, 14.79757022857666, 16.878067016601562, 14.107336044311523, 16.878067016601562, 14.79757022857666, 16.878067016601562, 16.878067016601562, 14.79757022857666, 14.79757022857666, 16.878067016601562, 14.107336044311523, 14.79757022857666, 14.79757022857666, 11.777496337890625, 15.167634963989258, 14.79757022857666, 14.79757022857666, 16.878067016601562, 16.878067016601562, 16.878067016601562, 14.79757022857666, 14.79757022857666, 14.107336044311523, 15.167635917663574, 14.79757022857666, 14.107336044311523, 16.878067016601562, 16.878067016601562, 16.878067016601562, 14.79757022857666, 16.878067016601562, 16.878067016601562, 14.79757022857666, 14.79757022857666, 14.79757022857666, 14.107336044311523, 14.79757022857666, 14.79757022857666, 16.878067016601562, 14.79757022857666, 14.79757022857666, 16.878067016601562, 16.878067016601562, 11.777496337890625, 13.517804145812988, 14.79757022857666, 17.22077178955078, 14.79757022857666, 14.79757022857666, 11.777496337890625, 14.79757022857666, 16.878067016601562, 13.517804145812988, 14.79757022857666, 11.777496337890625, 13.869486808776855, 14.79757022857666, 17.22077178955078, 14.79757022857666, 13.869486808776855, 11.777496337890625, 14.79757022857666, 16.878067016601562, 14.79757022857666, 14.79757022857666, 14.316535949707031, 17.22077178955078, 16.878067016601562, 16.878067016601562, 16.878067016601562, 14.79757022857666, 16.878067016601562, 16.878067016601562, 14.79757022857666, 14.107336044311523, 16.878067016601562, 14.79757022857666, 14.79757022857666, 14.79757022857666, 11.777496337890625, 14.79757022857666, 14.79757022857666, 14.79757022857666, 16.878067016601562, 14.79757022857666, 16.878067016601562, 14.79757022857666, 16.878067016601562, 14.79757022857666, 14.79757022857666, 14.316535949707031, 14.79757022857666, 14.79757022857666, 16.878067016601562, 16.878067016601562, 17.22077178955078, 16.878067016601562, 14.79757022857666, 16.878067016601562, 14.79757022857666, 14.79757022857666, 14.107336044311523, 15.167634963989258, 16.878067016601562, 16.878067016601562, 16.878067016601562, 14.79757022857666, 14.79757022857666, 10.177614212036133, 14.107336044311523, 14.107336044311523, 16.878067016601562, 14.79757022857666, 14.79757022857666, 11.777497291564941, 14.79757022857666, 14.107336044311523, 14.79757022857666, 14.79757022857666, 16.878067016601562, 14.79757022857666, 15.167634963989258, 14.79757022857666, 13.869486808776855, 14.79757022857666, 16.878067016601562, 11.777497291564941, 16.878067016601562, 14.79757022857666, 14.316536903381348, 16.878067016601562, 11.777496337890625, 15.130446434020996, 14.79757022857666, 15.167634963989258, 15.167634963989258, 14.79757022857666, 14.79757022857666, 14.107336044311523, 16.878067016601562, 14.79757022857666, 16.878067016601562, 16.878067016601562, 14.79757022857666, 14.79757022857666, 16.709693908691406, 14.79757022857666, 16.878067016601562, 15.167634010314941, 14.79757022857666, 16.878067016601562, 11.777495384216309, 16.878067016601562, 14.79757022857666, 14.107336044311523, 14.79757022857666, 14.107336044311523, 16.878067016601562, 14.79757022857666, 14.107336044311523, 16.878067016601562, 11.777496337890625, 14.107336044311523, 14.79757022857666, 14.79757022857666, 16.878067016601562, 14.79757022857666, 13.869486808776855, 16.878067016601562, 13.517805099487305, 16.878067016601562, 19.627227783203125, 16.878067016601562, 16.878067016601562, 14.79757022857666, 16.878067016601562, 14.79757022857666, 14.79757022857666, 16.878067016601562, 16.878067016601562, 15.167634963989258, 17.22077178955078, 16.878067016601562, 14.547138214111328, 16.878067016601562, 16.878067016601562, 16.878067016601562, 16.878067016601562, 14.79757022857666, 13.517804145812988, 14.79757022857666, 11.777496337890625, 16.878067016601562, 16.878067016601562, 16.878067016601562, 13.869486808776855, 13.869486808776855, 11.777496337890625, 19.62723159790039, 15.13044548034668, 14.79757022857666, 15.167634963989258, 16.878067016601562, 16.878067016601562, 14.79757022857666, 16.878067016601562, 16.878067016601562, 16.878067016601562, 14.79757022857666, 14.79757022857666, 19.62723159790039, 19.627227783203125, 14.79757022857666, 10.17460823059082, 13.517805099487305, 13.869486808776855, 14.79757022857666, 16.878067016601562, 14.79757022857666, 17.22077178955078, 15.167635917663574, 16.878067016601562, 16.878067016601562, 16.878067016601562, 14.79757022857666, 14.79757022857666, 16.878067016601562, 16.878067016601562, 14.79757022857666, 14.79757022857666, 16.878067016601562, 14.79757022857666, 14.107336044311523, 14.79757022857666, 16.878067016601562, 15.167634010314941, 16.878067016601562, 13.517804145812988, 16.878067016601562, 15.167634963989258, 14.79757022857666, 14.79757022857666, 13.517804145812988, 17.22077178955078, 14.79757022857666, 14.79757022857666, 14.79757022857666, 16.878067016601562, 16.878067016601562, 14.79757022857666, 14.107336044311523, 14.79757022857666, 14.107336044311523, 19.62723159790039, 14.79757022857666, 14.107336044311523, 14.107336044311523, 14.79757022857666, 16.878067016601562, 14.79757022857666, 14.107336044311523, 14.79757022857666, 13.517805099487305, 14.79757022857666, 16.878067016601562, 16.878067016601562, 11.777496337890625, 16.878067016601562, 16.878067016601562, 16.878067016601562, 16.878067016601562, 11.777496337890625, 14.79757022857666, 16.878067016601562, 13.517804145812988, 16.878067016601562, 16.878067016601562, 13.869486808776855, 16.878067016601562, 16.878067016601562, 14.79757022857666, 15.167635917663574, 16.878067016601562, 16.878067016601562, 14.107336044311523, 15.13044548034668, 14.79757022857666, 14.107336044311523, 14.79757022857666, 16.878067016601562, 14.107336044311523, 16.878067016601562, 16.878067016601562, 14.79757022857666, 16.878067016601562, 14.79757022857666, 16.878067016601562, 16.878067016601562, 14.79757022857666, 14.79757022857666, 14.79757022857666, 11.777496337890625, 16.878067016601562, 16.878067016601562, 16.878067016601562, 14.79757022857666, 15.906294822692871, 16.878067016601562, 16.878067016601562, 14.79757022857666, 16.878067016601562, 14.79757022857666, 14.79757022857666, 14.79757022857666, 14.316536903381348, 17.22077178955078, 15.167634963989258, 14.79757022857666, 16.878067016601562, 14.79757022857666, 16.878067016601562, 11.777496337890625, 14.79757022857666, 14.79757022857666, 14.79757022857666, 14.79757022857666, 14.107336044311523, 11.777496337890625, 14.79757022857666, 14.79757022857666, 16.878067016601562, 14.79757022857666, 16.878067016601562, 15.167634010314941, 13.869486808776855, 14.79757022857666, 11.777496337890625, 14.107336044311523, 14.79757022857666, 16.878067016601562, 14.316535949707031, 16.878067016601562, 11.777496337890625, 14.79757022857666, 13.869486808776855, 14.79757022857666, 14.107336044311523, 14.107336044311523, 14.316535949707031, 14.79757022857666, 14.316536903381348, 16.878067016601562, 16.878067016601562, 14.79757022857666, 13.869486808776855, 14.107336044311523, 16.878067016601562, 17.22077178955078, 14.107336044311523, 16.878067016601562, 16.878067016601562, 11.777497291564941, 16.878067016601562, 14.79757022857666, 13.869486808776855, 16.878067016601562, 16.878067016601562, 11.777496337890625, 14.79757022857666, 14.79757022857666, 14.79757022857666, 14.107336044311523, 14.79757022857666, 14.79757022857666, 14.79757022857666, 14.79757022857666, 14.107336044311523, 16.878067016601562, 14.316536903381348, 16.878067016601562, 14.79757022857666, 15.130446434020996, 14.79757022857666, 14.79757022857666, 16.878067016601562, 16.878067016601562, 16.878067016601562, 16.878067016601562, 14.79757022857666, 16.878067016601562, 14.79757022857666, 14.79757022857666, 16.878067016601562, 14.79757022857666, 16.878067016601562, 16.878067016601562, 14.79757022857666, 16.878067016601562, 14.79757022857666, 14.79757022857666, 14.79757022857666, 11.777496337890625, 14.79757022857666, 14.79757022857666, 19.62723159790039, 14.107336044311523, 16.878067016601562, 14.79757022857666, 16.888286590576172, 16.878067016601562, 14.316536903381348, 15.130444526672363, 14.79757022857666, 13.869486808776855, 16.878067016601562, 17.22077178955078, 14.79757022857666, 16.878067016601562, 16.878067016601562, 16.878067016601562, 14.79757022857666, 14.107336044311523, 16.878067016601562, 14.79757022857666, 14.316535949707031, 14.79757022857666, 13.517805099487305, 14.79757022857666, 14.79757022857666, 14.79757022857666, 16.878067016601562, 17.22077178955078, 16.878067016601562, 14.79757022857666, 14.79757022857666, 14.79757022857666, 15.167634963989258, 14.79757022857666, 14.79757022857666, 14.79757022857666, 14.79757022857666, 17.22077178955078, 13.869486808776855, 11.777496337890625, 14.79757022857666, 16.878067016601562, 16.878067016601562, 16.878067016601562, 16.878067016601562, 14.79757022857666, 14.107336044311523, 16.878067016601562, 16.878067016601562, 13.869486808776855, 16.878067016601562, 15.130446434020996, 14.79757022857666, 16.878067016601562, 16.878067016601562, 16.878067016601562, 13.869486808776855, 16.878067016601562, 14.316536903381348, 14.79757022857666, 13.869486808776855, 14.79757022857666, 16.878067016601562, 14.79757022857666, 16.878067016601562, 13.869486808776855, 14.79757022857666, 14.79757022857666, 19.627227783203125, 11.777496337890625, 14.79757022857666, 16.878067016601562, 15.167635917663574, 14.79757022857666, 15.13044548034668, 16.878067016601562, 16.878067016601562, 16.878067016601562, 16.878067016601562, 13.869486808776855, 14.79757022857666, 16.878067016601562, 14.79757022857666, 14.316535949707031, 16.878067016601562, 14.107336044311523, 16.878067016601562, 16.878067016601562, 14.79757022857666, 14.79757022857666, 14.79757022857666, 16.878067016601562, 14.79757022857666, 14.107336044311523, 14.79757022857666, 13.517805099487305, 16.878067016601562, 19.62723159790039, 13.869486808776855, 16.878067016601562, 16.878067016601562, 16.878067016601562, 14.79757022857666, 16.878067016601562, 14.79757022857666, 14.79757022857666, 14.107336044311523, 15.167634963989258, 14.79757022857666, 14.107336044311523, 16.878067016601562, 14.79757022857666, 14.79757022857666, 14.79757022857666, 13.869486808776855, 14.79757022857666, 14.107336044311523, 16.878067016601562, 14.79757022857666, 14.79757022857666, 16.878067016601562, 14.79757022857666, 16.878067016601562, 14.79757022857666, 14.79757022857666, 16.878067016601562, 11.777496337890625, 16.878067016601562, 14.79757022857666, 16.878067016601562, 12.530335426330566, 15.167634963989258, 13.869486808776855, 14.107336044311523, 14.79757022857666, 11.777496337890625, 14.79757022857666, 14.107336044311523, 16.878067016601562, 16.878067016601562, 14.79757022857666, 16.878067016601562, 17.85649871826172, 17.464820861816406, 16.878067016601562, 14.79757022857666, 16.878067016601562, 16.878067016601562, 14.107336044311523, 14.316536903381348, 16.878067016601562, 15.130446434020996, 16.878067016601562, 16.878067016601562, 14.79757022857666, 14.79757022857666, 14.79757022857666, 16.878067016601562, 16.878067016601562, 14.79757022857666, 16.878067016601562, 16.878067016601562, 14.107336044311523, 16.878067016601562, 16.878067016601562, 14.79757022857666, 11.777496337890625, 16.878067016601562, 14.79757022857666, 14.79757022857666, 14.107336044311523, 16.878067016601562, 16.878067016601562, 16.878067016601562, 14.79757022857666, 14.79757022857666, 14.79757022857666, 16.878067016601562, 14.79757022857666, 13.517805099487305, 16.878067016601562, 16.878067016601562, 14.79757022857666, 14.79757022857666, 16.878067016601562, 14.79757022857666, 16.878067016601562, 14.107336044311523, 16.878067016601562, 13.869486808776855, 14.107336044311523, 16.878067016601562, 16.878067016601562, 16.878067016601562, 14.79757022857666, 17.22077178955078, 14.79757022857666, 14.79757022857666, 14.79757022857666, 17.22077178955078, 16.878067016601562, 14.79757022857666, 14.107336044311523, 16.878067016601562, 16.878067016601562, 14.79757022857666, 14.107336044311523, 14.107336044311523, 17.22077178955078, 17.22077178955078, 16.878067016601562, 16.878067016601562, 13.517804145812988, 13.517804145812988, 16.878067016601562, 14.79757022857666, 16.878067016601562, 14.79757022857666, 14.79757022857666, 16.659042358398438, 14.107336044311523, 16.878067016601562, 16.878067016601562, 14.107336044311523, 14.107336044311523, 16.878067016601562, 14.79757022857666, 16.878067016601562, 16.878067016601562, 16.878067016601562, 16.878067016601562, 14.79757022857666, 14.79757022857666, 16.878067016601562, 14.79757022857666, 13.517805099487305, 11.777496337890625, 14.107336044311523, 16.878067016601562, 14.79757022857666, 16.878067016601562, 16.878067016601562, 14.79757022857666, 16.878067016601562, 13.517805099487305, 14.316536903381348, 16.878067016601562, 16.878067016601562, 15.167634963989258, 15.13044548034668, 11.777496337890625, 16.878067016601562, 14.79757022857666, 14.79757022857666, 16.878067016601562, 16.878067016601562, 16.878067016601562, 16.878067016601562, 16.878067016601562, 14.79757022857666, 13.869486808776855, 16.878067016601562, 14.79757022857666, 13.869486808776855, 14.79757022857666, 14.79757022857666, 16.878067016601562, 14.79757022857666, 11.777496337890625, 14.79757022857666, 14.79757022857666, 16.878067016601562, 14.107336044311523, 15.167634010314941, 16.878067016601562, 14.79757022857666, 14.79757022857666, 14.107336044311523, 14.79757022857666, 16.878067016601562, 14.316536903381348, 16.878067016601562, 14.107336044311523, 14.107336044311523, 14.107336044311523, 16.878067016601562, 17.22077178955078, 16.878067016601562, 14.79757022857666, 13.869486808776855, 13.517804145812988, 16.878067016601562, 14.107336044311523, 15.130446434020996, 14.79757022857666, 14.107336044311523, 14.79757022857666, 14.107336044311523, 14.79757022857666, 14.79757022857666, 14.79757022857666, 13.869486808776855, 16.878067016601562, 16.878067016601562, 19.627227783203125, 16.878067016601562, 16.878067016601562, 14.316535949707031, 16.878067016601562, 17.22077178955078, 16.878067016601562, 14.79757022857666, 17.22077178955078, 14.107336044311523, 15.130446434020996, 14.107336044311523, 16.878067016601562, 14.79757022857666, 17.22077178955078, 14.107336044311523, 16.878067016601562, 14.79757022857666, 14.79757022857666, 14.107336044311523, 16.878067016601562, 14.79757022857666, 16.878067016601562, 16.878067016601562, 16.878067016601562, 16.878067016601562, 13.869486808776855, 16.878067016601562, 14.927062034606934, 14.79757022857666, 13.869486808776855, 16.878067016601562, 14.79757022857666, 16.878067016601562, 17.22077178955078, 16.878067016601562, 16.878067016601562, 14.79757022857666, 16.878067016601562, 14.79757022857666, 14.79757022857666, 14.107336044311523, 16.878067016601562, 16.878067016601562, 14.107336044311523, 14.79757022857666, 14.79757022857666, 13.517804145812988, 13.869486808776855, 14.79757022857666, 14.79757022857666, 14.79757022857666, 16.878067016601562, 14.79757022857666, 14.79757022857666, 14.79757022857666, 14.107336044311523, 14.79757022857666, 14.79757022857666, 13.869486808776855, 16.878067016601562, 11.777496337890625, 14.79757022857666, 16.878067016601562, 16.878067016601562, 13.517804145812988, 14.107336044311523, 14.79757022857666, 14.79757022857666, 14.79757022857666, 13.517804145812988, 15.167634963989258, 16.878067016601562, 14.79757022857666, 16.878067016601562, 14.79757022857666, 14.79757022857666, 14.79757022857666, 14.107336044311523, 14.79757022857666, 16.878067016601562, 14.79757022857666, 16.878067016601562, 17.22077178955078, 16.878067016601562, 13.869486808776855, 16.878067016601562, 14.79757022857666, 16.878067016601562, 14.107336044311523, 16.878067016601562, 14.79757022857666, 14.79757022857666, 14.107336044311523, 14.79757022857666, 14.316535949707031, 16.878067016601562, 16.878067016601562, 13.869486808776855, 14.79757022857666, 13.869486808776855, 14.79757022857666, 14.107336044311523, 15.167634963989258, 11.777496337890625, 14.79757022857666, 14.79757022857666, 14.79757022857666, 16.878067016601562, 14.107336044311523, 14.79757022857666, 14.79757022857666, 14.79757022857666, 14.79757022857666, 14.79757022857666, 14.107336044311523, 19.62723159790039, 14.79757022857666, 14.79757022857666, 11.777497291564941, 14.79757022857666, 16.878067016601562, 16.878067016601562, 16.878067016601562, 14.79757022857666, 19.62723159790039, 13.869486808776855, 19.62723159790039, 16.878067016601562, 16.878067016601562, 11.777496337890625, 15.130446434020996, 14.79757022857666, 13.869486808776855, 16.878067016601562, 14.79757022857666, 16.878067016601562, 14.79757022857666, 17.22077178955078, 16.878067016601562, 14.79757022857666, 14.79757022857666, 14.79757022857666, 16.878067016601562, 16.878067016601562, 19.62723159790039, 14.79757022857666, 14.79757022857666, 14.79757022857666, 16.878067016601562, 16.878067016601562, 14.79757022857666, 14.79757022857666, 14.79757022857666, 14.79757022857666, 16.878067016601562, 16.878067016601562, 16.878067016601562, 14.107336044311523, 13.869486808776855, 16.878067016601562, 13.869486808776855, 14.79757022857666, 16.878067016601562, 14.107336044311523, 14.79757022857666, 16.878067016601562, 19.62723159790039, 13.869486808776855, 16.878067016601562, 16.878067016601562, 13.869486808776855, 13.517804145812988, 13.869486808776855, 14.107336044311523, 14.79757022857666, 14.79757022857666, 14.79757022857666, 15.167634010314941, 14.79757022857666, 11.777496337890625, 13.869486808776855, 14.79757022857666, 14.107336044311523, 11.777496337890625, 16.878067016601562, 14.107336044311523, 16.878067016601562, 16.878067016601562, 16.878067016601562, 16.878067016601562, 16.878067016601562, 17.22077178955078, 14.107336044311523, 16.878067016601562, 14.79757022857666, 14.107336044311523, 11.777496337890625, 14.79757022857666, 16.878067016601562, 14.79757022857666, 14.79757022857666, 14.79757022857666, 14.79757022857666, 14.107336044311523, 15.167635917663574, 13.869486808776855, 14.79757022857666, 14.316536903381348, 16.878067016601562, 14.107336044311523, 14.79757022857666, 13.517804145812988, 14.79757022857666, 15.130446434020996, 13.869486808776855, 14.79757022857666, 16.878067016601562, 16.878067016601562, 14.79757022857666, 14.107336044311523, 14.107336044311523, 16.878067016601562, 14.79757022857666, 14.79757022857666, 14.79757022857666, 16.878067016601562, 14.79757022857666, 16.878067016601562, 11.777496337890625, 14.107336044311523, 16.878067016601562, 16.878067016601562, 16.878067016601562, 16.878067016601562, 16.878067016601562, 16.878067016601562, 14.79757022857666, 11.777496337890625, 16.878067016601562, 11.777496337890625, 11.777496337890625, 14.79757022857666, 14.107336044311523, 11.777496337890625, 16.878067016601562, 15.167634963989258, 17.499126434326172, 15.167634963989258, 13.869486808776855, 11.777496337890625, 14.107336044311523, 14.107336044311523, 14.107336044311523, 16.878067016601562, 14.79757022857666, 16.878067016601562, 16.878067016601562, 13.517804145812988, 16.878067016601562, 14.79757022857666, 14.107336044311523, 16.878067016601562, 17.22077178955078, 14.79757022857666, 14.79757022857666, 14.107336044311523, 16.878067016601562, 16.878067016601562, 14.79757022857666, 14.79757022857666, 16.878067016601562, 14.107336044311523, 16.878067016601562, 14.10733699798584, 16.878067016601562, 16.878067016601562, 14.316536903381348, 16.878067016601562, 15.12688159942627, 16.878067016601562, 14.107336044311523, 16.878067016601562, 19.62723159790039, 11.777497291564941, 14.79757022857666, 14.79757022857666, 16.878067016601562, 16.878067016601562, 16.878067016601562, 16.878067016601562, 14.79757022857666, 17.22077178955078, 16.878067016601562, 14.79757022857666, 16.878067016601562, 14.107336044311523, 19.627227783203125, 13.869486808776855, 16.878067016601562, 13.869486808776855, 14.79757022857666, 14.107336044311523, 16.878067016601562, 14.79757022857666, 14.79757022857666, 16.878067016601562, 17.22077178955078, 14.79757022857666, 16.878067016601562, 16.878067016601562, 14.107336044311523, 16.878067016601562, 13.869486808776855, 11.777496337890625, 14.107336044311523, 13.869486808776855, 16.878067016601562, 16.878067016601562, 14.316536903381348, 14.79757022857666, 14.79757022857666, 14.79757022857666, 16.878067016601562, 16.878067016601562, 13.517804145812988, 11.777496337890625, 11.777496337890625, 16.878067016601562, 16.878067016601562, 16.878067016601562, 14.79757022857666, 17.22077178955078, 17.22077178955078, 16.878067016601562, 14.316535949707031, 14.79757022857666, 14.79757022857666, 14.79757022857666, 15.130444526672363, 11.777496337890625, 14.79757022857666, 16.878067016601562, 16.878067016601562, 16.878067016601562, 17.22077178955078, 13.517805099487305, 10.174059867858887, 14.107336044311523, 16.878067016601562, 14.79757022857666, 14.107336044311523, 14.79757022857666, 16.878067016601562, 14.79757022857666, 11.777496337890625, 14.79757022857666, 14.79757022857666, 14.107336044311523, 16.878067016601562, 14.79757022857666, 16.878067016601562, 16.214900970458984, 17.22077178955078, 14.79757022857666, 11.777496337890625, 14.79757022857666, 14.79757022857666, 16.878067016601562, 16.878067016601562, 14.79757022857666, 14.79757022857666, 11.777496337890625, 16.878067016601562, 16.878067016601562, 16.878067016601562, 16.878067016601562, 13.869486808776855, 14.79757022857666, 14.107336044311523, 14.107336044311523, 14.79757022857666, 14.107336044311523, 16.878067016601562, 13.869486808776855, 16.878067016601562, 16.878067016601562, 14.107336044311523, 16.878067016601562, 13.869486808776855, 16.878067016601562, 14.79757022857666, 14.79757022857666, 16.878067016601562, 16.878067016601562, 14.79757022857666, 15.167635917663574, 16.878067016601562, 16.878067016601562, 10.177226066589355, 13.869486808776855, 15.130444526672363, 14.79757022857666, 14.107336044311523, 14.107336044311523, 14.316536903381348, 16.878067016601562, 14.79757022857666, 14.79757022857666, 16.878067016601562, 16.878067016601562, 16.878067016601562, 13.869486808776855, 14.79757022857666, 14.79757022857666, 16.878067016601562, 14.316536903381348, 16.878067016601562, 14.79757022857666, 16.878067016601562, 14.79757022857666, 14.79757022857666, 14.79757022857666, 16.878067016601562, 16.878067016601562, 14.79757022857666]\n",
            "Mean Squared Error: 99.0291\n",
            "Mean Absolute Error: 6.3832\n",
            "Root Mean Squared Error (RMSE): 9.9513\n",
            "Mean Absolute Percentage Error (MAPE): 0.39%\n"
          ]
        }
      ]
    },
    {
      "cell_type": "code",
      "source": [
        "#Define the GNN model\n",
        "class GNN6(torch.nn.Module):\n",
        "    def __init__(self,input_dim):\n",
        "        super(GNN6, self).__init__()\n",
        "        ###convolutional layer 1 to extract richer features from the data\n",
        "        self.conv1 = GCNConv(in_channels=input_dim, out_channels=32)\n",
        "        self.bn1 = torch.nn.BatchNorm1d(32)\n",
        "\n",
        "        ##adding a hidden layer\n",
        "        self.fc_hidden = torch.nn.Linear(32, 16)\n",
        "        self.bn_hidden = torch.nn.BatchNorm1d(16)\n",
        "\n",
        "       ### convolutional layer 2 further refining these features into a more compact form.\n",
        "        self.conv2 = GCNConv(in_channels=16, out_channels=8)\n",
        "        self.bn2 = torch.nn.BatchNorm1d(8)\n",
        "\n",
        "        self.conv3 = GCNConv(in_channels=8, out_channels=4)\n",
        "        self.bn3 = torch.nn.BatchNorm1d(4)\n",
        "\n",
        "        self.fc = torch.nn.Linear(4, 1)\n",
        "        self.dropout = torch.nn.Dropout(p=0.5)\n",
        "\n",
        "    def forward(self, data):\n",
        "        x, edge_index = data.x, data.edge_index\n",
        "\n",
        "        x = self.conv1(x, edge_index)\n",
        "        x = self.bn1(x)\n",
        "        x = F.relu(x)\n",
        "        x = self.dropout(x)\n",
        "\n",
        "        x = self.fc_hidden(x)\n",
        "        x = self.bn_hidden(x)\n",
        "        x = F.relu(x)\n",
        "        x = self.dropout(x)\n",
        "\n",
        "        x = self.conv2(x, edge_index)\n",
        "        x = self.bn2(x)\n",
        "        x = F.relu(x)\n",
        "        x = self.dropout(x)\n",
        "\n",
        "        x = self.conv3(x,edge_index)\n",
        "        x = self.bn3(x)\n",
        "        x = F.relu(x)\n",
        "\n",
        "        embeddings = x\n",
        "        x = self.fc(x)\n",
        "        return x"
      ],
      "metadata": {
        "id": "qzbGhr1HDR5V"
      },
      "execution_count": null,
      "outputs": []
    },
    {
      "cell_type": "markdown",
      "source": [
        "### 4.3.4 Final Model Test\n",
        "-----------------------------------\n",
        "This model consists of :    \n",
        "- 3 convolutional layer (minus one from the previous)\n",
        "- two linear layers ( one for output and one inbetween)\n",
        "- 4 normalization processes\n",
        "- 4 Relu activation function\n",
        "\n",
        "We shall see if this model works better than the baseline model with the full training without early stopping to check if it is better.\n"
      ],
      "metadata": {
        "id": "vpRG_BRD8ae9"
      }
    },
    {
      "cell_type": "code",
      "source": [
        "\n",
        "# Initialize the model, loss function, and optimizer\n",
        "model_Iteration6 = GNN6(5)\n",
        "criterion = torch.nn.L1Loss()\n",
        "optimizer = torch.optim.Adam(model_Iteration6.parameters(), lr=0.005)\n",
        "\n",
        "# Early stopping parameters\n",
        "patience = 500  # Number of epochs to wait for improvement\n",
        "best_val_loss = float('inf')  # Initialize with a large value\n",
        "epochs_no_improve = 0  # Count of epochs since the last improvement\n",
        "\n",
        "\n",
        "for epoch in range(500):\n",
        "  model_Iteration6.train()\n",
        "  train_loss = 0\n",
        "  for batch in train_loader2:\n",
        "      optimizer.zero_grad()\n",
        "      out = model_Iteration6(batch)\n",
        "      loss = criterion(out, batch.y.view(-1, 1).float())\n",
        "      if torch.isnan(loss).sum() > 0:\n",
        "          print(\"NaN loss encountered at epoch:\", epoch)\n",
        "          break\n",
        "      loss.backward()\n",
        "      torch.nn.utils.clip_grad_norm_(model_Iteration6.parameters(), max_norm=1.0)\n",
        "      optimizer.step()\n",
        "      train_loss += loss.item() * batch.num_graphs\n",
        "  train_loss /= len(train_loader2.dataset)\n",
        "\n",
        "\n",
        "  model_Iteration6.eval()  # Set the model to evaluation mode\n",
        "  val_loss = 0  # Initialize validation loss\n",
        "\n",
        "  with torch.no_grad():  # No gradient computation\n",
        "      for batch in val_loader2:\n",
        "          out = model_Iteration6(batch)  # Forward pass\n",
        "          loss = criterion(out, batch.y.view(-1, 1).float())  # Compute loss\n",
        "          val_loss += loss.item() * batch.num_graphs  # Accumulate validation loss\n",
        "\n",
        "  val_loss /= len(val_loader2.dataset)  # Average validation loss\n",
        "  print(f'Epoch {epoch+1}, Validation Loss: {val_loss:.4f},Loss: {train_loss:.4f},best_val_loss:{best_val_loss:.4f}')\n",
        "\n",
        "  # Early stopping check\n",
        "  if val_loss < best_val_loss:\n",
        "      best_val_loss = val_loss\n",
        "      epochs_no_improve = 0\n",
        "      # Save the best model\n",
        "      torch.save(model_Iteration6.state_dict(), 'best_model2.pt')\n",
        "  else:\n",
        "      epochs_no_improve += 1\n",
        "\n",
        "    # Check if early stopping criterion is met\n",
        "  if epochs_no_improve >= patience:\n",
        "      print(f'Early stopping triggered after {epoch+1} epochs')\n",
        "      break\n",
        "\n",
        "    # Set the model back to training mode for the next epoch\n",
        "  model_Iteration6.train()"
      ],
      "metadata": {
        "id": "X_5VuPiRGQKt"
      },
      "execution_count": null,
      "outputs": []
    },
    {
      "cell_type": "markdown",
      "source": [
        "#### 4.3.4 Final Model Evaluation\n",
        "---------------------------------------\n",
        "The Mean Squared Error is worst than the baseline model which is 84.45 as compared to the model's result of 95.58\n",
        "\n",
        "The Mean Absolute error is slightly better than the Mean Absolute Error of the baseline model as seen from 6.40 to 6.38 of the final model's Mean Absolute Error\n",
        "\n",
        "The Root Mean Squared Error of the model's 9.7765 is worse than the Baseline model's 9.19.\n",
        "\n",
        "The Mean Absolute Percentage Error is better than the Baseline's model as seen from the model's Mean Absolute Percentage error of 0.40 to the Baseline Model's Mean Absolute Percentage Error of 0.45\n",
        "\n",
        "Therefore, the model might still be making a large error due to outliers in the dataset but is still more accurate in predicting the IPO_Prices. With this result, we begin to test for the best model's parameters."
      ],
      "metadata": {
        "id": "oEfo3qm-9JF1"
      }
    },
    {
      "cell_type": "code",
      "source": [
        "# Prediction\n",
        "model_Iteration6.eval()\n",
        "predictions = []\n",
        "with torch.no_grad():\n",
        "    for batch in test_loader2:\n",
        "        out = model_Iteration6(batch)\n",
        "        predictions.extend(out.squeeze().cpu().numpy().tolist())\n",
        "\n",
        "print(f'Predicted valuations: {predictions}')\n",
        "\n",
        "# Evaluation\n",
        "from sklearn.metrics import mean_squared_error, mean_absolute_error, mean_absolute_percentage_error\n",
        "\n",
        "# Convert predictions and targets to numpy arrays for evaluation\n",
        "actuals = test_data.y.numpy()\n",
        "\n",
        "# Calculate evaluation metrics\n",
        "mse = mean_squared_error(actuals, predictions)\n",
        "mae = mean_absolute_error(actuals, predictions)\n",
        "rmse = mean_squared_error(actuals, predictions, squared=False)\n",
        "mape = mean_absolute_percentage_error(actuals, predictions)\n",
        "\n",
        "\n",
        "print(f'Mean Squared Error: {mse:.4f}')\n",
        "print(f'Mean Absolute Error: {mae:.4f}')\n",
        "print(f'Root Mean Squared Error (RMSE): {rmse:.4f}')\n",
        "print(f'Mean Absolute Percentage Error (MAPE): {mape:.2f}%')"
      ],
      "metadata": {
        "colab": {
          "base_uri": "https://localhost:8080/"
        },
        "id": "8iocgQBeHQCk",
        "outputId": "53517e46-6687-4112-921b-d0f8ce0b281d"
      },
      "execution_count": null,
      "outputs": [
        {
          "output_type": "stream",
          "name": "stdout",
          "text": [
            "Predicted valuations: [18.463668823242188, 18.463668823242188, 16.019189834594727, 18.463668823242188, 13.359572410583496, 18.463668823242188, 16.019189834594727, 13.097433090209961, 13.497237205505371, 13.35957145690918, 16.019189834594727, 13.359572410583496, 13.35957145690918, 18.463668823242188, 13.444790840148926, 13.444786071777344, 18.463668823242188, 18.463668823242188, 18.463668823242188, 18.463668823242188, 13.173151969909668, 16.019189834594727, 13.097432136535645, 18.463668823242188, 18.463668823242188, 16.47368812561035, 18.463668823242188, 13.097433090209961, 18.463668823242188, 18.463668823242188, 18.463668823242188, 17.71795654296875, 18.463668823242188, 16.019189834594727, 13.359572410583496, 13.097433090209961, 16.019189834594727, 16.019189834594727, 13.497237205505371, 18.463668823242188, 18.463668823242188, 16.019189834594727, 16.019189834594727, 13.444742202758789, 13.497236251831055, 16.019189834594727, 16.019189834594727, 18.463668823242188, 16.019189834594727, 18.463668823242188, 13.173155784606934, 13.497236251831055, 13.497237205505371, 13.497236251831055, 13.173155784606934, 13.121260643005371, 17.22940444946289, 13.497236251831055, 13.097431182861328, 18.463668823242188, 17.717954635620117, 18.463668823242188, 16.019189834594727, 13.097432136535645, 18.463668823242188, 18.463668823242188, 16.019189834594727, 16.019189834594727, 18.463668823242188, 13.444791793823242, 18.463668823242188, 18.463668823242188, 18.463668823242188, 13.359572410583496, 18.463668823242188, 16.019189834594727, 18.463668823242188, 13.359573364257812, 13.097431182861328, 18.463668823242188, 13.121259689331055, 18.463668823242188, 17.22940444946289, 18.463668823242188, 10.999009132385254, 18.463668823242188, 16.019189834594727, 13.121259689331055, 13.359573364257812, 18.463668823242188, 13.097433090209961, 18.463668823242188, 13.497236251831055, 18.463668823242188, 13.497237205505371, 16.019189834594727, 16.019189834594727, 18.463668823242188, 18.463668823242188, 18.463668823242188, 18.463668823242188, 16.019189834594727, 16.019189834594727, 16.019189834594727, 18.463668823242188, 16.019189834594727, 13.173154830932617, 18.463668823242188, 16.019189834594727, 16.47368812561035, 13.121259689331055, 16.019189834594727, 18.463668823242188, 16.019189834594727, 16.019189834594727, 18.463668823242188, 13.497237205505371, 16.019189834594727, 16.019189834594727, 18.463668823242188, 13.359572410583496, 18.463668823242188, 17.22940444946289, 18.463668823242188, 18.463668823242188, 17.229400634765625, 12.666779518127441, 18.463668823242188, 16.019189834594727, 16.47368049621582, 18.463668823242188, 16.019189834594727, 16.019189834594727, 18.463668823242188, 18.463668823242188, 16.019189834594727, 13.35957145690918, 16.019189834594727, 16.019189834594727, 18.463668823242188, 16.019189834594727, 13.497236251831055, 18.463668823242188, 16.019189834594727, 18.463668823242188, 18.463668823242188, 16.019189834594727, 18.463668823242188, 17.229402542114258, 13.497236251831055, 13.497237205505371, 18.463668823242188, 13.097432136535645, 17.229402542114258, 13.497237205505371, 18.463668823242188, 16.019189834594727, 18.463668823242188, 16.473684310913086, 18.463668823242188, 17.229398727416992, 16.019189834594727, 18.463668823242188, 18.463668823242188, 18.463668823242188, 13.497238159179688, 16.019189834594727, 13.121259689331055, 13.121260643005371, 16.019189834594727, 18.463668823242188, 18.463668823242188, 16.019189834594727, 16.019189834594727, 18.463668823242188, 18.463668823242188, 18.463668823242188, 18.463668823242188, 16.019189834594727, 13.497237205505371, 18.463668823242188, 16.019189834594727, 16.019189834594727, 18.463668823242188, 13.173155784606934, 13.497237205505371, 18.463668823242188, 16.019189834594727, 16.019189834594727, 13.497236251831055, 18.463668823242188, 18.463668823242188, 16.019189834594727, 18.463668823242188, 16.019189834594727, 13.359573364257812, 16.019189834594727, 13.121259689331055, 18.463668823242188, 17.229402542114258, 17.717954635620117, 13.497236251831055, 18.463668823242188, 16.47368621826172, 13.097432136535645, 16.019189834594727, 16.019189834594727, 16.019189834594727, 13.097431182861328, 13.497237205505371, 16.019189834594727, 16.019189834594727, 16.019189834594727, 16.019189834594727, 13.497236251831055, 18.463668823242188, 18.463668823242188, 16.019189834594727, 17.22940444946289, 16.019189834594727, 13.097431182861328, 10.744893074035645, 16.019189834594727, 13.35957145690918, 16.019189834594727, 13.121259689331055, 16.019189834594727, 13.497236251831055, 13.497236251831055, 13.097433090209961, 16.019189834594727, 18.463668823242188, 16.019189834594727, 18.463668823242188, 18.463668823242188, 16.019189834594727, 13.497236251831055, 13.173151016235352, 16.019189834594727, 16.019189834594727, 13.444791793823242, 18.463668823242188, 17.051111221313477, 13.121259689331055, 18.463668823242188, 16.019189834594727, 18.463668823242188, 17.22939682006836, 16.019189834594727, 16.019189834594727, 16.019189834594727, 18.463668823242188, 18.463668823242188, 16.019189834594727, 16.019189834594727, 18.463668823242188, 16.019189834594727, 18.463668823242188, 17.22940444946289, 16.019189834594727, 18.463668823242188, 18.463668823242188, 16.019189834594727, 18.463668823242188, 18.463668823242188, 18.463668823242188, 18.463668823242188, 13.497236251831055, 16.019189834594727, 13.097433090209961, 13.444742202758789, 16.019189834594727, 17.229402542114258, 18.463668823242188, 18.463668823242188, 13.173154830932617, 18.463668823242188, 16.019189834594727, 13.444744110107422, 16.019189834594727, 17.71795654296875, 13.1731538772583, 18.463668823242188, 13.35957145690918, 16.019189834594727, 17.22940444946289, 18.463668823242188, 16.019189834594727, 16.019189834594727, 18.463668823242188, 13.497236251831055, 18.463668823242188, 16.019189834594727, 18.463668823242188, 18.463668823242188, 16.019189834594727, 16.019189834594727, 18.463668823242188, 13.497236251831055, 16.019189834594727, 16.019189834594727, 13.097433090209961, 13.121259689331055, 16.019189834594727, 16.019189834594727, 18.463668823242188, 18.463668823242188, 18.463668823242188, 16.019189834594727, 16.019189834594727, 13.497237205505371, 13.121258735656738, 16.019189834594727, 13.497237205505371, 18.463668823242188, 18.463668823242188, 18.463668823242188, 16.019189834594727, 18.463668823242188, 18.463668823242188, 16.019189834594727, 16.019189834594727, 16.019189834594727, 13.497236251831055, 16.019189834594727, 16.019189834594727, 18.463668823242188, 16.019189834594727, 16.019189834594727, 18.463668823242188, 18.463668823242188, 13.097431182861328, 13.173155784606934, 16.019189834594727, 17.22940444946289, 16.019189834594727, 16.019189834594727, 13.097432136535645, 16.019189834594727, 18.463668823242188, 13.1731538772583, 16.019189834594727, 13.097432136535645, 13.359573364257812, 16.019189834594727, 17.229402542114258, 16.019189834594727, 13.35957145690918, 13.097433090209961, 16.019189834594727, 18.463668823242188, 16.019189834594727, 16.019189834594727, 13.44481086730957, 17.229402542114258, 18.463668823242188, 18.463668823242188, 18.463668823242188, 16.019189834594727, 18.463668823242188, 18.463668823242188, 16.019189834594727, 13.497236251831055, 18.463668823242188, 16.019189834594727, 16.019189834594727, 16.019189834594727, 13.097431182861328, 16.019189834594727, 16.019189834594727, 16.019189834594727, 18.463668823242188, 16.019189834594727, 18.463668823242188, 16.019189834594727, 18.463668823242188, 16.019189834594727, 16.019189834594727, 13.444808006286621, 16.019189834594727, 16.019189834594727, 18.463668823242188, 18.463668823242188, 17.229402542114258, 18.463668823242188, 16.019189834594727, 18.463668823242188, 16.019189834594727, 16.019189834594727, 13.497236251831055, 13.121259689331055, 18.463668823242188, 18.463668823242188, 18.463668823242188, 16.019189834594727, 16.019189834594727, 12.237833976745605, 13.497237205505371, 13.497236251831055, 18.463668823242188, 16.019189834594727, 16.019189834594727, 13.097431182861328, 16.019189834594727, 13.497237205505371, 16.019189834594727, 16.019189834594727, 18.463668823242188, 16.019189834594727, 13.121259689331055, 16.019189834594727, 13.359573364257812, 16.019189834594727, 18.463668823242188, 13.097431182861328, 18.463668823242188, 16.019189834594727, 13.444742202758789, 18.463668823242188, 13.097433090209961, 16.47368049621582, 16.019189834594727, 13.121259689331055, 13.121259689331055, 16.019189834594727, 16.019189834594727, 13.497236251831055, 18.463668823242188, 16.019189834594727, 18.463668823242188, 18.463668823242188, 16.019189834594727, 16.019189834594727, 17.333942413330078, 16.019189834594727, 18.463668823242188, 13.121259689331055, 16.019189834594727, 18.463668823242188, 13.097433090209961, 18.463668823242188, 16.019189834594727, 13.497236251831055, 16.019189834594727, 13.497236251831055, 18.463668823242188, 16.019189834594727, 13.497236251831055, 18.463668823242188, 13.097432136535645, 13.497236251831055, 16.019189834594727, 16.019189834594727, 18.463668823242188, 16.019189834594727, 13.359572410583496, 18.463668823242188, 13.173151016235352, 18.463668823242188, 17.71795654296875, 18.463668823242188, 18.463668823242188, 16.019189834594727, 18.463668823242188, 16.019189834594727, 16.019189834594727, 18.463668823242188, 18.463668823242188, 13.121259689331055, 17.229398727416992, 18.463668823242188, 12.299551010131836, 18.463668823242188, 18.463668823242188, 18.463668823242188, 18.463668823242188, 16.019189834594727, 13.173151016235352, 16.019189834594727, 13.097431182861328, 18.463668823242188, 18.463668823242188, 18.463668823242188, 13.359572410583496, 13.35957145690918, 13.097433090209961, 17.717952728271484, 16.47368621826172, 16.019189834594727, 13.121260643005371, 18.463668823242188, 18.463668823242188, 16.019189834594727, 18.463668823242188, 18.463668823242188, 18.463668823242188, 16.019189834594727, 16.019189834594727, 17.71795654296875, 17.71796417236328, 16.019189834594727, 12.243856430053711, 13.173151016235352, 13.35957145690918, 16.019189834594727, 18.463668823242188, 16.019189834594727, 17.229402542114258, 13.121259689331055, 18.463668823242188, 18.463668823242188, 18.463668823242188, 16.019189834594727, 16.019189834594727, 18.463668823242188, 18.463668823242188, 16.019189834594727, 16.019189834594727, 18.463668823242188, 16.019189834594727, 13.497236251831055, 16.019189834594727, 18.463668823242188, 13.121259689331055, 18.463668823242188, 13.173151016235352, 18.463668823242188, 13.121259689331055, 16.019189834594727, 16.019189834594727, 13.173151016235352, 17.22940444946289, 16.019189834594727, 16.019189834594727, 16.019189834594727, 18.463668823242188, 18.463668823242188, 16.019189834594727, 13.497236251831055, 16.019189834594727, 13.497236251831055, 17.71795654296875, 16.019189834594727, 13.497237205505371, 13.497236251831055, 16.019189834594727, 18.463668823242188, 16.019189834594727, 13.497237205505371, 16.019189834594727, 13.173152923583984, 16.019189834594727, 18.463668823242188, 18.463668823242188, 13.097433090209961, 18.463668823242188, 18.463668823242188, 18.463668823242188, 18.463668823242188, 13.097432136535645, 16.019189834594727, 18.463668823242188, 13.173152923583984, 18.463668823242188, 18.463668823242188, 13.359572410583496, 18.463668823242188, 18.463668823242188, 16.019189834594727, 13.121261596679688, 18.463668823242188, 18.463668823242188, 13.497237205505371, 16.473684310913086, 16.019189834594727, 13.497236251831055, 16.019189834594727, 18.463668823242188, 13.497236251831055, 18.463668823242188, 18.463668823242188, 16.019189834594727, 18.463668823242188, 16.019189834594727, 18.463668823242188, 18.463668823242188, 16.019189834594727, 16.019189834594727, 16.019189834594727, 13.097433090209961, 18.463668823242188, 18.463668823242188, 18.463668823242188, 16.019189834594727, 13.066267013549805, 18.463668823242188, 18.463668823242188, 16.019189834594727, 18.463668823242188, 16.019189834594727, 16.019189834594727, 16.019189834594727, 13.444766998291016, 17.229398727416992, 13.121259689331055, 16.019189834594727, 18.463668823242188, 16.019189834594727, 18.463668823242188, 13.097432136535645, 16.019189834594727, 16.019189834594727, 16.019189834594727, 16.019189834594727, 13.497236251831055, 13.097433090209961, 16.019189834594727, 16.019189834594727, 18.463668823242188, 16.019189834594727, 18.463668823242188, 13.121259689331055, 13.359572410583496, 16.019189834594727, 13.097433090209961, 13.497237205505371, 16.019189834594727, 18.463668823242188, 13.444793701171875, 18.463668823242188, 13.097432136535645, 16.019189834594727, 13.359572410583496, 16.019189834594727, 13.497236251831055, 13.497237205505371, 13.444793701171875, 16.019189834594727, 13.444741249084473, 18.463668823242188, 18.463668823242188, 16.019189834594727, 13.359573364257812, 13.497236251831055, 18.463668823242188, 17.22940444946289, 13.497236251831055, 18.463668823242188, 18.463668823242188, 13.097433090209961, 18.463668823242188, 16.019189834594727, 13.35957145690918, 18.463668823242188, 18.463668823242188, 13.097432136535645, 16.019189834594727, 16.019189834594727, 16.019189834594727, 13.497237205505371, 16.019189834594727, 16.019189834594727, 16.019189834594727, 16.019189834594727, 13.497236251831055, 18.463668823242188, 13.44478988647461, 18.463668823242188, 16.019189834594727, 16.47368049621582, 16.019189834594727, 16.019189834594727, 18.463668823242188, 18.463668823242188, 18.463668823242188, 18.463668823242188, 16.019189834594727, 18.463668823242188, 16.019189834594727, 16.019189834594727, 18.463668823242188, 16.019189834594727, 18.463668823242188, 18.463668823242188, 16.019189834594727, 18.463668823242188, 16.019189834594727, 16.019189834594727, 16.019189834594727, 13.097433090209961, 16.019189834594727, 16.019189834594727, 17.71795654296875, 13.497236251831055, 18.463668823242188, 16.019189834594727, 17.354772567749023, 18.463668823242188, 13.4447660446167, 16.47368621826172, 16.019189834594727, 13.35957145690918, 18.463668823242188, 17.22940444946289, 16.019189834594727, 18.463668823242188, 18.463668823242188, 18.463668823242188, 16.019189834594727, 13.497237205505371, 18.463668823242188, 16.019189834594727, 13.44481086730957, 16.019189834594727, 13.173151016235352, 16.019189834594727, 16.019189834594727, 16.019189834594727, 18.463668823242188, 17.22940444946289, 18.463668823242188, 16.019189834594727, 16.019189834594727, 16.019189834594727, 13.121259689331055, 16.019189834594727, 16.019189834594727, 16.019189834594727, 16.019189834594727, 17.22940444946289, 13.359572410583496, 13.097431182861328, 16.019189834594727, 18.463668823242188, 18.463668823242188, 18.463668823242188, 18.463668823242188, 16.019189834594727, 13.497236251831055, 18.463668823242188, 18.463668823242188, 13.35957145690918, 18.463668823242188, 16.473684310913086, 16.019189834594727, 18.463668823242188, 18.463668823242188, 18.463668823242188, 13.359573364257812, 18.463668823242188, 13.444746971130371, 16.019189834594727, 13.359572410583496, 16.019189834594727, 18.463668823242188, 16.019189834594727, 18.463668823242188, 13.359573364257812, 16.019189834594727, 16.019189834594727, 17.717954635620117, 13.097433090209961, 16.019189834594727, 18.463668823242188, 13.121259689331055, 16.019189834594727, 16.47368621826172, 18.463668823242188, 18.463668823242188, 18.463668823242188, 18.463668823242188, 13.35957145690918, 16.019189834594727, 18.463668823242188, 16.019189834594727, 13.444790840148926, 18.463668823242188, 13.497236251831055, 18.463668823242188, 18.463668823242188, 16.019189834594727, 16.019189834594727, 16.019189834594727, 18.463668823242188, 16.019189834594727, 13.497236251831055, 16.019189834594727, 13.173151969909668, 18.463668823242188, 17.717954635620117, 13.359572410583496, 18.463668823242188, 18.463668823242188, 18.463668823242188, 16.019189834594727, 18.463668823242188, 16.019189834594727, 16.019189834594727, 13.497236251831055, 13.121259689331055, 16.019189834594727, 13.497236251831055, 18.463668823242188, 16.019189834594727, 16.019189834594727, 16.019189834594727, 13.35957145690918, 16.019189834594727, 13.497236251831055, 18.463668823242188, 16.019189834594727, 16.019189834594727, 18.463668823242188, 16.019189834594727, 18.463668823242188, 16.019189834594727, 16.019189834594727, 18.463668823242188, 13.097433090209961, 18.463668823242188, 16.019189834594727, 18.463668823242188, 13.207681655883789, 13.121259689331055, 13.35957145690918, 13.497237205505371, 16.019189834594727, 13.097433090209961, 16.019189834594727, 13.497236251831055, 18.463668823242188, 18.463668823242188, 16.019189834594727, 18.463668823242188, 14.548019409179688, 17.3856201171875, 18.463668823242188, 16.019189834594727, 18.463668823242188, 18.463668823242188, 13.497236251831055, 13.444818496704102, 18.463668823242188, 16.473682403564453, 18.463668823242188, 18.463668823242188, 16.019189834594727, 16.019189834594727, 16.019189834594727, 18.463668823242188, 18.463668823242188, 16.019189834594727, 18.463668823242188, 18.463668823242188, 13.497237205505371, 18.463668823242188, 18.463668823242188, 16.019189834594727, 13.097433090209961, 18.463668823242188, 16.019189834594727, 16.019189834594727, 13.497236251831055, 18.463668823242188, 18.463668823242188, 18.463668823242188, 16.019189834594727, 16.019189834594727, 16.019189834594727, 18.463668823242188, 16.019189834594727, 13.173152923583984, 18.463668823242188, 18.463668823242188, 16.019189834594727, 16.019189834594727, 18.463668823242188, 16.019189834594727, 18.463668823242188, 13.497236251831055, 18.463668823242188, 13.35957145690918, 13.497237205505371, 18.463668823242188, 18.463668823242188, 18.463668823242188, 16.019189834594727, 17.22940444946289, 16.019189834594727, 16.019189834594727, 16.019189834594727, 17.22940444946289, 18.463668823242188, 16.019189834594727, 13.497237205505371, 18.463668823242188, 18.463668823242188, 16.019189834594727, 13.497237205505371, 13.497236251831055, 17.22940444946289, 17.22940444946289, 18.463668823242188, 18.463668823242188, 13.1731538772583, 13.1731538772583, 18.463668823242188, 16.019189834594727, 18.463668823242188, 16.019189834594727, 16.019189834594727, 18.276119232177734, 13.497236251831055, 18.463668823242188, 18.463668823242188, 13.497237205505371, 13.497236251831055, 18.463668823242188, 16.019189834594727, 18.463668823242188, 18.463668823242188, 18.463668823242188, 18.463668823242188, 16.019189834594727, 16.019189834594727, 18.463668823242188, 16.019189834594727, 13.173152923583984, 13.097432136535645, 13.497236251831055, 18.463668823242188, 16.019189834594727, 18.463668823242188, 18.463668823242188, 16.019189834594727, 18.463668823242188, 13.173152923583984, 13.444747924804688, 18.463668823242188, 18.463668823242188, 13.121261596679688, 16.473684310913086, 13.097433090209961, 18.463668823242188, 16.019189834594727, 16.019189834594727, 18.463668823242188, 18.463668823242188, 18.463668823242188, 18.463668823242188, 18.463668823242188, 16.019189834594727, 13.359572410583496, 18.463668823242188, 16.019189834594727, 13.35957145690918, 16.019189834594727, 16.019189834594727, 18.463668823242188, 16.019189834594727, 13.097433090209961, 16.019189834594727, 16.019189834594727, 18.463668823242188, 13.497236251831055, 13.121259689331055, 18.463668823242188, 16.019189834594727, 16.019189834594727, 13.497236251831055, 16.019189834594727, 18.463668823242188, 13.444744110107422, 18.463668823242188, 13.497236251831055, 13.497236251831055, 13.497237205505371, 18.463668823242188, 17.22940444946289, 18.463668823242188, 16.019189834594727, 13.35957145690918, 13.173155784606934, 18.463668823242188, 13.497237205505371, 16.473682403564453, 16.019189834594727, 13.497236251831055, 16.019189834594727, 13.497237205505371, 16.019189834594727, 16.019189834594727, 16.019189834594727, 13.359572410583496, 18.463668823242188, 18.463668823242188, 17.717952728271484, 18.463668823242188, 18.463668823242188, 13.444791793823242, 18.463668823242188, 17.22940444946289, 18.463668823242188, 16.019189834594727, 17.22940444946289, 13.497236251831055, 16.473682403564453, 13.497236251831055, 18.463668823242188, 16.019189834594727, 17.229402542114258, 13.497236251831055, 18.463668823242188, 16.019189834594727, 16.019189834594727, 13.497237205505371, 18.463668823242188, 16.019189834594727, 18.463668823242188, 18.463668823242188, 18.463668823242188, 18.463668823242188, 13.35957145690918, 18.463668823242188, 13.57361125946045, 16.019189834594727, 13.35957145690918, 18.463668823242188, 16.019189834594727, 18.463668823242188, 17.229398727416992, 18.463668823242188, 18.463668823242188, 16.019189834594727, 18.463668823242188, 16.019189834594727, 16.019189834594727, 13.497236251831055, 18.463668823242188, 18.463668823242188, 13.497236251831055, 16.019189834594727, 16.019189834594727, 13.17315673828125, 13.359573364257812, 16.019189834594727, 16.019189834594727, 16.019189834594727, 18.463668823242188, 16.019189834594727, 16.019189834594727, 16.019189834594727, 13.497236251831055, 16.019189834594727, 16.019189834594727, 13.35957145690918, 18.463668823242188, 13.097432136535645, 16.019189834594727, 18.463668823242188, 18.463668823242188, 13.17315673828125, 13.497237205505371, 16.019189834594727, 16.019189834594727, 16.019189834594727, 13.1731538772583, 13.121258735656738, 18.463668823242188, 16.019189834594727, 18.463668823242188, 16.019189834594727, 16.019189834594727, 16.019189834594727, 13.497236251831055, 16.019189834594727, 18.463668823242188, 16.019189834594727, 18.463668823242188, 17.22940444946289, 18.463668823242188, 13.359573364257812, 18.463668823242188, 16.019189834594727, 18.463668823242188, 13.497236251831055, 18.463668823242188, 16.019189834594727, 16.019189834594727, 13.497236251831055, 16.019189834594727, 13.444791793823242, 18.463668823242188, 18.463668823242188, 13.35957145690918, 16.019189834594727, 13.359573364257812, 16.019189834594727, 13.497236251831055, 13.121259689331055, 13.097433090209961, 16.019189834594727, 16.019189834594727, 16.019189834594727, 18.463668823242188, 13.497236251831055, 16.019189834594727, 16.019189834594727, 16.019189834594727, 16.019189834594727, 16.019189834594727, 13.497236251831055, 17.717954635620117, 16.019189834594727, 16.019189834594727, 13.097433090209961, 16.019189834594727, 18.463668823242188, 18.463668823242188, 18.463668823242188, 16.019189834594727, 17.71795654296875, 13.359573364257812, 17.71795654296875, 18.463668823242188, 18.463668823242188, 13.097432136535645, 16.47368049621582, 16.019189834594727, 13.35957145690918, 18.463668823242188, 16.019189834594727, 18.463668823242188, 16.019189834594727, 17.22940444946289, 18.463668823242188, 16.019189834594727, 16.019189834594727, 16.019189834594727, 18.463668823242188, 18.463668823242188, 17.71795654296875, 16.019189834594727, 16.019189834594727, 16.019189834594727, 18.463668823242188, 18.463668823242188, 16.019189834594727, 16.019189834594727, 16.019189834594727, 16.019189834594727, 18.463668823242188, 18.463668823242188, 18.463668823242188, 13.497236251831055, 13.359572410583496, 18.463668823242188, 13.35957145690918, 16.019189834594727, 18.463668823242188, 13.497236251831055, 16.019189834594727, 18.463668823242188, 17.717954635620117, 13.35957145690918, 18.463668823242188, 18.463668823242188, 13.359572410583496, 13.173151969909668, 13.35957145690918, 13.497237205505371, 16.019189834594727, 16.019189834594727, 16.019189834594727, 13.121259689331055, 16.019189834594727, 13.097433090209961, 13.35957145690918, 16.019189834594727, 13.497236251831055, 13.097433090209961, 18.463668823242188, 13.497236251831055, 18.463668823242188, 18.463668823242188, 18.463668823242188, 18.463668823242188, 18.463668823242188, 17.22940444946289, 13.497236251831055, 18.463668823242188, 16.019189834594727, 13.497237205505371, 13.097432136535645, 16.019189834594727, 18.463668823242188, 16.019189834594727, 16.019189834594727, 16.019189834594727, 16.019189834594727, 13.497236251831055, 13.121259689331055, 13.359573364257812, 16.019189834594727, 13.444768905639648, 18.463668823242188, 13.497236251831055, 16.019189834594727, 13.173154830932617, 16.019189834594727, 16.473682403564453, 13.359572410583496, 16.019189834594727, 18.463668823242188, 18.463668823242188, 16.019189834594727, 13.497236251831055, 13.497236251831055, 18.463668823242188, 16.019189834594727, 16.019189834594727, 16.019189834594727, 18.463668823242188, 16.019189834594727, 18.463668823242188, 13.097431182861328, 13.497236251831055, 18.463668823242188, 18.463668823242188, 18.463668823242188, 18.463668823242188, 18.463668823242188, 18.463668823242188, 16.019189834594727, 13.097431182861328, 18.463668823242188, 13.097433090209961, 13.097433090209961, 16.019189834594727, 13.497236251831055, 13.097433090209961, 18.463668823242188, 13.121260643005371, 17.050811767578125, 13.121259689331055, 13.359573364257812, 13.097433090209961, 13.497236251831055, 13.497236251831055, 13.497236251831055, 18.463668823242188, 16.019189834594727, 18.463668823242188, 18.463668823242188, 13.173151016235352, 18.463668823242188, 16.019189834594727, 13.497236251831055, 18.463668823242188, 17.229398727416992, 16.019189834594727, 16.019189834594727, 13.497236251831055, 18.463668823242188, 18.463668823242188, 16.019189834594727, 16.019189834594727, 18.463668823242188, 13.497236251831055, 18.463668823242188, 13.497236251831055, 18.463668823242188, 18.463668823242188, 13.444746971130371, 18.463668823242188, 13.646698951721191, 18.463668823242188, 13.497236251831055, 18.463668823242188, 17.717954635620117, 13.097433090209961, 16.019189834594727, 16.019189834594727, 18.463668823242188, 18.463668823242188, 18.463668823242188, 18.463668823242188, 16.019189834594727, 17.229402542114258, 18.463668823242188, 16.019189834594727, 18.463668823242188, 13.497236251831055, 17.717952728271484, 13.359572410583496, 18.463668823242188, 13.359572410583496, 16.019189834594727, 13.497236251831055, 18.463668823242188, 16.019189834594727, 16.019189834594727, 18.463668823242188, 17.229402542114258, 16.019189834594727, 18.463668823242188, 18.463668823242188, 13.497236251831055, 18.463668823242188, 13.359572410583496, 13.097433090209961, 13.497236251831055, 13.359573364257812, 18.463668823242188, 18.463668823242188, 13.444742202758789, 16.019189834594727, 16.019189834594727, 16.019189834594727, 18.463668823242188, 18.463668823242188, 13.173154830932617, 13.097433090209961, 13.097433090209961, 18.463668823242188, 18.463668823242188, 18.463668823242188, 16.019189834594727, 17.22940444946289, 17.22940444946289, 18.463668823242188, 13.444808959960938, 16.019189834594727, 16.019189834594727, 16.019189834594727, 16.473684310913086, 13.097433090209961, 16.019189834594727, 18.463668823242188, 18.463668823242188, 18.463668823242188, 17.22940444946289, 13.173152923583984, 12.244561195373535, 13.497236251831055, 18.463668823242188, 16.019189834594727, 13.497236251831055, 16.019189834594727, 18.463668823242188, 16.019189834594727, 13.097433090209961, 16.019189834594727, 16.019189834594727, 13.497236251831055, 18.463668823242188, 16.019189834594727, 18.463668823242188, 15.372492790222168, 17.22940444946289, 16.019189834594727, 13.097433090209961, 16.019189834594727, 16.019189834594727, 18.463668823242188, 18.463668823242188, 16.019189834594727, 16.019189834594727, 13.097433090209961, 18.463668823242188, 18.463668823242188, 18.463668823242188, 18.463668823242188, 13.359573364257812, 16.019189834594727, 13.497236251831055, 13.497236251831055, 16.019189834594727, 13.497236251831055, 18.463668823242188, 13.35957145690918, 18.463668823242188, 18.463668823242188, 13.497236251831055, 18.463668823242188, 13.359573364257812, 18.463668823242188, 16.019189834594727, 16.019189834594727, 18.463668823242188, 18.463668823242188, 16.019189834594727, 13.121259689331055, 18.463668823242188, 18.463668823242188, 12.237808227539062, 13.359573364257812, 16.473684310913086, 16.019189834594727, 13.497236251831055, 13.497236251831055, 13.444774627685547, 18.463668823242188, 16.019189834594727, 16.019189834594727, 18.463668823242188, 18.463668823242188, 18.463668823242188, 13.359572410583496, 16.019189834594727, 16.019189834594727, 18.463668823242188, 13.444746971130371, 18.463668823242188, 16.019189834594727, 18.463668823242188, 16.019189834594727, 16.019189834594727, 16.019189834594727, 18.463668823242188, 18.463668823242188, 16.019189834594727]\n",
            "Mean Squared Error: 95.5797\n",
            "Mean Absolute Error: 6.3768\n",
            "Root Mean Squared Error (RMSE): 9.7765\n",
            "Mean Absolute Percentage Error (MAPE): 0.40%\n"
          ]
        }
      ]
    },
    {
      "cell_type": "markdown",
      "source": [
        "### 5 Hypertuning the Parameters using Grid Search\n",
        "------------------------------------------------------\n",
        "For the best parameters of the model, we first define the set of parameters that we need to test which are:\n",
        "\n",
        "-output_size:32,64,128\n",
        "\n",
        "-learning_rate:0.001,0.005,0.01\n",
        "\n",
        "-optimizer:sgd,adam\n",
        "\n",
        "-dropout_rate: 0.3,0.5,0.7\n",
        "we then do a grid search to see which yields the best validation loss for the final model and see if it performs better results than the final model."
      ],
      "metadata": {
        "id": "PZq8JXHl-YRN"
      }
    },
    {
      "cell_type": "code",
      "source": [
        "hyperparameter = {\n",
        "    'output_size': [32],  # Different sizes for the hidden layer\n",
        "    'learning_rate': [0.001, 0.005, 0.01],  # Different learning rates\n",
        "    'optimizer': ['sgd','adam'],  # Different optimizers\n",
        "    'dropout_rate': [0.3, 0.5, 0.7]  # Different dropout rates\n",
        "}\n",
        "\n",
        "#variable to keep the results of hypertuning parameters\n",
        "best_params = None\n",
        "best_loss = float('inf')\n",
        "\n",
        "# Generate all combinations of hyperparameters as a list\n",
        "hyperparameter_combinations = list(itertools.product(\n",
        "    hyperparameter['output_size'],\n",
        "    hyperparameter['learning_rate'],\n",
        "    hyperparameter['optimizer'],\n",
        "    hyperparameter['dropout_rate']\n",
        "))"
      ],
      "metadata": {
        "id": "FagpoNISQ0Vp"
      },
      "execution_count": null,
      "outputs": []
    },
    {
      "cell_type": "code",
      "source": [
        "#Define the GNN model\n",
        "class GNN6(torch.nn.Module):\n",
        "    def __init__(self,input_dim,output_size,dropout_rate):\n",
        "        super(GNN6, self).__init__()\n",
        "\n",
        "        assert output_size % 8 == 0, \"Output size should be divisible by 8.\"\n",
        "\n",
        "        ###convolutional layer 1 to extract richer features from the data\n",
        "        self.conv1 = GCNConv(in_channels=input_dim, out_channels=output_size)\n",
        "        self.bn1 = torch.nn.BatchNorm1d(output_size)\n",
        "\n",
        "        ##adding a hidden layer\n",
        "        self.fc_hidden = torch.nn.Linear(output_size, output_size//2)\n",
        "        self.bn_hidden = torch.nn.BatchNorm1d(output_size//2)\n",
        "\n",
        "       ### convolutional layer 2 further refining these features into a more compact form.\n",
        "        self.conv2 = GCNConv(in_channels=output_size//2, out_channels=output_size//4)\n",
        "        self.bn2 = torch.nn.BatchNorm1d(output_size//4)\n",
        "\n",
        "        self.conv3 = GCNConv(in_channels=output_size//4, out_channels=output_size//8)\n",
        "        self.bn3 = torch.nn.BatchNorm1d(output_size//8)\n",
        "\n",
        "        self.fc = torch.nn.Linear(output_size//8, 1)\n",
        "        self.dropout = torch.nn.Dropout(p=dropout_rate)\n",
        "\n",
        "    def forward(self, data):\n",
        "        x, edge_index = data.x, data.edge_index\n",
        "\n",
        "        x = self.conv1(x, edge_index)\n",
        "        x = self.bn1(x)\n",
        "        x = F.relu(x)\n",
        "        x = self.dropout(x)\n",
        "\n",
        "        x = self.fc_hidden(x)\n",
        "        x = self.bn_hidden(x)\n",
        "        x = F.relu(x)\n",
        "        x = self.dropout(x)\n",
        "\n",
        "        x = self.conv2(x, edge_index)\n",
        "        x = self.bn2(x)\n",
        "        x = F.relu(x)\n",
        "        x = self.dropout(x)\n",
        "\n",
        "        x = self.conv3(x,edge_index)\n",
        "        x = self.bn3(x)\n",
        "        x = F.relu(x)\n",
        "\n",
        "        embeddings = x\n",
        "        x = self.fc(x)\n",
        "        return x"
      ],
      "metadata": {
        "id": "t2X3eNDWa41G"
      },
      "execution_count": null,
      "outputs": []
    },
    {
      "cell_type": "code",
      "source": [
        "def train_and_evaluate(output_size, learning_rate, optimizer_name, dropout_rate):\n",
        "    # Initialize the model with given hyperparameters\n",
        "    model = GNN6(input_dim=5, output_size=output_size, dropout_rate=dropout_rate)\n",
        "    print(f'Currently Testing Model:{output_size},{learning_rate},{optimizer_name},{dropout_rate}')\n",
        "\n",
        "    # Define the optimizer\n",
        "    if optimizer_name == 'adam':\n",
        "        optimizer = torch.optim.Adam(model.parameters(), lr=learning_rate)\n",
        "    elif optimizer_name == 'sgd':\n",
        "        optimizer = torch.optim.SGD(model.parameters(), lr=learning_rate)\n",
        "\n",
        "    # Loss function\n",
        "    criterion = torch.nn.L1Loss()\n",
        "\n",
        "    # Early stopping parameters\n",
        "    patience = 500\n",
        "    best_val_loss = float('inf')\n",
        "    epochs_no_improve = 0\n",
        "\n",
        "    # Training loop\n",
        "    for epoch in range(500):\n",
        "        model.train()\n",
        "        train_loss = 0\n",
        "        for batch in train_loader2:\n",
        "            optimizer.zero_grad()\n",
        "            out = model(batch)\n",
        "            loss = criterion(out, batch.y.view(-1, 1).float())\n",
        "            if torch.isnan(loss).sum() > 0:\n",
        "                print(\"NaN loss encountered at epoch:\", epoch)\n",
        "                return float('inf')  # Return infinity to indicate a failed run\n",
        "            loss.backward()\n",
        "            torch.nn.utils.clip_grad_norm_(model.parameters(), max_norm=1.0)\n",
        "            optimizer.step()\n",
        "            train_loss += loss.item() * batch.num_graphs\n",
        "        train_loss /= len(train_loader2.dataset)\n",
        "\n",
        "        # Validation loop\n",
        "        model.eval()\n",
        "        val_loss = 0\n",
        "        with torch.no_grad():\n",
        "            for batch in val_loader2:\n",
        "                out = model(batch)\n",
        "                loss = criterion(out, batch.y.view(-1, 1).float())\n",
        "                val_loss += loss.item() * batch.num_graphs\n",
        "        val_loss /= len(val_loader2.dataset)\n",
        "\n",
        "        # Early stopping check\n",
        "        if val_loss < best_val_loss:\n",
        "            best_val_loss = val_loss\n",
        "            epochs_no_improve = 0\n",
        "        else:\n",
        "            epochs_no_improve += 1\n",
        "\n",
        "        if epochs_no_improve >= patience:\n",
        "            break\n",
        "\n",
        "    return best_val_loss"
      ],
      "metadata": {
        "id": "vBCfxSAaq-8e"
      },
      "execution_count": null,
      "outputs": []
    },
    {
      "cell_type": "code",
      "source": [
        "for output_size, learning_rate, optimizer_name, dropout_rate in hyperparameter_combinations:\n",
        "    val_loss = train_and_evaluate(output_size, learning_rate, optimizer_name, dropout_rate)\n",
        "\n",
        "    print(f\"Tested params: hidden_layer_size={output_size}, learning_rate={learning_rate}, optimizer={optimizer_name}, dropout_rate={dropout_rate}, Validation Loss: {val_loss:.4f}\")\n",
        "\n",
        "    if val_loss < best_loss:\n",
        "        best_loss = val_loss\n",
        "        best_params = {\n",
        "            'hidden_layer_size': output_size,\n",
        "            'learning_rate': learning_rate,\n",
        "            'optimizer': optimizer_name,\n",
        "            'dropout_rate': dropout_rate\n",
        "        }\n",
        "\n",
        "print(f\"Best hyperparameters: {best_params}, Best Validation Loss: {best_loss:.4f}\")"
      ],
      "metadata": {
        "id": "NY2bFq6qSBC7"
      },
      "execution_count": null,
      "outputs": []
    },
    {
      "cell_type": "code",
      "source": [
        "hyperparameter = {\n",
        "    'output_size': [64],  # Different sizes for the hidden layer\n",
        "    'learning_rate': [0.001, 0.005, 0.01],  # Different learning rates\n",
        "    'optimizer': ['sgd','adam'],  # Different optimizers\n",
        "    'dropout_rate': [0.3, 0.5, 0.7]  # Different dropout rates\n",
        "}\n",
        "\n",
        "#variable to keep the results of hypertuning parameters\n",
        "best_params = None\n",
        "best_loss = float('inf')\n",
        "\n",
        "# Generate all combinations of hyperparameters as a list\n",
        "hyperparameter_combinations = list(itertools.product(\n",
        "    hyperparameter['output_size'],\n",
        "    hyperparameter['learning_rate'],\n",
        "    hyperparameter['optimizer'],\n",
        "    hyperparameter['dropout_rate']\n",
        "))"
      ],
      "metadata": {
        "id": "qEw-vb6Euv42"
      },
      "execution_count": null,
      "outputs": []
    },
    {
      "cell_type": "code",
      "source": [
        "for output_size, learning_rate, optimizer_name, dropout_rate in hyperparameter_combinations:\n",
        "    val_loss = train_and_evaluate(output_size, learning_rate, optimizer_name, dropout_rate)\n",
        "\n",
        "    print(f\"Tested params: hidden_layer_size={output_size}, learning_rate={learning_rate}, optimizer={optimizer_name}, dropout_rate={dropout_rate}, Validation Loss: {val_loss:.4f}\")\n",
        "\n",
        "    if val_loss < best_loss:\n",
        "        best_loss = val_loss\n",
        "        best_params = {\n",
        "            'hidden_layer_size': output_size,\n",
        "            'learning_rate': learning_rate,\n",
        "            'optimizer': optimizer_name,\n",
        "            'dropout_rate': dropout_rate\n",
        "        }\n",
        "\n",
        "print(f\"Best hyperparameters: {best_params}, Best Validation Loss: {best_loss:.4f}\")"
      ],
      "metadata": {
        "id": "vLL8RHR3cRrk"
      },
      "execution_count": null,
      "outputs": []
    },
    {
      "cell_type": "code",
      "source": [
        "hyperparameter = {\n",
        "    'output_size': [128],  # Different sizes for the hidden layer\n",
        "    'learning_rate': [ 0.001,0.005,0.01],  # Different learning rates\n",
        "    'optimizer': ['sgd','adam'],  # Different optimizers\n",
        "    'dropout_rate': [0.3, 0.5, 0.7]  # Different dropout rates\n",
        "}\n",
        "\n",
        "#variable to keep the results of hypertuning parameters\n",
        "best_params = None\n",
        "best_loss = float('inf')\n",
        "\n",
        "# Generate all combinations of hyperparameters as a list\n",
        "hyperparameter_combinations = list(itertools.product(\n",
        "    hyperparameter['output_size'],\n",
        "    hyperparameter['learning_rate'],\n",
        "    hyperparameter['optimizer'],\n",
        "    hyperparameter['dropout_rate']\n",
        "))"
      ],
      "metadata": {
        "id": "O-97IEeBOKmQ"
      },
      "execution_count": null,
      "outputs": []
    },
    {
      "cell_type": "code",
      "source": [
        "for output_size, learning_rate, optimizer_name, dropout_rate in hyperparameter_combinations:\n",
        "    val_loss = train_and_evaluate(output_size, learning_rate, optimizer_name, dropout_rate)\n",
        "\n",
        "    print(f\"Tested params: hidden_layer_size={output_size}, learning_rate={learning_rate}, optimizer={optimizer_name}, dropout_rate={dropout_rate}, Validation Loss: {val_loss:.4f}\")\n",
        "\n",
        "    if val_loss < best_loss:\n",
        "        best_loss = val_loss\n",
        "        best_params = {\n",
        "            'hidden_layer_size': output_size,\n",
        "            'learning_rate': learning_rate,\n",
        "            'optimizer': optimizer_name,\n",
        "            'dropout_rate': dropout_rate\n",
        "        }\n",
        "\n",
        "print(f\"Best hyperparameters: {best_params}, Best Validation Loss: {best_loss:.4f}\")"
      ],
      "metadata": {
        "id": "bqysCXl47A5M"
      },
      "execution_count": null,
      "outputs": []
    },
    {
      "cell_type": "code",
      "source": [
        "hyperparameter = {\n",
        "    'output_size': [128],  # Different sizes for the hidden layer\n",
        "    'learning_rate': [ 0.01],  # Different learning rates\n",
        "    'optimizer': ['adam'],  # Different optimizers\n",
        "    'dropout_rate': [0.3, 0.5, 0.7]  # Different dropout rates\n",
        "}\n",
        "\n",
        "#variable to keep the results of hypertuning parameters\n",
        "best_params = None\n",
        "best_loss = float('inf')\n",
        "\n",
        "# Generate all combinations of hyperparameters as a list\n",
        "hyperparameter_combinations = list(itertools.product(\n",
        "    hyperparameter['output_size'],\n",
        "    hyperparameter['learning_rate'],\n",
        "    hyperparameter['optimizer'],\n",
        "    hyperparameter['dropout_rate']\n",
        "))"
      ],
      "metadata": {
        "id": "U0NYP4Md1Xfr"
      },
      "execution_count": null,
      "outputs": []
    },
    {
      "cell_type": "code",
      "source": [
        "for output_size, learning_rate, optimizer_name, dropout_rate in hyperparameter_combinations:\n",
        "    val_loss = train_and_evaluate(output_size, learning_rate, optimizer_name, dropout_rate)\n",
        "\n",
        "    print(f\"Tested params: hidden_layer_size={output_size}, learning_rate={learning_rate}, optimizer={optimizer_name}, dropout_rate={dropout_rate}, Validation Loss: {val_loss:.4f}\")\n",
        "\n",
        "    if val_loss < best_loss:\n",
        "        best_loss = val_loss\n",
        "        best_params = {\n",
        "            'hidden_layer_size': output_size,\n",
        "            'learning_rate': learning_rate,\n",
        "            'optimizer': optimizer_name,\n",
        "            'dropout_rate': dropout_rate\n",
        "        }\n",
        "\n",
        "print(f\"Best hyperparameters: {best_params}, Best Validation Loss: {best_loss:.4f}\")"
      ],
      "metadata": {
        "colab": {
          "base_uri": "https://localhost:8080/"
        },
        "id": "88sl82lbPuSj",
        "outputId": "32e15bff-67e4-42bb-ca5f-3fe83be22017"
      },
      "execution_count": null,
      "outputs": [
        {
          "output_type": "stream",
          "name": "stdout",
          "text": [
            "Currently Testing Model:128,0.01,adam,0.3\n",
            "Tested params: hidden_layer_size=128, learning_rate=0.01, optimizer=adam, dropout_rate=0.3, Validation Loss: 6.0825\n",
            "Currently Testing Model:128,0.01,adam,0.5\n",
            "Tested params: hidden_layer_size=128, learning_rate=0.01, optimizer=adam, dropout_rate=0.5, Validation Loss: 6.0972\n",
            "Currently Testing Model:128,0.01,adam,0.7\n",
            "Tested params: hidden_layer_size=128, learning_rate=0.01, optimizer=adam, dropout_rate=0.7, Validation Loss: 6.1021\n",
            "Best hyperparameters: {'hidden_layer_size': 128, 'learning_rate': 0.01, 'optimizer': 'adam', 'dropout_rate': 0.3}, Best Validation Loss: 6.0825\n"
          ]
        }
      ]
    },
    {
      "cell_type": "code",
      "source": [
        "# Example of a new model architecture\n",
        "class GNN_New(torch.nn.Module):\n",
        "    def __init__(self, num_features):\n",
        "        super(GNN_New, self).__init__()\n",
        "        self.conv1 = GATConv(num_features, 32, heads=4, dropout=0.6)\n",
        "        self.conv2 = GATConv(32 * 4, 16, heads=4, dropout=0.6, concat=False)\n",
        "        self.fc = torch.nn.Linear(16, 1)  # Output layer\n",
        "\n",
        "    def forward(self, data):\n",
        "        x, edge_index = data.x, data.edge_index\n",
        "        x = F.dropout(x, p=0.6, training=self.training)\n",
        "        x = F.elu(self.conv1(x, edge_index))\n",
        "        x = F.dropout(x, p=0.6, training=self.training)\n",
        "        x = self.conv2(x, edge_index)\n",
        "        x = self.fc(x)\n",
        "        return x"
      ],
      "metadata": {
        "id": "7vv6oR0HorVn"
      },
      "execution_count": null,
      "outputs": []
    },
    {
      "cell_type": "code",
      "source": [
        "model_new = GNN_New(5)\n",
        "criterion = torch.nn.L1Loss()\n",
        "optimizer_new = torch.optim.Adam(model_new.parameters(), lr=0.001)"
      ],
      "metadata": {
        "id": "SASFFc2PpKP1"
      },
      "execution_count": null,
      "outputs": []
    },
    {
      "cell_type": "code",
      "source": [
        "# Early stopping parameters for the new model\n",
        "patience = 500\n",
        "best_val_loss = float('inf')\n",
        "epochs_no_improve = 0\n",
        "\n",
        "for epoch in range(500):\n",
        "    model_new.train()\n",
        "    train_loss = 0\n",
        "    for batch in train_loader2:\n",
        "        optimizer_new.zero_grad()\n",
        "        out = model_new(batch)\n",
        "        loss = criterion(out, batch.y.view(-1, 1).float())\n",
        "        if torch.isnan(loss).sum() > 0:\n",
        "            print(\"NaN loss encountered at epoch:\", epoch)\n",
        "            break\n",
        "        loss.backward()\n",
        "        torch.nn.utils.clip_grad_norm_(model_new.parameters(), max_norm=1.0)\n",
        "        optimizer_new.step()\n",
        "        train_loss += loss.item() * batch.num_graphs\n",
        "    train_loss /= len(train_loader2.dataset)\n",
        "\n",
        "    model_new.eval()\n",
        "    val_loss = 0\n",
        "\n",
        "    with torch.no_grad():\n",
        "        for batch in val_loader2:\n",
        "            out = model_new(batch)\n",
        "            loss = criterion(out, batch.y.view(-1, 1).float())\n",
        "            val_loss += loss.item() * batch.num_graphs\n",
        "\n",
        "    val_loss /= len(val_loader2.dataset)\n",
        "    print(f'Epoch {epoch+1}, Validation Loss: {val_loss:.4f}, Loss: {train_loss:.4f}, Best Val Loss: {best_val_loss:.4f}')\n",
        "\n",
        "    # Early stopping check\n",
        "    if val_loss < best_val_loss:\n",
        "        best_val_loss = val_loss\n",
        "        epochs_no_improve = 0\n",
        "        # Save the best model\n",
        "        torch.save(model_new.state_dict(), 'best_model_new.pt')\n",
        "    else:\n",
        "        epochs_no_improve += 1\n",
        "\n",
        "    if epochs_no_improve >= patience:\n",
        "        print(f'Early stopping triggered after {epoch+1} epochs')\n",
        "        break\n",
        "\n",
        "    model_new.train()"
      ],
      "metadata": {
        "id": "NKNV1b2xpqMX"
      },
      "execution_count": null,
      "outputs": []
    },
    {
      "cell_type": "code",
      "source": [
        "# Prediction\n",
        "model_new.eval()\n",
        "predictions = []\n",
        "with torch.no_grad():\n",
        "    for batch in test_loader2:\n",
        "        out = model_new(batch)\n",
        "        predictions.extend(out.squeeze().cpu().numpy().tolist())\n",
        "\n",
        "print(f'Predicted valuations: {predictions}')\n",
        "\n",
        "# Evaluation\n",
        "from sklearn.metrics import mean_squared_error, mean_absolute_error, mean_absolute_percentage_error\n",
        "\n",
        "# Convert predictions and targets to numpy arrays for evaluation\n",
        "actuals = test_data.y.numpy()\n",
        "\n",
        "# Calculate evaluation metrics\n",
        "mse = mean_squared_error(actuals, predictions)\n",
        "mae = mean_absolute_error(actuals, predictions)\n",
        "rmse = mean_squared_error(actuals, predictions, squared=False)\n",
        "mape = mean_absolute_percentage_error(actuals, predictions)\n",
        "\n",
        "\n",
        "print(f'Mean Squared Error: {mse:.4f}')\n",
        "print(f'Mean Absolute Error: {mae:.4f}')\n",
        "print(f'Root Mean Squared Error (RMSE): {rmse:.4f}')\n",
        "print(f'Mean Absolute Percentage Error (MAPE): {mape:.2f}')"
      ],
      "metadata": {
        "colab": {
          "base_uri": "https://localhost:8080/"
        },
        "id": "q7jtkD_DOCjf",
        "outputId": "41f4ff44-9225-4b81-e2e5-dedd76cd1bbd"
      },
      "execution_count": null,
      "outputs": [
        {
          "output_type": "stream",
          "name": "stdout",
          "text": [
            "Predicted valuations: [21.804887771606445, 21.804889678955078, 34.936466217041016, 21.804889678955078, 19.9669189453125, 21.804887771606445, 27.818143844604492, 18.25661849975586, 21.746299743652344, 19.966873168945312, 27.631914138793945, 19.889678955078125, 19.89610481262207, 21.804887771606445, 17.08754539489746, 17.098899841308594, 21.804889678955078, 23.366872787475586, 21.804887771606445, 21.804885864257812, 16.95244598388672, 27.818143844604492, 18.246238708496094, 23.366870880126953, 21.83098602294922, 35.235755920410156, 21.804889678955078, 18.25661849975586, 21.804887771606445, 21.804889678955078, 21.791351318359375, 38.872833251953125, 21.804887771606445, 27.860628128051758, 19.889671325683594, 18.289207458496094, 27.85369873046875, 27.67658805847168, 21.77044677734375, 21.79109001159668, 21.804889678955078, 27.86063003540039, 34.936466217041016, 17.170284271240234, 22.82923126220703, 27.676589965820312, 27.676589965820312, 21.804889678955078, 27.854129791259766, 21.804889678955078, 17.170917510986328, 21.803585052490234, 21.7896671295166, 22.82920265197754, 17.170902252197266, 19.26822853088379, 28.209095001220703, 21.784135818481445, 18.367111206054688, 21.804885864257812, 38.59703826904297, 21.804889678955078, 27.63190460205078, 18.295455932617188, 21.804887771606445, 21.804889678955078, 34.936466217041016, 27.676589965820312, 21.804887771606445, 17.093883514404297, 21.804889678955078, 21.804887771606445, 21.78781509399414, 19.89610481262207, 21.804885864257812, 27.81825828552246, 21.804889678955078, 19.846420288085938, 18.28976821899414, 21.804889678955078, 19.386493682861328, 21.804889678955078, 28.209362030029297, 21.804885864257812, 8.385025024414062, 21.791667938232422, 27.676589965820312, 19.365497589111328, 19.846420288085938, 21.804887771606445, 18.246234893798828, 21.804887771606445, 21.813636779785156, 21.804885864257812, 21.77043914794922, 27.74496078491211, 34.936466217041016, 21.804887771606445, 21.804889678955078, 21.804887771606445, 21.790904998779297, 27.744962692260742, 27.818143844604492, 27.88665008544922, 21.790199279785156, 27.676589965820312, 16.952497482299805, 21.804885864257812, 27.85413360595703, 35.2410888671875, 19.268230438232422, 27.853647232055664, 23.366870880126953, 27.860631942749023, 27.818143844604492, 21.804889678955078, 21.746295928955078, 27.676586151123047, 27.676586151123047, 21.804887771606445, 19.896102905273438, 21.804889678955078, 28.20350456237793, 21.804889678955078, 21.804889678955078, 31.374954223632812, 17.18892478942871, 21.804885864257812, 27.67658805847168, 34.704872131347656, 21.804889678955078, 27.63190269470215, 27.860631942749023, 21.804889678955078, 21.78781509399414, 27.631916046142578, 19.966888427734375, 27.972082138061523, 27.81826400756836, 21.804889678955078, 27.818260192871094, 22.829214096069336, 21.804889678955078, 27.676589965820312, 21.791664123535156, 21.804889678955078, 27.676586151123047, 21.804889678955078, 27.725357055664062, 21.80359649658203, 22.360767364501953, 21.804885864257812, 18.368724822998047, 28.221237182617188, 21.77472686767578, 21.804887771606445, 27.744958877563477, 23.366870880126953, 35.23575973510742, 21.80489158630371, 31.374961853027344, 34.936466217041016, 21.791091918945312, 21.804889678955078, 21.804885864257812, 21.813636779785156, 27.879478454589844, 19.365497589111328, 19.277164459228516, 27.67658805847168, 21.804887771606445, 21.78781509399414, 27.744956970214844, 27.91819190979004, 21.830974578857422, 21.804887771606445, 21.804889678955078, 21.804889678955078, 27.81825828552246, 21.774728775024414, 21.79020118713379, 27.676591873168945, 34.936466217041016, 21.80489158630371, 17.170913696289062, 21.789657592773438, 21.804889678955078, 27.676589965820312, 27.744956970214844, 21.793737411499023, 21.804885864257812, 21.804889678955078, 34.936466217041016, 23.366870880126953, 27.744964599609375, 19.846420288085938, 27.67658805847168, 19.268234252929688, 21.804887771606445, 28.20361328125, 38.597042083740234, 21.78413200378418, 21.804889678955078, 35.23575973510742, 18.368738174438477, 27.853904724121094, 27.919979095458984, 27.63190460205078, 18.296152114868164, 21.789621353149414, 27.744956970214844, 27.63190269470215, 27.676589965820312, 27.631914138793945, 21.79376983642578, 21.804889678955078, 21.804889678955078, 27.744964599609375, 28.20915985107422, 27.676589965820312, 18.33173179626465, 27.887962341308594, 27.631916046142578, 19.940814971923828, 27.854074478149414, 19.326772689819336, 27.933515548706055, 21.813636779785156, 21.813636779785156, 18.24623680114746, 27.818140029907227, 21.804885864257812, 27.919979095458984, 21.80489158630371, 21.78781509399414, 27.972082138061523, 34.87864685058594, 17.071529388427734, 27.676589965820312, 27.818143844604492, 17.09385871887207, 21.787813186645508, 18.053752899169922, 19.290130615234375, 23.963558197021484, 27.631914138793945, 21.787813186645508, 36.815345764160156, 27.631914138793945, 27.74496841430664, 27.86063003540039, 21.80489158630371, 21.804889678955078, 27.631912231445312, 27.676586151123047, 21.804889678955078, 27.919981002807617, 21.804889678955078, 28.203632354736328, 27.631914138793945, 21.804889678955078, 21.804889678955078, 34.936466217041016, 21.804887771606445, 21.787813186645508, 23.366870880126953, 21.804885864257812, 21.746294021606445, 27.81814193725586, 18.25661849975586, 17.170856475830078, 34.936466217041016, 27.725379943847656, 21.791667938232422, 21.804887771606445, 17.15058135986328, 21.804887771606445, 27.744964599609375, 17.170351028442383, 34.936466217041016, 38.872833251953125, 17.15058708190918, 21.804887771606445, 19.966842651367188, 27.818143844604492, 28.20948028564453, 21.804889678955078, 27.919979095458984, 27.91619110107422, 21.790557861328125, 21.73805046081543, 21.804887771606445, 23.107938766479492, 21.804887771606445, 21.804887771606445, 27.818260192871094, 27.86063003540039, 21.790559768676758, 21.813636779785156, 27.916194915771484, 27.919986724853516, 18.25661849975586, 19.365495681762695, 27.676589965820312, 27.91997718811035, 21.804889678955078, 21.83098793029785, 21.804889678955078, 27.37821388244629, 27.676586151123047, 21.789627075195312, 19.365497589111328, 27.676584243774414, 21.813636779785156, 21.804889678955078, 21.787813186645508, 23.366872787475586, 27.879478454589844, 21.804889678955078, 21.804889678955078, 27.63190269470215, 27.85416030883789, 27.676589965820312, 21.756397247314453, 27.818260192871094, 27.378215789794922, 21.804885864257812, 27.744956970214844, 27.63190460205078, 21.804885864257812, 21.804887771606445, 18.28977394104004, 17.17091941833496, 27.631916046142578, 28.203533172607422, 27.493732452392578, 27.631906509399414, 18.3670711517334, 27.63190460205078, 21.804887771606445, 17.10271453857422, 27.67658805847168, 18.368751525878906, 19.846424102783203, 27.927268981933594, 28.203584671020508, 27.63190269470215, 20.03985023498535, 18.296154022216797, 27.63190269470215, 21.804889678955078, 27.919979095458984, 27.631914138793945, 17.00546646118164, 27.725353240966797, 21.787811279296875, 21.804889678955078, 21.804885864257812, 27.378211975097656, 21.804887771606445, 21.790416717529297, 27.744958877563477, 21.79373550415039, 21.791481018066406, 27.676586151123047, 27.853527069091797, 27.67658805847168, 18.29615020751953, 27.886653900146484, 27.912410736083984, 27.86063003540039, 21.790559768676758, 27.631912231445312, 21.804885864257812, 27.631916046142578, 21.804885864257812, 27.972061157226562, 27.854129791259766, 17.0054874420166, 27.744958877563477, 27.818260192871094, 21.804885864257812, 21.804889678955078, 28.203462600708008, 21.804885864257812, 27.676589965820312, 23.366870880126953, 27.744956970214844, 27.676586151123047, 21.746299743652344, 19.290132522583008, 21.804885864257812, 21.804889678955078, 21.804889678955078, 27.919981002807617, 27.886653900146484, 26.35390853881836, 21.802017211914062, 21.784133911132812, 21.804889678955078, 27.63190269470215, 34.936466217041016, 18.33180809020996, 27.87948226928711, 21.802061080932617, 27.918203353881836, 27.631908416748047, 21.804887771606445, 27.818260192871094, 19.290130615234375, 27.676584243774414, 19.846426010131836, 27.818140029907227, 21.804885864257812, 18.367063522338867, 21.804885864257812, 27.63190460205078, 17.170391082763672, 21.791664123535156, 18.25661849975586, 34.704959869384766, 27.919981002807617, 19.277162551879883, 19.365497589111328, 27.853763580322266, 27.818143844604492, 22.829219818115234, 21.804889678955078, 27.744964599609375, 23.366872787475586, 21.804889678955078, 27.854198455810547, 27.912410736083984, 21.87343978881836, 27.87948226928711, 21.804887771606445, 19.268230438232422, 27.378215789794922, 21.804887771606445, 18.246234893798828, 21.804887771606445, 27.97207260131836, 21.813636779785156, 27.631916046142578, 21.813636779785156, 21.804889678955078, 27.818138122558594, 21.813634872436523, 21.804889678955078, 18.367515563964844, 21.813636779785156, 27.818143844604492, 27.93358612060547, 21.804889678955078, 27.67658805847168, 19.873096466064453, 21.804889678955078, 17.10271644592285, 21.830978393554688, 38.59767532348633, 21.804889678955078, 21.804889678955078, 27.74496078491211, 21.804889678955078, 27.972061157226562, 27.919979095458984, 21.804889678955078, 21.804885864257812, 19.365497589111328, 36.81535339355469, 21.804887771606445, 27.059600830078125, 21.804889678955078, 21.804885864257812, 21.804889678955078, 23.963558197021484, 27.493730545043945, 17.43324089050293, 27.88665008544922, 18.315364837646484, 21.79020118713379, 21.78781509399414, 23.366870880126953, 19.88966941833496, 19.96685791015625, 18.276748657226562, 38.872833251953125, 35.23720932006836, 27.74496078491211, 19.277164459228516, 21.79056167602539, 21.790557861328125, 27.91998291015625, 21.79041290283203, 21.804889678955078, 21.804889678955078, 27.631912231445312, 27.631916046142578, 38.59737014770508, 38.273101806640625, 27.919979095458984, 26.874847412109375, 17.071197509765625, 19.96683692932129, 27.631912231445312, 21.804885864257812, 27.825122833251953, 28.22123908996582, 19.365495681762695, 21.790416717529297, 21.804887771606445, 21.790889739990234, 27.879484176635742, 27.81825828552246, 21.804889678955078, 21.804885864257812, 27.74496078491211, 27.67658805847168, 21.804887771606445, 27.63190269470215, 22.829191207885742, 27.744962692260742, 21.804889678955078, 19.268230438232422, 21.804887771606445, 17.433805465698242, 21.804885864257812, 19.324932098388672, 27.879478454589844, 27.676586151123047, 17.433212280273438, 28.2033634185791, 27.631906509399414, 27.886648178100586, 27.81814193725586, 21.804889678955078, 21.790199279785156, 27.818138122558594, 21.813636779785156, 27.631912231445312, 21.793733596801758, 38.872833251953125, 27.676591873168945, 21.813636779785156, 21.813636779785156, 27.919981002807617, 21.804885864257812, 27.818260192871094, 21.770450592041016, 27.67658805847168, 16.95246124267578, 27.818140029907227, 21.804885864257812, 21.804889678955078, 18.296152114868164, 21.804889678955078, 21.804889678955078, 21.790559768676758, 21.79149627685547, 18.45085334777832, 27.854124069213867, 21.804885864257812, 17.15058135986328, 21.804889678955078, 21.804889678955078, 19.873096466064453, 21.804889678955078, 21.804889678955078, 27.63190460205078, 19.27526092529297, 21.804889678955078, 21.804885864257812, 21.770444869995117, 35.23802185058594, 27.854217529296875, 21.74629783630371, 27.631912231445312, 21.804885864257812, 21.738046646118164, 21.804885864257812, 21.804889678955078, 27.853958129882812, 21.804889678955078, 27.97207260131836, 21.804885864257812, 21.804889678955078, 27.37821388244629, 27.67658805847168, 27.493730545043945, 18.27420997619629, 23.366872787475586, 21.804885864257812, 21.787813186645508, 27.818138122558594, 23.00951385498047, 21.804889678955078, 21.804885864257812, 27.818256378173828, 21.787813186645508, 27.919979095458984, 27.807849884033203, 27.631914138793945, 17.089004516601562, 36.81535339355469, 19.277156829833984, 27.919979095458984, 21.830978393554688, 27.744962692260742, 21.804887771606445, 18.296154022216797, 27.854045867919922, 27.74496078491211, 27.67658805847168, 27.631908416748047, 21.813636779785156, 18.36719512939453, 27.631912231445312, 27.631912231445312, 21.79056167602539, 27.879478454589844, 21.804889678955078, 19.365495681762695, 19.896102905273438, 27.92727279663086, 18.368488311767578, 21.80191993713379, 27.676586151123047, 21.804889678955078, 17.098899841308594, 21.790416717529297, 18.367040634155273, 27.676589965820312, 19.896102905273438, 27.818256378173828, 21.756399154663086, 21.789628982543945, 17.098899841308594, 27.676586151123047, 17.098899841308594, 23.366870880126953, 21.804885864257812, 27.972068786621094, 19.846426010131836, 21.78414535522461, 21.804885864257812, 28.20362663269043, 21.74629783630371, 23.96356201171875, 23.963558197021484, 18.246231079101562, 21.791336059570312, 27.676589965820312, 19.966960906982422, 21.804889678955078, 21.804885864257812, 18.314838409423828, 27.493736267089844, 27.63190460205078, 27.63191795349121, 21.813636779785156, 27.886655807495117, 27.63191032409668, 27.631914138793945, 27.631916046142578, 21.78414535522461, 21.804885864257812, 17.087539672851562, 23.366870880126953, 27.744956970214844, 34.70487976074219, 27.81826400756836, 27.63190460205078, 23.963558197021484, 21.804887771606445, 21.804885864257812, 21.804887771606445, 27.676586151123047, 21.804887771606445, 27.91619110107422, 27.631908416748047, 21.804889678955078, 27.63190460205078, 21.804885864257812, 21.804889678955078, 27.818138122558594, 21.790559768676758, 27.818140029907227, 27.854167938232422, 27.81826400756836, 18.24623680114746, 27.63190269470215, 27.74496078491211, 38.59735107421875, 21.746295928955078, 21.804887771606445, 27.744956970214844, 17.88019561767578, 21.79166603088379, 17.088802337646484, 35.23777770996094, 27.676586151123047, 19.96689224243164, 21.804889678955078, 28.20346450805664, 27.88665008544922, 21.804885864257812, 21.804889678955078, 21.787811279296875, 27.91241455078125, 21.78964614868164, 21.804885864257812, 27.85400390625, 17.093971252441406, 27.676586151123047, 17.072660446166992, 34.936466217041016, 27.19054412841797, 27.631912231445312, 21.804889678955078, 28.21814727783203, 21.804885864257812, 27.67658805847168, 27.853357315063477, 27.676586151123047, 19.324981689453125, 27.631914138793945, 27.631908416748047, 27.81825828552246, 27.52860450744629, 28.203617095947266, 19.846424102783203, 18.289762496948242, 27.818262100219727, 21.804887771606445, 21.804885864257812, 21.804887771606445, 21.804887771606445, 27.972064971923828, 21.997478485107422, 21.804889678955078, 21.804889678955078, 19.94083023071289, 21.79090118408203, 35.238128662109375, 27.919981002807617, 21.787813186645508, 21.804887771606445, 21.804889678955078, 19.84642219543457, 21.804893493652344, 17.078327178955078, 27.818138122558594, 19.883808135986328, 27.631912231445312, 21.804887771606445, 27.74496078491211, 21.787817001342773, 19.846426010131836, 27.91619110107422, 27.631914138793945, 38.59706115722656, 18.25661849975586, 27.63190460205078, 21.804885864257812, 19.365495681762695, 27.933528900146484, 35.235755920410156, 21.804887771606445, 23.366870880126953, 21.78781509399414, 21.830978393554688, 19.96685218811035, 27.744962692260742, 21.804885864257812, 27.631912231445312, 17.08754539489746, 21.80489158630371, 21.79376983642578, 21.804885864257812, 21.78781509399414, 27.744962692260742, 27.927276611328125, 34.936466217041016, 21.804889678955078, 27.631908416748047, 21.789703369140625, 27.631912231445312, 17.12331199645996, 21.804889678955078, 38.597171783447266, 19.88381576538086, 21.804889678955078, 21.790203094482422, 21.804887771606445, 27.676591873168945, 23.366870880126953, 27.63191032409668, 27.879478454589844, 21.789676666259766, 19.324935913085938, 27.631912231445312, 21.813636779785156, 23.963558197021484, 27.74496078491211, 27.631912231445312, 27.676589965820312, 19.92703628540039, 27.63190460205078, 21.789714813232422, 21.804889678955078, 27.63191032409668, 27.919973373413086, 21.804885864257812, 27.63191032409668, 21.804887771606445, 27.676586151123047, 27.97207260131836, 21.804885864257812, 18.25661849975586, 21.804889678955078, 27.86063003540039, 21.83098602294922, 28.14520263671875, 19.290191650390625, 19.940807342529297, 22.36077117919922, 27.86063003540039, 18.296152114868164, 27.63191032409668, 21.774728775024414, 21.7908992767334, 21.804887771606445, 27.63190460205078, 21.78781509399414, 20.684932708740234, 17.974586486816406, 21.804887771606445, 27.919979095458984, 21.78781509399414, 21.804885864257812, 22.82921600341797, 17.098899841308594, 21.78781509399414, 35.23575973510742, 21.804887771606445, 23.366872787475586, 27.744958877563477, 27.879484176635742, 27.631914138793945, 21.804885864257812, 21.804889678955078, 27.919979095458984, 21.80489158630371, 21.804887771606445, 21.813634872436523, 21.804889678955078, 21.804887771606445, 27.853897094726562, 18.246238708496094, 21.79056167602539, 27.37821388244629, 27.818138122558594, 22.82919692993164, 21.791667938232422, 21.804889678955078, 21.78781509399414, 27.676589965820312, 27.86063003540039, 27.972068786621094, 23.366870880126953, 27.676586151123047, 16.952470779418945, 21.787813186645508, 21.790559768676758, 27.972084045410156, 27.86063003540039, 21.804887771606445, 27.972049713134766, 21.79166603088379, 21.996902465820312, 23.366870880126953, 19.927169799804688, 21.77044677734375, 21.804885864257812, 21.790203094482422, 23.366870880126953, 27.676586151123047, 28.20917510986328, 27.919981002807617, 27.63190460205078, 27.81814193725586, 28.203495025634766, 21.79041862487793, 27.67658805847168, 21.770450592041016, 21.790407180786133, 21.790557861328125, 27.919979095458984, 21.774730682373047, 21.803586959838867, 28.218002319335938, 28.203407287597656, 21.804885864257812, 21.804889678955078, 17.150588989257812, 17.150585174560547, 21.78781509399414, 27.74496078491211, 21.804885864257812, 27.919981002807617, 27.74496078491211, 23.026992797851562, 21.756397247314453, 21.804889678955078, 21.79041290283203, 21.813636779785156, 21.738048553466797, 21.804885864257812, 27.818260192871094, 21.790557861328125, 21.804885864257812, 21.78781509399414, 21.804887771606445, 27.972061157226562, 27.767526626586914, 21.804887771606445, 27.933570861816406, 16.952510833740234, 18.331846237182617, 21.813636779785156, 21.804889678955078, 27.631900787353516, 21.804889678955078, 21.804889678955078, 27.97208023071289, 21.790557861328125, 16.952556610107422, 17.07827377319336, 21.804885864257812, 21.804887771606445, 19.277170181274414, 35.240028381347656, 18.289207458496094, 21.804885864257812, 34.936466217041016, 27.63190269470215, 21.804887771606445, 21.804889678955078, 23.366870880126953, 23.366870880126953, 21.791431427001953, 27.91998291015625, 19.873096466064453, 21.804885864257812, 27.93354606628418, 19.96685028076172, 27.631908416748047, 27.631914138793945, 21.804889678955078, 27.631914138793945, 18.282840728759766, 27.85388946533203, 27.81826400756836, 21.804885864257812, 21.813636779785156, 19.268226623535156, 21.790199279785156, 27.82512092590332, 27.854232788085938, 22.829246520996094, 27.860628128051758, 21.804887771606445, 17.170562744140625, 21.804885864257812, 21.813636779785156, 21.784147262573242, 20.61562156677246, 21.790559768676758, 28.221237182617188, 21.78781509399414, 27.886653900146484, 19.966949462890625, 17.17091178894043, 21.791349411010742, 21.789661407470703, 35.235755920410156, 27.818260192871094, 21.803592681884766, 27.744958877563477, 21.801963806152344, 27.82512664794922, 27.63190269470215, 27.744962692260742, 19.889678955078125, 21.804885864257812, 21.79166603088379, 38.872833251953125, 21.804885864257812, 21.78781509399414, 17.087549209594727, 21.804885864257812, 28.20360565185547, 21.804885864257812, 27.744964599609375, 27.72534942626953, 21.813636779785156, 35.23575973510742, 21.79376983642578, 21.804887771606445, 27.81814193725586, 31.374961853027344, 21.997358322143555, 21.804889678955078, 27.67658805847168, 27.74496078491211, 21.766902923583984, 21.790199279785156, 27.676591873168945, 21.804889678955078, 21.804889678955078, 21.78781509399414, 21.804887771606445, 19.966838836669922, 21.804885864257812, 18.162630081176758, 27.63190269470215, 20.039779663085938, 21.804889678955078, 27.74496078491211, 21.804885864257812, 36.81535339355469, 21.804887771606445, 21.804885864257812, 27.972068786621094, 21.78781509399414, 26.781909942626953, 27.63190460205078, 21.789634704589844, 21.790416717529297, 21.804887771606445, 21.8035888671875, 27.818134307861328, 27.67658805847168, 17.170913696289062, 19.846420288085938, 27.744956970214844, 27.676586151123047, 27.744958877563477, 21.804885864257812, 27.63191032409668, 27.676589965820312, 27.631900787353516, 21.738048553466797, 27.919986724853516, 27.91998291015625, 20.039932250976562, 21.804885864257812, 18.527236938476562, 27.676589965820312, 21.804887771606445, 21.791664123535156, 17.10271644592285, 21.789661407470703, 27.88665199279785, 27.860631942749023, 27.81825828552246, 17.150588989257812, 19.275360107421875, 23.366870880126953, 27.81814193725586, 21.804885864257812, 27.744956970214844, 27.744958877563477, 27.85366439819336, 21.774728775024414, 27.74496078491211, 21.78781509399414, 27.631916046142578, 21.804889678955078, 28.221237182617188, 23.366870880126953, 19.846418380737305, 23.366870880126953, 27.744958877563477, 21.804889678955078, 22.829212188720703, 21.804889678955078, 27.81826400756836, 27.860626220703125, 21.789642333984375, 27.63190460205078, 17.087543487548828, 21.787811279296875, 21.78781509399414, 19.96684455871582, 27.67658805847168, 34.41093826293945, 27.86063003540039, 21.73805046081543, 19.365497589111328, 18.276748657226562, 27.81825828552246, 27.81826400756836, 27.676586151123047, 21.804887771606445, 21.73805046081543, 27.676589965820312, 27.67658805847168, 27.631916046142578, 27.67658805847168, 27.818262100219727, 21.746295928955078, 38.872833251953125, 27.676589965820312, 27.631912231445312, 18.246238708496094, 27.91619873046875, 21.804887771606445, 21.790557861328125, 21.804885864257812, 27.631914138793945, 38.59769058227539, 19.846424102783203, 38.872833251953125, 21.804885864257812, 21.804885864257812, 18.3687801361084, 34.70502471923828, 27.744958877563477, 19.966859817504883, 21.804885864257812, 27.63190460205078, 21.804887771606445, 27.972064971923828, 28.209272384643555, 21.790557861328125, 27.63190460205078, 27.744966506958008, 27.972082138061523, 21.804889678955078, 21.804887771606445, 38.59725570678711, 27.81825828552246, 27.744958877563477, 34.936466217041016, 21.804885864257812, 21.804885864257812, 27.919979095458984, 27.63190460205078, 27.67658233642578, 27.67658233642578, 21.804889678955078, 21.804889678955078, 21.804885864257812, 21.803590774536133, 19.873096466064453, 21.78781509399414, 19.966842651367188, 27.744958877563477, 23.366870880126953, 21.756397247314453, 27.853097915649414, 21.804889678955078, 38.59722900390625, 19.966833114624023, 21.804885864257812, 21.804885864257812, 19.87309455871582, 16.952468872070312, 19.940845489501953, 21.78980255126953, 27.81814193725586, 27.88665199279785, 27.744964599609375, 19.26822280883789, 27.744956970214844, 18.25661849975586, 19.926959991455078, 27.631916046142578, 19.618221282958984, 18.368812561035156, 21.804885864257812, 21.756397247314453, 21.804885864257812, 21.78781509399414, 21.804889678955078, 21.804889678955078, 21.804889678955078, 28.20922088623047, 22.829282760620117, 21.78781509399414, 34.936466217041016, 21.813636779785156, 18.367027282714844, 27.676586151123047, 23.366870880126953, 27.652345657348633, 27.860626220703125, 27.860633850097656, 27.631914138793945, 21.789663314819336, 19.381725311279297, 19.896102905273438, 27.919981002807617, 17.088830947875977, 21.787813186645508, 21.813636779785156, 27.972076416015625, 17.15058708190918, 27.879478454589844, 35.235755920410156, 19.966838836669922, 27.631912231445312, 21.804887771606445, 21.80489158630371, 27.854145050048828, 21.813636779785156, 21.7896728515625, 21.804885864257812, 27.676589965820312, 34.936466217041016, 27.87948226928711, 21.804887771606445, 34.936466217041016, 21.804885864257812, 18.296152114868164, 21.813636779785156, 21.804887771606445, 21.804889678955078, 21.804889678955078, 21.804887771606445, 21.804887771606445, 21.804889678955078, 27.818256378173828, 18.296152114868164, 21.804889678955078, 18.282840728759766, 18.24623680114746, 27.676589965820312, 21.813634872436523, 18.276752471923828, 21.804889678955078, 19.277172088623047, 18.052650451660156, 19.290117263793945, 19.846424102783203, 18.246238708496094, 22.829204559326172, 21.738048553466797, 21.756393432617188, 21.790559768676758, 27.879478454589844, 21.804889678955078, 21.804887771606445, 17.434280395507812, 21.804885864257812, 27.91619110107422, 21.813636779785156, 21.791095733642578, 36.81534194946289, 27.631916046142578, 27.631916046142578, 22.829238891601562, 21.804889678955078, 21.804887771606445, 27.818262100219727, 27.676586151123047, 21.791431427001953, 21.738052368164062, 21.804885864257812, 22.8292236328125, 21.804889678955078, 21.804889678955078, 17.07821273803711, 21.78781509399414, 18.162628173828125, 21.804889678955078, 22.829313278198242, 21.790557861328125, 38.59708786010742, 18.28284454345703, 27.631914138793945, 27.744958877563477, 21.80489158630371, 21.804885864257812, 21.804887771606445, 21.804889678955078, 27.818262100219727, 27.725330352783203, 21.79090118408203, 27.818138122558594, 21.804885864257812, 21.756397247314453, 38.872833251953125, 20.039470672607422, 21.804887771606445, 19.966943740844727, 27.77135467529297, 21.813636779785156, 21.804889678955078, 27.631914138793945, 27.744962692260742, 21.804889678955078, 27.72538948059082, 27.631914138793945, 21.804885864257812, 21.804887771606445, 21.789661407470703, 21.804885864257812, 19.966842651367188, 18.288991928100586, 22.829195022583008, 19.89610481262207, 23.366870880126953, 21.78781509399414, 17.170394897460938, 27.81813621520996, 27.67658805847168, 27.676586151123047, 21.79166603088379, 21.804889678955078, 17.150585174560547, 18.24623680114746, 18.368799209594727, 21.804889678955078, 21.804885864257812, 23.366870880126953, 27.744964599609375, 28.209423065185547, 28.21808433532715, 21.804885864257812, 17.094022750854492, 27.919979095458984, 27.854013442993164, 27.63191032409668, 35.24018859863281, 18.246234893798828, 27.63190460205078, 23.366870880126953, 21.804885864257812, 21.804887771606445, 28.21817398071289, 16.952491760253906, 26.876964569091797, 21.784137725830078, 21.804885864257812, 27.493736267089844, 21.770450592041016, 27.676586151123047, 21.804885864257812, 34.936466217041016, 18.28978157043457, 27.818138122558594, 26.78191375732422, 21.80206298828125, 21.804889678955078, 27.67658805847168, 21.78781509399414, 24.016937255859375, 28.20338249206543, 27.744966506958008, 18.276748657226562, 27.818262100219727, 27.631914138793945, 21.804889678955078, 21.804887771606445, 27.972078323364258, 27.81814193725586, 18.288991928100586, 21.804889678955078, 21.804885864257812, 21.804889678955078, 23.366870880126953, 19.846424102783203, 27.74496078491211, 21.813636779785156, 22.829330444335938, 27.631912231445312, 22.82924461364746, 21.804889678955078, 19.966835021972656, 21.804889678955078, 21.804885864257812, 21.784143447875977, 21.804887771606445, 19.846426010131836, 21.804885864257812, 27.67658805847168, 27.67658805847168, 21.804885864257812, 21.791095733642578, 27.652347564697266, 19.365495681762695, 21.804885864257812, 21.804887771606445, 27.453975677490234, 19.883811950683594, 35.240291595458984, 27.63190460205078, 21.78965950012207, 21.738048553466797, 17.098899841308594, 21.78781509399414, 27.676589965820312, 27.676586151123047, 21.804885864257812, 21.787813186645508, 21.804885864257812, 20.039011001586914, 27.818256378173828, 27.493736267089844, 21.790557861328125, 17.078237533569336, 21.804885864257812, 34.936466217041016, 21.804889678955078, 27.74496078491211, 27.972087860107422, 27.818143844604492, 21.804887771606445, 21.804885864257812, 27.676584243774414]\n",
            "Mean Squared Error: 149.6622\n",
            "Mean Absolute Error: 9.8392\n",
            "Root Mean Squared Error (RMSE): 12.2337\n",
            "Mean Absolute Percentage Error (MAPE): 0.79\n"
          ]
        }
      ]
    },
    {
      "cell_type": "markdown",
      "source": [
        "##5.1 Hypertuning Results\n",
        "The results of running several tests show that as the model behaves best with adam and the best results come from the learning rate of 0.01 and hidden_layer_size of 128 and dropout = 0.3. The validation loss of 6.0825 was the best performing out of all the models. Therefore, we shall implement to see if it surpasses the final model's metrics."
      ],
      "metadata": {
        "id": "_3GA6K6TjKzf"
      }
    },
    {
      "cell_type": "code",
      "source": [
        "#Define the GNN model\n",
        "class GNN6(torch.nn.Module):\n",
        "    def __init__(self,input_dim,output_size,dropout_rate):\n",
        "        super(GNN6, self).__init__()\n",
        "\n",
        "        assert output_size % 8 == 0, \"Output size should be divisible by 8.\"\n",
        "\n",
        "        ###convolutional layer 1 to extract richer features from the data\n",
        "        self.conv1 = GCNConv(in_channels=input_dim, out_channels=output_size)\n",
        "        self.bn1 = torch.nn.BatchNorm1d(output_size)\n",
        "\n",
        "        ##adding a hidden layer\n",
        "        self.fc_hidden = torch.nn.Linear(output_size, output_size//2)\n",
        "        self.bn_hidden = torch.nn.BatchNorm1d(output_size//2)\n",
        "\n",
        "       ### convolutional layer 2 further refining these features into a more compact form.\n",
        "        self.conv2 = GCNConv(in_channels=output_size//2, out_channels=output_size//4)\n",
        "        self.bn2 = torch.nn.BatchNorm1d(output_size//4)\n",
        "\n",
        "        self.conv3 = GCNConv(in_channels=output_size//4, out_channels=output_size//8)\n",
        "        self.bn3 = torch.nn.BatchNorm1d(output_size//8)\n",
        "\n",
        "        self.fc = torch.nn.Linear(output_size//8, 1)\n",
        "        self.dropout = torch.nn.Dropout(p=dropout_rate)\n",
        "\n",
        "    def forward(self, data):\n",
        "        x, edge_index = data.x, data.edge_index\n",
        "\n",
        "        x = self.conv1(x, edge_index)\n",
        "        x = self.bn1(x)\n",
        "        x = F.relu(x)\n",
        "        x = self.dropout(x)\n",
        "\n",
        "        x = self.fc_hidden(x)\n",
        "        x = self.bn_hidden(x)\n",
        "        x = F.relu(x)\n",
        "        x = self.dropout(x)\n",
        "\n",
        "        x = self.conv2(x, edge_index)\n",
        "        x = self.bn2(x)\n",
        "        x = F.relu(x)\n",
        "        x = self.dropout(x)\n",
        "\n",
        "        x = self.conv3(x,edge_index)\n",
        "        x = self.bn3(x)\n",
        "        x = F.relu(x)\n",
        "\n",
        "        embeddings = x\n",
        "        x = self.fc(x)\n",
        "        return x"
      ],
      "metadata": {
        "id": "OWctFge5OHeL"
      },
      "execution_count": null,
      "outputs": []
    },
    {
      "cell_type": "code",
      "source": [
        "\n",
        "# Initialize the model, loss function, and optimizer\n",
        "model_Iteration6 = GNN6(input_dim=5,output_size=128,dropout_rate=0.3)\n",
        "criterion = torch.nn.L1Loss()\n",
        "optimizer = torch.optim.Adam(model_Iteration6.parameters(), lr=0.01)\n",
        "\n",
        "# Early stopping parameters\n",
        "patience = 500  # Number of epochs to wait for improvement\n",
        "best_val_loss = float('inf')  # Initialize with a large value\n",
        "epochs_no_improve = 0  # Count of epochs since the last improvement\n",
        "\n",
        "\n",
        "for epoch in range(500):\n",
        "  model_Iteration6.train()\n",
        "  train_loss = 0\n",
        "  for batch in train_loader2:\n",
        "      optimizer.zero_grad()\n",
        "      out = model_Iteration6(batch)\n",
        "      loss = criterion(out, batch.y.view(-1, 1).float())\n",
        "      if torch.isnan(loss).sum() > 0:\n",
        "          print(\"NaN loss encountered at epoch:\", epoch)\n",
        "          break\n",
        "      loss.backward()\n",
        "      torch.nn.utils.clip_grad_norm_(model_Iteration6.parameters(), max_norm=1.0)\n",
        "      optimizer.step()\n",
        "      train_loss += loss.item() * batch.num_graphs\n",
        "  train_loss /= len(train_loader2.dataset)\n",
        "\n",
        "\n",
        "  model_Iteration6.eval()  # Set the model to evaluation mode\n",
        "  val_loss = 0  # Initialize validation loss\n",
        "\n",
        "  with torch.no_grad():  # No gradient computation\n",
        "      for batch in val_loader2:\n",
        "          out = model_Iteration6(batch)  # Forward pass\n",
        "          loss = criterion(out, batch.y.view(-1, 1).float())  # Compute loss\n",
        "          val_loss += loss.item() * batch.num_graphs  # Accumulate validation loss\n",
        "\n",
        "  val_loss /= len(val_loader2.dataset)  # Average validation loss\n",
        "  print(f'Epoch {epoch+1}, Validation Loss: {val_loss:.4f},Loss: {train_loss:.4f},best_val_loss:{best_val_loss:.4f}')\n",
        "\n",
        "  # Early stopping check\n",
        "  if val_loss < best_val_loss:\n",
        "      best_val_loss = val_loss\n",
        "      epochs_no_improve = 0\n",
        "      # Save the best model\n",
        "      torch.save(model_Iteration6.state_dict(), 'best_model2.pt')\n",
        "  else:\n",
        "      epochs_no_improve += 1\n",
        "\n",
        "    # Check if early stopping criterion is met\n",
        "  if epochs_no_improve >= patience:\n",
        "      print(f'Early stopping triggered after {epoch+1} epochs')\n",
        "      break\n",
        "\n",
        "    # Set the model back to training mode for the next epoch\n",
        "  model_Iteration6.train()"
      ],
      "metadata": {
        "id": "7qatmBDdw4AL"
      },
      "execution_count": null,
      "outputs": []
    },
    {
      "cell_type": "code",
      "source": [
        "# Prediction\n",
        "model_Iteration6.eval()\n",
        "predictions = []\n",
        "with torch.no_grad():\n",
        "    for batch in test_loader2:\n",
        "        out = model_Iteration6(batch)\n",
        "        predictions.extend(out.squeeze().cpu().numpy().tolist())\n",
        "\n",
        "print(f'Predicted valuations: {predictions}')\n",
        "\n",
        "# Evaluation\n",
        "from sklearn.metrics import mean_squared_error, mean_absolute_error, mean_absolute_percentage_error\n",
        "\n",
        "# Convert predictions and targets to numpy arrays for evaluation\n",
        "actuals = test_data.y.numpy()\n",
        "\n",
        "# Calculate evaluation metrics\n",
        "mse = mean_squared_error(actuals, predictions)\n",
        "mae = mean_absolute_error(actuals, predictions)\n",
        "rmse = mean_squared_error(actuals, predictions, squared=False)\n",
        "mape = mean_absolute_percentage_error(actuals, predictions)\n",
        "\n",
        "\n",
        "print(f'Mean Squared Error: {mse:.4f}')\n",
        "print(f'Mean Absolute Error: {mae:.4f}')\n",
        "print(f'Root Mean Squared Error (RMSE): {rmse:.4f}')\n",
        "print(f'Mean Absolute Percentage Error (MAPE): {mape:.2f}%')"
      ],
      "metadata": {
        "colab": {
          "base_uri": "https://localhost:8080/"
        },
        "id": "p2EcgA7Z1ZOC",
        "outputId": "2e5969f2-ce14-4996-eaad-dc9f7d7411c0"
      },
      "execution_count": null,
      "outputs": [
        {
          "output_type": "stream",
          "name": "stdout",
          "text": [
            "Predicted valuations: [17.00674057006836, 17.00674057006836, 15.634843826293945, 17.00674057006836, 9.443140983581543, 17.00674057006836, 15.76291561126709, 13.243549346923828, 11.65355396270752, 9.443140029907227, 15.92860221862793, 9.48320484161377, 9.498150825500488, 17.00674057006836, 13.279548645019531, 13.177889823913574, 17.00674057006836, 15.633118629455566, 17.00674057006836, 17.00674057006836, 15.416971206665039, 15.76291561126709, 13.249523162841797, 15.633118629455566, 15.484336853027344, 15.388965606689453, 17.00674057006836, 13.243524551391602, 17.00674057006836, 17.00674057006836, 15.600032806396484, 17.897661209106445, 17.00674057006836, 15.747207641601562, 9.483203887939453, 13.176414489746094, 15.705995559692383, 15.874368667602539, 11.660080909729004, 15.602745056152344, 17.00674057006836, 15.747207641601562, 15.634843826293945, 13.023650169372559, 11.601829528808594, 15.874368667602539, 15.874368667602539, 17.00674057006836, 15.705995559692383, 17.00674057006836, 15.008645057678223, 11.692177772521973, 11.558618545532227, 11.601829528808594, 15.00869369506836, 9.468652725219727, 16.835603713989258, 11.677864074707031, 13.236067771911621, 17.00674057006836, 19.964004516601562, 17.00674057006836, 15.92860221862793, 13.108743667602539, 17.00674057006836, 17.00674057006836, 15.634843826293945, 15.874368667602539, 17.00674057006836, 13.201260566711426, 17.00674057006836, 17.00674057006836, 15.701452255249023, 9.498150825500488, 17.00674057006836, 15.763065338134766, 17.00674057006836, 9.309823989868164, 13.138242721557617, 17.00674057006836, 9.550056457519531, 17.00674057006836, 16.835601806640625, 17.00674057006836, 16.967458724975586, 15.594595909118652, 15.874368667602539, 9.580439567565918, 9.309822082519531, 17.00674057006836, 13.24952507019043, 17.00674057006836, 11.700328826904297, 17.00674057006836, 11.660079002380371, 15.811363220214844, 15.634843826293945, 17.00674057006836, 17.00674057006836, 17.00674057006836, 15.605432510375977, 15.811363220214844, 15.76291561126709, 15.741310119628906, 15.613446235656738, 15.874368667602539, 15.417081832885742, 17.00674057006836, 15.705995559692383, 15.880102157592773, 9.4686279296875, 15.705995559692383, 15.633118629455566, 15.747207641601562, 15.76291561126709, 17.00674057006836, 11.653554916381836, 15.874368667602539, 15.874368667602539, 17.00674057006836, 9.498150825500488, 17.00674057006836, 17.2056827545166, 17.00674057006836, 17.00674057006836, 15.77456283569336, 17.205747604370117, 17.00674057006836, 15.874368667602539, 15.475539207458496, 17.00674057006836, 15.92860221862793, 15.747207641601562, 17.00674057006836, 15.701452255249023, 15.92860221862793, 9.443140029907227, 15.749494552612305, 15.763065338134766, 17.00674057006836, 15.763065338134766, 11.601829528808594, 17.00674057006836, 15.874368667602539, 15.594595909118652, 17.00674057006836, 15.874368667602539, 17.00674057006836, 16.63477897644043, 11.692197799682617, 11.695642471313477, 17.00674057006836, 13.236115455627441, 16.25920295715332, 11.671611785888672, 17.00674057006836, 15.811363220214844, 15.633118629455566, 15.388965606689453, 17.00674057006836, 15.774561882019043, 15.634843826293945, 15.602745056152344, 17.00674057006836, 17.00674057006836, 11.700328826904297, 15.742973327636719, 9.580439567565918, 9.468716621398926, 15.874368667602539, 17.00674057006836, 15.701452255249023, 15.811363220214844, 15.372138023376465, 15.484336853027344, 17.00674057006836, 17.00674057006836, 17.00674057006836, 15.763065338134766, 11.671611785888672, 15.613446235656738, 15.874368667602539, 15.634843826293945, 17.00674057006836, 15.008668899536133, 11.558618545532227, 17.00674057006836, 15.874368667602539, 15.811363220214844, 11.684556007385254, 17.00674057006836, 17.00674057006836, 15.634843826293945, 15.633118629455566, 15.811363220214844, 9.309823036193848, 15.874368667602539, 9.468616485595703, 17.00674057006836, 17.205678939819336, 19.96400260925293, 11.677862167358398, 17.00674057006836, 15.388965606689453, 13.236115455627441, 15.705995559692383, 15.735006332397461, 15.92860221862793, 13.167160034179688, 11.558618545532227, 15.811363220214844, 15.92860221862793, 15.874368667602539, 15.92860221862793, 11.68459701538086, 17.00674057006836, 17.00674057006836, 15.811363220214844, 16.835603713989258, 15.874368667602539, 13.186788558959961, 10.278148651123047, 15.92860221862793, 9.458077430725098, 15.705995559692383, 9.636053085327148, 15.737586975097656, 11.700328826904297, 11.700328826904297, 13.24952507019043, 15.76291561126709, 17.00674057006836, 15.735006332397461, 17.00674057006836, 15.701452255249023, 15.749494552612305, 11.782110214233398, 15.507665634155273, 15.874368667602539, 15.76291561126709, 13.201273918151855, 15.701452255249023, 14.486263275146484, 9.481830596923828, 15.51814079284668, 15.92860221862793, 15.701452255249023, 18.576183319091797, 15.92860221862793, 15.811363220214844, 15.74720573425293, 17.00674057006836, 17.00674057006836, 15.92860221862793, 15.874368667602539, 17.00674057006836, 15.735006332397461, 17.00674057006836, 17.2056827545166, 15.92860221862793, 17.00674057006836, 17.00674057006836, 15.634843826293945, 17.00674057006836, 15.701452255249023, 15.633118629455566, 17.00674057006836, 11.653555870056152, 15.76291561126709, 13.243528366088867, 13.02365493774414, 15.634843826293945, 16.634775161743164, 15.594595909118652, 17.00674057006836, 15.024956703186035, 17.00674057006836, 15.811363220214844, 13.023642539978027, 15.634843826293945, 17.897661209106445, 15.024887084960938, 17.00674057006836, 9.443140029907227, 15.76291561126709, 16.835601806640625, 17.00674057006836, 15.735006332397461, 15.735618591308594, 15.588261604309082, 11.65095329284668, 17.00674057006836, 14.171365737915039, 17.00674057006836, 17.00674057006836, 15.763065338134766, 15.74720573425293, 15.588261604309082, 11.700328826904297, 15.735618591308594, 15.735006332397461, 13.2435302734375, 9.580439567565918, 15.874368667602539, 15.735006332397461, 17.00674057006836, 15.484336853027344, 17.00674057006836, 14.751652717590332, 15.874368667602539, 11.558618545532227, 9.580439567565918, 15.874368667602539, 11.700328826904297, 17.00674057006836, 15.701452255249023, 15.633118629455566, 15.742974281311035, 17.00674057006836, 17.00674057006836, 15.92860221862793, 15.705995559692383, 15.874368667602539, 11.661354064941406, 15.763065338134766, 14.751652717590332, 17.00674057006836, 15.811363220214844, 15.92860221862793, 17.00674057006836, 17.00674057006836, 13.138252258300781, 15.00864028930664, 15.92860221862793, 17.2056827545166, 14.979554176330566, 15.92860221862793, 13.236069679260254, 15.92860221862793, 17.00674057006836, 15.603612899780273, 15.874368667602539, 13.236114501953125, 9.309820175170898, 15.736257553100586, 17.20568084716797, 15.92860221862793, 9.392146110534668, 13.167160034179688, 15.92860221862793, 17.00674057006836, 15.735006332397461, 15.92860221862793, 12.926200866699219, 16.63477897644043, 15.701452255249023, 17.00674057006836, 17.00674057006836, 14.751652717590332, 17.00674057006836, 15.613434791564941, 15.811363220214844, 11.68455696105957, 15.597330093383789, 15.874368667602539, 15.705995559692383, 15.874368667602539, 13.167160034179688, 15.74130916595459, 15.736257553100586, 15.74720573425293, 15.588261604309082, 15.92860221862793, 17.00674057006836, 15.92860221862793, 17.00674057006836, 15.749494552612305, 15.705995559692383, 12.926193237304688, 15.811363220214844, 15.763065338134766, 17.00674057006836, 17.00674057006836, 17.2056827545166, 17.00674057006836, 15.874368667602539, 15.633118629455566, 15.811363220214844, 15.874368667602539, 11.653555870056152, 9.48183822631836, 17.00674057006836, 17.00674057006836, 17.00674057006836, 15.735006332397461, 15.74130916595459, 15.73819351196289, 11.671689987182617, 11.677862167358398, 17.00674057006836, 15.92860221862793, 15.634843826293945, 13.186790466308594, 15.742974281311035, 11.671690940856934, 15.372138023376465, 15.92860221862793, 17.00674057006836, 15.763065338134766, 9.48185920715332, 15.874368667602539, 9.309820175170898, 15.76291561126709, 17.00674057006836, 13.236067771911621, 17.00674057006836, 15.92860221862793, 13.023640632629395, 15.594595909118652, 13.243528366088867, 15.475554466247559, 15.735006332397461, 9.468728065490723, 9.580440521240234, 15.705995559692383, 15.76291561126709, 11.601829528808594, 17.00674057006836, 15.811363220214844, 15.633118629455566, 17.00674057006836, 15.705995559692383, 15.736258506774902, 17.12236785888672, 15.742975234985352, 17.00674057006836, 9.468646049499512, 14.751652717590332, 17.00674057006836, 13.249523162841797, 17.00674057006836, 15.749494552612305, 11.700328826904297, 15.92860221862793, 11.700328826904297, 17.00674057006836, 15.76291561126709, 11.700328826904297, 17.00674057006836, 13.236080169677734, 11.700328826904297, 15.76291561126709, 15.737586975097656, 17.00674057006836, 15.874368667602539, 9.443828582763672, 17.00674057006836, 15.603612899780273, 15.484336853027344, 19.964012145996094, 17.00674057006836, 17.00674057006836, 15.811363220214844, 17.00674057006836, 15.749494552612305, 15.735006332397461, 17.00674057006836, 17.00674057006836, 9.580440521240234, 18.57618522644043, 17.00674057006836, 8.717011451721191, 17.00674057006836, 17.00674057006836, 17.00674057006836, 15.51814079284668, 14.979554176330566, 15.483299255371094, 15.74130916595459, 13.176443099975586, 15.613446235656738, 15.701452255249023, 15.633118629455566, 9.483213424682617, 9.44314193725586, 13.197525024414062, 17.897663116455078, 15.562685012817383, 15.811363220214844, 9.468713760375977, 15.588261604309082, 15.588261604309082, 15.735006332397461, 15.613434791564941, 17.00674057006836, 17.00674057006836, 15.92860221862793, 15.92860221862793, 19.964008331298828, 16.352689743041992, 15.735006332397461, 14.410896301269531, 15.507698059082031, 9.443138122558594, 15.92860221862793, 17.00674057006836, 15.619678497314453, 16.25920295715332, 9.580440521240234, 15.613434791564941, 17.00674057006836, 15.60543155670166, 15.742975234985352, 15.763065338134766, 17.00674057006836, 17.00674057006836, 15.811363220214844, 15.874368667602539, 17.00674057006836, 15.92860221862793, 11.60183048248291, 15.811363220214844, 17.00674057006836, 9.468624114990234, 17.00674057006836, 15.483299255371094, 17.00674057006836, 9.524507522583008, 15.742975234985352, 15.874368667602539, 15.483297348022461, 17.2056827545166, 15.92860221862793, 15.74130916595459, 15.76291561126709, 17.00674057006836, 15.613446235656738, 15.76291561126709, 11.700328826904297, 15.92860221862793, 11.684555053710938, 17.897661209106445, 15.874368667602539, 11.700328826904297, 11.700328826904297, 15.735006332397461, 17.00674057006836, 15.763065338134766, 11.660080909729004, 15.874368667602539, 15.416997909545898, 15.76291561126709, 17.00674057006836, 17.00674057006836, 13.167160034179688, 17.00674057006836, 17.00674057006836, 15.588261604309082, 15.597330093383789, 12.991905212402344, 15.705995559692383, 17.00674057006836, 15.024913787841797, 17.00674057006836, 17.00674057006836, 9.443827629089355, 17.00674057006836, 17.00674057006836, 15.92860221862793, 9.662933349609375, 17.00674057006836, 17.00674057006836, 11.660080909729004, 15.562812805175781, 15.705995559692383, 11.653555870056152, 15.92860221862793, 17.00674057006836, 11.65095329284668, 17.00674057006836, 17.00674057006836, 15.705995559692383, 17.00674057006836, 15.749494552612305, 17.00674057006836, 17.00674057006836, 14.751652717590332, 15.874368667602539, 14.979554176330566, 13.207568168640137, 15.633118629455566, 17.00674057006836, 15.701452255249023, 15.76291561126709, 11.342416763305664, 17.00674057006836, 17.00674057006836, 15.763065338134766, 15.701452255249023, 15.735006332397461, 15.585440635681152, 15.92860221862793, 13.224557876586914, 18.57618522644043, 9.468765258789062, 15.735006332397461, 15.484336853027344, 15.811363220214844, 17.00674057006836, 13.167160034179688, 15.705995559692383, 15.811363220214844, 15.874368667602539, 15.92860221862793, 11.700328826904297, 13.236074447631836, 15.92860221862793, 15.92860221862793, 15.588261604309082, 15.742974281311035, 17.00674057006836, 9.580440521240234, 9.498150825500488, 15.736257553100586, 13.236122131347656, 11.671688079833984, 15.874368667602539, 17.00674057006836, 13.177889823913574, 15.613434791564941, 13.23607063293457, 15.874368667602539, 9.498150825500488, 15.763065338134766, 11.66135311126709, 11.558618545532227, 13.177889823913574, 15.874368667602539, 13.177889823913574, 15.633118629455566, 17.00674057006836, 15.749493598937988, 9.309819221496582, 11.677820205688477, 17.00674057006836, 17.20568084716797, 11.653555870056152, 15.518141746520996, 15.518141746520996, 13.249528884887695, 15.600032806396484, 15.874368667602539, 9.443151473999023, 17.00674057006836, 17.00674057006836, 13.176441192626953, 14.979554176330566, 15.92860221862793, 15.92860221862793, 11.700328826904297, 15.74130916595459, 15.92860221862793, 15.92860221862793, 15.92860221862793, 11.677820205688477, 17.00674057006836, 13.27955436706543, 15.633118629455566, 15.811363220214844, 15.475539207458496, 15.763065338134766, 15.92860221862793, 15.518141746520996, 17.00674057006836, 17.00674057006836, 17.00674057006836, 15.874368667602539, 17.00674057006836, 15.735620498657227, 15.92860221862793, 17.00674057006836, 15.92860221862793, 17.00674057006836, 17.00674057006836, 15.76291561126709, 15.588261604309082, 15.76291561126709, 15.705995559692383, 15.763065338134766, 13.249521255493164, 15.92860221862793, 15.811363220214844, 19.964019775390625, 11.653555870056152, 17.00674057006836, 15.811363220214844, 15.7549467086792, 15.594595909118652, 13.224535942077637, 15.56279468536377, 15.874368667602539, 9.443140029907227, 17.00674057006836, 17.2056827545166, 15.74130916595459, 17.00674057006836, 17.00674057006836, 15.701452255249023, 15.736258506774902, 11.558618545532227, 17.00674057006836, 15.705995559692383, 13.20140266418457, 15.874368667602539, 15.50761604309082, 15.634844779968262, 15.296195030212402, 15.92860221862793, 17.00674057006836, 16.529769897460938, 17.00674057006836, 15.874368667602539, 15.705995559692383, 15.874368667602539, 9.52454662322998, 15.92860221862793, 15.92860221862793, 15.763065338134766, 15.271015167236328, 17.205684661865234, 9.309822082519531, 13.138240814208984, 15.763065338134766, 17.00674057006836, 17.00674057006836, 17.00674057006836, 17.00674057006836, 15.749493598937988, 11.224679946899414, 17.00674057006836, 17.00674057006836, 9.458074569702148, 15.60543155670166, 15.562812805175781, 15.735006332397461, 15.701452255249023, 17.00674057006836, 17.00674057006836, 9.309821128845215, 17.00674057006836, 13.246078491210938, 15.76291561126709, 9.469289779663086, 15.92860221862793, 17.00674057006836, 15.811363220214844, 15.701452255249023, 9.309821128845215, 15.735620498657227, 15.92860221862793, 19.964006423950195, 13.24354076385498, 15.92860221862793, 17.00674057006836, 9.580440521240234, 15.737587928771973, 15.388965606689453, 17.00674057006836, 15.633118629455566, 15.701452255249023, 15.484336853027344, 9.443143844604492, 15.811363220214844, 17.00674057006836, 15.92860221862793, 13.279550552368164, 17.00674057006836, 11.684596061706543, 17.00674057006836, 15.701452255249023, 15.811363220214844, 15.736257553100586, 15.634844779968262, 17.00674057006836, 15.92860221862793, 11.558616638183594, 15.92860221862793, 15.47735595703125, 17.00674057006836, 19.963998794555664, 9.469282150268555, 17.00674057006836, 15.613446235656738, 17.00674057006836, 15.874368667602539, 15.633118629455566, 15.92860221862793, 15.742974281311035, 11.558618545532227, 9.524499893188477, 15.92860221862793, 11.700328826904297, 15.518141746520996, 15.811361312866211, 15.92860221862793, 15.874368667602539, 9.469883918762207, 15.92860221862793, 11.55861759185791, 17.00674057006836, 15.92860221862793, 15.735006332397461, 17.00674057006836, 15.92860221862793, 17.00674057006836, 15.874368667602539, 15.749494552612305, 17.00674057006836, 13.243532180786133, 17.00674057006836, 15.74720573425293, 15.484336853027344, 11.845086097717285, 9.481948852539062, 9.458069801330566, 11.695642471313477, 15.74720573425293, 13.167160034179688, 15.92860221862793, 11.671610832214355, 15.60543155670166, 17.00674057006836, 15.92860221862793, 15.701452255249023, 16.535499572753906, 14.199304580688477, 17.00674057006836, 15.735006332397461, 15.701452255249023, 17.00674057006836, 11.601829528808594, 13.177889823913574, 15.701452255249023, 15.388965606689453, 17.00674057006836, 15.633118629455566, 15.811361312866211, 15.742974281311035, 15.92860221862793, 17.00674057006836, 17.00674057006836, 15.735006332397461, 17.00674057006836, 17.00674057006836, 11.700328826904297, 17.00674057006836, 17.00674057006836, 15.705995559692383, 13.249519348144531, 15.588261604309082, 14.751652717590332, 15.76291561126709, 11.60183048248291, 15.594595909118652, 17.00674057006836, 15.701452255249023, 15.874368667602539, 15.74720573425293, 15.749494552612305, 15.633118629455566, 15.874368667602539, 15.41700553894043, 15.701452255249023, 15.588261604309082, 15.749494552612305, 15.74720573425293, 17.00674057006836, 15.749494552612305, 15.594595909118652, 11.224679946899414, 15.633118629455566, 9.46989631652832, 11.660079956054688, 17.00674057006836, 15.613446235656738, 15.633118629455566, 15.874368667602539, 16.835603713989258, 15.735006332397461, 15.92860221862793, 15.76291561126709, 17.2056827545166, 15.613434791564941, 15.874368667602539, 11.660080909729004, 15.613434791564941, 15.588261604309082, 15.735006332397461, 11.671611785888672, 11.692178726196289, 16.529773712158203, 17.205684661865234, 17.00674057006836, 17.00674057006836, 15.024913787841797, 15.024887084960938, 15.701452255249023, 15.811361312866211, 17.00674057006836, 15.735006332397461, 15.811361312866211, 16.67470359802246, 11.661349296569824, 17.00674057006836, 15.613434791564941, 11.700328826904297, 11.65095329284668, 17.00674057006836, 15.763065338134766, 15.588261604309082, 17.00674057006836, 15.701452255249023, 17.00674057006836, 15.749494552612305, 15.530898094177246, 17.00674057006836, 15.737587928771973, 15.417070388793945, 13.186792373657227, 11.700328826904297, 17.00674057006836, 15.92860221862793, 17.00674057006836, 17.00674057006836, 15.749494552612305, 15.588261604309082, 15.417064666748047, 13.246075630187988, 17.00674057006836, 17.00674057006836, 9.468799591064453, 15.88016128540039, 13.176412582397461, 17.00674057006836, 15.634844779968262, 15.92860221862793, 17.00674057006836, 17.00674057006836, 15.633118629455566, 15.633118629455566, 15.597330093383789, 15.735006332397461, 9.44383716583252, 17.00674057006836, 15.737587928771973, 9.443140029907227, 15.92860221862793, 15.92860221862793, 17.00674057006836, 15.92860221862793, 13.186458587646484, 15.70599365234375, 15.763065338134766, 17.00674057006836, 11.700328826904297, 9.468681335449219, 15.613446235656738, 15.619678497314453, 15.70599365234375, 11.601827621459961, 15.74720573425293, 17.00674057006836, 13.023645401000977, 17.00674057006836, 11.700328826904297, 11.67781925201416, 11.217580795288086, 15.588261604309082, 16.25920295715332, 15.701452255249023, 15.74130916595459, 9.443146705627441, 15.008652687072754, 15.600031852722168, 11.558618545532227, 15.388965606689453, 15.763065338134766, 11.692181587219238, 15.811361312866211, 11.6716890335083, 15.619678497314453, 15.92860221862793, 15.811361312866211, 9.483205795288086, 17.00674057006836, 15.594595909118652, 17.897661209106445, 17.00674057006836, 15.701452255249023, 13.279544830322266, 17.00674057006836, 17.205684661865234, 17.00674057006836, 15.811361312866211, 16.63477897644043, 11.700328826904297, 15.388965606689453, 11.684596061706543, 17.00674057006836, 15.76291561126709, 15.77456283569336, 11.224679946899414, 17.00674057006836, 15.874368667602539, 15.811361312866211, 11.10782527923584, 15.613446235656738, 15.874368667602539, 17.00674057006836, 17.00674057006836, 15.701452255249023, 17.00674057006836, 9.443138122558594, 17.00674057006836, 17.79448699951172, 15.92860221862793, 9.392147064208984, 17.00674057006836, 15.811361312866211, 17.00674057006836, 18.576183319091797, 17.00674057006836, 17.00674057006836, 15.749494552612305, 15.701452255249023, 15.308034896850586, 15.92860221862793, 11.558618545532227, 15.613434791564941, 17.00674057006836, 11.692193984985352, 15.76291561126709, 15.874368667602539, 15.008674621582031, 9.309823989868164, 15.811361312866211, 15.874368667602539, 15.811361312866211, 17.00674057006836, 15.92860221862793, 15.874368667602539, 15.92860221862793, 11.65095329284668, 15.735006332397461, 15.735006332397461, 9.392148971557617, 17.00674057006836, 12.32325553894043, 15.874368667602539, 17.00674057006836, 15.594595909118652, 15.603612899780273, 11.558618545532227, 15.74130916595459, 15.74720573425293, 15.763065338134766, 15.024904251098633, 9.661970138549805, 15.633118629455566, 15.76291561126709, 17.00674057006836, 15.811361312866211, 15.811361312866211, 15.70599365234375, 11.671609878540039, 15.811361312866211, 15.701452255249023, 15.92860221862793, 17.00674057006836, 16.25920295715332, 15.633118629455566, 9.309825897216797, 15.633118629455566, 15.811361312866211, 17.00674057006836, 11.60183048248291, 17.00674057006836, 15.763065338134766, 15.74720573425293, 11.558618545532227, 15.92860221862793, 13.279549598693848, 15.701452255249023, 15.701452255249023, 9.443140029907227, 15.874368667602539, 8.979388236999512, 15.74720573425293, 11.650954246520996, 9.580439567565918, 13.19752025604248, 15.763065338134766, 15.763065338134766, 15.874368667602539, 17.00674057006836, 11.65095329284668, 15.874368667602539, 15.874368667602539, 15.92860221862793, 15.874368667602539, 15.763065338134766, 11.653555870056152, 17.897661209106445, 15.874368667602539, 15.92860221862793, 13.249517440795898, 15.735618591308594, 17.00674057006836, 15.588261604309082, 17.00674057006836, 15.92860221862793, 19.964017868041992, 9.309820175170898, 17.897661209106445, 17.00674057006836, 17.00674057006836, 13.236115455627441, 15.475537300109863, 15.811361312866211, 9.443140029907227, 17.00674057006836, 15.92860221862793, 17.00674057006836, 15.749494552612305, 16.835601806640625, 15.588261604309082, 15.92860221862793, 15.811361312866211, 15.749494552612305, 17.00674057006836, 17.00674057006836, 19.964008331298828, 15.763065338134766, 15.811361312866211, 15.634844779968262, 17.00674057006836, 17.00674057006836, 15.735006332397461, 15.92860221862793, 15.874368667602539, 15.874368667602539, 17.00674057006836, 17.00674057006836, 17.00674057006836, 11.692179679870605, 9.443826675415039, 15.701452255249023, 9.44314193725586, 15.811363220214844, 15.633118629455566, 11.66135311126709, 15.70599365234375, 17.00674057006836, 19.964004516601562, 9.44314193725586, 17.00674057006836, 17.00674057006836, 9.443838119506836, 15.416987419128418, 9.458074569702148, 11.558614730834961, 15.762916564941406, 15.741310119628906, 15.811363220214844, 9.468717575073242, 15.811363220214844, 13.243528366088867, 9.469892501831055, 15.92860221862793, 10.545327186584473, 13.236124038696289, 17.00674057006836, 11.661354064941406, 17.00674057006836, 15.701452255249023, 17.00674057006836, 17.00674057006836, 17.00674057006836, 16.835603713989258, 11.601829528808594, 15.701452255249023, 15.634843826293945, 11.700328826904297, 13.236066818237305, 15.874368667602539, 15.633118629455566, 15.128351211547852, 15.74720573425293, 15.74720573425293, 15.92860221862793, 11.558618545532227, 9.55019760131836, 9.498149871826172, 15.735006332397461, 13.224531173706055, 15.701452255249023, 11.700328826904297, 15.749494552612305, 15.024925231933594, 15.742975234985352, 15.388965606689453, 9.443138122558594, 15.92860221862793, 17.00674057006836, 17.00674057006836, 15.705992698669434, 11.700328826904297, 11.55861759185791, 17.00674057006836, 15.874368667602539, 15.634843826293945, 15.742975234985352, 17.00674057006836, 15.634843826293945, 17.00674057006836, 13.167160034179688, 11.700328826904297, 17.00674057006836, 17.00674057006836, 17.00674057006836, 17.00674057006836, 17.00674057006836, 17.00674057006836, 15.763065338134766, 13.167160034179688, 17.00674057006836, 13.186454772949219, 13.249519348144531, 15.874368667602539, 11.700328826904297, 13.197521209716797, 17.00674057006836, 9.468745231628418, 14.485234260559082, 9.481821060180664, 9.309822082519531, 13.249521255493164, 11.601829528808594, 11.65095329284668, 11.661351203918457, 15.588261604309082, 15.742975234985352, 17.00674057006836, 17.00674057006836, 15.483257293701172, 17.00674057006836, 15.735618591308594, 11.700328826904297, 15.602745056152344, 18.576183319091797, 15.92860221862793, 15.92860221862793, 11.601829528808594, 17.00674057006836, 17.00674057006836, 15.763065338134766, 15.874368667602539, 15.597330093383789, 11.650955200195312, 17.00674057006836, 11.601829528808594, 17.00674057006836, 17.00674057006836, 13.246072769165039, 15.701452255249023, 17.79448699951172, 17.00674057006836, 11.601829528808594, 15.588261604309082, 19.964004516601562, 13.186452865600586, 15.92860221862793, 15.811363220214844, 17.00674057006836, 17.00674057006836, 17.00674057006836, 17.00674057006836, 15.763065338134766, 16.63477897644043, 15.605432510375977, 15.762916564941406, 17.00674057006836, 11.661352157592773, 17.897661209106445, 9.392154693603516, 17.00674057006836, 9.443142890930176, 15.469447135925293, 11.700328826904297, 17.00674057006836, 15.92860221862793, 15.811363220214844, 17.00674057006836, 16.634777069091797, 15.92860221862793, 17.00674057006836, 17.00674057006836, 11.558618545532227, 17.00674057006836, 9.443140029907227, 13.065105438232422, 11.60183048248291, 9.498150825500488, 15.633118629455566, 15.701452255249023, 13.023639678955078, 15.762916564941406, 15.874368667602539, 15.874368667602539, 15.594595909118652, 17.00674057006836, 15.024967193603516, 13.249520301818848, 13.236116409301758, 17.00674057006836, 17.00674057006836, 15.633118629455566, 15.811363220214844, 16.83559799194336, 16.529769897460938, 17.00674057006836, 13.201393127441406, 15.735006332397461, 15.70599365234375, 15.92860221862793, 15.880189895629883, 13.24952220916748, 15.92860221862793, 15.633118629455566, 17.00674057006836, 17.00674057006836, 16.529769897460938, 15.417015075683594, 14.415735244750977, 11.677864074707031, 17.00674057006836, 14.979554176330566, 11.660080909729004, 15.874368667602539, 17.00674057006836, 15.634843826293945, 13.138254165649414, 15.762916564941406, 15.308032989501953, 11.671689987182617, 17.00674057006836, 15.874368667602539, 15.701452255249023, 15.248085975646973, 17.205684661865234, 15.811363220214844, 13.197525024414062, 15.763065338134766, 15.92860221862793, 17.00674057006836, 17.00674057006836, 15.749494552612305, 15.762916564941406, 13.065106391906738, 17.00674057006836, 17.00674057006836, 17.00674057006836, 15.633118629455566, 9.309819221496582, 15.811363220214844, 11.700328826904297, 11.601826667785645, 15.92860221862793, 11.601829528808594, 17.00674057006836, 9.443140029907227, 17.00674057006836, 17.00674057006836, 11.677818298339844, 17.00674057006836, 9.309820175170898, 17.00674057006836, 15.874368667602539, 15.874368667602539, 17.00674057006836, 15.602745056152344, 15.128350257873535, 9.580439567565918, 17.00674057006836, 17.00674057006836, 13.583412170410156, 9.469290733337402, 15.880163192749023, 15.92860221862793, 11.558618545532227, 11.65095329284668, 13.177889823913574, 15.701452255249023, 15.874368667602539, 15.874368667602539, 17.00674057006836, 15.701452255249023, 17.00674057006836, 9.392166137695312, 15.763065338134766, 14.979554176330566, 15.588261604309082, 13.246073722839355, 17.00674057006836, 15.634843826293945, 17.00674057006836, 15.811363220214844, 15.749494552612305, 15.762916564941406, 17.00674057006836, 17.006742477416992, 15.874367713928223]\n",
            "Mean Squared Error: 101.9430\n",
            "Mean Absolute Error: 6.4772\n",
            "Root Mean Squared Error (RMSE): 10.0967\n",
            "Mean Absolute Percentage Error (MAPE): 0.38%\n"
          ]
        }
      ]
    },
    {
      "cell_type": "markdown",
      "source": [
        "##6 Evaluation Of The GNN Model\n",
        "----------------------------\n",
        "Despite training the model with better edges, hypertuning the parameters, the graph neural network appears to perform only slightly better than the baseline model but still is not satisfactory for the project's purpose of identifying the IPO Prices based on the factors such as revenue, owner's equity and total assets of the company.\n",
        "\n",
        "Next, we shall explore if MLP is better than the Graph Neural Network in defining the IPO_Price."
      ],
      "metadata": {
        "id": "gv7eUNnGopYF"
      }
    },
    {
      "cell_type": "markdown",
      "source": [
        "##7 Multilayer Perceptron\n",
        "----------------------------\n",
        "Building the Multilayer Perceptron from a simple Multilayer Perceptron and explore the network deeper to see if building a deeper network will better fit the purpose of determining the IPO_Price on the company based on the factors such as revenue, owner's equity and total assets of the company."
      ],
      "metadata": {
        "id": "h8z_bZJXfhPp"
      }
    },
    {
      "cell_type": "markdown",
      "source": [
        "###7.1 Initalizing the Training/Test Set\n",
        "In the following codes below, we initalise the training set and maintain the hold out set for later purposes so that we can split the training set to validation and training set again."
      ],
      "metadata": {
        "id": "6DXs7FM8gceG"
      }
    },
    {
      "cell_type": "code",
      "source": [
        "train_df, test_df = train_test_split(df2, test_size=0.2, random_state=42)\n",
        "\n",
        "train_df = train_df.reset_index(drop=True)\n",
        "test_df = test_df.reset_index(drop=True)\n",
        "\n",
        "k = 5\n",
        "kf = KFold(n_splits=k, shuffle=True, random_state=42)\n",
        "\n",
        "## Training Set\n",
        "train_dfx = torch.tensor(train_df[['Sector_encoded', 'Industry_encoded','Shares_Offered_encoded','Total_Revenue_encoded','Total_Asset_encoded']].values, dtype=torch.float)\n",
        "train_dfy = torch.tensor(train_df['IPO_Price'].values, dtype=torch.long)\n",
        "\n",
        "\n",
        "## Test Set Hold Out Set\n",
        "test_dfx = torch.tensor(test_df[['Sector_encoded', 'Industry_encoded','Shares_Offered_encoded','Total_Revenue_encoded','Total_Asset_encoded']].values, dtype=torch.float)\n",
        "test_dfy = torch.tensor(test_df['IPO_Price'].values, dtype=torch.long)\n",
        "\n",
        "FinalTrainComparisonDataset = TensorDataset(train_dfx,train_dfy)\n",
        "FinalTrainComparisonloader = DataLoader(FinalTrainComparisonDataset,batch_size=32,shuffle=True)\n",
        "\n",
        "testDataset = TensorDataset(test_dfx,test_dfy)\n",
        "testloader = DataLoader(testDataset,batch_size=32,shuffle=True)"
      ],
      "metadata": {
        "colab": {
          "base_uri": "https://localhost:8080/"
        },
        "id": "7Ds66rX5WSMd",
        "outputId": "d36a3f1f-7e70-4e6c-b7e5-76bc6a6f365f"
      },
      "execution_count": null,
      "outputs": [
        {
          "output_type": "stream",
          "name": "stderr",
          "text": [
            "/usr/local/lib/python3.10/dist-packages/torch_geometric/deprecation.py:26: UserWarning: 'data.DataLoader' is deprecated, use 'loader.DataLoader' instead\n",
            "  warnings.warn(out)\n"
          ]
        }
      ]
    },
    {
      "cell_type": "markdown",
      "source": [
        "###7.2 Building the First MLP Regression Model\n",
        "------------------------------------------------\n",
        "In the first model, we have two layers of linear and the last layer which takes all the neurons into a single output and a relu activation function after each layer."
      ],
      "metadata": {
        "id": "k2RmwT-3goTO"
      }
    },
    {
      "cell_type": "code",
      "source": [
        "class MLPRegressionModel(torch.nn.Module):\n",
        "    def __init__(self, input_dim, hidden_dim, output_dim,dropout_rate=0.5):\n",
        "        super(MLPRegressionModel, self).__init__()\n",
        "        self.fc1 = torch.nn.Linear(input_dim, hidden_dim)\n",
        "        self.fc2 = torch.nn.Linear(hidden_dim,hidden_dim//2)\n",
        "        self.fcLast = torch.nn.Linear(hidden_dim//2, output_dim)\n",
        "\n",
        "    def forward(self, x):\n",
        "        x = F.relu(self.fc1(x))\n",
        "\n",
        "        x = F.relu(self.fc2(x))\n",
        "\n",
        "\n",
        "\n",
        "\n",
        "        x = self.fcLast(x)\n",
        "        return x"
      ],
      "metadata": {
        "id": "DxY-wQxRtAoh"
      },
      "execution_count": null,
      "outputs": []
    },
    {
      "cell_type": "markdown",
      "source": [
        "####7.2.1 Training the Model"
      ],
      "metadata": {
        "id": "CAahhzUNg5zI"
      }
    },
    {
      "cell_type": "code",
      "source": [
        "input_dim = train_dfx.shape[1]\n",
        "print(input_dim)\n",
        "hidden_dim = 128\n",
        "output_dim = 1\n",
        "\n",
        "model = MLPRegressionModel(input_dim, hidden_dim, output_dim)\n",
        "criterion = torch.nn.L1Loss()\n",
        "optimizer = torch.optim.Adam(model.parameters(), lr=0.01)\n",
        "\n",
        "# Training loop\n",
        "num_epochs =500  # Number of epochs for training\n",
        "\n",
        "for epoch in range(num_epochs):\n",
        "    model.train()  # Set the model to training mode\n",
        "    epoch_loss = 0  # Initialize loss for this epoch\n",
        "    total_samples = 0\n",
        "    for inputs, targets in FinalTrainComparisonloader:\n",
        "        optimizer.zero_grad()  # Zero the gradients\n",
        "\n",
        "        outputs = model(inputs)  # Forward pass: compute predictions\n",
        "        loss = criterion(outputs, targets.view(-1, 1).float())  # Compute loss\n",
        "\n",
        "        loss.backward()  # Backward pass: compute gradients\n",
        "        optimizer.step()  # Update model weights\n",
        "        torch.nn.utils.clip_grad_norm_(model.parameters(), max_norm=1.0)\n",
        "        epoch_loss += loss.item()*inputs.size(0)  # Accumulate loss for this epoch\n",
        "        total_samples += inputs.size(0)\n",
        "    # Print average loss for the epoch\n",
        "    avg_loss = epoch_loss/total_samples\n",
        "    print(f'Epoch {epoch+1}/{num_epochs}, Loss: {avg_loss:.4f}')\n"
      ],
      "metadata": {
        "id": "sAgYtHR7M6MH"
      },
      "execution_count": null,
      "outputs": []
    },
    {
      "cell_type": "markdown",
      "source": [
        "#### 7.2.2 Evaluation Of the Initial Model\n",
        "The model did better than the baseline model and the final Graph Neural Network Model as seen from the metrics such as the mean squared error,\n",
        "\n",
        "From the model below, the results from the evaluation are as follows:\n",
        "\n",
        "\n",
        "MAE:5.66\n",
        "\n",
        "MSE:96.91\n",
        "\n",
        "RMSE:9.84\n",
        "\n",
        "MAPE:0.3742\n",
        "\n",
        "Baseline Model's Results:\n",
        "\n",
        "MAE:6.40\n",
        "\n",
        "MSE:84.45\n",
        "\n",
        "RMSE:9.18\n",
        "\n",
        "MAPE:0.4531\n"
      ],
      "metadata": {
        "id": "UDGVzrO7g95L"
      }
    },
    {
      "cell_type": "code",
      "source": [
        "model.eval()  # Set the model to evaluation mode\n",
        "\n",
        "# Initialize variables to accumulate loss\n",
        "total_loss = 0\n",
        "n_batches = 0\n",
        "\n",
        "all_actuals = []\n",
        "all_predictions = []\n",
        "all_differences = []\n",
        "\n",
        "\n",
        "with torch.no_grad():  # Disable gradient calculation\n",
        "    for inputs, targets in testloader:\n",
        "        # Forward pass: Compute predicted outputs by passing inputs to the model\n",
        "        outputs = model(inputs)\n",
        "        loss = criterion(outputs, targets.view(-1, 1))\n",
        "        # Compute the loss\n",
        "        differences = targets.view(-1,1) - outputs\n",
        "\n",
        "        all_actuals.extend(targets.detach().cpu().numpy())\n",
        "        all_predictions.extend(outputs.detach().cpu().numpy())\n",
        "        all_differences.extend(differences.detach().cpu().numpy())\n",
        "        # Accumulate loss\n",
        "        total_loss += loss.item()\n",
        "        n_batches += 1\n",
        "\n",
        "\n",
        "all_actuals_tensor = torch.tensor(all_actuals, dtype=torch.float32)\n",
        "all_predictions_tensor = torch.tensor(all_predictions, dtype=torch.float32)\n",
        "\n",
        "mse_loss = torch.nn.MSELoss()\n",
        "mse = mse_loss(all_predictions_tensor, all_actuals_tensor.view(-1, 1))\n",
        "print(f'Mean Squared Error (MSE) using nn.MSELoss: {mse.item():.4f}')\n",
        "\n",
        "mae_loss = torch.nn.L1Loss()\n",
        "mae=mae_loss(all_predictions_tensor,all_actuals_tensor.view(-1,1))\n",
        "print(f'Mean Absolute Error (MAE) using nn.L1Loss: {mae.item():.4f}')\n",
        "\n",
        "\n",
        "rmse = mean_squared_error(all_predictions_tensor,all_actuals_tensor.view(-1,1), squared=False)\n",
        "print(f'Root Mean Squared Error (rmse): {rmse.item():.4f}')\n",
        "\n",
        "\n",
        "\n",
        "mape = mean_absolute_percentage_error(all_predictions_tensor,all_actuals_tensor.view(-1,1))\n",
        "print(f'Mean Absolute Percentage Error (MAE): {mape.item():.4f}')\n"
      ],
      "metadata": {
        "colab": {
          "base_uri": "https://localhost:8080/"
        },
        "outputId": "73900fe7-13e5-47d9-ca4e-c84f3ca95215",
        "id": "l16Y29NfkjEU"
      },
      "execution_count": null,
      "outputs": [
        {
          "output_type": "stream",
          "name": "stdout",
          "text": [
            "Mean Squared Error (MSE) using nn.MSELoss: 96.9109\n",
            "Mean Absolute Error (MAE) using nn.L1Loss: 5.6575\n",
            "Root Mean Squared Error (rmse): 9.8443\n",
            "Mean Absolute Percentage Error (MAE): 0.3742\n"
          ]
        }
      ]
    },
    {
      "cell_type": "markdown",
      "source": [
        "### 7.3 Building A Deeper Network\n",
        "---------------------------------------\n",
        "For this network, we shall include few more layers without normalizing and dropping out. The network is as follows:\n",
        "\n",
        "X --> hidden layer --> Relu --> Hidden layer --> Relu --> Hidden layer --> Relu --> Hidden Layer --> Relu --> Output\n",
        "\n",
        "\n",
        "\n",
        "In this model, there are four hidden layers and one final layer to convert the input neurons into a single output.\n"
      ],
      "metadata": {
        "id": "afWXV97p5cqj"
      }
    },
    {
      "cell_type": "code",
      "source": [
        "class MLPRegressionModel2(torch.nn.Module):\n",
        "    def __init__(self, input_dim, hidden_dim, output_dim,dropout_rate=0.5):\n",
        "        super(MLPRegressionModel2, self).__init__()\n",
        "        self.fc1 = torch.nn.Linear(input_dim, hidden_dim)\n",
        "        self.bn1 = torch.nn.BatchNorm1d(hidden_dim)\n",
        "        self.fc2 = torch.nn.Linear(hidden_dim, hidden_dim//2)\n",
        "        self.bn2 = torch.nn.BatchNorm1d(hidden_dim//2)\n",
        "        self.fc3 = torch.nn.Linear(hidden_dim//2, hidden_dim//4)\n",
        "        self.bn3 = torch.nn.BatchNorm1d(hidden_dim//4)\n",
        "        self.fc4 = torch.nn.Linear(hidden_dim//4, hidden_dim//8)\n",
        "        self.bn4 = torch.nn.BatchNorm1d(hidden_dim//8)\n",
        "        self.fcLast = torch.nn.Linear(hidden_dim//8, output_dim)\n",
        "        self.dropout = torch.nn.Dropout(p=dropout_rate)\n",
        "\n",
        "    def forward(self, x):\n",
        "        x = F.relu(self.fc1(x))\n",
        "\n",
        "\n",
        "        x = F.relu(self.fc2(x))\n",
        "\n",
        "\n",
        "        x = F.relu(self.fc3(x))\n",
        "\n",
        "\n",
        "        x = F.relu(self.fc4(x))\n",
        "\n",
        "\n",
        "        x = self.fcLast(x)\n",
        "        return x"
      ],
      "metadata": {
        "id": "9Paego-1ZDwb"
      },
      "execution_count": null,
      "outputs": []
    },
    {
      "cell_type": "markdown",
      "source": [
        "####7.3.1 Training The Second MLP Model\n",
        "-------------------------------------------\n",
        "Below is the code to train the MLP model with the training set."
      ],
      "metadata": {
        "id": "hKClAuF7HuJh"
      }
    },
    {
      "cell_type": "code",
      "source": [
        "input_dim = train_dfx.shape[1]\n",
        "print(input_dim)\n",
        "hidden_dim = 128\n",
        "output_dim = 1\n",
        "\n",
        "model2 = MLPRegressionModel2(input_dim, hidden_dim, output_dim)\n",
        "criterion = torch.nn.L1Loss()\n",
        "optimizer = torch.optim.Adam(model2.parameters(), lr=0.01)\n",
        "\n",
        "# Training loop\n",
        "num_epochs =500  # Number of epochs for training\n",
        "\n",
        "for epoch in range(num_epochs):\n",
        "    model2.train()  # Set the model to training mode\n",
        "    epoch_loss = 0  # Initialize loss for this epoch\n",
        "    total_samples = 0\n",
        "    for inputs, targets in FinalTrainComparisonloader:\n",
        "        optimizer.zero_grad()  # Zero the gradients\n",
        "\n",
        "        outputs = model2(inputs)  # Forward pass: compute predictions\n",
        "        loss = criterion(outputs, targets.view(-1, 1).float())  # Compute loss\n",
        "\n",
        "        loss.backward()  # Backward pass: compute gradients\n",
        "        optimizer.step()  # Update model weights\n",
        "        torch.nn.utils.clip_grad_norm_(model2.parameters(), max_norm=1.0)\n",
        "        epoch_loss += loss.item()*inputs.size(0)  # Accumulate loss for this epoch\n",
        "        total_samples += inputs.size(0)\n",
        "    # Print average loss for the epoch\n",
        "    avg_loss = epoch_loss/total_samples\n",
        "    print(f'Epoch {epoch+1}/{num_epochs}, Loss: {avg_loss:.4f}')\n",
        "\n",
        "    model2.eval()  # Set the model to evaluation mode\n",
        "    val_loss = 0.0\n",
        "    total_val_samples = 0\n",
        "\n"
      ],
      "metadata": {
        "id": "wMw_xkP3EUdh"
      },
      "execution_count": null,
      "outputs": []
    },
    {
      "cell_type": "markdown",
      "source": [
        "####7.3.2 Evaluation Of the Second MLP Model\n",
        "\n",
        "The model did better than the baseline model and the final Graph Neural Network Model but worst than the initial simple MLP model as seen from the metrics such as the mean squared error,\n",
        "\n",
        "From the model below, the results from the evaluation are as follows:\n",
        "\n",
        "MAE:5.73\n",
        "\n",
        "MSE:80.4365\n",
        "\n",
        "RMSE:8.9686\n",
        "\n",
        "MAPE:0.3373\n",
        "\n",
        "\n",
        "Initial MLP Model's Results:\n",
        "\n",
        "MAE:5.66\n",
        "\n",
        "MSE:96.91\n",
        "\n",
        "RMSE:9.84\n",
        "\n",
        "MAPE:0.3742\n",
        "\n",
        "Baseline Model's Results:\n",
        "\n",
        "MAE:6.40\n",
        "\n",
        "MSE:84.45\n",
        "\n",
        "RMSE:9.18\n",
        "\n",
        "MAPE:0.4531"
      ],
      "metadata": {
        "id": "DuajGy-EIKeP"
      }
    },
    {
      "cell_type": "code",
      "source": [
        "model2.eval()  # Set the model to evaluation mode\n",
        "\n",
        "# Initialize variables to accumulate loss\n",
        "total_loss = 0\n",
        "n_batches = 0\n",
        "\n",
        "all_actuals = []\n",
        "all_predictions = []\n",
        "all_differences = []\n",
        "\n",
        "\n",
        "with torch.no_grad():  # Disable gradient calculation\n",
        "    for inputs, targets in testloader:\n",
        "        # Forward pass: Compute predicted outputs by passing inputs to the model\n",
        "        outputs = model2(inputs)\n",
        "        loss = criterion(outputs, targets.view(-1, 1))\n",
        "        # Compute the loss\n",
        "        differences = targets.view(-1,1) - outputs\n",
        "\n",
        "        all_actuals.extend(targets.detach().cpu().numpy())\n",
        "        all_predictions.extend(outputs.detach().cpu().numpy())\n",
        "        all_differences.extend(differences.detach().cpu().numpy())\n",
        "        # Accumulate loss\n",
        "        total_loss += loss.item()\n",
        "        n_batches += 1\n",
        "\n",
        "\n",
        "all_actuals_tensor = torch.tensor(all_actuals, dtype=torch.float32)\n",
        "all_predictions_tensor = torch.tensor(all_predictions, dtype=torch.float32)\n",
        "\n",
        "mse_loss = torch.nn.MSELoss()\n",
        "mse = mse_loss(all_predictions_tensor, all_actuals_tensor.view(-1, 1))\n",
        "print(f'Mean Squared Error (MSE) using nn.MSELoss: {mse.item():.4f}')\n",
        "\n",
        "mae_loss = torch.nn.L1Loss()\n",
        "mae=mae_loss(all_predictions_tensor,all_actuals_tensor.view(-1,1))\n",
        "print(f'Mean Absolute Error (MAE) using nn.L1Loss: {mae.item():.4f}')\n",
        "\n",
        "\n",
        "rmse = mean_squared_error(all_predictions_tensor,all_actuals_tensor.view(-1,1), squared=False)\n",
        "print(f'Root Mean Squared Error (rmse): {rmse.item():.4f}')\n",
        "\n",
        "\n",
        "\n",
        "mape = mean_absolute_percentage_error(all_predictions_tensor,all_actuals_tensor.view(-1,1))\n",
        "print(f'Mean Absolute Percentage Error (MAE): {mape.item():.4f}')\n"
      ],
      "metadata": {
        "colab": {
          "base_uri": "https://localhost:8080/"
        },
        "outputId": "f3fa2729-243b-47cf-9134-0f1cd4e12e3e",
        "id": "VdHeORoBEZMC"
      },
      "execution_count": null,
      "outputs": [
        {
          "output_type": "stream",
          "name": "stdout",
          "text": [
            "Mean Squared Error (MSE) using nn.MSELoss: 80.4365\n",
            "Mean Absolute Error (MAE) using nn.L1Loss: 5.7308\n",
            "Root Mean Squared Error (rmse): 8.9686\n",
            "Mean Absolute Percentage Error (MAE): 0.3373\n"
          ]
        }
      ]
    },
    {
      "cell_type": "markdown",
      "source": [
        "####7.3.3 K-Fold Cross Validation"
      ],
      "metadata": {
        "id": "w8PAPW6FIUJK"
      }
    },
    {
      "cell_type": "code",
      "source": [
        "k = 5\n",
        "kf = KFold(n_splits=k, shuffle=True, random_state=42)\n",
        "fold_results = []\n",
        "criterion = torch.nn.L1Loss()\n",
        "\n",
        "all_training_losses=[]\n",
        "all_val_losses =[]\n",
        "\n",
        "##MLP 2\n",
        "\n",
        "\n",
        "for fold, (train_index, val_index) in enumerate(kf.split(train_dfx)):\n",
        "    print(f'Fold {fold + 1}/{k}')\n",
        "\n",
        "    # Prepare train and validation data\n",
        "    X_train, X_val = train_dfx[train_index], train_dfx[val_index]\n",
        "    y_train, y_val = train_dfy[train_index], train_dfy[val_index]\n",
        "\n",
        "    # Create datasets and dataloaders for each fold\n",
        "    train_dataset = TensorDataset(X_train, y_train)\n",
        "    val_dataset = TensorDataset(X_val, y_val)\n",
        "\n",
        "    train_loader = DataLoader(train_dataset, batch_size=32, shuffle=True)\n",
        "    val_loader = DataLoader(val_dataset, batch_size=32, shuffle=False)\n",
        "\n",
        "    # Initialize the model, optimizer\n",
        "    model2 = MLPRegressionModel2(input_dim=5, hidden_dim=128, output_dim=1)\n",
        "    optimizer = torch.optim.Adam(model2.parameters(), lr=0.01)\n",
        "\n",
        "\n",
        "    # initalize lists to store losses for this fold\n",
        "    fold_train_losses = []\n",
        "    fold_val_losses = []\n",
        "\n",
        "\n",
        "    for epoch in range(100):  # Number of epochs, adjust as needed\n",
        "        model2.train()\n",
        "        running_loss = 0.0\n",
        "        for inputs, targets in train_loader:\n",
        "            optimizer.zero_grad()\n",
        "            outputs = model2(inputs)\n",
        "            loss = criterion(outputs.squeeze(), targets)\n",
        "            loss.backward()\n",
        "            optimizer.step()\n",
        "            running_loss += loss.item()\n",
        "        avg_train_loss = running_loss / len(train_loader)\n",
        "        fold_train_losses.append(avg_train_loss)\n",
        "\n",
        "        model2.eval()\n",
        "        val_loss = 0.0\n",
        "        with torch.no_grad():\n",
        "          for inputs, targets in val_loader:\n",
        "            outputs = model2(inputs)\n",
        "            loss = criterion(outputs.squeeze(), targets)\n",
        "            val_loss += loss.item()\n",
        "\n",
        "          avg_val_loss = val_loss / len(val_loader)\n",
        "          fold_val_losses.append(avg_val_loss)\n",
        "          fold_results.append(avg_val_loss)\n",
        "\n",
        "\n",
        "        # Append the losses for this fold to the overall lists\n",
        "        all_training_losses.append(fold_train_losses)\n",
        "        all_val_losses.append(fold_val_losses)\n",
        "\n",
        "\n",
        "# Average validation MAE across all folds\n",
        "mean_val_loss = np.mean(fold_results)\n",
        "print(f'Average Validation MAE across {k} folds: {mean_val_loss:.4f}')"
      ],
      "metadata": {
        "colab": {
          "base_uri": "https://localhost:8080/"
        },
        "id": "zEl87HvW8MBu",
        "outputId": "35b9e655-36ba-4592-967d-177facfa9cf6"
      },
      "execution_count": null,
      "outputs": [
        {
          "output_type": "stream",
          "name": "stdout",
          "text": [
            "Fold 1/5\n"
          ]
        },
        {
          "output_type": "stream",
          "name": "stderr",
          "text": [
            "/usr/local/lib/python3.10/dist-packages/torch_geometric/deprecation.py:26: UserWarning: 'data.DataLoader' is deprecated, use 'loader.DataLoader' instead\n",
            "  warnings.warn(out)\n"
          ]
        },
        {
          "output_type": "stream",
          "name": "stdout",
          "text": [
            "Fold 2/5\n",
            "Fold 3/5\n",
            "Fold 4/5\n",
            "Fold 5/5\n",
            "Average Validation MAE across 5 folds: 5.5743\n"
          ]
        }
      ]
    },
    {
      "cell_type": "markdown",
      "source": [
        "####7.3.4 Plotting the Graph Of Training VS Validation Losses\n",
        "\n"
      ],
      "metadata": {
        "id": "6q04bdY1InRn"
      }
    },
    {
      "cell_type": "code",
      "source": [
        "mean_train_losses = np.mean(all_training_losses, axis=0)\n",
        "mean_val_losses = np.mean(all_val_losses, axis=0)\n",
        "\n",
        "# Plot training and validation loss\n",
        "plt.figure(figsize=(10, 6))\n",
        "plt.plot(mean_train_losses, label='Average Training Loss')\n",
        "plt.plot(mean_val_losses, label='Average Validation Loss')\n",
        "plt.xlabel('Epochs')\n",
        "plt.ylabel('Loss')\n",
        "plt.title(f'Average Training vs Validation Loss across {k} Folds')\n",
        "plt.legend()\n",
        "plt.grid(True)\n",
        "plt.show()"
      ],
      "metadata": {
        "colab": {
          "base_uri": "https://localhost:8080/",
          "height": 564
        },
        "id": "R8x8raBWC3tR",
        "outputId": "da445ae7-716a-4929-e478-3b0c34fa78a1"
      },
      "execution_count": null,
      "outputs": [
        {
          "output_type": "display_data",
          "data": {
            "text/plain": [
              "<Figure size 1000x600 with 1 Axes>"
            ],
            "image/png": "[encoded data removed]"
          },
          "metadata": {}
        }
      ]
    },
    {
      "cell_type": "markdown",
      "source": [
        "#### 7.3.5 Adding In Batch Normalization And Dropout\n"
      ],
      "metadata": {
        "id": "sEMDruZSMPym"
      }
    },
    {
      "cell_type": "code",
      "source": [
        "class MLPRegressionModel3(torch.nn.Module):\n",
        "    def __init__(self, input_dim, hidden_dim, output_dim,dropout_rate=0.5):\n",
        "        super(MLPRegressionModel3, self).__init__()\n",
        "        self.fc1 = torch.nn.Linear(input_dim, hidden_dim)\n",
        "        self.bn1 = torch.nn.BatchNorm1d(hidden_dim)\n",
        "        self.fc2 = torch.nn.Linear(hidden_dim, hidden_dim//2)\n",
        "        self.bn2 = torch.nn.BatchNorm1d(hidden_dim//2)\n",
        "        self.fc3 = torch.nn.Linear(hidden_dim//2, hidden_dim//4)\n",
        "        self.bn3 = torch.nn.BatchNorm1d(hidden_dim//4)\n",
        "        self.fc4 = torch.nn.Linear(hidden_dim//4, hidden_dim//8)\n",
        "        self.bn4 = torch.nn.BatchNorm1d(hidden_dim//8)\n",
        "        self.fcLast = torch.nn.Linear(hidden_dim//8, output_dim)\n",
        "        self.dropout = torch.nn.Dropout(p=dropout_rate)\n",
        "\n",
        "    def forward(self, x):\n",
        "        # Apply first fully connected layer, batch norm, ReLU, and dropout\n",
        "        x = F.relu(self.bn1(self.fc1(x)))\n",
        "        x = self.dropout(x)\n",
        "\n",
        "        # Apply second fully connected layer, batch norm, ReLU, and dropout\n",
        "        x = F.relu(self.bn2(self.fc2(x)))\n",
        "        x = self.dropout(x)\n",
        "\n",
        "        # Apply third fully connected layer, batch norm, ReLU, and dropout\n",
        "        x = F.relu(self.bn3(self.fc3(x)))\n",
        "        x = self.dropout(x)\n",
        "\n",
        "        # Apply fourth fully connected layer, batch norm, ReLU, and dropout\n",
        "        x = F.relu(self.bn4(self.fc4(x)))\n",
        "        x = self.dropout(x)\n",
        "\n",
        "        # Apply the final fully connected layer\n",
        "        x = self.fcLast(x)\n",
        "        return x"
      ],
      "metadata": {
        "id": "zxttJxVuZIB7"
      },
      "execution_count": null,
      "outputs": []
    },
    {
      "cell_type": "code",
      "source": [
        "input_dim = train_dfx.shape[1]\n",
        "print(input_dim)\n",
        "hidden_dim = 128\n",
        "output_dim = 1\n",
        "\n",
        "model3 = MLPRegressionModel3(input_dim, hidden_dim, output_dim)\n",
        "criterion = torch.nn.L1Loss()\n",
        "optimizer = torch.optim.Adam(model3.parameters(), lr=0.01)\n",
        "\n",
        "# Training loop\n",
        "num_epochs =500  # Number of epochs for training\n",
        "\n",
        "for epoch in range(num_epochs):\n",
        "    model3.train()  # Set the model to training mode\n",
        "    epoch_loss = 0  # Initialize loss for this epoch\n",
        "    total_samples = 0\n",
        "    for inputs, targets in FinalTrainComparisonloader:\n",
        "        optimizer.zero_grad()  # Zero the gradients\n",
        "\n",
        "        outputs = model3(inputs)  # Forward pass: compute predictions\n",
        "        loss = criterion(outputs, targets.view(-1, 1).float())  # Compute loss\n",
        "\n",
        "        loss.backward()  # Backward pass: compute gradients\n",
        "        optimizer.step()  # Update model weights\n",
        "        torch.nn.utils.clip_grad_norm_(model3.parameters(), max_norm=1.0)\n",
        "        epoch_loss += loss.item()*inputs.size(0)  # Accumulate loss for this epoch\n",
        "        total_samples += inputs.size(0)\n",
        "    # Print average loss for the epoch\n",
        "    avg_loss = epoch_loss/total_samples\n",
        "    print(f'Epoch {epoch+1}/{num_epochs}, Loss: {avg_loss:.4f}')\n",
        "\n",
        "    model3.eval()  # Set the model to evaluation mode\n",
        "    val_loss = 0.0\n",
        "    total_val_samples = 0\n"
      ],
      "metadata": {
        "id": "pohUUE2pKLMc"
      },
      "execution_count": null,
      "outputs": []
    },
    {
      "cell_type": "markdown",
      "source": [
        "#### 7.3.6 Evaluation Of the Batch Normalization\n",
        "\n",
        "After adding in Batch Normalization and Dropouts, the MLPRegression Deeper model has improved and is now the final model that is better than the initial MLP Model and the baseline Model.\n",
        "\n",
        "The model did better than the baseline model and the final Graph Neural Network Model but worst than the initial simple MLP model as seen from the metrics such as the mean squared error,\n",
        "\n",
        "From the model below, the results from the evaluation are as follows:\n",
        "\n",
        "MAE:5.58\n",
        "\n",
        "MSE:81.1937\n",
        "\n",
        "RMSE:9.0108\n",
        "\n",
        "MAPE:0.35\n",
        "\n",
        "\n",
        "Initial MLP Model's Results:\n",
        "\n",
        "MAE:5.66\n",
        "\n",
        "MSE:96.91\n",
        "\n",
        "RMSE:9.84\n",
        "\n",
        "MAPE:0.3742\n",
        "\n",
        "Baseline Model's Results:\n",
        "\n",
        "MAE:6.40\n",
        "\n",
        "MSE:84.45\n",
        "\n",
        "RMSE:9.18\n",
        "\n",
        "MAPE:0.4531"
      ],
      "metadata": {
        "id": "NcShkX1tO3qa"
      }
    },
    {
      "cell_type": "code",
      "source": [
        "model3.eval()  # Set the model to evaluation mode\n",
        "\n",
        "# Initialize variables to accumulate loss\n",
        "total_loss = 0\n",
        "n_batches = 0\n",
        "\n",
        "all_actuals = []\n",
        "all_predictions = []\n",
        "all_differences = []\n",
        "\n",
        "\n",
        "with torch.no_grad():  # Disable gradient calculation\n",
        "    for inputs, targets in testloader:\n",
        "        # Forward pass: Compute predicted outputs by passing inputs to the model\n",
        "        outputs = model3(inputs)\n",
        "        loss = criterion(outputs, targets.view(-1, 1))\n",
        "        # Compute the loss\n",
        "        differences = targets.view(-1,1) - outputs\n",
        "\n",
        "        all_actuals.extend(targets.detach().cpu().numpy())\n",
        "        all_predictions.extend(outputs.detach().cpu().numpy())\n",
        "        all_differences.extend(differences.detach().cpu().numpy())\n",
        "        # Accumulate loss\n",
        "        total_loss += loss.item()\n",
        "        n_batches += 1\n",
        "\n",
        "\n",
        "all_actuals_tensor = torch.tensor(all_actuals, dtype=torch.float32)\n",
        "all_predictions_tensor = torch.tensor(all_predictions, dtype=torch.float32)\n",
        "\n",
        "mse_loss = torch.nn.MSELoss()\n",
        "mse = mse_loss(all_predictions_tensor, all_actuals_tensor.view(-1, 1))\n",
        "print(f'Mean Squared Error (MSE) using nn.MSELoss: {mse.item():.4f}')\n",
        "\n",
        "mae_loss = torch.nn.L1Loss()\n",
        "mae=mae_loss(all_predictions_tensor,all_actuals_tensor.view(-1,1))\n",
        "print(f'Mean Absolute Error (MAE) using nn.L1Loss: {mae.item():.4f}')\n",
        "\n",
        "\n",
        "rmse = mean_squared_error(all_predictions_tensor,all_actuals_tensor.view(-1,1), squared=False)\n",
        "print(f'Root Mean Squared Error (rmse): {rmse.item():.4f}')\n",
        "\n",
        "\n",
        "\n",
        "mape = mean_absolute_percentage_error(all_predictions_tensor,all_actuals_tensor.view(-1,1))\n",
        "print(f'Mean Absolute Percentage Error (MAE): {mape.item():.4f}')\n"
      ],
      "metadata": {
        "colab": {
          "base_uri": "https://localhost:8080/"
        },
        "id": "Gg99bBcRKhrz",
        "outputId": "8352d2e8-de21-437a-dee8-6d58cbb199ac"
      },
      "execution_count": null,
      "outputs": [
        {
          "output_type": "stream",
          "name": "stdout",
          "text": [
            "Mean Squared Error (MSE) using nn.MSELoss: 81.1937\n",
            "Mean Absolute Error (MAE) using nn.L1Loss: 5.5887\n",
            "Root Mean Squared Error (rmse): 9.0108\n",
            "Mean Absolute Percentage Error (MAE): 0.3500\n"
          ]
        }
      ]
    },
    {
      "cell_type": "markdown",
      "source": [
        "####7.3.3 K-Fold Cross Validation And Evaluating the Graph\n",
        "From the K-fold Cross validation, the training and valuation loss seems to be decreasing and remain close to each other and reaching a convergence point at around 40 epochs. The Training And Validation Loss are close to each other and shows that the model is alright."
      ],
      "metadata": {
        "id": "PKw8cSdoWvSV"
      }
    },
    {
      "cell_type": "code",
      "source": [
        "k = 5\n",
        "kf = KFold(n_splits=k, shuffle=True, random_state=42)\n",
        "fold_results = []\n",
        "criterion = torch.nn.L1Loss()\n",
        "\n",
        "all_training_losses=[]\n",
        "all_val_losses =[]\n",
        "\n",
        "##MLP 2\n",
        "\n",
        "\n",
        "for fold, (train_index, val_index) in enumerate(kf.split(train_dfx)):\n",
        "    print(f'Fold {fold + 1}/{k}')\n",
        "\n",
        "    # Prepare train and validation data\n",
        "    X_train, X_val = train_dfx[train_index], train_dfx[val_index]\n",
        "    y_train, y_val = train_dfy[train_index], train_dfy[val_index]\n",
        "\n",
        "    # Create datasets and dataloaders for each fold\n",
        "    train_dataset = TensorDataset(X_train, y_train)\n",
        "    val_dataset = TensorDataset(X_val, y_val)\n",
        "\n",
        "    train_loader = DataLoader(train_dataset, batch_size=32, shuffle=True)\n",
        "    val_loader = DataLoader(val_dataset, batch_size=32, shuffle=False)\n",
        "\n",
        "    # Initialize the model, optimizer\n",
        "    model3 = MLPRegressionModel3(input_dim=5, hidden_dim=128, output_dim=1)\n",
        "    optimizer = torch.optim.Adam(model3.parameters(), lr=0.01)\n",
        "\n",
        "\n",
        "    # initalize lists to store losses for this fold\n",
        "    fold_train_losses = []\n",
        "    fold_val_losses = []\n",
        "\n",
        "\n",
        "    for epoch in range(100):  # Number of epochs, adjust as needed\n",
        "        model3.train()\n",
        "        running_loss = 0.0\n",
        "        for inputs, targets in train_loader:\n",
        "            optimizer.zero_grad()\n",
        "            outputs = model3(inputs)\n",
        "            loss = criterion(outputs.squeeze(), targets)\n",
        "            loss.backward()\n",
        "            optimizer.step()\n",
        "            running_loss += loss.item()\n",
        "        avg_train_loss = running_loss / len(train_loader)\n",
        "        fold_train_losses.append(avg_train_loss)\n",
        "\n",
        "        model3.eval()\n",
        "        val_loss = 0.0\n",
        "        with torch.no_grad():\n",
        "          for inputs, targets in val_loader:\n",
        "            outputs = model3(inputs)\n",
        "            loss = criterion(outputs.squeeze(), targets)\n",
        "            val_loss += loss.item()\n",
        "\n",
        "          avg_val_loss = val_loss / len(val_loader)\n",
        "          fold_val_losses.append(avg_val_loss)\n",
        "          fold_results.append(avg_val_loss)\n",
        "\n",
        "\n",
        "        # Append the losses for this fold to the overall lists\n",
        "        all_training_losses.append(fold_train_losses)\n",
        "        all_val_losses.append(fold_val_losses)\n",
        "\n",
        "\n",
        "# Average validation MAE across all folds\n",
        "mean_val_loss = np.mean(fold_results)\n",
        "print(f'Average Validation MAE across {k} folds: {mean_val_loss:.4f}')"
      ],
      "metadata": {
        "colab": {
          "base_uri": "https://localhost:8080/"
        },
        "id": "-9z6zFwoPo48",
        "outputId": "96e0b4fa-f20f-4a63-fb4f-74d0fa911b9a"
      },
      "execution_count": null,
      "outputs": [
        {
          "output_type": "stream",
          "name": "stdout",
          "text": [
            "Fold 1/5\n"
          ]
        },
        {
          "output_type": "stream",
          "name": "stderr",
          "text": [
            "/usr/local/lib/python3.10/dist-packages/torch_geometric/deprecation.py:26: UserWarning: 'data.DataLoader' is deprecated, use 'loader.DataLoader' instead\n",
            "  warnings.warn(out)\n"
          ]
        },
        {
          "output_type": "stream",
          "name": "stdout",
          "text": [
            "Fold 2/5\n",
            "Fold 3/5\n",
            "Fold 4/5\n",
            "Fold 5/5\n",
            "Average Validation MAE across 5 folds: 5.6869\n"
          ]
        }
      ]
    },
    {
      "cell_type": "code",
      "source": [
        "mean_train_losses = np.mean(all_training_losses, axis=0)\n",
        "mean_val_losses = np.mean(all_val_losses, axis=0)\n",
        "\n",
        "# Plot training and validation loss\n",
        "plt.figure(figsize=(10, 6))\n",
        "plt.plot(mean_train_losses, label='Average Training Loss')\n",
        "plt.plot(mean_val_losses, label='Average Validation Loss')\n",
        "plt.xlabel('Epochs')\n",
        "plt.ylabel('Loss')\n",
        "plt.title(f'Average Training vs Validation Loss across {k} Folds')\n",
        "plt.legend()\n",
        "plt.grid(True)\n",
        "plt.show()"
      ],
      "metadata": {
        "colab": {
          "base_uri": "https://localhost:8080/",
          "height": 564
        },
        "id": "RpafF2MxVGK1",
        "outputId": "98f36e8c-3742-4ccf-a524-69033e286829"
      },
      "execution_count": null,
      "outputs": [
        {
          "output_type": "display_data",
          "data": {
            "text/plain": [
              "<Figure size 1000x600 with 1 Axes>"
            ],
            "image/png": "[encoded data removed]"
          },
          "metadata": {}
        }
      ]
    },
    {
      "cell_type": "code",
      "source": [
        "# Define hyperparameter grid\n",
        "param_grid = {\n",
        "    'lr':[0.001,0.005,0.01],\n",
        "    'hidden_dim':[64,128],\n",
        "    'dropout_rate':[0.3,0.5]\n",
        "\n",
        "}\n",
        "\n",
        "# Generate all combinations of hyperparameters\n",
        "param_combinations = list(itertools.product(param_grid['lr'], param_grid['hidden_dim'], param_grid['dropout_rate']))"
      ],
      "metadata": {
        "id": "ZKd9IaUWYqp8"
      },
      "execution_count": null,
      "outputs": []
    },
    {
      "cell_type": "code",
      "source": [
        "def train_and_evaluate(input_dim, hidden_dim, output_dim, dropout_rate, lr, num_epochs=100, k=5):\n",
        "    # Initialize KFold cross-validation\n",
        "    kf = KFold(n_splits=k, shuffle=True, random_state=42)\n",
        "\n",
        "    # Criterion and optimizer setup\n",
        "    criterion = torch.nn.L1Loss()\n",
        "\n",
        "    # Store losses for cross-validation\n",
        "    all_training_losses = []\n",
        "    all_val_losses = []\n",
        "    fold_results = []\n",
        "\n",
        "    for fold, (train_index, val_index) in enumerate(kf.split(train_dfx)):\n",
        "        print(f'Fold {fold + 1}/{k}')\n",
        "\n",
        "        # Split training data into fold-specific training and validation sets\n",
        "        X_train, X_val = train_dfx[train_index], train_dfx[val_index]\n",
        "        y_train, y_val = train_dfy[train_index], train_dfy[val_index]\n",
        "\n",
        "        # Create TensorDatasets and DataLoaders for this fold\n",
        "        train_dataset = TensorDataset(X_train, y_train)\n",
        "        val_dataset = TensorDataset(X_val, y_val)\n",
        "\n",
        "        train_loader = DataLoader(train_dataset, batch_size=32, shuffle=True)\n",
        "        val_loader = DataLoader(val_dataset, batch_size=32, shuffle=False)\n",
        "\n",
        "        # Initialize the model with the current hyperparameters\n",
        "        model3 = MLPRegressionModel3(input_dim=input_dim, hidden_dim=hidden_dim, output_dim=output_dim, dropout_rate=dropout_rate)\n",
        "        optimizer = torch.optim.Adam(model3.parameters(), lr=lr)\n",
        "\n",
        "        # Lists to store fold-specific training and validation losses\n",
        "        fold_train_losses = []\n",
        "        fold_val_losses = []\n",
        "\n",
        "        for epoch in range(num_epochs):  # Train for a certain number of epochs\n",
        "            model3.train()\n",
        "            running_loss = 0.0\n",
        "            for inputs, targets in train_loader:\n",
        "                optimizer.zero_grad()\n",
        "                outputs = model3(inputs)\n",
        "                loss = criterion(outputs.squeeze(), targets)\n",
        "                loss.backward()\n",
        "                optimizer.step()\n",
        "                running_loss += loss.item()\n",
        "\n",
        "            avg_train_loss = running_loss / len(train_loader)\n",
        "            fold_train_losses.append(avg_train_loss)\n",
        "\n",
        "            # Validation step\n",
        "            model3.eval()\n",
        "            val_loss = 0.0\n",
        "            with torch.no_grad():\n",
        "                for inputs, targets in val_loader:\n",
        "                    outputs = model3(inputs)\n",
        "                    loss = criterion(outputs.squeeze(), targets)\n",
        "                    val_loss += loss.item()\n",
        "\n",
        "            avg_val_loss = val_loss / len(val_loader)\n",
        "            fold_val_losses.append(avg_val_loss)\n",
        "            fold_results.append(avg_val_loss)\n",
        "\n",
        "        # Append fold losses to overall results\n",
        "        all_training_losses.append(fold_train_losses)\n",
        "        all_val_losses.append(fold_val_losses)\n",
        "\n",
        "    # Average validation MAE across all folds\n",
        "    mean_val_loss = np.mean(fold_results)\n",
        "    print(f'Average Validation MAE across {k} folds: {mean_val_loss:.4f}')\n",
        "\n",
        "    return mean_val_loss  # Return validation loss for hyperparameter tuning"
      ],
      "metadata": {
        "id": "T8aeRq1OZWzQ"
      },
      "execution_count": null,
      "outputs": []
    },
    {
      "cell_type": "code",
      "source": [
        "def hypertune(input_dim, output_dim, num_epochs=100, k=5):\n",
        "    best_params = None\n",
        "    best_val_loss = float('inf')\n",
        "\n",
        "    # Iterate over all combinations of hyperparameters\n",
        "    for lr in param_grid['lr']:\n",
        "        for hidden_dim in param_grid['hidden_dim']:\n",
        "            for dropout_rate in param_grid['dropout_rate']:\n",
        "                print(f'Testing with lr={lr}, hidden_dim={hidden_dim}, dropout_rate={dropout_rate}')\n",
        "\n",
        "                # Call the train_and_evaluate function with the current hyperparameters\n",
        "                val_loss = train_and_evaluate(input_dim, hidden_dim, output_dim, dropout_rate, lr, num_epochs=num_epochs, k=k)\n",
        "\n",
        "                # Track the best hyperparameters based on validation loss\n",
        "                if val_loss < best_val_loss:\n",
        "                    best_val_loss = val_loss\n",
        "                    best_params = (lr, hidden_dim, dropout_rate)\n",
        "\n",
        "    print(f'Best Hyperparameters: lr={best_params[0]}, hidden_dim={best_params[1]}, dropout_rate={best_params[2]}')\n",
        "    print(f'Best Validation Loss: {best_val_loss:.4f}')\n",
        "    return best_params"
      ],
      "metadata": {
        "id": "GULfAmTCc6xP"
      },
      "execution_count": null,
      "outputs": []
    },
    {
      "cell_type": "code",
      "source": [
        "input_dim = 5\n",
        "output_dim = 1\n",
        "\n",
        "# Run the hypertune function to find the best hyperparameters\n",
        "best_params = hypertune(input_dim, output_dim, num_epochs=100, k=5)"
      ],
      "metadata": {
        "colab": {
          "base_uri": "https://localhost:8080/"
        },
        "id": "4_Y2r93UdFH7",
        "outputId": "d9290617-05eb-481d-dbc7-bc59400718a4"
      },
      "execution_count": null,
      "outputs": [
        {
          "output_type": "stream",
          "name": "stdout",
          "text": [
            "Testing with lr=0.001, hidden_dim=64, dropout_rate=0.3\n",
            "Fold 1/5\n",
            "Fold 2/5\n",
            "Fold 3/5\n",
            "Fold 4/5\n",
            "Fold 5/5\n",
            "Average Validation MAE across 5 folds: 6.4489\n",
            "Testing with lr=0.001, hidden_dim=64, dropout_rate=0.5\n",
            "Fold 1/5\n",
            "Fold 2/5\n",
            "Fold 3/5\n",
            "Fold 4/5\n",
            "Fold 5/5\n",
            "Average Validation MAE across 5 folds: 6.8920\n",
            "Testing with lr=0.001, hidden_dim=128, dropout_rate=0.3\n",
            "Fold 1/5\n",
            "Fold 2/5\n",
            "Fold 3/5\n",
            "Fold 4/5\n",
            "Fold 5/5\n",
            "Average Validation MAE across 5 folds: 6.0173\n",
            "Testing with lr=0.001, hidden_dim=128, dropout_rate=0.5\n",
            "Fold 1/5\n",
            "Fold 2/5\n",
            "Fold 3/5\n",
            "Fold 4/5\n",
            "Fold 5/5\n",
            "Average Validation MAE across 5 folds: 6.3291\n",
            "Testing with lr=0.005, hidden_dim=64, dropout_rate=0.3\n",
            "Fold 1/5\n",
            "Fold 2/5\n",
            "Fold 3/5\n",
            "Fold 4/5\n",
            "Fold 5/5\n",
            "Average Validation MAE across 5 folds: 5.7747\n",
            "Testing with lr=0.005, hidden_dim=64, dropout_rate=0.5\n",
            "Fold 1/5\n",
            "Fold 2/5\n",
            "Fold 3/5\n",
            "Fold 4/5\n",
            "Fold 5/5\n",
            "Average Validation MAE across 5 folds: 5.9738\n",
            "Testing with lr=0.005, hidden_dim=128, dropout_rate=0.3\n",
            "Fold 1/5\n",
            "Fold 2/5\n",
            "Fold 3/5\n",
            "Fold 4/5\n",
            "Fold 5/5\n",
            "Average Validation MAE across 5 folds: 5.6559\n",
            "Testing with lr=0.005, hidden_dim=128, dropout_rate=0.5\n",
            "Fold 1/5\n",
            "Fold 2/5\n",
            "Fold 3/5\n",
            "Fold 4/5\n",
            "Fold 5/5\n",
            "Average Validation MAE across 5 folds: 5.7873\n",
            "Testing with lr=0.01, hidden_dim=64, dropout_rate=0.3\n",
            "Fold 1/5\n",
            "Fold 2/5\n",
            "Fold 3/5\n",
            "Fold 4/5\n",
            "Fold 5/5\n",
            "Average Validation MAE across 5 folds: 5.7054\n",
            "Testing with lr=0.01, hidden_dim=64, dropout_rate=0.5\n",
            "Fold 1/5\n",
            "Fold 2/5\n",
            "Fold 3/5\n",
            "Fold 4/5\n",
            "Fold 5/5\n",
            "Average Validation MAE across 5 folds: 5.8713\n",
            "Testing with lr=0.01, hidden_dim=128, dropout_rate=0.3\n",
            "Fold 1/5\n",
            "Fold 2/5\n",
            "Fold 3/5\n",
            "Fold 4/5\n",
            "Fold 5/5\n",
            "Average Validation MAE across 5 folds: 5.6329\n",
            "Testing with lr=0.01, hidden_dim=128, dropout_rate=0.5\n",
            "Fold 1/5\n",
            "Fold 2/5\n",
            "Fold 3/5\n",
            "Fold 4/5\n",
            "Fold 5/5\n",
            "Average Validation MAE across 5 folds: 5.7383\n",
            "Best Hyperparameters: lr=0.01, hidden_dim=128, dropout_rate=0.3\n",
            "Best Validation Loss: 5.6329\n"
          ]
        }
      ]
    },
    {
      "cell_type": "code",
      "source": [
        "model3.eval()  # Set the model to evaluation mode\n",
        "\n",
        "# Initialize variables to accumulate loss\n",
        "total_loss = 0\n",
        "n_batches = 0\n",
        "\n",
        "all_actuals = []\n",
        "all_predictions = []\n",
        "all_differences = []\n",
        "\n",
        "\n",
        "with torch.no_grad():  # Disable gradient calculation\n",
        "    for inputs, targets in testloader:\n",
        "        # Forward pass: Compute predicted outputs by passing inputs to the model\n",
        "        outputs = model3(inputs)\n",
        "        loss = criterion(outputs, targets.view(-1, 1))\n",
        "        # Compute the loss\n",
        "        differences = targets.view(-1,1) - outputs\n",
        "\n",
        "        all_actuals.extend(targets.detach().cpu().numpy())\n",
        "        all_predictions.extend(outputs.detach().cpu().numpy())\n",
        "        all_differences.extend(differences.detach().cpu().numpy())\n",
        "        # Accumulate loss\n",
        "        total_loss += loss.item()\n",
        "        n_batches += 1\n",
        "\n",
        "\n",
        "all_actuals_tensor = torch.tensor(all_actuals, dtype=torch.float32)\n",
        "all_predictions_tensor = torch.tensor(all_predictions, dtype=torch.float32)\n",
        "\n",
        "mse_loss = torch.nn.MSELoss()\n",
        "mse = mse_loss(all_predictions_tensor, all_actuals_tensor.view(-1, 1))\n",
        "print(f'Mean Squared Error (MSE) using nn.MSELoss: {mse.item():.4f}')\n",
        "\n",
        "mae_loss = torch.nn.L1Loss()\n",
        "mae=mae_loss(all_predictions_tensor,all_actuals_tensor.view(-1,1))\n",
        "print(f'Mean Absolute Error (MAE) using nn.L1Loss: {mae.item():.4f}')\n",
        "\n",
        "\n",
        "rmse = mean_squared_error(all_predictions_tensor,all_actuals_tensor.view(-1,1), squared=False)\n",
        "print(f'Root Mean Squared Error (rmse): {rmse.item():.4f}')\n",
        "\n",
        "\n",
        "\n",
        "mape = mean_absolute_percentage_error(all_predictions_tensor,all_actuals_tensor.view(-1,1))\n",
        "print(f'Mean Absolute Percentage Error (MAE): {mape.item():.4f}')"
      ],
      "metadata": {
        "colab": {
          "base_uri": "https://localhost:8080/"
        },
        "id": "uIbFN_RDsROw",
        "outputId": "f3848d5c-2db8-4cee-e567-4e80dabf6b94"
      },
      "execution_count": null,
      "outputs": [
        {
          "output_type": "stream",
          "name": "stdout",
          "text": [
            "Mean Squared Error (MSE) using nn.MSELoss: 79.6893\n",
            "Mean Absolute Error (MAE) using nn.L1Loss: 5.5760\n",
            "Root Mean Squared Error (rmse): 8.9269\n",
            "Mean Absolute Percentage Error (MAE): 0.3458\n"
          ]
        }
      ]
    },
    {
      "cell_type": "markdown",
      "source": [
        "###8 Conclusion\n",
        "Comparing between the baseline model, The Graph Neural Network and the Multilayer Perceptron Network, The Multilayer Perceptron\n",
        "\n",
        "The graph neural network has shown similar results to that of the baseline model even after hypertuning the parameters and the Multilayer Perceptron Network could predict the IPO_Prices much better than the two models stated above.\n",
        "\n",
        "As seen from the evaluation metrics and the graphs, the Multilayer Perceptron has shown the best results which are displayed below:\n",
        "\n",
        "----MLP----\n",
        "\n",
        "Mean Squared Error: 79.6893\n",
        "\n",
        "Mean Absolute Error: 5.5760\n",
        "\n",
        "Root Mean Squared Error (RMSE): 8.9269\n",
        "\n",
        "Mean Absolute Percentage Error (MAPE): 0.3458\n",
        "\n",
        "\n",
        "---GNN---\n",
        "\n",
        "Mean Squared Error: 99.0291\n",
        "\n",
        "Mean Absolute Error: 6.3832\n",
        "\n",
        "Root Mean Squared Error (RMSE): 9.9513\n",
        "\n",
        "Mean Absolute Percentage Error (MAPE): 0.39\n",
        "\n",
        "---Baseline---\n",
        "\n",
        "Mean Squared Error: 84.45\n",
        "\n",
        "Mean Absolute Error: 6.40\n",
        "\n",
        "Root Mean Squared Error (RMSE): 9.18\n",
        "\n",
        "Mean Absolute Percentage Error (MAPE): 0.4531\n",
        "\n"
      ],
      "metadata": {
        "id": "RN-Vg8EYXPYp"
      }
    }
  ],
  "metadata": {
    "colab": {
      "provenance": [],
      "machine_shape": "hm",
      "toc_visible": true,
      "include_colab_link": true
    },
    "kernelspec": {
      "display_name": "Python 3",
      "name": "python3"
    },
    "language_info": {
      "name": "python"
    }
  },
  "nbformat": 4,
  "nbformat_minor": 0
}